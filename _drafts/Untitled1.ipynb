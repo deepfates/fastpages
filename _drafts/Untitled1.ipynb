{
 "cells": [
  {
   "cell_type": "code",
   "execution_count": 8,
   "metadata": {
    "execution": {
     "iopub.execute_input": "2021-09-10T17:56:54.919858Z",
     "iopub.status.busy": "2021-09-10T17:56:54.919357Z",
     "iopub.status.idle": "2021-09-10T17:56:54.925635Z",
     "shell.execute_reply": "2021-09-10T17:56:54.924355Z",
     "shell.execute_reply.started": "2021-09-10T17:56:54.919797Z"
    },
    "tags": []
   },
   "outputs": [],
   "source": [
    "bisac_categories = '''ANTIQUES & COLLECTIBLES\n",
    "ARCHITECTURE\n",
    "ART\n",
    "BIBLES\n",
    "BIOGRAPHY & AUTOBIOGRAPHY\n",
    "BODY, MIND & SPIRIT\n",
    "BUSINESS & ECONOMICS\n",
    "COMICS & GRAPHIC NOVELS\n",
    "COMPUTERS\n",
    "COOKING\n",
    "CRAFTS & HOBBIES\n",
    "DESIGN\n",
    "DRAMA\n",
    "EDUCATION\n",
    "FAMILY & RELATIONSHIPS\n",
    "FICTION\n",
    "FOREIGN LANGUAGE STUDY\n",
    "GAMES & ACTIVITIES\n",
    "GARDENING \n",
    "HEALTH & FITNESS\n",
    "HISTORY\n",
    "HOUSE & HOME\n",
    "HUMOR\n",
    "JUVENILE FICTION\n",
    "JUVENILE NONFICTION\n",
    "LANGUAGE ARTS & DISCIPLINES\n",
    "LAW\n",
    "LITERARY COLLECTIONS\n",
    "LITERARY CRITICISM\n",
    "MATHEMATICS\n",
    "MEDICAL\n",
    "MUSIC\n",
    "NATURE\n",
    "PERFORMING ARTS\n",
    "PETS\n",
    "PHILOSOPHY \n",
    "PHOTOGRAPHY\n",
    "POETRY\n",
    "POLITICAL SCIENCE\n",
    "PSYCHOLOGY\n",
    "REFERENCE\n",
    "RELIGION\n",
    "SCIENCE\n",
    "SELF-HELP\n",
    "SOCIAL SCIENCE\n",
    "SPORTS & RECREATION\n",
    "STUDY AIDS\n",
    "TECHNOLOGY & ENGINEERING\n",
    "TRANSPORTATION\n",
    "TRAVEL\n",
    "TRUE CRIME\n",
    "YOUNG ADULT FICTION\n",
    "YOUNG ADULT NONFICTION\"'''.split('\\n')"
   ]
  },
  {
   "cell_type": "code",
   "execution_count": 9,
   "metadata": {
    "execution": {
     "iopub.execute_input": "2021-09-10T17:57:02.201529Z",
     "iopub.status.busy": "2021-09-10T17:57:02.201305Z",
     "iopub.status.idle": "2021-09-10T17:57:02.206386Z",
     "shell.execute_reply": "2021-09-10T17:57:02.205648Z",
     "shell.execute_reply.started": "2021-09-10T17:57:02.201501Z"
    }
   },
   "outputs": [
    {
     "data": {
      "text/plain": [
       "['ANTIQUES & COLLECTIBLES',\n",
       " 'ARCHITECTURE',\n",
       " 'ART',\n",
       " 'BIBLES',\n",
       " 'BIOGRAPHY & AUTOBIOGRAPHY',\n",
       " 'BODY, MIND & SPIRIT',\n",
       " 'BUSINESS & ECONOMICS',\n",
       " 'COMICS & GRAPHIC NOVELS',\n",
       " 'COMPUTERS',\n",
       " 'COOKING',\n",
       " 'CRAFTS & HOBBIES',\n",
       " 'DESIGN',\n",
       " 'DRAMA',\n",
       " 'EDUCATION',\n",
       " 'FAMILY & RELATIONSHIPS',\n",
       " 'FICTION',\n",
       " 'FOREIGN LANGUAGE STUDY',\n",
       " 'GAMES & ACTIVITIES',\n",
       " 'GARDENING ',\n",
       " 'HEALTH & FITNESS',\n",
       " 'HISTORY',\n",
       " 'HOUSE & HOME',\n",
       " 'HUMOR',\n",
       " 'JUVENILE FICTION',\n",
       " 'JUVENILE NONFICTION',\n",
       " 'LANGUAGE ARTS & DISCIPLINES',\n",
       " 'LAW',\n",
       " 'LITERARY COLLECTIONS',\n",
       " 'LITERARY CRITICISM',\n",
       " 'MATHEMATICS',\n",
       " 'MEDICAL',\n",
       " 'MUSIC',\n",
       " 'NATURE',\n",
       " 'PERFORMING ARTS',\n",
       " 'PETS',\n",
       " 'PHILOSOPHY ',\n",
       " 'PHOTOGRAPHY',\n",
       " 'POETRY',\n",
       " 'POLITICAL SCIENCE',\n",
       " 'PSYCHOLOGY',\n",
       " 'REFERENCE',\n",
       " 'RELIGION',\n",
       " 'SCIENCE',\n",
       " 'SELF-HELP',\n",
       " 'SOCIAL SCIENCE',\n",
       " 'SPORTS & RECREATION',\n",
       " 'STUDY AIDS',\n",
       " 'TECHNOLOGY & ENGINEERING',\n",
       " 'TRANSPORTATION',\n",
       " 'TRAVEL',\n",
       " 'TRUE CRIME',\n",
       " 'YOUNG ADULT FICTION',\n",
       " 'YOUNG ADULT NONFICTION\"']"
      ]
     },
     "execution_count": 9,
     "metadata": {},
     "output_type": "execute_result"
    }
   ],
   "source": [
    "bisac_categories"
   ]
  },
  {
   "cell_type": "code",
   "execution_count": null,
   "metadata": {},
   "outputs": [],
   "source": []
  }
 ],
 "metadata": {
  "kernelspec": {
   "display_name": "Python 3",
   "language": "python",
   "name": "python3"
  },
  "language_info": {
   "codemirror_mode": {
    "name": "ipython",
    "version": 3
   },
   "file_extension": ".py",
   "mimetype": "text/x-python",
   "name": "python",
   "nbconvert_exporter": "python",
   "pygments_lexer": "ipython3",
   "version": "3.7.7"
  },
  "widgets": {
   "application/vnd.jupyter.widget-state+json": {
    "state": {},
    "version_major": 2,
    "version_minor": 0
   }
  }
 },
 "nbformat": 4,
 "nbformat_minor": 4
}
