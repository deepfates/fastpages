{
 "cells": [
  {
   "cell_type": "markdown",
   "metadata": {
    "tags": []
   },
   "source": [
    "# SIGNAL\n",
    "> a book of secrets\n",
    "- categories: [writing]\n",
    "- badges: false\n"
   ]
  },
  {
   "cell_type": "markdown",
   "metadata": {},
   "source": [
    "## SIGNAL is a book I made out of other books.\n",
    "\n",
    "It's a compilation of secrets from various occult texts that I found in my time as librarian of witch camp.\n",
    "\n",
    "This book may be dangerous. See disclaimers[^1].\n",
    "\n",
    "The original marketing materials and link:\n",
    "\n",
    "\n",
    ">SIGNAL is a dictionary-dream, a catalog for an ethereal Library, a virus of language. It may be read front to back or side to side.\n",
    ">\n",
    ">Built using bibliomancy and sortilege while encamped atop a remote mountain. Known to have an indelible effect on the mind of the reader.\n",
    ">\n",
    ">Download [SIGNAL in PDF here](https://permafuture.github.io/images/signal-a-book-of-secrets.pdf). Best read in physical format. To print, set full-page duplexing.\n",
    "\n"
   ]
  },
  {
   "cell_type": "markdown",
   "metadata": {},
   "source": [
    "## I trained a GAN on SIGNAL\n",
    "\n",
    "In 2021 I used the raw images from SIGNAL to train a generative adversarial network, or GAN, to generate in-between images of the pages. It was one of my first experiments with GANs and wasn't very good, but I posted a tweet with a video of the training process.\n",
    "\n",
    "That tweet went semi-viral: over 1,200 likes and hundreds of retweets, huge for roughly 800-follower account at the time. any people accused me of summoning \"cyberdemons\", which is apparently a thing from Buffy the Vampire Slayer and also maybe the video game DOOM.\n",
    "\n",
    "This proved my memetic engineering thesis to my satisfaction, but it also drew unwanted attention from Twitter users and... other entities. So I deleted it.\n",
    "\n",
    "The following video has been selected for its relative safety. Nonetheless, please exercise caution when viewing it, especially for long periods.\n"
   ]
  },
  {
   "cell_type": "markdown",
   "metadata": {},
   "source": [
    "{% include video.html url=\"/fastpages/images/signal.mp4\"%}"
   ]
  },
  {
   "cell_type": "markdown",
   "metadata": {},
   "source": [
    "[^1]:This book was designed with experimental memetic engineering techniques. It contains the names of several demons, and means to summon them, among other things, many of them harder to explain. All possible disclaimers apply. Read SIGNAL at your own risk. I disavow any karma from your reading of this book. This counts even if you don't read the disclaimers.[^2]\n",
    "\n",
    "[^2]:As every good wizard knows, the warnings are always at the back of the book."
   ]
  },
  {
   "cell_type": "code",
   "execution_count": null,
   "metadata": {},
   "outputs": [],
   "source": []
  }
 ],
 "metadata": {
  "kernelspec": {
   "display_name": "Python 3",
   "language": "python",
   "name": "python3"
  },
  "language_info": {
   "codemirror_mode": {
    "name": "ipython",
    "version": 3
   },
   "file_extension": ".py",
   "mimetype": "text/x-python",
   "name": "python",
   "nbconvert_exporter": "python",
   "pygments_lexer": "ipython3",
   "version": "3.7.7"
  }
 },
 "nbformat": 4,
 "nbformat_minor": 4
}
