{
 "cells": [
  {
   "cell_type": "markdown",
   "metadata": {
    "tags": []
   },
   "source": [
    "# Robot Face newsletter\n",
    "> a newsletter about augmented intelligence\n",
    "- categories: [writing, robot-face]\n",
    "- badges: false\n"
   ]
  },
  {
   "cell_type": "markdown",
   "metadata": {},
   "source": [
    "## A letter I started in 2020, now on a schedule of \"whenever I feel like it\". Find [Robot Face on Substack](https://robotface.substack.com) or subscribe here:\n",
    "\n",
    "\n",
    "{% include substack.html %}\n"
   ]
  },
  {
   "cell_type": "markdown",
   "metadata": {},
   "source": [
    ">Robot Face is an occasional essay on the relationship between humans and machines.\n",
    ">\n",
    ">My background is in whole-systems design and long-term thinking. I use this mindset to think about human-computer interfaces.\n",
    ">\n",
    ">We’re living through greater challenges than humanity has ever faced, but we also have greater opportunities than we’ve ever had. The climate is collapsing, but the internet is connecting us all. Artificial intelligence, geoengineering, and synthetic biology are in our hands, for good and for bad.\n",
    ">\n",
    ">The edge between humans and machines is a crucial leverage point for humanity and the earth.\n",
    ">\n",
    ">Come explore it with me, that we might be of use to the future.\n"
   ]
  }
 ],
 "metadata": {
  "kernelspec": {
   "display_name": "Python 3",
   "language": "python",
   "name": "python3"
  },
  "language_info": {
   "codemirror_mode": {
    "name": "ipython",
    "version": 3
   },
   "file_extension": ".py",
   "mimetype": "text/x-python",
   "name": "python",
   "nbconvert_exporter": "python",
   "pygments_lexer": "ipython3",
   "version": "3.7.7"
  }
 },
 "nbformat": 4,
 "nbformat_minor": 4
}
