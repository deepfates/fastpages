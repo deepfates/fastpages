{
 "cells": [
  {
   "cell_type": "markdown",
   "metadata": {
    "tags": []
   },
   "source": [
    "# Book sales data collection\n",
    "\n",
    "- toc: true \n",
    "- badges: true\n",
    "- comments: true\n",
    "- categories: [canon]\n",
    "\n"
   ]
  },
  {
   "cell_type": "markdown",
   "metadata": {},
   "source": [
    "## Rationale\n",
    "\n",
    "I want another piece of information for the books in my dataset: their sales rank. I know it's possible to get this number from Amazon, because I have used professional bookseller software. However, this software requires a licensing agreement from Amazon, and it can only display sales rank data about one book ata time. So I need a different way to get it for a lot of books at once.\n",
    "\n",
    "A starting point is the sales rank data available from Jianmo Ni's project here:\n",
    "\n",
    "\n",
    "> - Image-based recommendations on styles and substitutes, \n",
    "    J. McAuley, C. Targett, J. Shi, A. van den Hengel\n",
    "    SIGIR, 2015\n",
    "    draft\n",
    "\n",
    ">    https://nijianmo.github.io/amazon/index.html\n",
    "\n",
    "\n",
    "In this notebook I extract those rankings and map them to the books in my previous [Goodreads-based data](/canon/2021/06/28/data-collation.html). Pretty similar process to that notebook, actually. Feel free to skip this and go straight to [Sales data exploration](/canon/2021/06/28/sales-data-exploration.html) to see pretty graphs."
   ]
  },
  {
   "cell_type": "markdown",
   "metadata": {},
   "source": [
    "I might be able to pull the metadata for all the books into one dataframe, but it's 4GB of JSON so I may run out of memory. Otherwise I'll have to chunk the JSON again.\n"
   ]
  },
  {
   "cell_type": "code",
   "execution_count": 1,
   "metadata": {
    "execution": {
     "iopub.execute_input": "2021-09-10T20:41:27.425740Z",
     "iopub.status.busy": "2021-09-10T20:41:27.425557Z",
     "iopub.status.idle": "2021-09-10T20:41:27.673604Z",
     "shell.execute_reply": "2021-09-10T20:41:27.673157Z",
     "shell.execute_reply.started": "2021-09-10T20:41:27.425689Z"
    },
    "tags": []
   },
   "outputs": [],
   "source": [
    "from pathlib import Path\n",
    "import pandas as pd"
   ]
  },
  {
   "cell_type": "code",
   "execution_count": 2,
   "metadata": {
    "execution": {
     "iopub.execute_input": "2021-09-10T20:41:27.674422Z",
     "iopub.status.busy": "2021-09-10T20:41:27.674284Z",
     "iopub.status.idle": "2021-09-10T20:41:27.676699Z",
     "shell.execute_reply": "2021-09-10T20:41:27.676340Z",
     "shell.execute_reply.started": "2021-09-10T20:41:27.674379Z"
    },
    "tags": []
   },
   "outputs": [],
   "source": [
    "#hide\n",
    "LOCALPATH = Path('/run/media/mage/INDESTRUCTIBLESLIME/Replaceable/datasets')"
   ]
  },
  {
   "cell_type": "code",
   "execution_count": 3,
   "metadata": {
    "execution": {
     "iopub.execute_input": "2021-09-10T20:41:27.677482Z",
     "iopub.status.busy": "2021-09-10T20:41:27.677344Z",
     "iopub.status.idle": "2021-09-10T20:41:27.710629Z",
     "shell.execute_reply": "2021-09-10T20:41:27.710134Z",
     "shell.execute_reply.started": "2021-09-10T20:41:27.677467Z"
    },
    "tags": []
   },
   "outputs": [
    {
     "data": {
      "text/html": [
       "<div>\n",
       "<style scoped>\n",
       "    .dataframe tbody tr th:only-of-type {\n",
       "        vertical-align: middle;\n",
       "    }\n",
       "\n",
       "    .dataframe tbody tr th {\n",
       "        vertical-align: top;\n",
       "    }\n",
       "\n",
       "    .dataframe thead th {\n",
       "        text-align: right;\n",
       "    }\n",
       "</style>\n",
       "<table border=\"1\" class=\"dataframe\">\n",
       "  <thead>\n",
       "    <tr style=\"text-align: right;\">\n",
       "      <th></th>\n",
       "      <th>asin</th>\n",
       "      <th>title</th>\n",
       "      <th>rank</th>\n",
       "      <th>category</th>\n",
       "    </tr>\n",
       "  </thead>\n",
       "  <tbody>\n",
       "    <tr>\n",
       "      <th>0</th>\n",
       "      <td>0000092878</td>\n",
       "      <td>Biology Gods Living Creation Third Edition 10 ...</td>\n",
       "      <td>1,349,781 in Books (</td>\n",
       "      <td>[]</td>\n",
       "    </tr>\n",
       "    <tr>\n",
       "      <th>1</th>\n",
       "      <td>000047715X</td>\n",
       "      <td>Mksap 16 Audio Companion: Medical Knowledge Se...</td>\n",
       "      <td>1,702,625 in Books (</td>\n",
       "      <td>[Books, New, Used &amp; Rental Textbooks, Medicine...</td>\n",
       "    </tr>\n",
       "    <tr>\n",
       "      <th>2</th>\n",
       "      <td>0000004545</td>\n",
       "      <td>Flex! Discography of North American Punk, Hard...</td>\n",
       "      <td>6,291,012 in Books (</td>\n",
       "      <td>[Books, Arts &amp; Photography, Music]</td>\n",
       "    </tr>\n",
       "    <tr>\n",
       "      <th>3</th>\n",
       "      <td>0000013765</td>\n",
       "      <td>Heavenly Highway Hymns: Shaped-Note Hymnal</td>\n",
       "      <td>2,384,057 in Books (</td>\n",
       "      <td>[Books, Arts &amp; Photography, Music]</td>\n",
       "    </tr>\n",
       "    <tr>\n",
       "      <th>4</th>\n",
       "      <td>0000000116</td>\n",
       "      <td>Georgina Goodman Nelson Womens Size 8.5 Purple...</td>\n",
       "      <td>11,735,726 in Books (</td>\n",
       "      <td>[]</td>\n",
       "    </tr>\n",
       "    <tr>\n",
       "      <th>...</th>\n",
       "      <td>...</td>\n",
       "      <td>...</td>\n",
       "      <td>...</td>\n",
       "      <td>...</td>\n",
       "    </tr>\n",
       "    <tr>\n",
       "      <th>195</th>\n",
       "      <td>0001839225</td>\n",
       "      <td>Spring Story (Brambly Hedge)</td>\n",
       "      <td>270,015 in Books (</td>\n",
       "      <td>[Books, Children's Books, Animals]</td>\n",
       "    </tr>\n",
       "    <tr>\n",
       "      <th>196</th>\n",
       "      <td>0001942212</td>\n",
       "      <td>Little Grey Rabbit and the Weasels (The Little...</td>\n",
       "      <td>2,367,441 in Books (</td>\n",
       "      <td>[Books, Children's Books]</td>\n",
       "    </tr>\n",
       "    <tr>\n",
       "      <th>197</th>\n",
       "      <td>0001942123</td>\n",
       "      <td>Little Grey Rabbit's paint-box (The Little Gre...</td>\n",
       "      <td>3,608,059 in Books (</td>\n",
       "      <td>[]</td>\n",
       "    </tr>\n",
       "    <tr>\n",
       "      <th>198</th>\n",
       "      <td>0001982869</td>\n",
       "      <td>The Monster Book of Witches, Vampires, Spooks ...</td>\n",
       "      <td>2,670,790 in Books (</td>\n",
       "      <td>[Books, Children's Books, Humor]</td>\n",
       "    </tr>\n",
       "    <tr>\n",
       "      <th>199</th>\n",
       "      <td>0001983806</td>\n",
       "      <td>Pookie Believes in Santa Claus</td>\n",
       "      <td>2,047,631 in Books (</td>\n",
       "      <td>[Books, Children's Books]</td>\n",
       "    </tr>\n",
       "  </tbody>\n",
       "</table>\n",
       "<p>200 rows × 4 columns</p>\n",
       "</div>"
      ],
      "text/plain": [
       "           asin                                              title  \\\n",
       "0    0000092878  Biology Gods Living Creation Third Edition 10 ...   \n",
       "1    000047715X  Mksap 16 Audio Companion: Medical Knowledge Se...   \n",
       "2    0000004545  Flex! Discography of North American Punk, Hard...   \n",
       "3    0000013765         Heavenly Highway Hymns: Shaped-Note Hymnal   \n",
       "4    0000000116  Georgina Goodman Nelson Womens Size 8.5 Purple...   \n",
       "..          ...                                                ...   \n",
       "195  0001839225                       Spring Story (Brambly Hedge)   \n",
       "196  0001942212  Little Grey Rabbit and the Weasels (The Little...   \n",
       "197  0001942123  Little Grey Rabbit's paint-box (The Little Gre...   \n",
       "198  0001982869  The Monster Book of Witches, Vampires, Spooks ...   \n",
       "199  0001983806                     Pookie Believes in Santa Claus   \n",
       "\n",
       "                      rank                                           category  \n",
       "0     1,349,781 in Books (                                                 []  \n",
       "1     1,702,625 in Books (  [Books, New, Used & Rental Textbooks, Medicine...  \n",
       "2     6,291,012 in Books (                 [Books, Arts & Photography, Music]  \n",
       "3     2,384,057 in Books (                 [Books, Arts & Photography, Music]  \n",
       "4    11,735,726 in Books (                                                 []  \n",
       "..                     ...                                                ...  \n",
       "195     270,015 in Books (                 [Books, Children's Books, Animals]  \n",
       "196   2,367,441 in Books (                          [Books, Children's Books]  \n",
       "197   3,608,059 in Books (                                                 []  \n",
       "198   2,670,790 in Books (                   [Books, Children's Books, Humor]  \n",
       "199   2,047,631 in Books (                          [Books, Children's Books]  \n",
       "\n",
       "[200 rows x 4 columns]"
      ]
     },
     "execution_count": 3,
     "metadata": {},
     "output_type": "execute_result"
    }
   ],
   "source": [
    "meta_json = LOCALPATH/'meta_Books.json'\n",
    "\n",
    "meta_df = pd.read_json(meta_json, lines=True, chunksize=200)\n",
    "\n",
    "test_df = next(meta_df)\n",
    "\n",
    "test_df[['asin','title','rank','category']]"
   ]
  },
  {
   "cell_type": "code",
   "execution_count": 4,
   "metadata": {
    "execution": {
     "iopub.execute_input": "2021-09-10T20:41:27.711614Z",
     "iopub.status.busy": "2021-09-10T20:41:27.711483Z",
     "iopub.status.idle": "2021-09-10T20:44:31.058610Z",
     "shell.execute_reply": "2021-09-10T20:44:31.057967Z",
     "shell.execute_reply.started": "2021-09-10T20:41:27.711597Z"
    },
    "tags": []
   },
   "outputs": [
    {
     "name": "stderr",
     "output_type": "stream",
     "text": [
      "30it [03:03,  6.10s/it]\n"
     ]
    }
   ],
   "source": [
    "from tqdm import tqdm\n",
    "\n",
    "big_meta_df = pd.read_json(meta_json, lines=True, chunksize=100000)\n",
    "\n",
    "for i, chunk in tqdm(enumerate(big_meta_df)):\n",
    "    filtered_chunk = chunk[['asin','title','rank','category']]\n",
    "    filtered_chunk.to_csv(f'../../records/amazon-books{str(i).zfill(4)}.csv')"
   ]
  },
  {
   "cell_type": "markdown",
   "metadata": {},
   "source": [
    "I have exported just the useful fields into local CSV files, for easy access. Now I want to transform the `rank` and `category` fields into useful datatypes: rank should be a number and category should be the last, most specific of the listed genres. ASINs are supposedly correlated to ISBN-10 numbers, so they should work decently out of the box.\n",
    "\n",
    "First I'll write a couple small functions to turn the text strings of rank and category into the proper types. Then transform them through pandas, and write a total file to disk. Hopefully it will be small enough to keep in memory now that we've cut a lot of useless data and JSON syntax."
   ]
  },
  {
   "cell_type": "code",
   "execution_count": 45,
   "metadata": {
    "execution": {
     "iopub.execute_input": "2021-09-10T21:46:38.059981Z",
     "iopub.status.busy": "2021-09-10T21:46:38.059684Z",
     "iopub.status.idle": "2021-09-10T21:46:38.068655Z",
     "shell.execute_reply": "2021-09-10T21:46:38.068144Z",
     "shell.execute_reply.started": "2021-09-10T21:46:38.059959Z"
    },
    "tags": []
   },
   "outputs": [],
   "source": [
    "import string\n",
    "\n",
    "def rank_to_int(rank):\n",
    "# This try/except loop is a piece of code written by the devil with my hands. Would not recommend\n",
    "    try:\n",
    "        assert len(rank) > 0\n",
    "        if type(rank) == list:\n",
    "            rank = rank[0]\n",
    "\n",
    "        num_str = rank.split(' ')[0]\n",
    "        no_punc_str = num_str.translate(str.maketrans('', '', string.punctuation))\n",
    "\n",
    "        return(int(no_punc_str))\n",
    "    except:\n",
    "        return(None)\n",
    "\n",
    "def category_to_genre(category):\n",
    "    if type(category) == str:\n",
    "        category = category[1:-1].replace(\"'\", '').replace('\"', '').replace(' ', '').split(',')\n",
    "    if len(category) > 0 and len(category[-1]) > 0:\n",
    "        return(category[-1])\n",
    "    else:\n",
    "        return(None)\n"
   ]
  },
  {
   "cell_type": "markdown",
   "metadata": {
    "execution": {
     "iopub.execute_input": "2021-09-07T19:15:55.573268Z",
     "iopub.status.busy": "2021-09-07T19:15:55.573106Z",
     "iopub.status.idle": "2021-09-07T19:15:55.578255Z",
     "shell.execute_reply": "2021-09-07T19:15:55.577635Z",
     "shell.execute_reply.started": "2021-09-07T19:15:55.573249Z"
    }
   },
   "source": [
    "I'm sure that there is a prettier way to do this. But I'm hoping to only have to do it once more here, so I can brute force it a little bit. Next time I find myself doing this, though, it's time to figure out the smart-guy method.\n"
   ]
  },
  {
   "cell_type": "code",
   "execution_count": 10,
   "metadata": {
    "execution": {
     "iopub.execute_input": "2021-09-10T20:44:31.268105Z",
     "iopub.status.busy": "2021-09-10T20:44:31.267936Z",
     "iopub.status.idle": "2021-09-10T20:44:31.270457Z",
     "shell.execute_reply": "2021-09-10T20:44:31.270118Z",
     "shell.execute_reply.started": "2021-09-10T20:44:31.268089Z"
    },
    "tags": []
   },
   "outputs": [],
   "source": [
    "total_df = pd.DataFrame()"
   ]
  },
  {
   "cell_type": "code",
   "execution_count": 11,
   "metadata": {
    "execution": {
     "iopub.execute_input": "2021-09-10T20:44:31.271146Z",
     "iopub.status.busy": "2021-09-10T20:44:31.271023Z",
     "iopub.status.idle": "2021-09-10T20:44:54.616294Z",
     "shell.execute_reply": "2021-09-10T20:44:54.615704Z",
     "shell.execute_reply.started": "2021-09-10T20:44:31.271130Z"
    },
    "tags": []
   },
   "outputs": [
    {
     "name": "stderr",
     "output_type": "stream",
     "text": [
      "100%|██████████| 30/30 [00:23<00:00,  1.29it/s]\n"
     ]
    }
   ],
   "source": [
    "for i in tqdm(range(30)):\n",
    "    df = pd.read_csv(f'../../records/amazon-books{str(i).zfill(4)}.csv')\n",
    "    df['category'] = df['category'].apply(category_to_genre)\n",
    "    df['rank'] = df['rank'].apply(rank_to_int)\n",
    "    \n",
    "    total_df = pd.concat([total_df,df], ignore_index=True)"
   ]
  },
  {
   "cell_type": "code",
   "execution_count": 12,
   "metadata": {
    "execution": {
     "iopub.execute_input": "2021-09-10T20:44:54.617236Z",
     "iopub.status.busy": "2021-09-10T20:44:54.617110Z",
     "iopub.status.idle": "2021-09-10T20:44:55.039175Z",
     "shell.execute_reply": "2021-09-10T20:44:55.038774Z",
     "shell.execute_reply.started": "2021-09-10T20:44:54.617220Z"
    },
    "tags": []
   },
   "outputs": [],
   "source": [
    "final_df = total_df.drop(columns=\"Unnamed: 0\")"
   ]
  },
  {
   "cell_type": "code",
   "execution_count": 28,
   "metadata": {
    "execution": {
     "iopub.execute_input": "2021-09-10T20:49:45.785117Z",
     "iopub.status.busy": "2021-09-10T20:49:45.784737Z",
     "iopub.status.idle": "2021-09-10T20:49:45.789197Z",
     "shell.execute_reply": "2021-09-10T20:49:45.788056Z",
     "shell.execute_reply.started": "2021-09-10T20:49:45.785080Z"
    },
    "tags": []
   },
   "outputs": [],
   "source": [
    "# final_df.to_csv(f'../../records/amazon-books-cleaned.csv')"
   ]
  },
  {
   "cell_type": "markdown",
   "metadata": {
    "tags": []
   },
   "source": [
    "## Collate the data\n",
    "\n",
    "What does the data look like, now that we can fit it into memory?"
   ]
  },
  {
   "cell_type": "code",
   "execution_count": 29,
   "metadata": {
    "execution": {
     "iopub.execute_input": "2021-09-10T20:50:16.894930Z",
     "iopub.status.busy": "2021-09-10T20:50:16.894728Z",
     "iopub.status.idle": "2021-09-10T20:50:16.905395Z",
     "shell.execute_reply": "2021-09-10T20:50:16.904835Z",
     "shell.execute_reply.started": "2021-09-10T20:50:16.894907Z"
    },
    "tags": []
   },
   "outputs": [
    {
     "data": {
      "text/html": [
       "<div>\n",
       "<style scoped>\n",
       "    .dataframe tbody tr th:only-of-type {\n",
       "        vertical-align: middle;\n",
       "    }\n",
       "\n",
       "    .dataframe tbody tr th {\n",
       "        vertical-align: top;\n",
       "    }\n",
       "\n",
       "    .dataframe thead th {\n",
       "        text-align: right;\n",
       "    }\n",
       "</style>\n",
       "<table border=\"1\" class=\"dataframe\">\n",
       "  <thead>\n",
       "    <tr style=\"text-align: right;\">\n",
       "      <th></th>\n",
       "      <th>asin</th>\n",
       "      <th>title</th>\n",
       "      <th>rank</th>\n",
       "      <th>category</th>\n",
       "    </tr>\n",
       "  </thead>\n",
       "  <tbody>\n",
       "    <tr>\n",
       "      <th>0</th>\n",
       "      <td>0000092878</td>\n",
       "      <td>Biology Gods Living Creation Third Edition 10 ...</td>\n",
       "      <td>1349781.0</td>\n",
       "      <td>None</td>\n",
       "    </tr>\n",
       "    <tr>\n",
       "      <th>1</th>\n",
       "      <td>000047715X</td>\n",
       "      <td>Mksap 16 Audio Companion: Medical Knowledge Se...</td>\n",
       "      <td>1702625.0</td>\n",
       "      <td>Medicine&amp;HealthSciences</td>\n",
       "    </tr>\n",
       "    <tr>\n",
       "      <th>2</th>\n",
       "      <td>0000004545</td>\n",
       "      <td>Flex! Discography of North American Punk, Hard...</td>\n",
       "      <td>6291012.0</td>\n",
       "      <td>Music</td>\n",
       "    </tr>\n",
       "    <tr>\n",
       "      <th>3</th>\n",
       "      <td>0000013765</td>\n",
       "      <td>Heavenly Highway Hymns: Shaped-Note Hymnal</td>\n",
       "      <td>2384057.0</td>\n",
       "      <td>Music</td>\n",
       "    </tr>\n",
       "    <tr>\n",
       "      <th>4</th>\n",
       "      <td>0000000116</td>\n",
       "      <td>Georgina Goodman Nelson Womens Size 8.5 Purple...</td>\n",
       "      <td>11735726.0</td>\n",
       "      <td>None</td>\n",
       "    </tr>\n",
       "    <tr>\n",
       "      <th>...</th>\n",
       "      <td>...</td>\n",
       "      <td>...</td>\n",
       "      <td>...</td>\n",
       "      <td>...</td>\n",
       "    </tr>\n",
       "    <tr>\n",
       "      <th>2934944</th>\n",
       "      <td>B01HJBPTUI</td>\n",
       "      <td>Made Men: A Thriller (Law of Retaliation Book ...</td>\n",
       "      <td>1436585.0</td>\n",
       "      <td>Thrillers&amp;Suspense</td>\n",
       "    </tr>\n",
       "    <tr>\n",
       "      <th>2934945</th>\n",
       "      <td>B01HJC63ZM</td>\n",
       "      <td>Raptor&amp;#39;s Desire (A Planet Desire novelette...</td>\n",
       "      <td>1060621.0</td>\n",
       "      <td>Erotica</td>\n",
       "    </tr>\n",
       "    <tr>\n",
       "      <th>2934946</th>\n",
       "      <td>B01HJEB422</td>\n",
       "      <td>LG K4 Case,LG Optimus Zone 3 Case,LG Spree Cas...</td>\n",
       "      <td>NaN</td>\n",
       "      <td>None</td>\n",
       "    </tr>\n",
       "    <tr>\n",
       "      <th>2934947</th>\n",
       "      <td>B01HJDS76Y</td>\n",
       "      <td>Magickal Incantations</td>\n",
       "      <td>645067.0</td>\n",
       "      <td>NewAge&amp;Spirituality</td>\n",
       "    </tr>\n",
       "    <tr>\n",
       "      <th>2934948</th>\n",
       "      <td>B01HJFHYMA</td>\n",
       "      <td>White Away EURO 2016 Match Football Soccer Adu...</td>\n",
       "      <td>5339602.0</td>\n",
       "      <td>None</td>\n",
       "    </tr>\n",
       "  </tbody>\n",
       "</table>\n",
       "<p>2934949 rows × 4 columns</p>\n",
       "</div>"
      ],
      "text/plain": [
       "               asin                                              title  \\\n",
       "0        0000092878  Biology Gods Living Creation Third Edition 10 ...   \n",
       "1        000047715X  Mksap 16 Audio Companion: Medical Knowledge Se...   \n",
       "2        0000004545  Flex! Discography of North American Punk, Hard...   \n",
       "3        0000013765         Heavenly Highway Hymns: Shaped-Note Hymnal   \n",
       "4        0000000116  Georgina Goodman Nelson Womens Size 8.5 Purple...   \n",
       "...             ...                                                ...   \n",
       "2934944  B01HJBPTUI  Made Men: A Thriller (Law of Retaliation Book ...   \n",
       "2934945  B01HJC63ZM  Raptor&#39;s Desire (A Planet Desire novelette...   \n",
       "2934946  B01HJEB422  LG K4 Case,LG Optimus Zone 3 Case,LG Spree Cas...   \n",
       "2934947  B01HJDS76Y                              Magickal Incantations   \n",
       "2934948  B01HJFHYMA  White Away EURO 2016 Match Football Soccer Adu...   \n",
       "\n",
       "               rank                 category  \n",
       "0         1349781.0                     None  \n",
       "1         1702625.0  Medicine&HealthSciences  \n",
       "2         6291012.0                    Music  \n",
       "3         2384057.0                    Music  \n",
       "4        11735726.0                     None  \n",
       "...             ...                      ...  \n",
       "2934944   1436585.0       Thrillers&Suspense  \n",
       "2934945   1060621.0                  Erotica  \n",
       "2934946         NaN                     None  \n",
       "2934947    645067.0      NewAge&Spirituality  \n",
       "2934948   5339602.0                     None  \n",
       "\n",
       "[2934949 rows x 4 columns]"
      ]
     },
     "execution_count": 29,
     "metadata": {},
     "output_type": "execute_result"
    }
   ],
   "source": [
    "final_df"
   ]
  },
  {
   "cell_type": "markdown",
   "metadata": {},
   "source": [
    "I only have one continuous datapoint to work with here, the rank. Categorical and identifying points are great for labels, but not so much for graphing. I'd like to get more data.\n",
    "\n",
    "Fortunately, the `asin` field can be used to map books from Amazon to Goodreads data. Let's grab that data from before."
   ]
  },
  {
   "cell_type": "code",
   "execution_count": 30,
   "metadata": {
    "execution": {
     "iopub.execute_input": "2021-09-10T20:52:06.638508Z",
     "iopub.status.busy": "2021-09-10T20:52:06.638255Z",
     "iopub.status.idle": "2021-09-10T20:52:37.843039Z",
     "shell.execute_reply": "2021-09-10T20:52:37.842498Z",
     "shell.execute_reply.started": "2021-09-10T20:52:06.638473Z"
    },
    "tags": []
   },
   "outputs": [
    {
     "data": {
      "text/plain": [
       "Index(['Unnamed: 0', 'Unnamed: 0.1', 'Unnamed: 0.1.1', 'isbn',\n",
       "       'text_reviews_count', 'series', 'language_code', 'popular_shelves',\n",
       "       'asin', 'average_rating', 'similar_books', 'description', 'format',\n",
       "       'link', 'authors', 'publisher', 'num_pages', 'isbn13',\n",
       "       'publication_month', 'publication_year', 'url', 'image_url', 'book_id',\n",
       "       'ratings_count', 'work_id', 'title', 'top_genre', 'author_name'],\n",
       "      dtype='object')"
      ]
     },
     "execution_count": 30,
     "metadata": {},
     "output_type": "execute_result"
    }
   ],
   "source": [
    "pd.set_option(\"display.max_columns\", None)\n",
    "\n",
    "\n",
    "goodreads_df = pd.read_csv(f'../../records/cleaned_goodreads_books.csv')\n",
    "goodreads_df.columns"
   ]
  },
  {
   "cell_type": "code",
   "execution_count": 31,
   "metadata": {
    "execution": {
     "iopub.execute_input": "2021-09-10T20:52:37.844441Z",
     "iopub.status.busy": "2021-09-10T20:52:37.844183Z",
     "iopub.status.idle": "2021-09-10T20:52:38.200911Z",
     "shell.execute_reply": "2021-09-10T20:52:38.200302Z",
     "shell.execute_reply.started": "2021-09-10T20:52:37.844424Z"
    },
    "tags": []
   },
   "outputs": [],
   "source": [
    "goodreads_df = goodreads_df[['isbn', 'asin', 'title', 'author_name', 'top_genre', 'publisher', 'publication_year', 'format', 'num_pages', 'average_rating', 'ratings_count', 'text_reviews_count', 'description'] ]"
   ]
  },
  {
   "cell_type": "markdown",
   "metadata": {},
   "source": [
    "Let's map the Amazon sales rank values into the goodreads dataframe as new columns. Have to do two groups, some have ASIN as their index."
   ]
  },
  {
   "cell_type": "code",
   "execution_count": 34,
   "metadata": {
    "execution": {
     "iopub.execute_input": "2021-09-10T21:04:23.017907Z",
     "iopub.status.busy": "2021-09-10T21:04:23.017650Z",
     "iopub.status.idle": "2021-09-10T21:04:24.169737Z",
     "shell.execute_reply": "2021-09-10T21:04:24.169267Z",
     "shell.execute_reply.started": "2021-09-10T21:04:23.017876Z"
    },
    "tags": []
   },
   "outputs": [],
   "source": [
    "isbns = goodreads_df.loc[goodreads_df['isbn'].isin(final_df['asin'])]\n",
    "asins = goodreads_df.loc[goodreads_df['asin'].isin(final_df['asin'])]"
   ]
  },
  {
   "cell_type": "code",
   "execution_count": 35,
   "metadata": {
    "execution": {
     "iopub.execute_input": "2021-09-10T21:04:24.170821Z",
     "iopub.status.busy": "2021-09-10T21:04:24.170661Z",
     "iopub.status.idle": "2021-09-10T21:04:24.174785Z",
     "shell.execute_reply": "2021-09-10T21:04:24.174204Z",
     "shell.execute_reply.started": "2021-09-10T21:04:24.170797Z"
    },
    "tags": []
   },
   "outputs": [
    {
     "data": {
      "text/plain": [
       "(532698, 513)"
      ]
     },
     "execution_count": 35,
     "metadata": {},
     "output_type": "execute_result"
    }
   ],
   "source": [
    "len(isbns), len(asins)"
   ]
  },
  {
   "cell_type": "code",
   "execution_count": 36,
   "metadata": {
    "execution": {
     "iopub.execute_input": "2021-09-10T21:04:28.382760Z",
     "iopub.status.busy": "2021-09-10T21:04:28.382599Z",
     "iopub.status.idle": "2021-09-10T21:04:32.035703Z",
     "shell.execute_reply": "2021-09-10T21:04:32.035296Z",
     "shell.execute_reply.started": "2021-09-10T21:04:28.382742Z"
    },
    "tags": []
   },
   "outputs": [],
   "source": [
    "asins_full_df = asins.join(final_df.set_index('asin'), on='asin', lsuffix='_gr', rsuffix='_az')\n",
    "isbns_full_df = isbns.join(final_df.set_index('asin'), on='isbn', lsuffix='_gr', rsuffix='_az')\n",
    "full_df = pd.concat([isbns_full_df, asins_full_df])"
   ]
  },
  {
   "cell_type": "markdown",
   "metadata": {
    "execution": {
     "iopub.execute_input": "2021-09-10T21:27:13.238703Z",
     "iopub.status.busy": "2021-09-10T21:27:13.238297Z",
     "iopub.status.idle": "2021-09-10T21:27:13.241974Z",
     "shell.execute_reply": "2021-09-10T21:27:13.241225Z",
     "shell.execute_reply.started": "2021-09-10T21:27:13.238654Z"
    }
   },
   "source": [
    "## Final dataset"
   ]
  },
  {
   "cell_type": "code",
   "execution_count": 37,
   "metadata": {
    "execution": {
     "iopub.execute_input": "2021-09-10T21:04:32.528488Z",
     "iopub.status.busy": "2021-09-10T21:04:32.527793Z",
     "iopub.status.idle": "2021-09-10T21:04:32.562952Z",
     "shell.execute_reply": "2021-09-10T21:04:32.562307Z",
     "shell.execute_reply.started": "2021-09-10T21:04:32.528402Z"
    },
    "tags": []
   },
   "outputs": [
    {
     "data": {
      "text/html": [
       "<div>\n",
       "<style scoped>\n",
       "    .dataframe tbody tr th:only-of-type {\n",
       "        vertical-align: middle;\n",
       "    }\n",
       "\n",
       "    .dataframe tbody tr th {\n",
       "        vertical-align: top;\n",
       "    }\n",
       "\n",
       "    .dataframe thead th {\n",
       "        text-align: right;\n",
       "    }\n",
       "</style>\n",
       "<table border=\"1\" class=\"dataframe\">\n",
       "  <thead>\n",
       "    <tr style=\"text-align: right;\">\n",
       "      <th></th>\n",
       "      <th>isbn</th>\n",
       "      <th>asin</th>\n",
       "      <th>title_gr</th>\n",
       "      <th>author_name</th>\n",
       "      <th>top_genre</th>\n",
       "      <th>publisher</th>\n",
       "      <th>publication_year</th>\n",
       "      <th>format</th>\n",
       "      <th>num_pages</th>\n",
       "      <th>average_rating</th>\n",
       "      <th>ratings_count</th>\n",
       "      <th>text_reviews_count</th>\n",
       "      <th>description</th>\n",
       "      <th>title_az</th>\n",
       "      <th>rank</th>\n",
       "      <th>category</th>\n",
       "    </tr>\n",
       "  </thead>\n",
       "  <tbody>\n",
       "    <tr>\n",
       "      <th>0</th>\n",
       "      <td>0312853122</td>\n",
       "      <td>NaN</td>\n",
       "      <td>W.C. Fields: A Life on Film</td>\n",
       "      <td>Ronald J. Fields</td>\n",
       "      <td>p</td>\n",
       "      <td>St. Martin's Press</td>\n",
       "      <td>1984.0</td>\n",
       "      <td>Paperback</td>\n",
       "      <td>256.0</td>\n",
       "      <td>4.00</td>\n",
       "      <td>3.0</td>\n",
       "      <td>1.0</td>\n",
       "      <td>NaN</td>\n",
       "      <td>W. C. Fields: A Life on Film</td>\n",
       "      <td>3974312.0</td>\n",
       "      <td>Biographies&amp;amp;Memoirs</td>\n",
       "    </tr>\n",
       "    <tr>\n",
       "      <th>3</th>\n",
       "      <td>0850308712</td>\n",
       "      <td>NaN</td>\n",
       "      <td>Runic Astrology: Starcraft and Timekeeping in ...</td>\n",
       "      <td>Nigel Pennick</td>\n",
       "      <td>runes</td>\n",
       "      <td>NaN</td>\n",
       "      <td>NaN</td>\n",
       "      <td>NaN</td>\n",
       "      <td>NaN</td>\n",
       "      <td>3.40</td>\n",
       "      <td>15.0</td>\n",
       "      <td>5.0</td>\n",
       "      <td>NaN</td>\n",
       "      <td>Runic Astrology: Starcraft and Timekeeping in ...</td>\n",
       "      <td>2163024.0</td>\n",
       "      <td>NewAge&amp;Spirituality</td>\n",
       "    </tr>\n",
       "    <tr>\n",
       "      <th>5</th>\n",
       "      <td>0425040887</td>\n",
       "      <td>NaN</td>\n",
       "      <td>The Wanting of Levine</td>\n",
       "      <td>Michael Halberstam</td>\n",
       "      <td>read-gave-away</td>\n",
       "      <td>Berkley Publishing Group</td>\n",
       "      <td>1979.0</td>\n",
       "      <td>Paperback</td>\n",
       "      <td>NaN</td>\n",
       "      <td>4.38</td>\n",
       "      <td>12.0</td>\n",
       "      <td>4.0</td>\n",
       "      <td>NaN</td>\n",
       "      <td>The Wanting of Levine</td>\n",
       "      <td>2453377.0</td>\n",
       "      <td>Literature&amp;amp;Fiction</td>\n",
       "    </tr>\n",
       "    <tr>\n",
       "      <th>6</th>\n",
       "      <td>1934876569</td>\n",
       "      <td>NaN</td>\n",
       "      <td>All's Fairy in Love and War (Avalon: Web of Ma...</td>\n",
       "      <td>Rachel Roberts</td>\n",
       "      <td>fantasy</td>\n",
       "      <td>Seven Seas</td>\n",
       "      <td>2009.0</td>\n",
       "      <td>Paperback</td>\n",
       "      <td>216.0</td>\n",
       "      <td>4.22</td>\n",
       "      <td>98.0</td>\n",
       "      <td>6.0</td>\n",
       "      <td>To Kara's astonishment, she discovers that a p...</td>\n",
       "      <td>Avalon: Web of Magic Book 8: All's Fairy in Lo...</td>\n",
       "      <td>1176771.0</td>\n",
       "      <td>ScienceFiction&amp;amp;Fantasy</td>\n",
       "    </tr>\n",
       "    <tr>\n",
       "      <th>7</th>\n",
       "      <td>0922915113</td>\n",
       "      <td>NaN</td>\n",
       "      <td>The Devil's Notebook</td>\n",
       "      <td>Anton Szandor LaVey</td>\n",
       "      <td>occult</td>\n",
       "      <td>Feral House</td>\n",
       "      <td>2000.0</td>\n",
       "      <td>Paperback</td>\n",
       "      <td>147.0</td>\n",
       "      <td>3.81</td>\n",
       "      <td>986.0</td>\n",
       "      <td>39.0</td>\n",
       "      <td>Wisdom, humor, and dark observations by the fo...</td>\n",
       "      <td>The Devil's Notebook</td>\n",
       "      <td>29944.0</td>\n",
       "      <td>World</td>\n",
       "    </tr>\n",
       "    <tr>\n",
       "      <th>...</th>\n",
       "      <td>...</td>\n",
       "      <td>...</td>\n",
       "      <td>...</td>\n",
       "      <td>...</td>\n",
       "      <td>...</td>\n",
       "      <td>...</td>\n",
       "      <td>...</td>\n",
       "      <td>...</td>\n",
       "      <td>...</td>\n",
       "      <td>...</td>\n",
       "      <td>...</td>\n",
       "      <td>...</td>\n",
       "      <td>...</td>\n",
       "      <td>...</td>\n",
       "      <td>...</td>\n",
       "      <td>...</td>\n",
       "    </tr>\n",
       "    <tr>\n",
       "      <th>1204491</th>\n",
       "      <td>NaN</td>\n",
       "      <td>B0007E28P4</td>\n",
       "      <td>The Ballad Mongers: Rise of the Modern Folk Song</td>\n",
       "      <td>Oscar Brand</td>\n",
       "      <td>music</td>\n",
       "      <td>Minerva Press/Funk &amp; Wagnalls/Reader's Digest ...</td>\n",
       "      <td>1967.0</td>\n",
       "      <td>Paperback</td>\n",
       "      <td>256.0</td>\n",
       "      <td>3.60</td>\n",
       "      <td>2.0</td>\n",
       "      <td>1.0</td>\n",
       "      <td>The folk song performer &amp; impresario presents ...</td>\n",
       "      <td>The Ballad Mongers: Rise of the Modern Folk Song</td>\n",
       "      <td>3051315.0</td>\n",
       "      <td>None</td>\n",
       "    </tr>\n",
       "    <tr>\n",
       "      <th>1207326</th>\n",
       "      <td>NaN</td>\n",
       "      <td>B00005X8YJ</td>\n",
       "      <td>The Best of Science Fiction</td>\n",
       "      <td>Groff Conklin</td>\n",
       "      <td>science-fiction</td>\n",
       "      <td>NaN</td>\n",
       "      <td>1946.0</td>\n",
       "      <td>Hardcover</td>\n",
       "      <td>NaN</td>\n",
       "      <td>4.05</td>\n",
       "      <td>1.0</td>\n",
       "      <td>1.0</td>\n",
       "      <td>NaN</td>\n",
       "      <td>The Best of Science Fiction</td>\n",
       "      <td>3313873.0</td>\n",
       "      <td>None</td>\n",
       "    </tr>\n",
       "    <tr>\n",
       "      <th>1207326</th>\n",
       "      <td>NaN</td>\n",
       "      <td>B00005X8YJ</td>\n",
       "      <td>The Best of Science Fiction</td>\n",
       "      <td>Groff Conklin</td>\n",
       "      <td>science-fiction</td>\n",
       "      <td>NaN</td>\n",
       "      <td>1946.0</td>\n",
       "      <td>Hardcover</td>\n",
       "      <td>NaN</td>\n",
       "      <td>4.05</td>\n",
       "      <td>1.0</td>\n",
       "      <td>1.0</td>\n",
       "      <td>NaN</td>\n",
       "      <td>The Best of Science Fiction</td>\n",
       "      <td>3313873.0</td>\n",
       "      <td>None</td>\n",
       "    </tr>\n",
       "    <tr>\n",
       "      <th>1208053</th>\n",
       "      <td>NaN</td>\n",
       "      <td>B003UW4N76</td>\n",
       "      <td>He Who Knows Himself Knows His Lord</td>\n",
       "      <td>Muhammad Sa'id al-Jamal ar-Rifa'i ash-Shadhuli</td>\n",
       "      <td>islam</td>\n",
       "      <td>Sidi Muhammad Press</td>\n",
       "      <td>2007.0</td>\n",
       "      <td>Paperback</td>\n",
       "      <td>157.0</td>\n",
       "      <td>4.62</td>\n",
       "      <td>8.0</td>\n",
       "      <td>3.0</td>\n",
       "      <td>Presented by Shaykh Muhammad Sa'id al-Jamal al...</td>\n",
       "      <td>He Who Knows Himself, Knows His Lord By Shaykh...</td>\n",
       "      <td>3574865.0</td>\n",
       "      <td>None</td>\n",
       "    </tr>\n",
       "    <tr>\n",
       "      <th>1208115</th>\n",
       "      <td>NaN</td>\n",
       "      <td>0996644725</td>\n",
       "      <td>Destroyer of Light (Hades &amp; Persephone #2)</td>\n",
       "      <td>Rachel Alexander</td>\n",
       "      <td>mythology</td>\n",
       "      <td>Rachel Alexander</td>\n",
       "      <td>2016.0</td>\n",
       "      <td>Paperback</td>\n",
       "      <td>492.0</td>\n",
       "      <td>4.42</td>\n",
       "      <td>263.0</td>\n",
       "      <td>23.0</td>\n",
       "      <td>The marriage of Hades and Persephone blossoms ...</td>\n",
       "      <td>Destroyer of Light</td>\n",
       "      <td>902309.0</td>\n",
       "      <td>Fantasy</td>\n",
       "    </tr>\n",
       "  </tbody>\n",
       "</table>\n",
       "<p>533227 rows × 16 columns</p>\n",
       "</div>"
      ],
      "text/plain": [
       "               isbn        asin  \\\n",
       "0        0312853122         NaN   \n",
       "3        0850308712         NaN   \n",
       "5        0425040887         NaN   \n",
       "6        1934876569         NaN   \n",
       "7        0922915113         NaN   \n",
       "...             ...         ...   \n",
       "1204491         NaN  B0007E28P4   \n",
       "1207326         NaN  B00005X8YJ   \n",
       "1207326         NaN  B00005X8YJ   \n",
       "1208053         NaN  B003UW4N76   \n",
       "1208115         NaN  0996644725   \n",
       "\n",
       "                                                  title_gr  \\\n",
       "0                              W.C. Fields: A Life on Film   \n",
       "3        Runic Astrology: Starcraft and Timekeeping in ...   \n",
       "5                                    The Wanting of Levine   \n",
       "6        All's Fairy in Love and War (Avalon: Web of Ma...   \n",
       "7                                     The Devil's Notebook   \n",
       "...                                                    ...   \n",
       "1204491   The Ballad Mongers: Rise of the Modern Folk Song   \n",
       "1207326                        The Best of Science Fiction   \n",
       "1207326                        The Best of Science Fiction   \n",
       "1208053                He Who Knows Himself Knows His Lord   \n",
       "1208115         Destroyer of Light (Hades & Persephone #2)   \n",
       "\n",
       "                                            author_name        top_genre  \\\n",
       "0                                      Ronald J. Fields                p   \n",
       "3                                         Nigel Pennick            runes   \n",
       "5                                    Michael Halberstam   read-gave-away   \n",
       "6                                        Rachel Roberts          fantasy   \n",
       "7                                   Anton Szandor LaVey           occult   \n",
       "...                                                 ...              ...   \n",
       "1204491                                     Oscar Brand            music   \n",
       "1207326                                   Groff Conklin  science-fiction   \n",
       "1207326                                   Groff Conklin  science-fiction   \n",
       "1208053  Muhammad Sa'id al-Jamal ar-Rifa'i ash-Shadhuli            islam   \n",
       "1208115                                Rachel Alexander        mythology   \n",
       "\n",
       "                                                 publisher  publication_year  \\\n",
       "0                                       St. Martin's Press            1984.0   \n",
       "3                                                      NaN               NaN   \n",
       "5                                 Berkley Publishing Group            1979.0   \n",
       "6                                               Seven Seas            2009.0   \n",
       "7                                              Feral House            2000.0   \n",
       "...                                                    ...               ...   \n",
       "1204491  Minerva Press/Funk & Wagnalls/Reader's Digest ...            1967.0   \n",
       "1207326                                                NaN            1946.0   \n",
       "1207326                                                NaN            1946.0   \n",
       "1208053                                Sidi Muhammad Press            2007.0   \n",
       "1208115                                   Rachel Alexander            2016.0   \n",
       "\n",
       "            format  num_pages  average_rating  ratings_count  \\\n",
       "0        Paperback      256.0            4.00            3.0   \n",
       "3              NaN        NaN            3.40           15.0   \n",
       "5        Paperback        NaN            4.38           12.0   \n",
       "6        Paperback      216.0            4.22           98.0   \n",
       "7        Paperback      147.0            3.81          986.0   \n",
       "...            ...        ...             ...            ...   \n",
       "1204491  Paperback      256.0            3.60            2.0   \n",
       "1207326  Hardcover        NaN            4.05            1.0   \n",
       "1207326  Hardcover        NaN            4.05            1.0   \n",
       "1208053  Paperback      157.0            4.62            8.0   \n",
       "1208115  Paperback      492.0            4.42          263.0   \n",
       "\n",
       "         text_reviews_count  \\\n",
       "0                       1.0   \n",
       "3                       5.0   \n",
       "5                       4.0   \n",
       "6                       6.0   \n",
       "7                      39.0   \n",
       "...                     ...   \n",
       "1204491                 1.0   \n",
       "1207326                 1.0   \n",
       "1207326                 1.0   \n",
       "1208053                 3.0   \n",
       "1208115                23.0   \n",
       "\n",
       "                                               description  \\\n",
       "0                                                      NaN   \n",
       "3                                                      NaN   \n",
       "5                                                      NaN   \n",
       "6        To Kara's astonishment, she discovers that a p...   \n",
       "7        Wisdom, humor, and dark observations by the fo...   \n",
       "...                                                    ...   \n",
       "1204491  The folk song performer & impresario presents ...   \n",
       "1207326                                                NaN   \n",
       "1207326                                                NaN   \n",
       "1208053  Presented by Shaykh Muhammad Sa'id al-Jamal al...   \n",
       "1208115  The marriage of Hades and Persephone blossoms ...   \n",
       "\n",
       "                                                  title_az       rank  \\\n",
       "0                             W. C. Fields: A Life on Film  3974312.0   \n",
       "3        Runic Astrology: Starcraft and Timekeeping in ...  2163024.0   \n",
       "5                                    The Wanting of Levine  2453377.0   \n",
       "6        Avalon: Web of Magic Book 8: All's Fairy in Lo...  1176771.0   \n",
       "7                                     The Devil's Notebook    29944.0   \n",
       "...                                                    ...        ...   \n",
       "1204491   The Ballad Mongers: Rise of the Modern Folk Song  3051315.0   \n",
       "1207326                        The Best of Science Fiction  3313873.0   \n",
       "1207326                        The Best of Science Fiction  3313873.0   \n",
       "1208053  He Who Knows Himself, Knows His Lord By Shaykh...  3574865.0   \n",
       "1208115                                 Destroyer of Light   902309.0   \n",
       "\n",
       "                           category  \n",
       "0           Biographies&amp;Memoirs  \n",
       "3               NewAge&Spirituality  \n",
       "5            Literature&amp;Fiction  \n",
       "6        ScienceFiction&amp;Fantasy  \n",
       "7                             World  \n",
       "...                             ...  \n",
       "1204491                        None  \n",
       "1207326                        None  \n",
       "1207326                        None  \n",
       "1208053                        None  \n",
       "1208115                     Fantasy  \n",
       "\n",
       "[533227 rows x 16 columns]"
      ]
     },
     "execution_count": 37,
     "metadata": {},
     "output_type": "execute_result"
    }
   ],
   "source": [
    "full_df"
   ]
  },
  {
   "cell_type": "markdown",
   "metadata": {},
   "source": [
    "Half a million datapoints. It's not as comprehensive as either dataset by itself, but it has consistent levels of metadata for each book. I think that will help to find good features in the data.\n",
    "\n",
    "Saving to disk. I explore this next in [Sales data exploration](/canon/2021/09/09/sales-data-exploration.html)."
   ]
  },
  {
   "cell_type": "code",
   "execution_count": null,
   "metadata": {
    "execution": {
     "iopub.status.busy": "2021-09-10T20:45:19.169526Z",
     "iopub.status.idle": "2021-09-10T20:45:19.169788Z",
     "shell.execute_reply": "2021-09-10T20:45:19.169669Z"
    },
    "tags": []
   },
   "outputs": [],
   "source": [
    "# full_df.to_csv(f'../../records/books-with-salesrank.csv')"
   ]
  }
 ],
 "metadata": {
  "kernelspec": {
   "display_name": "Python 3",
   "language": "python",
   "name": "python3"
  },
  "language_info": {
   "codemirror_mode": {
    "name": "ipython",
    "version": 3
   },
   "file_extension": ".py",
   "mimetype": "text/x-python",
   "name": "python",
   "nbconvert_exporter": "python",
   "pygments_lexer": "ipython3",
   "version": "3.7.7"
  },
  "widgets": {
   "application/vnd.jupyter.widget-state+json": {
    "state": {},
    "version_major": 2,
    "version_minor": 0
   }
  }
 },
 "nbformat": 4,
 "nbformat_minor": 4
}
