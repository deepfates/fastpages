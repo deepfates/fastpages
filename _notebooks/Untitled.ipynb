{
 "cells": [
  {
   "cell_type": "code",
   "execution_count": null,
   "metadata": {},
   "outputs": [],
   "source": []
  },
  {
   "cell_type": "markdown",
   "metadata": {},
   "source": [
    "# Language Arts 1\n",
    "> an experiment in computer-aided art\n",
    "\n",
    "- categories: [synthetic-media]\n",
    "- badges: false\n",
    "- image: images/book-gan-159.jpg\n"
   ]
  },
  {
   "cell_type": "markdown",
   "metadata": {},
   "source": []
  },
  {
   "cell_type": "markdown",
   "metadata": {},
   "source": [
    "{% include video_small.html url=\"/images/book-gan.mp4\" %}"
   ]
  },
  {
   "cell_type": "code",
   "execution_count": 23,
   "metadata": {
    "execution": {
     "iopub.execute_input": "2021-08-24T00:31:40.917853Z",
     "iopub.status.busy": "2021-08-24T00:31:40.917143Z",
     "iopub.status.idle": "2021-08-24T00:31:40.929620Z",
     "shell.execute_reply": "2021-08-24T00:31:40.927473Z",
     "shell.execute_reply.started": "2021-08-24T00:31:40.917763Z"
    },
    "tags": []
   },
   "outputs": [],
   "source": [
    "from IPython.display import Markdown\n",
    "from pathlib import Path\n",
    "\n",
    "in_dir = 'book_gan_images'\n",
    "images = [f'{in_dir}/{file.name}' for file in Path(in_dir).iterdir()]\n"
   ]
  },
  {
   "cell_type": "code",
   "execution_count": 28,
   "metadata": {
    "execution": {
     "iopub.execute_input": "2021-08-24T00:37:27.544397Z",
     "iopub.status.busy": "2021-08-24T00:37:27.543708Z",
     "iopub.status.idle": "2021-08-24T00:37:27.557958Z",
     "shell.execute_reply": "2021-08-24T00:37:27.555891Z",
     "shell.execute_reply.started": "2021-08-24T00:37:27.544313Z"
    },
    "tags": []
   },
   "outputs": [
    {
     "data": {
      "text/markdown": [
       "![book cover generated with GAN](book_gan_images/95-ema.jpg)\n",
       "![book cover generated with GAN](book_gan_images/74-ema.jpg)\n",
       "![book cover generated with GAN](book_gan_images/117-ema.jpg)\n",
       "![book cover generated with GAN](book_gan_images/99-ema.jpg)\n",
       "![book cover generated with GAN](book_gan_images/48-ema.jpg)\n",
       "![book cover generated with GAN](book_gan_images/59-ema.jpg)\n",
       "![book cover generated with GAN](book_gan_images/62-ema.jpg)\n",
       "![book cover generated with GAN](book_gan_images/20-ema.jpg)\n",
       "![book cover generated with GAN](book_gan_images/23-ema.jpg)\n",
       "![book cover generated with GAN](book_gan_images/69-ema.jpg)\n",
       "![book cover generated with GAN](book_gan_images/43-ema.jpg)\n",
       "![book cover generated with GAN](book_gan_images/58-ema.jpg)\n",
       "![book cover generated with GAN](book_gan_images/87-ema.jpg)\n",
       "![book cover generated with GAN](book_gan_images/81-ema.jpg)\n",
       "![book cover generated with GAN](book_gan_images/24-ema.jpg)\n",
       "![book cover generated with GAN](book_gan_images/61-ema.jpg)\n",
       "![book cover generated with GAN](book_gan_images/35-ema.jpg)\n",
       "![book cover generated with GAN](book_gan_images/14-ema.jpg)\n",
       "![book cover generated with GAN](book_gan_images/34-ema.jpg)\n",
       "![book cover generated with GAN](book_gan_images/119-ema.jpg)\n",
       "![book cover generated with GAN](book_gan_images/73-ema.jpg)\n",
       "![book cover generated with GAN](book_gan_images/31-ema.jpg)\n",
       "![book cover generated with GAN](book_gan_images/98-ema.jpg)\n",
       "![book cover generated with GAN](book_gan_images/78-ema.jpg)\n",
       "![book cover generated with GAN](book_gan_images/75-ema.jpg)\n",
       "![book cover generated with GAN](book_gan_images/29-ema.jpg)\n",
       "![book cover generated with GAN](book_gan_images/125-ema.jpg)\n",
       "![book cover generated with GAN](book_gan_images/122-ema.jpg)\n",
       "![book cover generated with GAN](book_gan_images/7-ema.jpg)\n",
       "![book cover generated with GAN](book_gan_images/1-ema.jpg)\n",
       "![book cover generated with GAN](book_gan_images/97-ema.jpg)\n",
       "![book cover generated with GAN](book_gan_images/85-ema.jpg)\n",
       "![book cover generated with GAN](book_gan_images/19-ema.jpg)\n",
       "![book cover generated with GAN](book_gan_images/57-ema.jpg)\n",
       "![book cover generated with GAN](book_gan_images/100-ema.jpg)\n",
       "![book cover generated with GAN](book_gan_images/56-ema.jpg)\n",
       "![book cover generated with GAN](book_gan_images/104-ema.jpg)\n",
       "![book cover generated with GAN](book_gan_images/76-ema.jpg)\n",
       "![book cover generated with GAN](book_gan_images/4-ema.jpg)\n",
       "![book cover generated with GAN](book_gan_images/79-ema.jpg)\n",
       "![book cover generated with GAN](book_gan_images/49-ema.jpg)\n",
       "![book cover generated with GAN](book_gan_images/30-ema.jpg)\n",
       "![book cover generated with GAN](book_gan_images/60-ema.jpg)\n",
       "![book cover generated with GAN](book_gan_images/96-ema.jpg)\n",
       "![book cover generated with GAN](book_gan_images/63-ema.jpg)\n",
       "![book cover generated with GAN](book_gan_images/55-ema.jpg)\n",
       "![book cover generated with GAN](book_gan_images/84-ema.jpg)\n",
       "![book cover generated with GAN](book_gan_images/40-ema.jpg)\n",
       "![book cover generated with GAN](book_gan_images/105-ema.jpg)\n",
       "![book cover generated with GAN](book_gan_images/103-ema.jpg)\n",
       "![book cover generated with GAN](book_gan_images/18-ema.jpg)\n",
       "![book cover generated with GAN](book_gan_images/54-ema.jpg)\n",
       "![book cover generated with GAN](book_gan_images/77-ema.jpg)\n",
       "![book cover generated with GAN](book_gan_images/115-ema.jpg)\n",
       "![book cover generated with GAN](book_gan_images/53-ema.jpg)\n",
       "![book cover generated with GAN](book_gan_images/113-ema.jpg)\n",
       "![book cover generated with GAN](book_gan_images/67-ema.jpg)\n",
       "![book cover generated with GAN](book_gan_images/46-ema.jpg)\n",
       "![book cover generated with GAN](book_gan_images/27-ema.jpg)\n",
       "![book cover generated with GAN](book_gan_images/22-ema.jpg)\n",
       "![book cover generated with GAN](book_gan_images/89-ema.jpg)\n",
       "![book cover generated with GAN](book_gan_images/116-ema.jpg)\n",
       "![book cover generated with GAN](book_gan_images/111-ema.jpg)\n",
       "![book cover generated with GAN](book_gan_images/91-ema.jpg)\n",
       "![book cover generated with GAN](book_gan_images/50-ema.jpg)\n",
       "![book cover generated with GAN](book_gan_images/12-ema.jpg)\n",
       "![book cover generated with GAN](book_gan_images/72-ema.jpg)\n",
       "![book cover generated with GAN](book_gan_images/36-ema.jpg)\n",
       "![book cover generated with GAN](book_gan_images/17-ema.jpg)\n",
       "![book cover generated with GAN](book_gan_images/13-ema.jpg)\n",
       "![book cover generated with GAN](book_gan_images/33-ema.jpg)\n",
       "![book cover generated with GAN](book_gan_images/118-ema.jpg)\n",
       "![book cover generated with GAN](book_gan_images/120-ema.jpg)\n",
       "![book cover generated with GAN](book_gan_images/80-ema.jpg)\n",
       "![book cover generated with GAN](book_gan_images/90-ema.jpg)\n",
       "![book cover generated with GAN](book_gan_images/106-ema.jpg)\n",
       "![book cover generated with GAN](book_gan_images/112-ema.jpg)\n",
       "![book cover generated with GAN](book_gan_images/47-ema.jpg)\n",
       "![book cover generated with GAN](book_gan_images/71-ema.jpg)\n",
       "![book cover generated with GAN](book_gan_images/38-ema.jpg)\n",
       "![book cover generated with GAN](book_gan_images/37-ema.jpg)\n",
       "![book cover generated with GAN](book_gan_images/10-ema.jpg)\n",
       "![book cover generated with GAN](book_gan_images/52-ema.jpg)\n",
       "![book cover generated with GAN](book_gan_images/88-ema.jpg)\n",
       "![book cover generated with GAN](book_gan_images/11-ema.jpg)\n",
       "![book cover generated with GAN](book_gan_images/123-ema.jpg)\n",
       "![book cover generated with GAN](book_gan_images/16-ema.jpg)\n",
       "![book cover generated with GAN](book_gan_images/42-ema.jpg)\n",
       "![book cover generated with GAN](book_gan_images/121-ema.jpg)\n",
       "![book cover generated with GAN](book_gan_images/94-ema.jpg)\n",
       "![book cover generated with GAN](book_gan_images/110-ema.jpg)\n",
       "![book cover generated with GAN](book_gan_images/101-ema.jpg)\n",
       "![book cover generated with GAN](book_gan_images/5-ema.jpg)\n",
       "![book cover generated with GAN](book_gan_images/65-ema.jpg)\n",
       "![book cover generated with GAN](book_gan_images/70-ema.jpg)\n",
       "![book cover generated with GAN](book_gan_images/124-ema.jpg)\n",
       "![book cover generated with GAN](book_gan_images/102-ema.jpg)\n",
       "![book cover generated with GAN](book_gan_images/9-ema.jpg)\n",
       "![book cover generated with GAN](book_gan_images/68-ema.jpg)\n",
       "![book cover generated with GAN](book_gan_images/44-ema.jpg)\n",
       "![book cover generated with GAN](book_gan_images/109-ema.jpg)\n",
       "![book cover generated with GAN](book_gan_images/114-ema.jpg)\n",
       "![book cover generated with GAN](book_gan_images/26-ema.jpg)\n",
       "![book cover generated with GAN](book_gan_images/64-ema.jpg)\n",
       "![book cover generated with GAN](book_gan_images/41-ema.jpg)\n",
       "![book cover generated with GAN](book_gan_images/8-ema.jpg)\n",
       "![book cover generated with GAN](book_gan_images/107-ema.jpg)\n",
       "![book cover generated with GAN](book_gan_images/51-ema.jpg)\n",
       "![book cover generated with GAN](book_gan_images/39-ema.jpg)\n",
       "![book cover generated with GAN](book_gan_images/25-ema.jpg)\n",
       "![book cover generated with GAN](book_gan_images/82-ema.jpg)\n",
       "![book cover generated with GAN](book_gan_images/2-ema.jpg)\n",
       "![book cover generated with GAN](book_gan_images/3-ema.jpg)\n",
       "![book cover generated with GAN](book_gan_images/6-ema.jpg)\n",
       "![book cover generated with GAN](book_gan_images/0-ema.jpg)\n",
       "![book cover generated with GAN](book_gan_images/15-ema.jpg)\n",
       "![book cover generated with GAN](book_gan_images/32-ema.jpg)\n",
       "![book cover generated with GAN](book_gan_images/92-ema.jpg)\n",
       "![book cover generated with GAN](book_gan_images/86-ema.jpg)\n",
       "![book cover generated with GAN](book_gan_images/108-ema.jpg)\n",
       "![book cover generated with GAN](book_gan_images/66-ema.jpg)\n",
       "![book cover generated with GAN](book_gan_images/21-ema.jpg)\n",
       "![book cover generated with GAN](book_gan_images/83-ema.jpg)\n",
       "![book cover generated with GAN](book_gan_images/28-ema.jpg)\n",
       "![book cover generated with GAN](book_gan_images/93-ema.jpg)\n",
       "![book cover generated with GAN](book_gan_images/45-ema.jpg)"
      ],
      "text/plain": [
       "<IPython.core.display.Markdown object>"
      ]
     },
     "execution_count": 28,
     "metadata": {},
     "output_type": "execute_result"
    }
   ],
   "source": [
    "Markdown('\\n'.join([f'![book cover generated with GAN]({image})' for image in images]))"
   ]
  }
 ],
 "metadata": {
  "kernelspec": {
   "display_name": "Python 3",
   "language": "python",
   "name": "python3"
  },
  "language_info": {
   "codemirror_mode": {
    "name": "ipython",
    "version": 3
   },
   "file_extension": ".py",
   "mimetype": "text/x-python",
   "name": "python",
   "nbconvert_exporter": "python",
   "pygments_lexer": "ipython3",
   "version": "3.7.7"
  },
  "widgets": {
   "application/vnd.jupyter.widget-state+json": {
    "state": {},
    "version_major": 2,
    "version_minor": 0
   }
  }
 },
 "nbformat": 4,
 "nbformat_minor": 4
}
