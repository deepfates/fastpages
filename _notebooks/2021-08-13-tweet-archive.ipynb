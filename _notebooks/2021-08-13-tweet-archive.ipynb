{
 "cells": [
  {
   "cell_type": "markdown",
   "metadata": {
    "tags": []
   },
   "source": [
    "# Archive my tweets\n",
    "\n",
    "- badges: true\n",
    "- categories: [code, twitter]\n",
    "- hide: false\n"
   ]
  },
  {
   "cell_type": "markdown",
   "metadata": {
    "tags": []
   },
   "source": [
    "## I want to extract all the tweets I've ever written and convert them to small markdown files so they show up as \"posts\" on this website.\n",
    "\n",
    "Posts are organized by date, in the traditional blogging format. But so are tweets, kind of? They're listed chronologically anyway. Maybe I could make one post for each day, and then have all the tweets listed on that page. Each one could have its tweet ID as a header, thus having an internal link. Tweets can link to the tweets that precede them, and maybe even backlink to tweets that follow.\n",
    "\n",
    "It's not quite block references, but as a way of keeping my second brain under my ownership it should work. And this way if anyone wants to cancel me they'll have a convenient search box and permalinks for it. Even if my account gets deleted, my bad takes can stay up."
   ]
  },
  {
   "cell_type": "code",
   "execution_count": 1,
   "metadata": {
    "execution": {
     "iopub.execute_input": "2021-10-20T17:55:03.691903Z",
     "iopub.status.busy": "2021-10-20T17:55:03.691548Z",
     "iopub.status.idle": "2021-10-20T17:55:03.704216Z",
     "shell.execute_reply": "2021-10-20T17:55:03.703660Z",
     "shell.execute_reply.started": "2021-10-20T17:55:03.691815Z"
    },
    "tags": []
   },
   "outputs": [
    {
     "data": {
      "text/plain": [
       "'2021-09-12'"
      ]
     },
     "execution_count": 1,
     "metadata": {},
     "output_type": "execute_result"
    }
   ],
   "source": [
    "# Find the last date i ran this\n",
    "from pathlib import Path\n",
    "out_dir = Path('../_posts/tweets/')\n",
    "posts = [o.name for o in out_dir.iterdir()]\n",
    "\n",
    "last_date = sorted(posts)[-2][:10]\n",
    "\n",
    "last_date"
   ]
  },
  {
   "cell_type": "markdown",
   "metadata": {},
   "source": [
    "This :point_up: is a workaround. Sometime after I started archiving my tweets, Twitter changed the API for search. This means that unofficial scrapers like `twint`stopped being able to see tweets from more than a few months ago. Even the in-app search was broken for a while.\n",
    "\n",
    "Fortunately I had already scraped and archived my old tweets, so now I just check to see when the last time I ran this script was and find tweets since that date. This also helps protect me from getting rate-limited by Twitter (they tend to do that if you download 30,000 tweets a few times in a row lol)."
   ]
  },
  {
   "cell_type": "code",
   "execution_count": 2,
   "metadata": {
    "execution": {
     "iopub.execute_input": "2021-10-20T17:55:03.706147Z",
     "iopub.status.busy": "2021-10-20T17:55:03.705733Z",
     "iopub.status.idle": "2021-10-20T17:55:23.251634Z",
     "shell.execute_reply": "2021-10-20T17:55:23.251228Z",
     "shell.execute_reply.started": "2021-10-20T17:55:03.706115Z"
    },
    "scrolled": true,
    "tags": []
   },
   "outputs": [
    {
     "data": {
      "text/plain": [
       "<twint.run.Twint at 0x7fce23268390>"
      ]
     },
     "execution_count": 2,
     "metadata": {},
     "output_type": "execute_result"
    }
   ],
   "source": [
    "import twint\n",
    "import nest_asyncio\n",
    "nest_asyncio.apply()\n",
    "\n",
    "\n",
    "c = twint.Config()\n",
    "c.Username = 'deepfates'\n",
    "tweets = []\n",
    "c.Store_object = True\n",
    "c.Store_object_tweets_list = tweets\n",
    "c.Since = last_date\n",
    "c.Hide_output = True\n",
    "twint.run.Profile(c)"
   ]
  },
  {
   "cell_type": "markdown",
   "metadata": {},
   "source": [
    "This is all the configuration necessary to grab my tweets. Have to use `Hide_output = True`, or it will print every single tweet in the output. \n",
    "\n",
    "\n",
    "I now have a dataset of tweets. Let's explore one here, and see some of its metadata."
   ]
  },
  {
   "cell_type": "markdown",
   "metadata": {
    "tags": []
   },
   "source": [
    "## Check data\n"
   ]
  },
  {
   "cell_type": "code",
   "execution_count": 3,
   "metadata": {
    "execution": {
     "iopub.execute_input": "2021-10-20T17:55:23.252843Z",
     "iopub.status.busy": "2021-10-20T17:55:23.252472Z",
     "iopub.status.idle": "2021-10-20T17:55:23.257579Z",
     "shell.execute_reply": "2021-10-20T17:55:23.256705Z",
     "shell.execute_reply.started": "2021-10-20T17:55:23.252808Z"
    },
    "tags": []
   },
   "outputs": [
    {
     "data": {
      "text/plain": [
       "3247"
      ]
     },
     "execution_count": 3,
     "metadata": {},
     "output_type": "execute_result"
    }
   ],
   "source": [
    "len(tweets)"
   ]
  },
  {
   "cell_type": "code",
   "execution_count": 4,
   "metadata": {
    "execution": {
     "iopub.execute_input": "2021-10-20T17:55:23.258685Z",
     "iopub.status.busy": "2021-10-20T17:55:23.258472Z",
     "iopub.status.idle": "2021-10-20T17:55:23.261819Z",
     "shell.execute_reply": "2021-10-20T17:55:23.261102Z",
     "shell.execute_reply.started": "2021-10-20T17:55:23.258644Z"
    },
    "tags": []
   },
   "outputs": [],
   "source": [
    "t = tweets[-1]"
   ]
  },
  {
   "cell_type": "code",
   "execution_count": 5,
   "metadata": {
    "execution": {
     "iopub.execute_input": "2021-10-20T17:55:23.262793Z",
     "iopub.status.busy": "2021-10-20T17:55:23.262624Z",
     "iopub.status.idle": "2021-10-20T17:55:23.268223Z",
     "shell.execute_reply": "2021-10-20T17:55:23.267140Z",
     "shell.execute_reply.started": "2021-10-20T17:55:23.262770Z"
    },
    "tags": []
   },
   "outputs": [
    {
     "data": {
      "text/plain": [
       "('1439019641205055496',\n",
       " '2021-09-17',\n",
       " '2021-09-17 18:28:06 MDT',\n",
       " 1439023391512670210,\n",
       " 4,\n",
       " 'https://twitter.com/deepfates/status/1439023391512670210',\n",
       " [],\n",
       " [],\n",
       " '',\n",
       " 0,\n",
       " [{'screen_name': 'IgorBrigadir', 'name': 'Igor Brigadir', 'id': '495430242'}],\n",
       " False,\n",
       " '',\n",
       " '',\n",
       " 0,\n",
       " '',\n",
       " '',\n",
       " '18:28:06',\n",
       " '-0600',\n",
       " '@IgorBrigadir And it said that one day you will wrestle the very world snake itself! And win',\n",
       " [],\n",
       " 3315205122,\n",
       " '3315205122',\n",
       " '',\n",
       " '',\n",
       " 'deepfates',\n",
       " 0)"
      ]
     },
     "execution_count": 5,
     "metadata": {},
     "output_type": "execute_result"
    }
   ],
   "source": [
    "t.conversation_id, t.datestamp, t.datetime, t.id, t.likes_count, t.link, t.mentions, t.photos, t.quote_url, t.replies_count, t.reply_to, t.retweet, t.retweet_date, t.retweet_id, t.retweets_count, t.source, t.thumbnail, t.timestamp, t.timezone, t.tweet, t.urls, t.user_id, t.user_id_str, t.user_rt, t.user_rt_id, t.username, t.video"
   ]
  },
  {
   "cell_type": "markdown",
   "metadata": {
    "tags": []
   },
   "source": [
    "## Tweet layout functions\n",
    "\n",
    "Many of my tweets have pictures or memes attached, but Twitter only includes the pic.twitter.com URL for these. Here I build a few functions to download the image and squeeze it into a Markdown template for display on my site."
   ]
  },
  {
   "cell_type": "code",
   "execution_count": 6,
   "metadata": {
    "execution": {
     "iopub.execute_input": "2021-10-20T17:55:23.269562Z",
     "iopub.status.busy": "2021-10-20T17:55:23.269391Z",
     "iopub.status.idle": "2021-10-20T17:55:23.271753Z",
     "shell.execute_reply": "2021-10-20T17:55:23.271297Z",
     "shell.execute_reply.started": "2021-10-20T17:55:23.269542Z"
    },
    "tags": []
   },
   "outputs": [],
   "source": [
    "import requests\n",
    "import shutil"
   ]
  },
  {
   "cell_type": "code",
   "execution_count": 49,
   "metadata": {
    "execution": {
     "iopub.execute_input": "2021-10-20T18:16:03.387212Z",
     "iopub.status.busy": "2021-10-20T18:16:03.386703Z",
     "iopub.status.idle": "2021-10-20T18:16:03.398209Z",
     "shell.execute_reply": "2021-10-20T18:16:03.397555Z",
     "shell.execute_reply.started": "2021-10-20T18:16:03.387149Z"
    },
    "tags": []
   },
   "outputs": [],
   "source": [
    "def dl_image(url):\n",
    "    filename = '../images/from_twitter/' + url.split('/')[-1]\n",
    "    r = requests.get(url, stream = True)\n",
    "    if r.status_code == 200:\n",
    "        r.raw.decode_content = True\n",
    "        with open(filename,'wb') as f:\n",
    "            shutil.copyfileobj(r.raw, f)\n",
    "        return(filename)\n",
    "    else:\n",
    "        return(None)\n",
    "    \n",
    "# hacky thing uses [1:] to shave the first '.' off the filename\n",
    "def image_template(filename):\n",
    "    return(f'![image from twitter]({filename[2:]})\\n')\n",
    "\n",
    "    \n",
    "def get_tweet(t):\n",
    "    if t.photos == []:\n",
    "        img_md = ''\n",
    "    else:\n",
    "        img_list = [dl_image(url) for url in t.photos]\n",
    "        img_md = '\\n'.join([image_template(o) for o in img_list])\n",
    "\n",
    "    return(f'''\n",
    "#### <a href = \"{t.link}\">*{t.timestamp}*</a>\n",
    "\n",
    "<font size=\"5\">{t.tweet}</font>\n",
    "\n",
    "{img_md}\n",
    "\n",
    "🗨️ {t.replies_count} ♺ {t.retweets_count} 🤍  {t.likes_count}   \n",
    "\n",
    "---\n",
    "    ''')\n",
    "\n",
    "def get_md(tweets, date):\n",
    "    tweets_text = ''.join(t for t in tweets)\n",
    "    return(f'''---\n",
    "title: deepfates log {date}\n",
    "layout: post\n",
    "toc: true\n",
    "comments: false\n",
    "search_exclude: false\n",
    "hide: true\n",
    "categories: [tweets]\n",
    "---\n",
    "\n",
    "{tweets_text}\n",
    "            ''')"
   ]
  },
  {
   "cell_type": "code",
   "execution_count": 50,
   "metadata": {
    "execution": {
     "iopub.execute_input": "2021-10-20T18:16:03.524328Z",
     "iopub.status.busy": "2021-10-20T18:16:03.523658Z",
     "iopub.status.idle": "2021-10-20T18:16:03.532645Z",
     "shell.execute_reply": "2021-10-20T18:16:03.530186Z",
     "shell.execute_reply.started": "2021-10-20T18:16:03.524243Z"
    },
    "tags": []
   },
   "outputs": [],
   "source": [
    "from IPython.display import Markdown"
   ]
  },
  {
   "cell_type": "code",
   "execution_count": 51,
   "metadata": {
    "execution": {
     "iopub.execute_input": "2021-10-20T18:16:03.663913Z",
     "iopub.status.busy": "2021-10-20T18:16:03.663239Z",
     "iopub.status.idle": "2021-10-20T18:16:03.676285Z",
     "shell.execute_reply": "2021-10-20T18:16:03.675081Z",
     "shell.execute_reply.started": "2021-10-20T18:16:03.663828Z"
    },
    "tags": []
   },
   "outputs": [
    {
     "data": {
      "text/plain": [
       "4"
      ]
     },
     "execution_count": 51,
     "metadata": {},
     "output_type": "execute_result"
    }
   ],
   "source": [
    "yesterday = t.datestamp\n",
    "y_tweets = [tw for tw in tweets if tw.datestamp == yesterday]\n",
    "len(y_tweets)"
   ]
  },
  {
   "cell_type": "code",
   "execution_count": 52,
   "metadata": {
    "execution": {
     "iopub.execute_input": "2021-10-20T18:16:03.754038Z",
     "iopub.status.busy": "2021-10-20T18:16:03.753873Z",
     "iopub.status.idle": "2021-10-20T18:16:03.758785Z",
     "shell.execute_reply": "2021-10-20T18:16:03.757914Z",
     "shell.execute_reply.started": "2021-10-20T18:16:03.754019Z"
    },
    "tags": []
   },
   "outputs": [
    {
     "data": {
      "text/markdown": [
       "\n",
       "#### <a href = \"https://twitter.com/deepfates/status/1439023391512670210\">*18:28:06*</a>\n",
       "\n",
       "<font size=\"5\">@IgorBrigadir And it said that one day you will wrestle the very world snake itself! And win</font>\n",
       "\n",
       "\n",
       "\n",
       "🗨️ 0 ♺ 0 🤍  4   \n",
       "\n",
       "---\n",
       "    "
      ],
      "text/plain": [
       "<IPython.core.display.Markdown object>"
      ]
     },
     "execution_count": 52,
     "metadata": {},
     "output_type": "execute_result"
    }
   ],
   "source": [
    "Markdown(get_tweet([tw for tw in tweets if tw.datestamp == yesterday][-1]))"
   ]
  },
  {
   "cell_type": "code",
   "execution_count": 53,
   "metadata": {
    "execution": {
     "iopub.execute_input": "2021-10-20T18:16:03.845409Z",
     "iopub.status.busy": "2021-10-20T18:16:03.845262Z",
     "iopub.status.idle": "2021-10-20T18:16:03.847610Z",
     "shell.execute_reply": "2021-10-20T18:16:03.847112Z",
     "shell.execute_reply.started": "2021-10-20T18:16:03.845392Z"
    },
    "tags": []
   },
   "outputs": [],
   "source": [
    "y_sorted = sorted(y_tweets, key=lambda x: x.datetime)\n",
    "# [tweet.tweet for tweet in y_sorted]"
   ]
  },
  {
   "cell_type": "markdown",
   "metadata": {},
   "source": [
    "Too many replies! Let's limit to just mine for now"
   ]
  },
  {
   "cell_type": "code",
   "execution_count": 54,
   "metadata": {
    "execution": {
     "iopub.execute_input": "2021-10-20T18:16:04.088270Z",
     "iopub.status.busy": "2021-10-20T18:16:04.088077Z",
     "iopub.status.idle": "2021-10-20T18:16:04.091695Z",
     "shell.execute_reply": "2021-10-20T18:16:04.090982Z",
     "shell.execute_reply.started": "2021-10-20T18:16:04.088249Z"
    },
    "tags": []
   },
   "outputs": [],
   "source": [
    "y_md = get_md([get_tweet(t) for t in y_sorted if \"@\" not in t.tweet], yesterday)"
   ]
  },
  {
   "cell_type": "code",
   "execution_count": 55,
   "metadata": {
    "execution": {
     "iopub.execute_input": "2021-10-20T18:16:04.217451Z",
     "iopub.status.busy": "2021-10-20T18:16:04.217268Z",
     "iopub.status.idle": "2021-10-20T18:16:04.221346Z",
     "shell.execute_reply": "2021-10-20T18:16:04.220542Z",
     "shell.execute_reply.started": "2021-10-20T18:16:04.217432Z"
    },
    "tags": []
   },
   "outputs": [
    {
     "data": {
      "text/plain": [
       "147"
      ]
     },
     "execution_count": 55,
     "metadata": {},
     "output_type": "execute_result"
    }
   ],
   "source": [
    "len(y_md)"
   ]
  },
  {
   "cell_type": "code",
   "execution_count": null,
   "metadata": {},
   "outputs": [],
   "source": []
  },
  {
   "cell_type": "code",
   "execution_count": 56,
   "metadata": {
    "execution": {
     "iopub.execute_input": "2021-10-20T18:16:04.696989Z",
     "iopub.status.busy": "2021-10-20T18:16:04.696827Z",
     "iopub.status.idle": "2021-10-20T18:16:04.700030Z",
     "shell.execute_reply": "2021-10-20T18:16:04.699367Z",
     "shell.execute_reply.started": "2021-10-20T18:16:04.696972Z"
    },
    "tags": []
   },
   "outputs": [],
   "source": [
    "with open(f'../_posts/tweets/{yesterday}-tweets.md', 'w') as f:\n",
    "    print(y_md, file=f)"
   ]
  },
  {
   "cell_type": "markdown",
   "metadata": {},
   "source": [
    "## Do the work\n",
    "\n",
    "Okay, that'll do for now. It prints a chronological page of tweets for each day.\n",
    "\n",
    "I'll wrap that behavior in a function and pass it my tweets and a set of dates when i have tweeted."
   ]
  },
  {
   "cell_type": "code",
   "execution_count": 57,
   "metadata": {
    "execution": {
     "iopub.execute_input": "2021-10-20T18:16:05.312483Z",
     "iopub.status.busy": "2021-10-20T18:16:05.312314Z",
     "iopub.status.idle": "2021-10-20T18:16:05.316410Z",
     "shell.execute_reply": "2021-10-20T18:16:05.315932Z",
     "shell.execute_reply.started": "2021-10-20T18:16:05.312463Z"
    },
    "tags": []
   },
   "outputs": [],
   "source": [
    "def write_day_page(day, tweets):\n",
    "    tweets = [tw for tw in tweets if tw.datestamp == day]\n",
    "    sorted_tweets = sorted(tweets, key=lambda x: x.datetime)\n",
    "    md = get_md([get_tweet(t) for t in sorted_tweets], day)\n",
    "    with open(f'../_posts/tweets/{day}-tweets.md', 'w') as f:\n",
    "        print(md, file=f)"
   ]
  },
  {
   "cell_type": "code",
   "execution_count": 58,
   "metadata": {
    "execution": {
     "iopub.execute_input": "2021-10-20T18:16:05.682051Z",
     "iopub.status.busy": "2021-10-20T18:16:05.681726Z",
     "iopub.status.idle": "2021-10-20T18:16:05.686654Z",
     "shell.execute_reply": "2021-10-20T18:16:05.686113Z",
     "shell.execute_reply.started": "2021-10-20T18:16:05.682025Z"
    },
    "tags": []
   },
   "outputs": [
    {
     "data": {
      "text/plain": [
       "661"
      ]
     },
     "execution_count": 58,
     "metadata": {},
     "output_type": "execute_result"
    }
   ],
   "source": [
    "self_tweets = [t for t in tweets if \"@\" not in t.tweet]\n",
    "\n",
    "len(self_tweets)"
   ]
  },
  {
   "cell_type": "code",
   "execution_count": 59,
   "metadata": {
    "execution": {
     "iopub.execute_input": "2021-10-20T18:16:05.825827Z",
     "iopub.status.busy": "2021-10-20T18:16:05.825617Z",
     "iopub.status.idle": "2021-10-20T18:16:05.829711Z",
     "shell.execute_reply": "2021-10-20T18:16:05.829285Z",
     "shell.execute_reply.started": "2021-10-20T18:16:05.825805Z"
    },
    "tags": []
   },
   "outputs": [
    {
     "data": {
      "text/plain": [
       "33"
      ]
     },
     "execution_count": 59,
     "metadata": {},
     "output_type": "execute_result"
    }
   ],
   "source": [
    "days = set([t.datestamp for t in self_tweets])\n",
    "\n",
    "len(days)"
   ]
  },
  {
   "cell_type": "code",
   "execution_count": 60,
   "metadata": {
    "execution": {
     "iopub.execute_input": "2021-10-20T18:16:05.951140Z",
     "iopub.status.busy": "2021-10-20T18:16:05.950918Z",
     "iopub.status.idle": "2021-10-20T18:16:05.954544Z",
     "shell.execute_reply": "2021-10-20T18:16:05.953609Z",
     "shell.execute_reply.started": "2021-10-20T18:16:05.951116Z"
    },
    "tags": []
   },
   "outputs": [],
   "source": [
    "from tqdm import tqdm"
   ]
  },
  {
   "cell_type": "code",
   "execution_count": 61,
   "metadata": {
    "execution": {
     "iopub.execute_input": "2021-10-20T18:16:06.082728Z",
     "iopub.status.busy": "2021-10-20T18:16:06.082466Z",
     "iopub.status.idle": "2021-10-20T18:16:21.631066Z",
     "shell.execute_reply": "2021-10-20T18:16:21.630479Z",
     "shell.execute_reply.started": "2021-10-20T18:16:06.082702Z"
    },
    "tags": []
   },
   "outputs": [
    {
     "name": "stderr",
     "output_type": "stream",
     "text": [
      "100%|██████████| 33/33 [00:15<00:00,  2.12it/s]\n"
     ]
    }
   ],
   "source": [
    "for day in tqdm(days):\n",
    "    write_day_page(day, self_tweets)"
   ]
  },
  {
   "cell_type": "markdown",
   "metadata": {},
   "source": [
    "I would also like to do analysis to see how often I tweet, and other facts. And maybe make a big list of links. Maybe next time.\n",
    "\n",
    "For now you can find these secret tweet archives by searching in the [Explore](/explore) page. The days archived this time are as follows."
   ]
  },
  {
   "cell_type": "code",
   "execution_count": 62,
   "metadata": {
    "execution": {
     "iopub.execute_input": "2021-10-20T18:16:21.632009Z",
     "iopub.status.busy": "2021-10-20T18:16:21.631846Z",
     "iopub.status.idle": "2021-10-20T18:16:21.636044Z",
     "shell.execute_reply": "2021-10-20T18:16:21.635346Z",
     "shell.execute_reply.started": "2021-10-20T18:16:21.631989Z"
    },
    "tags": []
   },
   "outputs": [
    {
     "data": {
      "text/plain": [
       "{'2021-09-18',\n",
       " '2021-09-19',\n",
       " '2021-09-20',\n",
       " '2021-09-21',\n",
       " '2021-09-22',\n",
       " '2021-09-23',\n",
       " '2021-09-24',\n",
       " '2021-09-25',\n",
       " '2021-09-26',\n",
       " '2021-09-27',\n",
       " '2021-09-28',\n",
       " '2021-09-29',\n",
       " '2021-09-30',\n",
       " '2021-10-01',\n",
       " '2021-10-02',\n",
       " '2021-10-03',\n",
       " '2021-10-04',\n",
       " '2021-10-05',\n",
       " '2021-10-06',\n",
       " '2021-10-07',\n",
       " '2021-10-08',\n",
       " '2021-10-09',\n",
       " '2021-10-10',\n",
       " '2021-10-11',\n",
       " '2021-10-12',\n",
       " '2021-10-13',\n",
       " '2021-10-14',\n",
       " '2021-10-15',\n",
       " '2021-10-16',\n",
       " '2021-10-17',\n",
       " '2021-10-18',\n",
       " '2021-10-19',\n",
       " '2021-10-20'}"
      ]
     },
     "execution_count": 62,
     "metadata": {},
     "output_type": "execute_result"
    }
   ],
   "source": [
    "days"
   ]
  },
  {
   "cell_type": "code",
   "execution_count": null,
   "metadata": {},
   "outputs": [],
   "source": []
  }
 ],
 "metadata": {
  "kernelspec": {
   "display_name": "Python 3",
   "language": "python",
   "name": "python3"
  },
  "language_info": {
   "codemirror_mode": {
    "name": "ipython",
    "version": 3
   },
   "file_extension": ".py",
   "mimetype": "text/x-python",
   "name": "python",
   "nbconvert_exporter": "python",
   "pygments_lexer": "ipython3",
   "version": "3.7.7"
  },
  "widgets": {
   "application/vnd.jupyter.widget-state+json": {
    "state": {},
    "version_major": 2,
    "version_minor": 0
   }
  }
 },
 "nbformat": 4,
 "nbformat_minor": 4
}
