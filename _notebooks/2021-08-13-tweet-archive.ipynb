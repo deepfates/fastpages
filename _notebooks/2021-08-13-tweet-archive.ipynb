{
 "cells": [
  {
   "cell_type": "markdown",
   "metadata": {
    "tags": []
   },
   "source": [
    "# Archive my tweets\n",
    "\n",
    "- badges: true\n",
    "- categories: [code, twitter]\n"
   ]
  },
  {
   "cell_type": "markdown",
   "metadata": {},
   "source": [
    "I want to extract all the tweets I've ever written and convert them to small markdown files so they show up as \"posts\" on this website.\n",
    "\n",
    "Posts are organized by date, in the traditional blogging format. But so are tweets, kind of? They're listed chronologically anyway. Maybe I could make one post for each day, and then have all the tweets listed on that page. Each one could have its tweet ID as a header, thus having an internal link. Tweets can link to the tweets that precede them, and maybe even backlink to tweets that follow.\n",
    "\n",
    "It's not quite block references, but as a way of keeping my second brain under my ownership it should work. And this way if anyone wants to cancel me they'll have a convenient search box and permalinks for it. Even if my account gets deleted, my bad takes can stay up."
   ]
  },
  {
   "cell_type": "code",
   "execution_count": 1,
   "metadata": {
    "execution": {
     "iopub.execute_input": "2021-09-02T17:35:18.627366Z",
     "iopub.status.busy": "2021-09-02T17:35:18.626860Z",
     "iopub.status.idle": "2021-09-02T17:35:18.638396Z",
     "shell.execute_reply": "2021-09-02T17:35:18.637939Z",
     "shell.execute_reply.started": "2021-09-02T17:35:18.627247Z"
    },
    "tags": []
   },
   "outputs": [
    {
     "data": {
      "text/plain": [
       "'2021-08-31'"
      ]
     },
     "execution_count": 1,
     "metadata": {},
     "output_type": "execute_result"
    }
   ],
   "source": [
    "# Find the last date i ran this\n",
    "from pathlib import Path\n",
    "out_dir = Path('../_posts/tweets/')\n",
    "posts = [o.name for o in out_dir.iterdir()]\n",
    "\n",
    "last_date = sorted(posts)[-2][:10]\n",
    "\n",
    "last_date"
   ]
  },
  {
   "cell_type": "code",
   "execution_count": null,
   "metadata": {
    "execution": {
     "iopub.execute_input": "2021-09-02T17:35:19.290685Z",
     "iopub.status.busy": "2021-09-02T17:35:19.290542Z"
    },
    "scrolled": true,
    "tags": []
   },
   "outputs": [],
   "source": [
    "#hide_output\n",
    "import twint\n",
    "import nest_asyncio\n",
    "nest_asyncio.apply()\n",
    "\n",
    "\n",
    "c = twint.Config()\n",
    "c.Username = 'deepfates'\n",
    "tweets = []\n",
    "c.Store_object = True\n",
    "c.Store_object_tweets_list = tweets\n",
    "c.Since = last_date\n",
    "c.Hide_output = True\n",
    "twint.run.Profile(c)"
   ]
  },
  {
   "cell_type": "code",
   "execution_count": null,
   "metadata": {
    "tags": []
   },
   "outputs": [],
   "source": [
    "len(tweets)"
   ]
  },
  {
   "cell_type": "code",
   "execution_count": null,
   "metadata": {
    "tags": []
   },
   "outputs": [],
   "source": [
    "t = tweets[-1]"
   ]
  },
  {
   "cell_type": "code",
   "execution_count": null,
   "metadata": {
    "tags": []
   },
   "outputs": [],
   "source": [
    "t.conversation_id, t.datestamp, t.datetime, t.id, t.likes_count, t.link, t.mentions, t.photos, t.quote_url, t.replies_count, t.reply_to, t.retweet, t.retweet_date, t.retweet_id, t.retweets_count, t.source, t.thumbnail, t.timestamp, t.timezone, t.tweet, t.urls, t.user_id, t.user_id_str, t.user_rt, t.user_rt_id, t.username, t.video"
   ]
  },
  {
   "cell_type": "code",
   "execution_count": null,
   "metadata": {
    "tags": []
   },
   "outputs": [],
   "source": [
    "import requests\n",
    "import shutil"
   ]
  },
  {
   "cell_type": "code",
   "execution_count": null,
   "metadata": {
    "tags": []
   },
   "outputs": [],
   "source": [
    "def dl_image(url):\n",
    "    filename = '../images/' + url.split('/')[-1]\n",
    "    r = requests.get(url, stream = True)\n",
    "    if r.status_code == 200:\n",
    "        r.raw.decode_content = True\n",
    "        with open(filename,'wb') as f:\n",
    "            shutil.copyfileobj(r.raw, f)\n",
    "        return(filename)\n",
    "    else:\n",
    "        return(None)\n",
    "    \n",
    "# hacky thing uses [1:] to shave the first '.' off the filename\n",
    "def image_template(filename):\n",
    "    return(f'![image from twitter](/{filename[1:]})\\n')\n",
    "\n",
    "    \n",
    "def get_tweet(t):\n",
    "    if t.photos == []:\n",
    "        img_md = ''\n",
    "    else:\n",
    "        img_list = [dl_image(url) for url in t.photos]\n",
    "        img_md = '\\n'.join([image_template(o) for o in img_list])\n",
    "\n",
    "    return(f'''\n",
    "#### <a href = \"{t.link}\">*{t.timestamp}*</a>\n",
    "\n",
    "<font size=\"5\">{t.tweet}</font>\n",
    "\n",
    "{img_md}\n",
    "\n",
    "🗨️ {t.replies_count} ♺ {t.retweets_count} 🤍  {t.likes_count}   \n",
    "\n",
    "---\n",
    "    ''')\n",
    "\n",
    "def get_md(tweets, date):\n",
    "    tweets_text = ''.join(t for t in tweets)\n",
    "    return(f'''---\n",
    "title: deepfates log {date}\n",
    "layout: post\n",
    "toc: true\n",
    "comments: false\n",
    "search_exclude: false\n",
    "categories: [tweets]\n",
    "---\n",
    "\n",
    "{tweets_text}\n",
    "            ''')"
   ]
  },
  {
   "cell_type": "code",
   "execution_count": null,
   "metadata": {
    "tags": []
   },
   "outputs": [],
   "source": [
    "from IPython.display import Markdown"
   ]
  },
  {
   "cell_type": "code",
   "execution_count": null,
   "metadata": {
    "tags": []
   },
   "outputs": [],
   "source": [
    "yesterday = t.datestamp\n",
    "y_tweets = [tw for tw in tweets if tw.datestamp == yesterday]\n",
    "len(y_tweets)"
   ]
  },
  {
   "cell_type": "code",
   "execution_count": null,
   "metadata": {
    "tags": []
   },
   "outputs": [],
   "source": [
    "Markdown(get_tweet([tw for tw in tweets if tw.datestamp == yesterday][-1]))"
   ]
  },
  {
   "cell_type": "code",
   "execution_count": null,
   "metadata": {
    "tags": []
   },
   "outputs": [],
   "source": [
    "y_sorted = sorted(y_tweets, key=lambda x: x.datetime)\n",
    "# [tweet.tweet for tweet in y_sorted]"
   ]
  },
  {
   "cell_type": "markdown",
   "metadata": {},
   "source": [
    "Too many replies! Let's limit to just mine for now"
   ]
  },
  {
   "cell_type": "code",
   "execution_count": null,
   "metadata": {
    "tags": []
   },
   "outputs": [],
   "source": [
    "y_md = get_md([get_tweet(t) for t in y_sorted if \"@\" not in t.tweet], yesterday)"
   ]
  },
  {
   "cell_type": "code",
   "execution_count": null,
   "metadata": {
    "tags": []
   },
   "outputs": [],
   "source": [
    "with open(f'../_posts/tweets/{yesterday}-tweets.md', 'w') as f:\n",
    "    print(y_md, file=f)"
   ]
  },
  {
   "cell_type": "markdown",
   "metadata": {},
   "source": [
    "Okay, that'll do for now. It prints a chronological page of tweets for each day. Linking, video and oter people's tweets will have to come later.\n",
    "\n",
    "I'll wrap that behavior in a function and pass it my tweets and a set of dates when i have tweeted."
   ]
  },
  {
   "cell_type": "code",
   "execution_count": null,
   "metadata": {
    "tags": []
   },
   "outputs": [],
   "source": [
    "def write_day_page(day, tweets):\n",
    "    tweets = [tw for tw in tweets if tw.datestamp == day]\n",
    "    sorted_tweets = sorted(tweets, key=lambda x: x.datetime)\n",
    "    md = get_md([get_tweet(t) for t in sorted_tweets], day)\n",
    "    with open(f'../_posts/tweets/{day}-tweets.md', 'w') as f:\n",
    "        print(md, file=f)"
   ]
  },
  {
   "cell_type": "code",
   "execution_count": null,
   "metadata": {
    "tags": []
   },
   "outputs": [],
   "source": [
    "self_tweets = [t for t in tweets if \"@\" not in t.tweet]\n",
    "\n",
    "len(self_tweets)"
   ]
  },
  {
   "cell_type": "code",
   "execution_count": null,
   "metadata": {
    "tags": []
   },
   "outputs": [],
   "source": [
    "days = set([t.datestamp for t in self_tweets])\n",
    "\n",
    "len(days)"
   ]
  },
  {
   "cell_type": "code",
   "execution_count": 181,
   "metadata": {
    "execution": {
     "iopub.execute_input": "2021-09-01T17:20:30.023263Z",
     "iopub.status.busy": "2021-09-01T17:20:30.023091Z",
     "iopub.status.idle": "2021-09-01T17:20:30.025682Z",
     "shell.execute_reply": "2021-09-01T17:20:30.025125Z",
     "shell.execute_reply.started": "2021-09-01T17:20:30.023244Z"
    },
    "tags": []
   },
   "outputs": [],
   "source": [
    "from tqdm import tqdm"
   ]
  },
  {
   "cell_type": "code",
   "execution_count": 182,
   "metadata": {
    "execution": {
     "iopub.execute_input": "2021-09-01T17:20:30.273068Z",
     "iopub.status.busy": "2021-09-01T17:20:30.272909Z",
     "iopub.status.idle": "2021-09-01T17:20:40.257374Z",
     "shell.execute_reply": "2021-09-01T17:20:40.256938Z",
     "shell.execute_reply.started": "2021-09-01T17:20:30.273050Z"
    },
    "tags": []
   },
   "outputs": [
    {
     "name": "stderr",
     "output_type": "stream",
     "text": [
      "100%|██████████| 11/11 [00:09<00:00,  1.10it/s]\n"
     ]
    }
   ],
   "source": [
    "for day in tqdm(days):\n",
    "    write_day_page(day, self_tweets)"
   ]
  },
  {
   "cell_type": "markdown",
   "metadata": {},
   "source": [
    "I would also liek to do analysis to see how often I tweet. And make a big list of links. Maybe next time.\n",
    "\n",
    "For now you can find these secret tweet archives by searching in the [Explore](/explore) page"
   ]
  },
  {
   "cell_type": "code",
   "execution_count": 183,
   "metadata": {
    "execution": {
     "iopub.execute_input": "2021-09-01T17:20:40.258362Z",
     "iopub.status.busy": "2021-09-01T17:20:40.258221Z",
     "iopub.status.idle": "2021-09-01T17:20:40.261375Z",
     "shell.execute_reply": "2021-09-01T17:20:40.260950Z",
     "shell.execute_reply.started": "2021-09-01T17:20:40.258343Z"
    },
    "tags": []
   },
   "outputs": [
    {
     "data": {
      "text/plain": [
       "{'2021-08-22',\n",
       " '2021-08-23',\n",
       " '2021-08-24',\n",
       " '2021-08-25',\n",
       " '2021-08-26',\n",
       " '2021-08-27',\n",
       " '2021-08-28',\n",
       " '2021-08-29',\n",
       " '2021-08-30',\n",
       " '2021-08-31',\n",
       " '2021-09-01'}"
      ]
     },
     "execution_count": 183,
     "metadata": {},
     "output_type": "execute_result"
    }
   ],
   "source": [
    "days"
   ]
  },
  {
   "cell_type": "code",
   "execution_count": null,
   "metadata": {},
   "outputs": [],
   "source": []
  }
 ],
 "metadata": {
  "kernelspec": {
   "display_name": "Python 3",
   "language": "python",
   "name": "python3"
  },
  "language_info": {
   "codemirror_mode": {
    "name": "ipython",
    "version": 3
   },
   "file_extension": ".py",
   "mimetype": "text/x-python",
   "name": "python",
   "nbconvert_exporter": "python",
   "pygments_lexer": "ipython3",
   "version": "3.7.7"
  },
  "widgets": {
   "application/vnd.jupyter.widget-state+json": {
    "state": {},
    "version_major": 2,
    "version_minor": 0
   }
  }
 },
 "nbformat": 4,
 "nbformat_minor": 4
}
