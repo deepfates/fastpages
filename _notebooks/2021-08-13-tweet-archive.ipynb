{
 "cells": [
  {
   "cell_type": "markdown",
   "metadata": {
    "tags": []
   },
   "source": [
    "# Archive my tweets\n",
    "\n",
    "- badges: true\n",
    "- categories: [code, twitter]\n",
    "- hide: true\n"
   ]
  },
  {
   "cell_type": "markdown",
   "metadata": {},
   "source": [
    "I want to extract all the tweets I've ever written and convert them to small markdown files so they show up as \"posts\" on this website.\n",
    "\n",
    "Posts are organized by date, in the traditional blogging format. But so are tweets, kind of? They're listed chronologically anyway. Maybe I could make one post for each day, and then have all the tweets listed on that page. Each one could have its tweet ID as a header, thus having an internal link. Tweets can link to the tweets that precede them, and maybe even backlink to tweets that follow.\n",
    "\n",
    "It's not quite block references, but as a way of keeping my second brain under my ownership it should work. And this way if anyone wants to cancel me they'll have a convenient search box and permalinks for it. Even if my account gets deleted, my bad takes can stay up."
   ]
  },
  {
   "cell_type": "code",
   "execution_count": 1,
   "metadata": {
    "execution": {
     "iopub.execute_input": "2021-09-13T15:47:34.309993Z",
     "iopub.status.busy": "2021-09-13T15:47:34.309782Z",
     "iopub.status.idle": "2021-09-13T15:47:34.322001Z",
     "shell.execute_reply": "2021-09-13T15:47:34.321185Z",
     "shell.execute_reply.started": "2021-09-13T15:47:34.309936Z"
    },
    "tags": []
   },
   "outputs": [
    {
     "data": {
      "text/plain": [
       "'2021-09-01'"
      ]
     },
     "execution_count": 1,
     "metadata": {},
     "output_type": "execute_result"
    }
   ],
   "source": [
    "# Find the last date i ran this\n",
    "from pathlib import Path\n",
    "out_dir = Path('../_posts/tweets/')\n",
    "posts = [o.name for o in out_dir.iterdir()]\n",
    "\n",
    "last_date = sorted(posts)[-2][:10]\n",
    "\n",
    "last_date"
   ]
  },
  {
   "cell_type": "code",
   "execution_count": 2,
   "metadata": {
    "execution": {
     "iopub.execute_input": "2021-09-13T15:47:36.866203Z",
     "iopub.status.busy": "2021-09-13T15:47:36.865982Z",
     "iopub.status.idle": "2021-09-13T15:47:59.940825Z",
     "shell.execute_reply": "2021-09-13T15:47:59.938104Z",
     "shell.execute_reply.started": "2021-09-13T15:47:36.866177Z"
    },
    "scrolled": true,
    "tags": []
   },
   "outputs": [
    {
     "data": {
      "text/plain": [
       "<twint.run.Twint at 0x7fd32fea8350>"
      ]
     },
     "execution_count": 2,
     "metadata": {},
     "output_type": "execute_result"
    }
   ],
   "source": [
    "#hide_output\n",
    "import twint\n",
    "import nest_asyncio\n",
    "nest_asyncio.apply()\n",
    "\n",
    "\n",
    "c = twint.Config()\n",
    "c.Username = 'deepfates'\n",
    "tweets = []\n",
    "c.Store_object = True\n",
    "c.Store_object_tweets_list = tweets\n",
    "c.Since = last_date\n",
    "c.Hide_output = True\n",
    "twint.run.Profile(c)"
   ]
  },
  {
   "cell_type": "code",
   "execution_count": 3,
   "metadata": {
    "execution": {
     "iopub.execute_input": "2021-09-13T15:47:59.944702Z",
     "iopub.status.busy": "2021-09-13T15:47:59.944078Z",
     "iopub.status.idle": "2021-09-13T15:47:59.958972Z",
     "shell.execute_reply": "2021-09-13T15:47:59.956458Z",
     "shell.execute_reply.started": "2021-09-13T15:47:59.944621Z"
    },
    "tags": []
   },
   "outputs": [
    {
     "data": {
      "text/plain": [
       "1133"
      ]
     },
     "execution_count": 3,
     "metadata": {},
     "output_type": "execute_result"
    }
   ],
   "source": [
    "len(tweets)"
   ]
  },
  {
   "cell_type": "code",
   "execution_count": 4,
   "metadata": {
    "execution": {
     "iopub.execute_input": "2021-09-13T15:48:26.444425Z",
     "iopub.status.busy": "2021-09-13T15:48:26.443745Z",
     "iopub.status.idle": "2021-09-13T15:48:26.454120Z",
     "shell.execute_reply": "2021-09-13T15:48:26.451106Z",
     "shell.execute_reply.started": "2021-09-13T15:48:26.444339Z"
    },
    "tags": []
   },
   "outputs": [],
   "source": [
    "t = tweets[-1]"
   ]
  },
  {
   "cell_type": "code",
   "execution_count": 5,
   "metadata": {
    "execution": {
     "iopub.execute_input": "2021-09-13T15:48:27.516607Z",
     "iopub.status.busy": "2021-09-13T15:48:27.516061Z",
     "iopub.status.idle": "2021-09-13T15:48:27.531491Z",
     "shell.execute_reply": "2021-09-13T15:48:27.529875Z",
     "shell.execute_reply.started": "2021-09-13T15:48:27.516519Z"
    },
    "tags": []
   },
   "outputs": [
    {
     "data": {
      "text/plain": [
       "('1432830872894390283',\n",
       " '2021-09-01',\n",
       " '2021-09-01 06:43:24 MDT',\n",
       " 1433047838628491266,\n",
       " 0,\n",
       " 'https://twitter.com/deepfates/status/1433047838628491266',\n",
       " [],\n",
       " [],\n",
       " '',\n",
       " 0,\n",
       " [{'screen_name': 'aaron_clarey', 'name': 'Aaron Clarey', 'id': '303940211'}],\n",
       " False,\n",
       " '',\n",
       " '',\n",
       " 0,\n",
       " '',\n",
       " '',\n",
       " '06:43:24',\n",
       " '-0600',\n",
       " '@aaron_clarey 2010 i think',\n",
       " [],\n",
       " 3315205122,\n",
       " '3315205122',\n",
       " '',\n",
       " '',\n",
       " 'deepfates',\n",
       " 0)"
      ]
     },
     "execution_count": 5,
     "metadata": {},
     "output_type": "execute_result"
    }
   ],
   "source": [
    "t.conversation_id, t.datestamp, t.datetime, t.id, t.likes_count, t.link, t.mentions, t.photos, t.quote_url, t.replies_count, t.reply_to, t.retweet, t.retweet_date, t.retweet_id, t.retweets_count, t.source, t.thumbnail, t.timestamp, t.timezone, t.tweet, t.urls, t.user_id, t.user_id_str, t.user_rt, t.user_rt_id, t.username, t.video"
   ]
  },
  {
   "cell_type": "code",
   "execution_count": 6,
   "metadata": {
    "execution": {
     "iopub.execute_input": "2021-09-13T15:48:29.839151Z",
     "iopub.status.busy": "2021-09-13T15:48:29.838474Z",
     "iopub.status.idle": "2021-09-13T15:48:29.847404Z",
     "shell.execute_reply": "2021-09-13T15:48:29.844837Z",
     "shell.execute_reply.started": "2021-09-13T15:48:29.839064Z"
    },
    "tags": []
   },
   "outputs": [],
   "source": [
    "import requests\n",
    "import shutil"
   ]
  },
  {
   "cell_type": "code",
   "execution_count": 7,
   "metadata": {
    "execution": {
     "iopub.execute_input": "2021-09-13T15:48:30.194188Z",
     "iopub.status.busy": "2021-09-13T15:48:30.193442Z",
     "iopub.status.idle": "2021-09-13T15:48:30.218312Z",
     "shell.execute_reply": "2021-09-13T15:48:30.216021Z",
     "shell.execute_reply.started": "2021-09-13T15:48:30.194078Z"
    },
    "tags": []
   },
   "outputs": [],
   "source": [
    "def dl_image(url):\n",
    "    filename = '../images/' + url.split('/')[-1]\n",
    "    r = requests.get(url, stream = True)\n",
    "    if r.status_code == 200:\n",
    "        r.raw.decode_content = True\n",
    "        with open(filename,'wb') as f:\n",
    "            shutil.copyfileobj(r.raw, f)\n",
    "        return(filename)\n",
    "    else:\n",
    "        return(None)\n",
    "    \n",
    "# hacky thing uses [1:] to shave the first '.' off the filename\n",
    "def image_template(filename):\n",
    "    return(f'![image from twitter](/{filename[1:]})\\n')\n",
    "\n",
    "    \n",
    "def get_tweet(t):\n",
    "    if t.photos == []:\n",
    "        img_md = ''\n",
    "    else:\n",
    "        img_list = [dl_image(url) for url in t.photos]\n",
    "        img_md = '\\n'.join([image_template(o) for o in img_list])\n",
    "\n",
    "    return(f'''\n",
    "#### <a href = \"{t.link}\">*{t.timestamp}*</a>\n",
    "\n",
    "<font size=\"5\">{t.tweet}</font>\n",
    "\n",
    "{img_md}\n",
    "\n",
    "🗨️ {t.replies_count} ♺ {t.retweets_count} 🤍  {t.likes_count}   \n",
    "\n",
    "---\n",
    "    ''')\n",
    "\n",
    "def get_md(tweets, date):\n",
    "    tweets_text = ''.join(t for t in tweets)\n",
    "    return(f'''---\n",
    "title: deepfates log {date}\n",
    "layout: post\n",
    "toc: true\n",
    "comments: false\n",
    "search_exclude: false\n",
    "categories: [tweets]\n",
    "---\n",
    "\n",
    "{tweets_text}\n",
    "            ''')"
   ]
  },
  {
   "cell_type": "code",
   "execution_count": 8,
   "metadata": {
    "execution": {
     "iopub.execute_input": "2021-09-13T15:48:31.387493Z",
     "iopub.status.busy": "2021-09-13T15:48:31.387090Z",
     "iopub.status.idle": "2021-09-13T15:48:31.393255Z",
     "shell.execute_reply": "2021-09-13T15:48:31.391631Z",
     "shell.execute_reply.started": "2021-09-13T15:48:31.387444Z"
    },
    "tags": []
   },
   "outputs": [],
   "source": [
    "from IPython.display import Markdown"
   ]
  },
  {
   "cell_type": "code",
   "execution_count": 9,
   "metadata": {
    "execution": {
     "iopub.execute_input": "2021-09-13T15:48:31.636372Z",
     "iopub.status.busy": "2021-09-13T15:48:31.636209Z",
     "iopub.status.idle": "2021-09-13T15:48:31.640639Z",
     "shell.execute_reply": "2021-09-13T15:48:31.639938Z",
     "shell.execute_reply.started": "2021-09-13T15:48:31.636353Z"
    },
    "tags": []
   },
   "outputs": [
    {
     "data": {
      "text/plain": [
       "151"
      ]
     },
     "execution_count": 9,
     "metadata": {},
     "output_type": "execute_result"
    }
   ],
   "source": [
    "yesterday = t.datestamp\n",
    "y_tweets = [tw for tw in tweets if tw.datestamp == yesterday]\n",
    "len(y_tweets)"
   ]
  },
  {
   "cell_type": "code",
   "execution_count": 10,
   "metadata": {
    "execution": {
     "iopub.execute_input": "2021-09-13T15:48:33.837261Z",
     "iopub.status.busy": "2021-09-13T15:48:33.836550Z",
     "iopub.status.idle": "2021-09-13T15:48:33.852564Z",
     "shell.execute_reply": "2021-09-13T15:48:33.850382Z",
     "shell.execute_reply.started": "2021-09-13T15:48:33.837175Z"
    },
    "tags": []
   },
   "outputs": [
    {
     "data": {
      "text/markdown": [
       "\n",
       "#### <a href = \"https://twitter.com/deepfates/status/1433047838628491266\">*06:43:24*</a>\n",
       "\n",
       "<font size=\"5\">@aaron_clarey 2010 i think</font>\n",
       "\n",
       "\n",
       "\n",
       "🗨️ 0 ♺ 0 🤍  0   \n",
       "\n",
       "---\n",
       "    "
      ],
      "text/plain": [
       "<IPython.core.display.Markdown object>"
      ]
     },
     "execution_count": 10,
     "metadata": {},
     "output_type": "execute_result"
    }
   ],
   "source": [
    "Markdown(get_tweet([tw for tw in tweets if tw.datestamp == yesterday][-1]))"
   ]
  },
  {
   "cell_type": "code",
   "execution_count": 11,
   "metadata": {
    "execution": {
     "iopub.execute_input": "2021-09-13T15:48:39.889414Z",
     "iopub.status.busy": "2021-09-13T15:48:39.889226Z",
     "iopub.status.idle": "2021-09-13T15:48:39.892055Z",
     "shell.execute_reply": "2021-09-13T15:48:39.891463Z",
     "shell.execute_reply.started": "2021-09-13T15:48:39.889391Z"
    },
    "tags": []
   },
   "outputs": [],
   "source": [
    "y_sorted = sorted(y_tweets, key=lambda x: x.datetime)\n",
    "# [tweet.tweet for tweet in y_sorted]"
   ]
  },
  {
   "cell_type": "markdown",
   "metadata": {},
   "source": [
    "Too many replies! Let's limit to just mine for now"
   ]
  },
  {
   "cell_type": "code",
   "execution_count": 12,
   "metadata": {
    "execution": {
     "iopub.execute_input": "2021-09-13T15:48:41.277821Z",
     "iopub.status.busy": "2021-09-13T15:48:41.277630Z",
     "iopub.status.idle": "2021-09-13T15:48:42.553489Z",
     "shell.execute_reply": "2021-09-13T15:48:42.553012Z",
     "shell.execute_reply.started": "2021-09-13T15:48:41.277799Z"
    },
    "tags": []
   },
   "outputs": [],
   "source": [
    "y_md = get_md([get_tweet(t) for t in y_sorted if \"@\" not in t.tweet], yesterday)"
   ]
  },
  {
   "cell_type": "code",
   "execution_count": 16,
   "metadata": {
    "execution": {
     "iopub.execute_input": "2021-09-13T15:49:25.134686Z",
     "iopub.status.busy": "2021-09-13T15:49:25.134485Z",
     "iopub.status.idle": "2021-09-13T15:49:25.138357Z",
     "shell.execute_reply": "2021-09-13T15:49:25.137618Z",
     "shell.execute_reply.started": "2021-09-13T15:49:25.134662Z"
    },
    "tags": []
   },
   "outputs": [
    {
     "data": {
      "text/plain": [
       "5909"
      ]
     },
     "execution_count": 16,
     "metadata": {},
     "output_type": "execute_result"
    }
   ],
   "source": [
    "len(y_md)"
   ]
  },
  {
   "cell_type": "code",
   "execution_count": 17,
   "metadata": {
    "execution": {
     "iopub.execute_input": "2021-09-13T15:49:26.920997Z",
     "iopub.status.busy": "2021-09-13T15:49:26.920820Z",
     "iopub.status.idle": "2021-09-13T15:49:26.924302Z",
     "shell.execute_reply": "2021-09-13T15:49:26.923673Z",
     "shell.execute_reply.started": "2021-09-13T15:49:26.920976Z"
    },
    "tags": []
   },
   "outputs": [],
   "source": [
    "with open(f'../_posts/tweets/{yesterday}-tweets.md', 'w') as f:\n",
    "    print(y_md, file=f)"
   ]
  },
  {
   "cell_type": "markdown",
   "metadata": {},
   "source": [
    "Okay, that'll do for now. It prints a chronological page of tweets for each day. Linking, video and oter people's tweets will have to come later.\n",
    "\n",
    "I'll wrap that behavior in a function and pass it my tweets and a set of dates when i have tweeted."
   ]
  },
  {
   "cell_type": "code",
   "execution_count": 18,
   "metadata": {
    "execution": {
     "iopub.execute_input": "2021-09-13T15:49:27.204387Z",
     "iopub.status.busy": "2021-09-13T15:49:27.204062Z",
     "iopub.status.idle": "2021-09-13T15:49:27.209990Z",
     "shell.execute_reply": "2021-09-13T15:49:27.209090Z",
     "shell.execute_reply.started": "2021-09-13T15:49:27.204346Z"
    },
    "tags": []
   },
   "outputs": [],
   "source": [
    "def write_day_page(day, tweets):\n",
    "    tweets = [tw for tw in tweets if tw.datestamp == day]\n",
    "    sorted_tweets = sorted(tweets, key=lambda x: x.datetime)\n",
    "    md = get_md([get_tweet(t) for t in sorted_tweets], day)\n",
    "    with open(f'../_posts/tweets/{day}-tweets.md', 'w') as f:\n",
    "        print(md, file=f)"
   ]
  },
  {
   "cell_type": "code",
   "execution_count": 19,
   "metadata": {
    "execution": {
     "iopub.execute_input": "2021-09-13T15:49:27.895884Z",
     "iopub.status.busy": "2021-09-13T15:49:27.895688Z",
     "iopub.status.idle": "2021-09-13T15:49:27.900649Z",
     "shell.execute_reply": "2021-09-13T15:49:27.899800Z",
     "shell.execute_reply.started": "2021-09-13T15:49:27.895861Z"
    },
    "tags": []
   },
   "outputs": [
    {
     "data": {
      "text/plain": [
       "238"
      ]
     },
     "execution_count": 19,
     "metadata": {},
     "output_type": "execute_result"
    }
   ],
   "source": [
    "self_tweets = [t for t in tweets if \"@\" not in t.tweet]\n",
    "\n",
    "len(self_tweets)"
   ]
  },
  {
   "cell_type": "code",
   "execution_count": 20,
   "metadata": {
    "execution": {
     "iopub.execute_input": "2021-09-13T15:49:28.960236Z",
     "iopub.status.busy": "2021-09-13T15:49:28.960012Z",
     "iopub.status.idle": "2021-09-13T15:49:28.964646Z",
     "shell.execute_reply": "2021-09-13T15:49:28.963873Z",
     "shell.execute_reply.started": "2021-09-13T15:49:28.960200Z"
    },
    "tags": []
   },
   "outputs": [
    {
     "data": {
      "text/plain": [
       "13"
      ]
     },
     "execution_count": 20,
     "metadata": {},
     "output_type": "execute_result"
    }
   ],
   "source": [
    "days = set([t.datestamp for t in self_tweets])\n",
    "\n",
    "len(days)"
   ]
  },
  {
   "cell_type": "code",
   "execution_count": 21,
   "metadata": {
    "execution": {
     "iopub.execute_input": "2021-09-13T15:49:30.675107Z",
     "iopub.status.busy": "2021-09-13T15:49:30.674854Z",
     "iopub.status.idle": "2021-09-13T15:49:30.683377Z",
     "shell.execute_reply": "2021-09-13T15:49:30.682675Z",
     "shell.execute_reply.started": "2021-09-13T15:49:30.675076Z"
    },
    "tags": []
   },
   "outputs": [],
   "source": [
    "from tqdm import tqdm"
   ]
  },
  {
   "cell_type": "code",
   "execution_count": 22,
   "metadata": {
    "execution": {
     "iopub.execute_input": "2021-09-13T15:49:31.603460Z",
     "iopub.status.busy": "2021-09-13T15:49:31.603250Z",
     "iopub.status.idle": "2021-09-13T15:49:40.099586Z",
     "shell.execute_reply": "2021-09-13T15:49:40.099006Z",
     "shell.execute_reply.started": "2021-09-13T15:49:31.603435Z"
    },
    "tags": []
   },
   "outputs": [
    {
     "name": "stderr",
     "output_type": "stream",
     "text": [
      "100%|██████████| 13/13 [00:08<00:00,  1.53it/s]\n"
     ]
    }
   ],
   "source": [
    "for day in tqdm(days):\n",
    "    write_day_page(day, self_tweets)"
   ]
  },
  {
   "cell_type": "markdown",
   "metadata": {},
   "source": [
    "I would also liek to do analysis to see how often I tweet. And make a big list of links. Maybe next time.\n",
    "\n",
    "For now you can find these secret tweet archives by searching in the [Explore](/explore) page"
   ]
  },
  {
   "cell_type": "code",
   "execution_count": 23,
   "metadata": {
    "execution": {
     "iopub.execute_input": "2021-09-13T15:49:40.100718Z",
     "iopub.status.busy": "2021-09-13T15:49:40.100530Z",
     "iopub.status.idle": "2021-09-13T15:49:40.104564Z",
     "shell.execute_reply": "2021-09-13T15:49:40.103878Z",
     "shell.execute_reply.started": "2021-09-13T15:49:40.100686Z"
    },
    "tags": []
   },
   "outputs": [
    {
     "data": {
      "text/plain": [
       "{'2021-09-01',\n",
       " '2021-09-02',\n",
       " '2021-09-03',\n",
       " '2021-09-04',\n",
       " '2021-09-05',\n",
       " '2021-09-06',\n",
       " '2021-09-07',\n",
       " '2021-09-08',\n",
       " '2021-09-09',\n",
       " '2021-09-10',\n",
       " '2021-09-11',\n",
       " '2021-09-12',\n",
       " '2021-09-13'}"
      ]
     },
     "execution_count": 23,
     "metadata": {},
     "output_type": "execute_result"
    }
   ],
   "source": [
    "days"
   ]
  },
  {
   "cell_type": "code",
   "execution_count": null,
   "metadata": {},
   "outputs": [],
   "source": []
  }
 ],
 "metadata": {
  "kernelspec": {
   "display_name": "Python 3",
   "language": "python",
   "name": "python3"
  },
  "language_info": {
   "codemirror_mode": {
    "name": "ipython",
    "version": 3
   },
   "file_extension": ".py",
   "mimetype": "text/x-python",
   "name": "python",
   "nbconvert_exporter": "python",
   "pygments_lexer": "ipython3",
   "version": "3.7.7"
  },
  "widgets": {
   "application/vnd.jupyter.widget-state+json": {
    "state": {},
    "version_major": 2,
    "version_minor": 0
   }
  }
 },
 "nbformat": 4,
 "nbformat_minor": 4
}
