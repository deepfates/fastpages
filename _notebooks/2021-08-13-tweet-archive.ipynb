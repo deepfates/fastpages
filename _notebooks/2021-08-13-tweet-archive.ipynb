{
 "cells": [
  {
   "cell_type": "markdown",
   "metadata": {
    "tags": []
   },
   "source": [
    "# Archive my tweets\n",
    "\n",
    "- badges: true\n",
    "- categories: [code, twitter]\n"
   ]
  },
  {
   "cell_type": "markdown",
   "metadata": {},
   "source": [
    "I want to extract all the tweets I've ever written and convert them to small markdown files so they show up as \"posts\" on this website.\n",
    "\n",
    "Posts are organized by date, in the traditional blogging format. But so are tweets, kind of? They're listed chronologically anyway. Maybe I could make one post for each day, and then have all the tweets listed on that page. Each one could have its tweet ID as a header, thus having an internal link. Tweets can link to the tweets that precede them, and maybe even backlink to tweets that follow.\n",
    "\n",
    "It's not quite block references, but as a way of keeping my second brain under my ownership it should work. And this way if anyone wants to cancel me they'll have a convenient search box and permalinks for it. Even if my account gets deleted, my bad takes can stay up."
   ]
  },
  {
   "cell_type": "code",
   "execution_count": 1,
   "metadata": {
    "execution": {
     "iopub.execute_input": "2021-08-21T20:57:35.850487Z",
     "iopub.status.busy": "2021-08-21T20:57:35.850307Z",
     "iopub.status.idle": "2021-08-21T20:57:47.106657Z",
     "shell.execute_reply": "2021-08-21T20:57:47.106130Z",
     "shell.execute_reply.started": "2021-08-21T20:57:35.850437Z"
    },
    "scrolled": true,
    "tags": []
   },
   "outputs": [
    {
     "name": "stdout",
     "output_type": "stream",
     "text": [
      "1429185802731458563 2021-08-21 14:57:03 -0600 <deepfates> YES!! thank you we have a winner   https://t.co/daViFVGsL7\n",
      "1429184350764118017 2021-08-21 14:51:16 -0600 <deepfates> git is an amazing piece of software. i've been using it for over six years and yet i have no idea how to use it\n",
      "1429175743641235457 2021-08-21 14:17:04 -0600 <deepfates> thanks but ive got plenty of extensions. i need the twitter search keywords so i can do this programatically\n",
      "1429167633660850182 2021-08-21 13:44:51 -0600 <deepfates> is there a way to search twitter for my own posts and my own threads at the same time?  \"exclude:replies\" seems to exclude my replies to myself\n",
      "1429155773955940358 2021-08-21 12:57:43 -0600 <deepfates> Normies resemble each other in normality; every nerd is extremely niche in their own way\n",
      "1429152399860637709 2021-08-21 12:44:19 -0600 <deepfates> @paleoludic oh shit i tried IT WORKS   can't believe i din't try printing it before!!\n",
      "1429150073578037252 2021-08-21 12:35:04 -0600 <deepfates> play the game Breakout. written with javascript.   inside a PDF?   https://t.co/mOtmrJRIQ7\n",
      "1429129985021956102 2021-08-21 11:15:15 -0600 <deepfates> we need to go deeper.  we need a programming language that rhymes   https://t.co/bK0xtqXL5S\n",
      "1429128305660375047 2021-08-21 11:08:34 -0600 <deepfates> it's not a long book but I gotta go with this one  https://t.co/d1ogCOvpRE\n",
      "1429127838419099649 2021-08-21 11:06:43 -0600 <deepfates> Good morning TL. today I am walking around gingerly to see if I really did not fuck up my leg when I drop the bike yesterday. I am finally moving my new website design to main address. I'm going to do laundry and take out the trash. might even go grocery shopping.  wbu\n",
      "1429118664876376076 2021-08-21 10:30:16 -0600 <deepfates> staggering to me that people switch jobs every two years in the tech industry. imagine what power a company could have if they merely held on to the same brains for a decade or two\n",
      "1428967107656503298 2021-08-21 00:28:02 -0600 <deepfates> okay that's very persuasive  https://t.co/gZLB4BFKni\n",
      "1428963283462066184 2021-08-21 00:12:50 -0600 <deepfates> electric bike is actively rewiring my brain. keep trying to Hit the throttle on other objects: my phone. dinner. Twitter. the cat\n",
      "1428962834507997184 2021-08-21 00:11:03 -0600 <deepfates> there is a cursed symbol The Twitter will sometimes put next to your name. It makes you see the world differently It changes you. And it changes the way people see you.   sometimes you can only see the people with the mark\n",
      "1428950171208110086 2021-08-20 23:20:44 -0600 <deepfates> i'm just saying...  https://t.co/uTjIZKL0z2\n",
      "1428949863576875009 2021-08-20 23:19:30 -0600 <deepfates> this may be the coziest image  https://t.co/zAEFfrFEQT\n",
      "1428948574080016388 2021-08-20 23:14:23 -0600 <deepfates> whne yr getting cozy in the morngingin  https://t.co/JUHhVvuexW\n",
      "1428948321738047489 2021-08-20 23:13:23 -0600 <deepfates> cowzy  https://t.co/jvOdhsdBlO\n",
      "1428947078273802241 2021-08-20 23:08:26 -0600 <deepfates> surprised this isn't already somebody's whole cozy account  https://t.co/2qy1mWioxw\n",
      "1428946891484577794 2021-08-20 23:07:42 -0600 <deepfates> cozy fs  https://t.co/V9R6QBwgXl\n",
      "1428946230869176322 2021-08-20 23:05:04 -0600 <deepfates> nobody likes this image  https://t.co/89i7gw4cPh\n",
      "1428946081308610566 2021-08-20 23:04:28 -0600 <deepfates> seems cozy  https://t.co/2pnw1XTqSc\n",
      "1428945295744897025 2021-08-20 23:01:21 -0600 <deepfates> i iknow this shit cozy  https://t.co/SufBVPHCWh\n",
      "1428945035723214852 2021-08-20 23:00:19 -0600 <deepfates> this has to be cozy right  https://t.co/aagGFaUKSr\n",
      "1428944935097667586 2021-08-20 22:59:55 -0600 <deepfates> is this cozy? is this group chat  https://t.co/cQHFKNNjbe\n",
      "1428944858484514819 2021-08-20 22:59:37 -0600 <deepfates> is this cozy? also w2c  https://t.co/Medojhhyhy\n",
      "1428944801550962691 2021-08-20 22:59:23 -0600 <deepfates> is this cozy  https://t.co/UfxERawIFa\n",
      "1428944006445248515 2021-08-20 22:56:14 -0600 <deepfates> is this cozy  https://t.co/dHeZTuikap\n",
      "1428935074960003072 2021-08-20 22:20:44 -0600 <deepfates> twitter can be a really fun game to play but it doesn't have a map. games are cooler with maps, i know that much.  what do you think twitter's map would look like\n",
      "1428933509079609345 2021-08-20 22:14:31 -0600 <deepfates> the internet of beefs is way more fun if you have an automatic meme cannon\n",
      "1428931011921031183 2021-08-20 22:04:36 -0600 <deepfates> how do i contact the SCP people. where is the quarantine for this\n",
      "1428929183988781057 2021-08-20 21:57:20 -0600 <deepfates> This is the worst thing I've ever heard and it makes me hate programming and myself. truly a cursed experience which I will never want to hear again and yet will be compelled to listen to until it drives me insane\n",
      "1428926282620878850 2021-08-20 21:45:48 -0600 <deepfates> incredible sentence. maybe I do need whimsy in my life again\n",
      "1428925537901334530 2021-08-20 21:42:51 -0600 <deepfates> I live on a road that used to be the colonial trail to the farthest edges of New Spain.   It has seen continuous traffic and human activity since the 1500s.   A sedan just drove by blasting \"In The End\" by Linkin Park\n",
      "1428922950972022793 2021-08-20 21:32:34 -0600 <deepfates> @bloobsandnoods @leo_tenebrae aw see*   I'm not going to retype that whole thing\n",
      "1428922226548559878 2021-08-20 21:29:41 -0600 <deepfates> oh I found some more on my leg\n",
      "1428915223688192000 2021-08-20 21:01:51 -0600 <deepfates> A fun thing about being shirtless at home is spilling a \"sexy amount' of mustard on your body\n",
      "1428913191254323215 2021-08-20 20:53:47 -0600 <deepfates> When the vibe gets ominous   https://t.co/DBM3SCZ5xl\n",
      "1428905780200099846 2021-08-20 20:24:20 -0600 <deepfates> @swagick oh but I'm sorry to hear that I'm glad you're okay\n",
      "1428903696109162501 2021-08-20 20:16:03 -0600 <deepfates> remember that the bike is an electric fat bike and weighs about 70 lb. if you're trying to calculate how much damage actually went down  https://t.co/5hmVzsZsrZ\n",
      "1428903273726054402 2021-08-20 20:14:22 -0600 <deepfates> some of y'all should worry less about your BMI and more about your GMI\n",
      "1428902835157016581 2021-08-20 20:12:38 -0600 <deepfates> Well I dropped the bike. but I'm fine!   apparently you can't do 20 mi an hour around a corner like that.  little scrape on my hand. Not even bleeding. The right pedal took most of the damage too lol  It was bound to happen. Glad I got it out of the way early\n",
      "1428897278094299137 2021-08-20 19:50:33 -0600 <deepfates> anytime there's something in music where I don't know if I love it or I hate it, usually I end up discovering that I love it.  first time I remember this happening was with auto-tune. It was like a switch flipped and suddenly this thing that I was so against, I was all about\n",
      "1428896827936415746 2021-08-20 19:48:46 -0600 <deepfates> anytime I listen to 4:44 I get an earworm of the melody from Caught Their Eyes. is this just because it's so out of key? or is it possibly actually good?\n",
      "1428895473721516032 2021-08-20 19:43:23 -0600 <deepfates> Not everyone in the world is just so gorgeous and beautiful and wonderful. When are the people on Instagram going to accept that all of their friends are of mediocre hotness\n",
      "1428871698821091330 2021-08-20 18:08:54 -0600 <deepfates> I'm at the intersection of Art and Technology. are... did you guys pick a different place to meet or... ?  It was Friday right?\n",
      "1428870634298355712 2021-08-20 18:04:41 -0600 <deepfates> Who made the planning fallacy recursive? I bet that seemed like a great hack at the time\n",
      "1428848193803104263 2021-08-20 16:35:30 -0600 <deepfates> they're letting Richard Powers write ANOTHER BOOK?!\n",
      "1428844672659697667 2021-08-20 16:21:31 -0600 <deepfates> vibing while the world burns\n",
      "1428844222904508418 2021-08-20 16:19:44 -0600 <deepfates> a not fun thing with Twitter, as many MMORPGs, is that some of the most annoying people are on here\n",
      "1428842737755885568 2021-08-20 16:13:49 -0600 <deepfates> have you tried becoming the problem?\n",
      "1428840780442083331 2021-08-20 16:06:03 -0600 <deepfates> A nontrivial number of people are drawn to Montessori primarily because Montessori is beautiful and they believe there is power in beauty.\n",
      "1428828710199648258 2021-08-20 15:18:05 -0600 <deepfates> I like to think I have \"some guy\" energy\n",
      "1428810548876038146 2021-08-20 14:05:55 -0600 <deepfates> these are the Kegan stages everyone's been talking about?  https://t.co/mHbNRDKxDE\n",
      "1428808321038012419 2021-08-20 13:57:04 -0600 <deepfates> me\n",
      "1428807617149870090 2021-08-20 13:54:16 -0600 <deepfates> oh no  not again   https://t.co/wi63uOF6O9\n",
      "1428806387006509058 2021-08-20 13:49:23 -0600 <deepfates> is this sincerity 💁🤐   https://t.co/mJFqdvxwud\n",
      "1428780758253121545 2021-08-20 12:07:32 -0600 <deepfates> thinking of becoming more earnest. anybody know how to cultivate naivete\n",
      "1428780182295437318 2021-08-20 12:05:15 -0600 <deepfates> I think the environmental impact of covering the desert in solar panels is underrated. And probably good\n",
      "1428779202405355520 2021-08-20 12:01:21 -0600 <deepfates> GF can probably not imagine what a mess I am when she's not around. considering what a mess I am when she is around. but it's a considerable leap in magnitude\n",
      "1428761910095273986 2021-08-20 10:52:39 -0600 <deepfates> *maniacal laughter*\n",
      "1428761736996392964 2021-08-20 10:51:57 -0600 <deepfates> wow people do become boring as soon as they become millionaires huh\n",
      "1428743807273668610 2021-08-20 09:40:43 -0600 <deepfates> why are there two sets of headphones on the table. what was i listening to\n",
      "1428741074122649607 2021-08-20 09:29:51 -0600 <deepfates> if you don't understand this entire reference it's okay to unfollow me\n",
      "1428740514904428550 2021-08-20 09:27:38 -0600 <deepfates> actually I do have GPT-3 access right now 🧐    https://t.co/TzneotZEca\n",
      "1428738941876940802 2021-08-20 09:21:23 -0600 <deepfates> I like the dialectic of nerds making new ways to detect images and other nerds immediately making new ways to defeat those detectors. Just for fun.  tech critics seem to think this is evidence of tech failure. to me it looks like... evolution   https://t.co/6puIVOvtjm\n",
      "1428738515593056264 2021-08-20 09:19:41 -0600 <deepfates> I realizing that I may never go back and rewrite the goofy novel I wrote in my mid-20s. For some reason I always thought I would fix it up, turn it into something better once I knew more and had more talent. but will I?  maybe I should just post it on the internet for free lol\n",
      "1428622106514833410 2021-08-20 01:37:07 -0600 <deepfates> whoa. how did they know  https://t.co/F1O5sOkkqQ\n",
      "1428619480108867589 2021-08-20 01:26:41 -0600 <deepfates> one day you'll find out there really is no corner of Twitter. but by then it will be too late\n",
      "1428583074372141060 2021-08-19 23:02:01 -0600 <deepfates> if you're going to varnhold you got to stay strapped. there's hydras and all sorts of things out there\n",
      "1428564805783224326 2021-08-19 21:49:25 -0600 <deepfates> a fun thing with Twitter, as with many MMORPGs, is that you don't have to get along with everybody\n",
      "1428561117857554433 2021-08-19 21:34:46 -0600 <deepfates> I don't care if you're adorable and have a little wings on your head. You're not getting my tortellinis\n",
      "1428560891100864513 2021-08-19 21:33:52 -0600 <deepfates> tfw you've been enjoying someone's uncle-related content for months and then you find out they follow Taylor L\n",
      "1428559566397087750 2021-08-19 21:28:36 -0600 <deepfates> Haha fuckers! You thought this was wiseposting, but it's about a little movie I like to call Avengers: Endgame!  One of the classic blunders!!\n",
      "1428559136732573705 2021-08-19 21:26:54 -0600 <deepfates> love is the new money ☺️🥁\n",
      "1428556988393213952 2021-08-19 21:18:21 -0600 <deepfates> hell yeah. I've been avoiding antidepressants for 15 years, this should be a breeze\n",
      "1428556617696436226 2021-08-19 21:16:53 -0600 <deepfates> \"Thanks for seeing me. So, about my education. I'm actually a self-taught codder,,\"   https://t.co/tWZLHHmn8t\n",
      "1428550144383877126 2021-08-19 20:51:10 -0600 <deepfates> gf has been gone for 6 hours and she's already tryna punk me for noodles  https://t.co/9Vry1LMm6u\n",
      "1428548779351822336 2021-08-19 20:45:44 -0600 <deepfates> @sullyj3 @mechanical_monk date* lol\n",
      "1428547909910368260 2021-08-19 20:42:17 -0600 <deepfates> have you seen Beyonce's 2016 visual album, Lemonade?\n",
      "1428547308157689859 2021-08-19 20:39:54 -0600 <deepfates> I admire the gumption of baby witches trying to summon and and attack Allah. When I was a teenager I tried to do a psychic attack on the Starbucks corporation. then I went back after winter break and the college coffee shops had all turned into Starbucks 🙂 All of them\n",
      "1428545536286547974 2021-08-19 20:32:51 -0600 <deepfates> if I have the urge to tweet a song lyric, but I know I've already tweeted that before, should I retweet it or should I make a new tweet\n",
      "1428543185807052808 2021-08-19 20:23:31 -0600 <deepfates> @rmpars @redoatz The GIF was a mistake. I made myself feel bad. I'm glad you enjoyed camping, please don't let me stop you from doing it again\n",
      "1428541939553476612 2021-08-19 20:18:34 -0600 <deepfates> it's cool. I'm sure if my college roommates became the focus of a simcluster it would go to my head too. sorry you think I'm a hater, I literally am an enjoyer of your work 😆\n",
      "1428541563920023554 2021-08-19 20:17:04 -0600 <deepfates> @tszzl @eigenrobot lol\n",
      "1428541247015190529 2021-08-19 20:15:48 -0600 <deepfates> @no_compute actually I don't know if I did hit them. I assume they would make some sort of yelp\n",
      "1428540526291132418 2021-08-19 20:12:57 -0600 <deepfates> I picked up rocks from the meadow and threw it at them while flashing my flashlight (It was night time, yes they woke me up by snacking)  I didn't try hit them with the rocks. but no other animal ever throws rock at them, think about it. during a flash of darkness they ran\n",
      "1428540004410658825 2021-08-19 20:10:52 -0600 <deepfates> lol you wish bud\n",
      "1428539861879857152 2021-08-19 20:10:18 -0600 <deepfates> oh boy 🙏 At the end of this month My debit card expires and with it all of my subscription services. including the place where my bots are hosted.  I wonder if I will revive any of them\n",
      "1428537725116813315 2021-08-19 20:01:49 -0600 <deepfates> one time when I lived deep in the forest, some bears got into the apple trees I had recovered and started eating all the apples. A mama and her cubs. they just take one bite and then throw them on the ground too, insulting.  want to know what I did?\n",
      "1428535080826281984 2021-08-19 19:51:18 -0600 <deepfates> doubt\n",
      "1428497859255554052 2021-08-19 17:23:24 -0600 <deepfates> what if they were neutral nets and they were just for the grey tribe\n",
      "1428497598411808769 2021-08-19 17:22:22 -0600 <deepfates> @advadnoun i like how it included ⚚\n",
      "1428493813761277953 2021-08-19 17:07:19 -0600 <deepfates> finally found the group chat for me  https://t.co/TKKbhZwpMw\n",
      "1428493129171144706 2021-08-19 17:04:36 -0600 <deepfates> @sunofdopamine weird that you don't like this dynamic now that it's in my favor lol\n",
      "1428490927245385733 2021-08-19 16:55:51 -0600 <deepfates> how old should i be\n",
      "1428490252440670208 2021-08-19 16:53:10 -0600 <deepfates> @taalumot how did i start a hellthread on myself. cursed\n",
      "1428488381227364354 2021-08-19 16:45:44 -0600 <deepfates> @Ted_Underwood also yes, .loc as in Four Loko\n",
      "1428477699283066892 2021-08-19 16:03:17 -0600 <deepfates> listening to your entire hard drive on shuffle is called \"sicko mode\"\n",
      "1428476553042661382 2021-08-19 15:58:44 -0600 <deepfates> an underrated problem in software engineering is that literally nobody agrees on how to pronounce code out loud\n",
      "1428475847703371776 2021-08-19 15:55:56 -0600 <deepfates> press ♻️ to doubt\n",
      "1428474038200848384 2021-08-19 15:48:45 -0600 <deepfates> No one talks abt how shift from phonogram/radio to tapes and then later Compact Disks altered the 'song' from an object 'consumed linearly in time' to a perpetual 'single moment' that can only be visited and re-visited\n",
      "1428471000627224576 2021-08-19 15:36:40 -0600 <deepfates> albums are a playlist invented by the artist\n",
      "1428468669559054345 2021-08-19 15:27:25 -0600 <deepfates> i did this and nothign happened. it's not true. go ahead and try, it won't work\n",
      "1428467990320893957 2021-08-19 15:24:43 -0600 <deepfates> why are you hitting yourself\n",
      "1428467640146800641 2021-08-19 15:23:19 -0600 <deepfates> maybe they just don't have this on the web version of twitter? 😬 uh oh\n",
      "1428467526527299590 2021-08-19 15:22:52 -0600 <deepfates> how is this not working.  I am Twitter Safety and I want to cause a genocide for incels\n",
      "1428467423171153921 2021-08-19 15:22:27 -0600 <deepfates> anytime someone types \"most people\" into the tweet box, Twitter should pop up a big alert like  \"WARNING: You know you're qn extremely online freak don't know anybody remotely normal, right?\"\n",
      "1428466717634830344 2021-08-19 15:19:39 -0600 <deepfates> kill all guys named Max\n",
      "1428466680670441474 2021-08-19 15:19:30 -0600 <deepfates> fuck white people\n",
      "1428466654653124615 2021-08-19 15:19:24 -0600 <deepfates> fuck you\n",
      "1428466630477205504 2021-08-19 15:19:18 -0600 <deepfates> this thread is an EXPERIMENT becasue i need to access the Twitter \"are you sure you want to tweet this\" page. do not read it\n",
      "1428463307346776069 2021-08-19 15:06:06 -0600 <deepfates> hacking the Facebook metaverse assets folder and replacing my boss's avatar with a dragon dildo\n",
      "1428460946507239424 2021-08-19 14:56:43 -0600 <deepfates> all opinions are my own. even yours\n",
      "1428460207332413440 2021-08-19 14:53:47 -0600 <deepfates> notifications have dried up. Time to make some coffee\n",
      "1428458283128422400 2021-08-19 14:46:08 -0600 <deepfates> there should be a way to bet against people's status quo bias on Twitter. All the time people are like oh no this drastic thing is changing When really it's just that they're sampling mechanism has changed since they were a teenager\n",
      "1428454950116282373 2021-08-19 14:32:54 -0600 <deepfates> oh if you listen to more than a couple albums this way out counts as \"Yes\" for the poll\n",
      "1428454047233634309 2021-08-19 14:29:18 -0600 <deepfates> @sligoriver_anon data*\n",
      "1428453890182193155 2021-08-19 14:28:41 -0600 <deepfates> RTs for visibility OK\n",
      "1428453764613042176 2021-08-19 14:28:11 -0600 <deepfates> All right we going to do science   https://t.co/Vg7eTu6oDV\n",
      "1428453688536829955 2021-08-19 14:27:53 -0600 <deepfates> MUSIC LISTENERS! I need to know.  Do you listen to albums? as in, a collection of songs in the order they were intended by the artist?\n",
      "1428451563291308036 2021-08-19 14:19:26 -0600 <deepfates> I should have left up my \"OnlyFam\" tweet 🤬\n",
      "1428450030231326722 2021-08-19 14:13:21 -0600 <deepfates> looks like another cultural signifier statement, like \"I listen to anything except rap or country\". suspect what it really says is \"I don't listen to popular music of the current era\"   https://t.co/71sA2vneRP\n",
      "1428449391728218114 2021-08-19 14:10:48 -0600 <deepfates> artists from Kanye to Lady Gaga to Tyler the Creator do the David Bowie changeling bit as they method-act the main character of each successive rock opera\n",
      "1428448946762895363 2021-08-19 14:09:02 -0600 <deepfates> tons of artists are releasing concept albums these days. electronic production makes it possible to use any subset of instruments with the same peripherals. people are encouraged to develop a signature sound and visual aesthetic from day 1 add part of their brand\n",
      "1428448620467023872 2021-08-19 14:07:45 -0600 <deepfates> is this even true\n",
      "1428445387392643074 2021-08-19 13:54:54 -0600 <deepfates> I have been informed that the guy from Saw is named \"Mr Saw\"\n",
      "1428445286532149254 2021-08-19 13:54:30 -0600 <deepfates> thinking about starting an Airbnb where I'm just the guy from Saw\n",
      "1428443723319320580 2021-08-19 13:48:17 -0600 <deepfates> df rocks\n",
      "1428440264251568133 2021-08-19 13:34:32 -0600 <deepfates> those certainly sound like non-trivial problems  😯  https://t.co/6cvJZxxjAp\n",
      "1428438734790352898 2021-08-19 13:28:28 -0600 <deepfates> look* lmao\n",
      "1428436299489415168 2021-08-19 13:18:47 -0600 <deepfates> ✔️ opinion-free engagement accounts now simply reposting other people's Twitter content from last week\n",
      "1428434289159544842 2021-08-19 13:10:48 -0600 <deepfates> @Tjdriii It seemed like you were getting a lot of really helpful comments so I decided to send you a different type of comment\n",
      "1428431415365017606 2021-08-19 12:59:23 -0600 <deepfates> my challenge to you would be, shut the fuck up\n",
      "1428430029927682051 2021-08-19 12:53:52 -0600 <deepfates> if I ever see somebody I think it's famous, I immediately try to look away and not love again. That way I don't have to find out that it's not them\n",
      "1428410959618482177 2021-08-19 11:38:06 -0600 <deepfates> the thing about no-opinions Twitter is that they're really fun to be around on the small talk level.  but anytime you start to have an interesting concrete conversation, the brainworms reveal themselves\n",
      "1428405737038942209 2021-08-19 11:17:20 -0600 <deepfates> another day at the bookstore, scraping the human skin particles and microscopic bugs off of the shelves of dead people's thoughts. 😊\n",
      "1428405122321862659 2021-08-19 11:14:54 -0600 <deepfates> I don't actually think I could do this better than Eric Normand already does\n",
      "1428404775440330752 2021-08-19 11:13:31 -0600 <deepfates> fuck naps is winning, let's go\n",
      "1428390523656495105 2021-08-19 10:16:53 -0600 <deepfates> I find I'm annoyed when people make hints at complicated knowledge bases or weird experiences in their tweets and don't elaborate.  but I realized I do this too. because I don't know what people are curious about. my experiences seem obvious to me.   perhaps I should explain more\n",
      "1428384870951051270 2021-08-19 09:54:25 -0600 <deepfates> uhh Can anybody hook me up with an algorithm that algorithm determines if a given set of sections provides a basis (up to torsion) for the Mordell–Weil group of an elliptic surface E → S where S is isomorphic to the projective line?  asking for a friend   https://t.co/M0foE2WVTj\n",
      "1428362454799511552 2021-08-19 08:25:21 -0600 <deepfates> ain't no such thing as an ugly billionaire, pretty much\n",
      "1428215596903137280 2021-08-18 22:41:47 -0600 <deepfates> the circuit model of consciousness is a bastardized version of the chakra system, imported into technoscientific chart jargon by Timothy Leary. further elaborated on by Robert Anton Wilson and Antero Alli.   This imagery is from e Psychonaut Field Manual by bluefluke  https://t.co/GDvFEvGm6N\n",
      "1428207199931691009 2021-08-18 22:08:25 -0600 <deepfates> writing \"subtweeting is good actually\" 100 times on a chalkboard\n",
      "1428206923292188675 2021-08-18 22:07:19 -0600 <deepfates> *gruffly*  It has come to my attention it's some of you have never been exposed to one of  These  https://t.co/IYeuB3AxjS\n",
      "1428201747323949056 2021-08-18 21:46:45 -0600 <deepfates> what I get from the midwit meme is the people on the tail ends always be mad at all the people in the middle and make a bunch of memes about it\n",
      "1428199191893905411 2021-08-18 21:36:36 -0600 <deepfates> The more powerful you are, the more incentive people have to offer you something you can't resist.  eventually someone will show up who you can't say no to. This is how you get the billionaire divorcee\n",
      "1428196370511392773 2021-08-18 21:25:23 -0600 <deepfates> everybody likes the journalist when they're revealing some secrets you didn't know yet.  everybody hates the journalist when they revealing the secrets of your cool friend group\n",
      "1428194959690137611 2021-08-18 21:19:47 -0600 <deepfates> I thought I would like it better if I were around a group of people who explicitly admitted which god they serve instead of a bunch who don't know what I'm talking about when I say that  but then I found out which gods they are\n",
      "1428194787438383105 2021-08-18 21:19:06 -0600 <deepfates> import deepfates as df\n",
      "1428194309761748997 2021-08-18 21:17:12 -0600 <deepfates> if you don't watch much TV, your probably underestimating its effect on human minds\n",
      "1428190861796417536 2021-08-18 21:03:30 -0600 <deepfates> TL full of Afghanistan takes for the last week, interspersed with ads for mobile games screaming MANY FAILED BEFORE! THANK YOU CAN DO BETTER?!\n",
      "1428189442813030405 2021-08-18 20:57:52 -0600 <deepfates> Y'all thought I was joking   https://t.co/h7MjuVW0Ij\n",
      "1428188508376555520 2021-08-18 20:54:09 -0600 <deepfates> A clip from Jay-Z's the story of OJ has been popular on my TikTok feed lately. I wonder if these kids know what they're singing to\n",
      "1428186127672889349 2021-08-18 20:44:41 -0600 <deepfates> I just got finished taking a (small-ish) dose of LSD to Get my sense of human communication norms back after autism and it totally worked. It’s back online. Like a light switch, bam, online.   Wtf, psychedelics\n",
      "1428184727152857090 2021-08-18 20:39:07 -0600 <deepfates> I asked my cat to marry her and she said meow. I'm so happy. truly love conquers all\n",
      "1428163185983561732 2021-08-18 19:13:32 -0600 <deepfates> conclusion: one of them you pay because you hate paying it. The other one you pay because you love paying it\n",
      "1428161817969369095 2021-08-18 19:08:06 -0600 <deepfates> if you haven't seen this yet, please take to the time to watch it. It makes me giggle every time.   This is the future of interfaces: the collaborative human-agent dialogue\n",
      "1428158375058055168 2021-08-18 18:54:25 -0600 <deepfates> Don't underestimate the amount of stuff you can get done in 20 second bursts.  Do 100 20-second things, you've got over half an hour of material  🌈👑\n",
      "1428155255544451072 2021-08-18 18:42:01 -0600 <deepfates> zoomers are so powerful. imagine growing up with a tiny magic book that can tell you how to learn any skill, get buff, become an expert on any subject, and contact people worldwide in real time. they're literally all Diamond Age prodigies\n",
      "1428148751600963586 2021-08-18 18:16:10 -0600 <deepfates> Getting everyone named Max in one group chat. that's maxmaxxing\n",
      "1428147661916495882 2021-08-18 18:11:50 -0600 <deepfates> what is the difference between taxing and tithing\n",
      "1428121256134680580 2021-08-18 16:26:55 -0600 <deepfates> All right, I'll bite. what is a 'group chat\"\n",
      "1428120412987301895 2021-08-18 16:23:34 -0600 <deepfates> women complain about bedframes but literally have a room that looks like this  https://t.co/nxkSjcUwy7\n",
      "1428116400493584389 2021-08-18 16:07:37 -0600 <deepfates> it's a literary high. a Kafka high\n",
      "1428114024474898437 2021-08-18 15:58:11 -0600 <deepfates> naps:\n",
      "1428098989052751873 2021-08-18 14:58:26 -0600 <deepfates> this is my life  https://t.co/iY1deKCYCK\n",
      "1428098143120289794 2021-08-18 14:55:04 -0600 <deepfates> what are your precise pickle-reheating techniques?  (this is a competition)\n",
      "1428092508832030722 2021-08-18 14:32:41 -0600 <deepfates> I will not send money to your Venmo, and I will not send good vibes. I don't care what you're doing. these vibes are mine\n",
      "1428091014003126275 2021-08-18 14:26:45 -0600 <deepfates> @Coscorrodrift @rhymeswithvocal And online, you can use commas and periods instead of parenthetical or ellipses. You can delete \"like\" and \"umm\". stating things directly and making them understood is a hard art, doubly so in writing.  Paul Graham has some good essays on writing clearly that might help as well\n",
      "1428090555322404865 2021-08-18 14:24:55 -0600 <deepfates> The reason everyone lacks gravitas: because they grow up on TV shows, where quick banter is made to seem funny by adding a laugh track. So they think they always have to be bantering.  And on TV all pauses must be dramatic\n",
      "1428090202694688771 2021-08-18 14:23:31 -0600 <deepfates> @Coscorrodrift @rhymeswithvocal then you can take the time to gather your thoughts before they interrupt you\n",
      "1428087153574117378 2021-08-18 14:11:24 -0600 <deepfates> i mean i still feel the urge to solve all the world's problems. but I don't have to do it like, today\n",
      "1428080100713582594 2021-08-18 13:43:23 -0600 <deepfates> growing my hair out. not fine to worry about shit anymore. just cruising\n",
      "1428074895955546113 2021-08-18 13:22:42 -0600 <deepfates> started making my coffee half decaf and life has gotten so much more chill\n",
      "1428071854397394955 2021-08-18 13:10:37 -0600 <deepfates> when i see you likeing all my tweets  https://t.co/9mNMBISomL\n",
      "1428058594621239296 2021-08-18 12:17:55 -0600 <deepfates> Boss makes a dollar, I make a dime. That's why I sobbing on company time\n",
      "1428055892587683842 2021-08-18 12:07:11 -0600 <deepfates> I did not receive an answer\n",
      "1428055801348956174 2021-08-18 12:06:49 -0600 <deepfates> current affairs used to do voicemails on their podcast, where they would answer questions from their listeners.  One time I called it shitfaced drunk and asked \"where does the money come from. The money to publish. what is it come from. You all went to Harvard. Who pays for this\"\n",
      "1428049670559969283 2021-08-18 11:42:27 -0600 <deepfates> People be sleeping on being awake\n",
      "1428047317366571008 2021-08-18 11:33:06 -0600 <deepfates> broke: naps  woke: stay awake and grind\n",
      "1428044044635045893 2021-08-18 11:20:06 -0600 <deepfates> heartbreaking: the worst person you know made a very ironic life choice but you don't want to talk about it because it's already blowing up the TL\n",
      "1428032392938274821 2021-08-18 10:33:48 -0600 <deepfates> This little dude has nothing in common with you  https://t.co/otZ6kh4bXE\n",
      "1428031624034271233 2021-08-18 10:30:45 -0600 <deepfates> i win again\n",
      "1427997604961394691 2021-08-18 08:15:34 -0600 <deepfates> what if it was a she-cession and it was an economic downturn just for the ladies\n",
      "1427995847870930944 2021-08-18 08:08:35 -0600 <deepfates> The milk I put in my coffee is sour. but I'm drinking it anyway cuz it's good coffee.  At least it's not spicy like goat milk\n",
      "1427995029923008528 2021-08-18 08:05:20 -0600 <deepfates> the website for the Juvet agenda no longer lists Warren Ellis. i wonder how long till the next name is removed from the list. how long until it's empty, and the document becomes apocryphal, like it sprang fully formed from the fjords of Norway...   https://t.co/4slT273ArH\n",
      "1427993146445664259 2021-08-18 07:57:51 -0600 <deepfates> my view on dumplings lady\n",
      "1427991901941141505 2021-08-18 07:52:54 -0600 <deepfates> corporations should not be considered people under the law.  That way they don't have to pay taxes 😇\n",
      "1427989950386032640 2021-08-18 07:45:09 -0600 <deepfates> This was supposed to be a moving gif. static image really not as impressive\n",
      "1427989020840120320 2021-08-18 07:41:27 -0600 <deepfates> first among betters\n",
      "1427986050203275272 2021-08-18 07:29:39 -0600 <deepfates> @bonkydog @bungoman see here  https://t.co/AWRqh7gGNA\n",
      "1427983367413243905 2021-08-18 07:19:00 -0600 <deepfates> bicycle  Bicycle  BICYCLE\n",
      "1427980539571621891 2021-08-18 07:07:45 -0600 <deepfates> possibly the best conflict tweet I've ever seen\n",
      "1427768300637917187 2021-08-17 17:04:24 -0600 <deepfates> why don't i get obsessed with Common Lisp on a day when I'm not trying to wrap up a year long campaign\n",
      "1427761029274955776 2021-08-17 16:35:30 -0600 <deepfates> in the spirit of connecting once every few years, I show this person one of my AI painted tarot cards. she said \"omg i kind of hate it\" hahaha\n",
      "1427755461311307784 2021-08-17 16:13:23 -0600 <deepfates> prosperity  https://t.co/UAKEvboNaX\n",
      "1427755014382968836 2021-08-17 16:11:36 -0600 <deepfates> there are a lot of tweets that are assuming you are dumb and wasn't things explain to you. And then there are my tweets\n",
      "1427754579421130753 2021-08-17 16:09:52 -0600 <deepfates> Who can forget the classic line in the movie The joker, where Heath Ledger says \"I am going to learn Common Lisp\"\n",
      "1427751315179020289 2021-08-17 15:56:54 -0600 <deepfates> I learned that women don't like being told to smile more. subsequently I learned that women also don't like to be told to smile less\n",
      "1427747549969010688 2021-08-17 15:41:56 -0600 <deepfates> The unbearable lightness of light mode Twitter\n",
      "1427722834776760326 2021-08-17 14:03:44 -0600 <deepfates> thinking about becoming a beautiful egirl. anybody have any tips\n",
      "1427719942061756417 2021-08-17 13:52:14 -0600 <deepfates> that would be kind of awesome actually  https://t.co/C3xArWjRFq\n",
      "1427717911792132097 2021-08-17 13:44:10 -0600 <deepfates> if I had a podcast where we tell secrets that you and break NDA's, would you come tell a secret on it\n",
      "1427715784424361984 2021-08-17 13:35:43 -0600 <deepfates> Saw this kid again and made sure to say \"how you doing son\"\n",
      "1427714874923110400 2021-08-17 13:32:06 -0600 <deepfates> @sea_snell concept as well as the notation. I would also recommend them to make sure that the reader can follow the development of the paper without having to refer to their previous publications.\"\n",
      "1427714734086782977 2021-08-17 13:31:32 -0600 <deepfates> @sea_snell \"I cannot even figure out what the basic concept is. I would strongly recommend the authors to rewrite their paper from scratch, this time following the general format of most journal papers, and to make sure to include all the details necessary for the reader to grasp the basic\n",
      "1427701230898499587 2021-08-17 12:37:53 -0600 <deepfates> @logic_denier This was a joke by the way. I have learned about the miracle of underbed storage and having different seasons of outfits\n",
      "1427700050700931073 2021-08-17 12:33:12 -0600 <deepfates> send them to me\n",
      "1427699785251926017 2021-08-17 12:32:08 -0600 <deepfates> to clarify, I am not against gardening. or being in touch with the earth. I am just irritated by back to the land ideologues\n",
      "1427696987210665992 2021-08-17 12:21:01 -0600 <deepfates> might start a career where I just rephrase computer science papers from the '60s and '70s\n",
      "1427686147187118086 2021-08-17 11:37:57 -0600 <deepfates> Bitcoin solves this\n",
      "1427684006800224261 2021-08-17 11:29:26 -0600 <deepfates> 80% of all the people who have ever lived are dead. Why don't they get the vote\n",
      "1427683455035314179 2021-08-17 11:27:15 -0600 <deepfates> planetary hive mind of gossip and petty self-promotion\n",
      "1427681520458760198 2021-08-17 11:19:34 -0600 <deepfates> LPT: don't hit the vape before you get on the bus. coughing scares the old people\n",
      "1427679699795202048 2021-08-17 11:12:20 -0600 <deepfates> everyone wearing earphones all the time. they're listening to something. they're learning.  they are becoming smarter\n",
      "1427670961571172353 2021-08-17 10:37:36 -0600 <deepfates> The only social justice solution to climate change is to build nuclear-powered megacities on top of the suburbs.   And no one can stop this, because the white NIMBYs are not actually armed\n",
      "1427667080845971460 2021-08-17 10:22:11 -0600 <deepfates> who's opinion is better: yours or mine?\n",
      "1427666605627121666 2021-08-17 10:20:18 -0600 <deepfates> obviously: it's charming and adorable and delightful and she's the best   https://t.co/cJP98v0NBX\n",
      "1427663199449452544 2021-08-17 10:06:46 -0600 <deepfates> tag urself, I'm 🔮\n",
      "1427661533979414532 2021-08-17 10:00:09 -0600 <deepfates> People think America is a violent, moralizing nation of imperious buffoons. but that's not true.  is several nations of imperious buffoons United by centuries of mutual hatred\n",
      "1427660714198528000 2021-08-17 09:56:53 -0600 <deepfates> 2021: Now in 4K\n",
      "1427658913579556864 2021-08-17 09:49:44 -0600 <deepfates> Information wants Kanye to release Donda\n",
      "1427658496003100678 2021-08-17 09:48:04 -0600 <deepfates> SF writer AI: small errors always compound into gigantic social problems! drastic and interesting turns of events are ruled by dramatic irony!  Actual AI: Hard problems must be broken down into smaller problems, which must be solved in stages to progress to harder problems\n",
      "1427657155054772232 2021-08-17 09:42:45 -0600 <deepfates> information wants you to send one Bitcoin to the following address\n",
      "1427651616883236870 2021-08-17 09:20:44 -0600 <deepfates> ascii art gan 🤔\n",
      "1427647361946378254 2021-08-17 09:03:50 -0600 <deepfates> a secret society of poets is trying to change your vision with magic words. they control powerful adjectives.  they hoard prompts. they capture spirits in their phrases.  and they are coming for your notebooks\n",
      "1427646316771958798 2021-08-17 08:59:40 -0600 <deepfates> it has not ceased, however\n",
      "1427646177382739968 2021-08-17 08:59:07 -0600 <deepfates> being a mystagogue is boring\n",
      "1427643732518752269 2021-08-17 08:49:24 -0600 <deepfates> didn't expect this, did you   https://t.co/VqmTWgNBmR\n",
      "1427642980173860864 2021-08-17 08:46:25 -0600 <deepfates> Information wants you to like this tweet\n",
      "1427640699441270800 2021-08-17 08:37:21 -0600 <deepfates> if there is an entity that destroys Towers of Babel it is definitely keeping a close eye on CLIP\n",
      "1427630120135766019 2021-08-17 07:55:19 -0600 <deepfates> gf she's microwaving eggs to cook them. what do we think folks\n",
      "1427629516432740361 2021-08-17 07:52:55 -0600 <deepfates> @DarbraDawn  https://t.co/xDqJx28BXr\n",
      "1427629237750665219 2021-08-17 07:51:49 -0600 <deepfates> When I had met the love of my life I had no bed frame. I had a mattress on the floor.  When she came over the first time I had a mattress on the floor. When we said I love you I had a mattress on the floor.  then we moved in together, and now I have a bed frame. Just saying\n",
      "1427627709811802125 2021-08-17 07:45:44 -0600 <deepfates> what would discovery look like for package managers? there's the \"app store\" model, of course, and the \"searching GitHub just in case\" model...    https://t.co/vn4Aj7NYis\n",
      "1427621183449571330 2021-08-17 07:19:48 -0600 <deepfates> lmao The cleanup mod is coming\n",
      "1427616578640691204 2021-08-17 07:01:30 -0600 <deepfates> I even had the pink polo. I thought I was Kanye\n",
      "1427491019021594626 2021-08-16 22:42:35 -0600 <deepfates> how did i never know Madonna started out as a Juggalo  https://t.co/w1fyVAKzRY\n",
      "1427464760862420994 2021-08-16 20:58:14 -0600 <deepfates> more peopl should be asking themselves this\n",
      "1427460494705692672 2021-08-16 20:41:17 -0600 <deepfates> @junosz i mean, clicked it. all photos are of you at the moment you took them\n",
      "1427459511711932417 2021-08-16 20:37:23 -0600 <deepfates>  https://t.co/5sp610ck9a\n",
      "1427459341930668032 2021-08-16 20:36:42 -0600 <deepfates> uh Nyxt looks cool af  https://t.co/rUYwBDdp8A\n",
      "1427459108807061504 2021-08-16 20:35:47 -0600 <deepfates> @tommyminnetonka @mayfer @obsdmd yo check this tf out  https://t.co/Z3TjCcKh21\n",
      "1427447897768042508 2021-08-16 19:51:14 -0600 <deepfates> why does CLIP see two of everything? is it just because my images are twice as tall as wide? 🤔\n",
      "1427446918712602629 2021-08-16 19:47:20 -0600 <deepfates> this is my NPC phrase if you meet me in the metaverse\n",
      "1427446575194951681 2021-08-16 19:45:58 -0600 <deepfates> 🤦‍♂️ if you read deepfates posts on twitter you almost certainly overestimate the technical capabilities of everyone around you\n",
      "1427445737797955589 2021-08-16 19:42:39 -0600 <deepfates> emacs is a nonlinear REPL\n",
      "1427434667884548102 2021-08-16 18:58:39 -0600 <deepfates> if you think \"zoomers don't understand computers\" you are severely overestimating the technical capabilities of milliennials\n",
      "1427415654978576385 2021-08-16 17:43:06 -0600 <deepfates> ah 😅 it's slowing down\n",
      "1427407660203323394 2021-08-16 17:11:20 -0600 <deepfates> you think i can't handle these psychic effects?   https://t.co/W1OWUpWAB6\n",
      "1427404260443107335 2021-08-16 16:57:50 -0600 <deepfates> whoa now. that's a lot of cortisol. what is about to happen?!? i need more dopamine stat\n",
      "1427401293342117889 2021-08-16 16:46:02 -0600 <deepfates> By internactimg with this tweet you are directly affecting my brain chemistry.  Increase         Increase   cortisol         dopamine .          👇.     👇 🗨️.     ♻️.     ❤️ ☝️   Send custom psychic effect\n",
      "1427399273226850307 2021-08-16 16:38:01 -0600 <deepfates> Are Canadians gullible?\n",
      "1427398945001639937 2021-08-16 16:36:42 -0600 <deepfates> 😿\n",
      "1427398475587665920 2021-08-16 16:34:51 -0600 <deepfates> just kidding. (i don't go on Facebook or Instagram)\n",
      "1427397244450447371 2021-08-16 16:29:57 -0600 <deepfates> I'm pretty sure the Dunbar number is fake.  i have Facebook friends, Instagram friends and Twitter friends. Plus intimate knowledge of the powers and backstories of over two hundred superheroes\n",
      "1427393300345073670 2021-08-16 16:14:17 -0600 <deepfates> I wonder what is the matrix math version of a preposition. each one would be different ig. and how would you make the directionality if the relationship clear?  i could try to encode just the word, and add/subtract it from one half of the clause maybe\n",
      "1427390978827198467 2021-08-16 16:05:03 -0600 <deepfates> CLIP is not interested in my prepositional phrases. below, into, with; it ignores them all\n",
      "1427387814199664642 2021-08-16 15:52:29 -0600 <deepfates> which one of you is this  https://t.co/kGtU5UPwWS\n",
      "1427383732680413184 2021-08-16 15:36:16 -0600 <deepfates> books are not sacred objects against which we are measured.   if the book only had three chapters worth of content, it's not your fault. The book didn't finish. You did\n",
      "1427370313319256077 2021-08-16 14:42:56 -0600 <deepfates> I am going to become the Riddler?\n",
      "1427368777461616655 2021-08-16 14:36:50 -0600 <deepfates> is it too true that Zero to One is like 200 pages too long? That seems ironic to me somehow\n",
      "1427367441160556566 2021-08-16 14:31:31 -0600 <deepfates> opinions will be withheld until follower count improves   https://t.co/ZaSjU5l7vW\n",
      "1427367269496082438 2021-08-16 14:30:50 -0600 <deepfates> \"woke capitalism\": what is it, and is it good actually?  get my object level opinion soon!\n",
      "1427365542789206041 2021-08-16 14:23:59 -0600 <deepfates> worker co-ops\n",
      "1427359333344587776 2021-08-16 13:59:18 -0600 <deepfates> this is genuinely scary now  'illustration by Butcher Billy'   https://t.co/E6oSpyYlTm  https://t.co/HttyxzTmSe\n",
      "1427358979433373698 2021-08-16 13:57:54 -0600 <deepfates> so the MSE regulization wasn't working when i generated these. now it's coasting down at an appropriate level and the difference is quite distinct  'illustration by Cosmo Mulford'  https://t.co/XONbwDBgdc\n",
      "1427358221749014529 2021-08-16 13:54:53 -0600 <deepfates> i want YikYak for Android right fucking now\n",
      "1427351084490641434 2021-08-16 13:26:32 -0600 <deepfates> must... wear... the... forbidden... bracelet...\n",
      "1427334850579615755 2021-08-16 12:22:01 -0600 <deepfates> I'm a weird freak\n",
      "1427327769462050818 2021-08-16 11:53:53 -0600 <deepfates> i am dreading finding out that what i actually need is classes, can you tell\n",
      "1427327621034127361 2021-08-16 11:53:17 -0600 <deepfates> wait... a bunch of functions, which need to be altered slightly each time to match hyperparameters... and run iteratively over the same data within each training loop...  am i about to use DECORATORS?\n",
      "1427325067780890626 2021-08-16 11:43:09 -0600 <deepfates> this is not a diss on the people who made it. it's just my lack of understanding mutation that's in my way\n",
      "1427321061872373766 2021-08-16 11:27:14 -0600 <deepfates> last year i decided to buy a GPU instead of a gun with my stimulus check. looks like i made the right call\n",
      "1427313108322820096 2021-08-16 10:55:37 -0600 <deepfates> it's because the MSE update process is wrapped inside the ascend_txt function? i think?  the notebook is a huge structural blob with hidden globals and tons of mutated variables. i really want it to be more functional\n",
      "1427312705942302723 2021-08-16 10:54:01 -0600 <deepfates> trying to refactor this VQGAN+CLIP notebook so it can be better automated. It's helping me understand the internals a lot better, but it can be so frustrating when i don't understand.  there's a global that's being updated deep inside a nested function. why. how do i replace it\n",
      "1427293380355182598 2021-08-16 09:37:14 -0600 <deepfates> @visakanv @metaflav @IanVanagas @AnneSelke @forthrighter @sunofdopamine @manipulanda @Former_Nihilist @ricvolpe @lauradobrzynski @maxefremov @ketrenzo @beckness @briandavidhall @nihilistnomya @nbouscal @speterkins @feonixrift @JeanThinkin @reconfigurthing i rarely see people but i did recently go to a street fair and ate the worst french fries i've literally ever encountered. i'm bearish on humanity\n",
      "1427292342986448897 2021-08-16 09:33:07 -0600 <deepfates> gf is in her weekly team meeting. which to me is 3 hours of polite laughter punctuated with \"No updates\"\n",
      "1427291498815631361 2021-08-16 09:29:45 -0600 <deepfates> @visakanv @metaflav @IanVanagas @AnneSelke @forthrighter @sunofdopamine @manipulanda @Former_Nihilist @ricvolpe @lauradobrzynski @maxefremov @ketrenzo @beckness @briandavidhall @nihilistnomya @nbouscal @speterkins @feonixrift @JeanThinkin @reconfigurthing did anybody have a weird interaction with a human lately? tell me about it\n",
      "1427285837084041220 2021-08-16 09:07:15 -0600 <deepfates> extra long version with more gospel and a real Kendrick feature   https://t.co/EdRgu4qfhG\n",
      "1427281401833947138 2021-08-16 08:49:38 -0600 <deepfates> I once had the Doyle owl in my backyard for a week\n",
      "1427280140753506309 2021-08-16 08:44:37 -0600 <deepfates> apparently there's a Delta variant of ccccccrjkungivnbivnkjlivvkulbkithbvgkccguuvΔ  And it's breaking through your muted words list\n",
      "1427135562591444995 2021-08-15 23:10:07 -0600 <deepfates> bonus image. 'illustrated by Pamela Coleman Smith\"  hmmm  https://t.co/ojfTvaBAcc\n",
      "1427134872330584065 2021-08-15 23:07:23 -0600 <deepfates> init image is the classic Pamela Coleman Smith  https://t.co/hVMPAeK2w9\n",
      "1427134651483705344 2021-08-15 23:06:30 -0600 <deepfates> finally,   'illustration by Roy Lichtenstein'  https://t.co/vWwRadNtuN\n",
      "1427134322381832192 2021-08-15 23:05:11 -0600 <deepfates> 'illustration by Mike Mignola'  https://t.co/UGQzLFVUFe\n",
      "1427134055129231360 2021-08-15 23:04:08 -0600 <deepfates> 'illustration by Frank Lloyd Wright'  https://t.co/MX9r3dAFer\n",
      "1427133634688032768 2021-08-15 23:02:28 -0600 <deepfates> 'illustration by Alphonse Mucha'  https://t.co/BHYLN9Rn8B\n",
      "1427133323508396036 2021-08-15 23:01:13 -0600 <deepfates> 'illustration by Pablo Picasso'  https://t.co/pbxn0TGdmf\n",
      "1427133188812546048 2021-08-15 23:00:41 -0600 <deepfates> 'illustration by Salvador Dali'  https://t.co/uEvjcYCbJf\n",
      "1427132755977121802 2021-08-15 22:58:58 -0600 <deepfates> 'illustration by John Singer Sargent'  https://t.co/ZbCr1HRLSZ\n",
      "1427132702105477125 2021-08-15 22:58:45 -0600 <deepfates> 'illustration by Botticelli'  https://t.co/Iw1LZNn29x\n",
      "1427132578012794880 2021-08-15 22:58:16 -0600 <deepfates> 'illustration by Jean Giraud Moebius']  https://t.co/ZN5cEcD8Yh\n",
      "1427132509431676928 2021-08-15 22:57:59 -0600 <deepfates> 'illustration by Paul Kidby'  https://t.co/zw8wniggh2\n",
      "1427132444109639681 2021-08-15 22:57:44 -0600 <deepfates> 'illustration by Chris Ware'  https://t.co/1zIZzUFLjp\n",
      "1427132364237508609 2021-08-15 22:57:25 -0600 <deepfates> 'illustration by Will Eisner'  https://t.co/ouuSfDFXZn\n",
      "1427132123840925696 2021-08-15 22:56:27 -0600 <deepfates> 'illustration by Sue Todd'  https://t.co/0sjBypDRU8\n",
      "1427132049161342976 2021-08-15 22:56:10 -0600 <deepfates> 'illustration by Petra Eriksson'  https://t.co/QYUxFtG90N\n",
      "1427131968173510662 2021-08-15 22:55:50 -0600 <deepfates> 'illustration by Butcher Billy'  https://t.co/dwx9jUKiFF\n",
      "1427131899395416065 2021-08-15 22:55:34 -0600 <deepfates> \"illustration by Liam O'Farrel\"  https://t.co/JTespVhLyB\n",
      "1427131830449451009 2021-08-15 22:55:17 -0600 <deepfates> 'illustration by Paul Daviz'  https://t.co/kJf6ziQ1gH\n",
      "1427131760962326531 2021-08-15 22:55:01 -0600 <deepfates> 'illustration by Joseph McDermott  https://t.co/igfuuzQJQq\n",
      "1427131741089804292 2021-08-15 22:54:56 -0600 <deepfates> 'illustration by Marta Spendowska'  https://t.co/ogYXzTh4aX\n",
      "1427131593592872960 2021-08-15 22:54:21 -0600 <deepfates> 'illustration by Nikolai Senin'  https://t.co/XgxFf0IK7F\n",
      "1427131524432936963 2021-08-15 22:54:04 -0600 <deepfates> 'illustration by Carolina Rodriguez Fuenmayor'  https://t.co/XDoOjUlRXb\n",
      "1427131438261055490 2021-08-15 22:53:44 -0600 <deepfates> 'illustration by Javier Medellin Puyou'  https://t.co/fMEcZUKHoc\n",
      "1427131310221451266 2021-08-15 22:53:13 -0600 <deepfates> 'illustration by Bruno Mangyoku'  https://t.co/qB65ZYmBfh\n",
      "1427131307004502016 2021-08-15 22:53:13 -0600 <deepfates> 'illustration by Cosmo Mulford'  https://t.co/xJuaQoPirp\n",
      "1427131208870281219 2021-08-15 22:52:49 -0600 <deepfates> 'illustration by Darwyn Cooke'  https://t.co/f3GwkdKk7a\n",
      "1427131151907446784 2021-08-15 22:52:36 -0600 <deepfates> 'illustration by Fiona Staples'  https://t.co/cnT8eAx8tE\n",
      "1427131023821877250 2021-08-15 22:52:05 -0600 <deepfates> the Magician, illustrated  a CLIP art exploration:\n",
      "1427128601422581767 2021-08-15 22:42:28 -0600 <deepfates> i switched my twitter location to a Spanish-speaking country and now i'm learning what all the emojis are called en Español\n",
      "1427127933257326592 2021-08-15 22:39:48 -0600 <deepfates> stay webbed, friends  https://t.co/f0CARUaTYv\n",
      "1427127255046795266 2021-08-15 22:37:07 -0600 <deepfates> if someone were more spiritually advanced than you, would they really feel the need to prove it on Twitter?\n",
      "1427071884437250049 2021-08-15 18:57:05 -0600 <deepfates> feel like i learned how to fix this at some point but don't remember how. something to do with surround sound mixing\n",
      "1427068789519118339 2021-08-15 18:44:47 -0600 <deepfates> This where courage the cowardly dog lives\n",
      "1427062371856445444 2021-08-15 18:19:17 -0600 <deepfates> memes reproduce in days. humans reproduce in decades. 🤷🏼   https://t.co/AXVIPyQ0kA\n",
      "1427044891297599490 2021-08-15 17:09:49 -0600 <deepfates> the area's still pretty rough, but the standards for evidence are SO much cheaper\n",
      "1427042865436258306 2021-08-15 17:01:46 -0600 <deepfates> if there's anything I've learned from Twitter, is that autists are not resistant to memes\n",
      "1427042707013181444 2021-08-15 17:01:09 -0600 <deepfates> oh you're still up by Art? i actually moved to this up and coming area at the other end of Technology, the the cross street is Magic. do you know it\n",
      "1427041724640075778 2021-08-15 16:57:14 -0600 <deepfates> if you see a Frank you know he's about to Tell It Like It Is\n",
      "1427040538134413314 2021-08-15 16:52:32 -0600 <deepfates> Kim Stanley Robinson has a character named Frank in like every book and they're all exactly the same dude\n",
      "1427038735070228483 2021-08-15 16:45:22 -0600 <deepfates> I'm one no-face filter away from becoming a TikTok star\n",
      "1427038583941042177 2021-08-15 16:44:46 -0600 <deepfates> no offense to @demystifysci, we're having a good conversation but I thought more people should think about this\n",
      "1427038151600525313 2021-08-15 16:43:03 -0600 <deepfates> evolve* lol minor mutation there\n",
      "1427037341638483968 2021-08-15 16:39:49 -0600 <deepfates> This is the basis of Idiocracy (2006), and other thinly disguised eugenic screeds, but it's not a functional theory of change.  Human beings do not pass our ideas and values genetically. the memers will always win over the breeders, because ideas can involve so much faster\n",
      "1427032642063454208 2021-08-15 16:21:09 -0600 <deepfates> My debit card expires this month, which means I'm about to get access to All the free trials\n",
      "1426992700406988801 2021-08-15 13:42:26 -0600 <deepfates> omg where was this when I was extracting circles\n",
      "1426976969015455745 2021-08-15 12:39:56 -0600 <deepfates> okay, I drank two tablespoons of rice protein powder in water before working out. And was able to go for like 3 hours and do all the sets. Now I get to eat real food right\n",
      "1426943187881316354 2021-08-15 10:25:41 -0600 <deepfates> A friend of mine who's 80% right about financial things is always moving his money between Bitcoin and Ethereum\n",
      "1426937162377748481 2021-08-15 10:01:45 -0600 <deepfates> The billionaire divorcée shenanigans will continue until distribution of productive capacity improves\n",
      "1426931886920593414 2021-08-15 09:40:47 -0600 <deepfates> Lex Fridman vs Andrew Ng ASMR Remain Calm Challenge, over 1 hour\n",
      "1426920836280184838 2021-08-15 08:56:52 -0600 <deepfates> deciding to take myself more seriously. and other people less\n",
      "1426913433501405184 2021-08-15 08:27:27 -0600 <deepfates> I like Lex Fridman because he seems like he's barred out all the time. I prefer my podcast host to take so many sedatives that they actually let the guests talk\n",
      "1426908090943868929 2021-08-15 08:06:14 -0600 <deepfates> I like lifting weights, especially once I get into the zone where I'm really pushing myself. but the first half an hour is just so understimulating.   if I'm not juiced I keep just getting distracted with checking Twitter or remembering chores I should do\n",
      "1426907833648431105 2021-08-15 08:05:12 -0600 <deepfates> listen to/watch, i guess.  So far I have tried listening to music, mostly hip hop. watching music in the form of concerts or freestyle videos. programming talks from conferences. And podcast, although I don't like any podcasts anymore really.\n",
      "1426905788635881473 2021-08-15 07:57:05 -0600 <deepfates> what do you listen to while you work out?\n",
      "1426905653050806276 2021-08-15 07:56:32 -0600 <deepfates> I think of Pynchon as \"Escape from SF\", because he's treated as literary fiction despite clearly writing genre tropes his whole career. also Tom Robbins, Margaret Atwood, Kurt Vonnegut in this category.  Who am I missing\n",
      "1426901429634035716 2021-08-15 07:39:46 -0600 <deepfates> @Buntworthy Great texture\n",
      "1426892991457812486 2021-08-15 07:06:14 -0600 <deepfates> going on rumspringa, learning about basketball, traveling the stars, falling in love with an erotic bunny,,   https://t.co/fT46Xc9MUg\n",
      "1426892327344353287 2021-08-15 07:03:35 -0600 <deepfates> learn something new every day\n",
      "1426764078954041346 2021-08-14 22:33:59 -0600 <deepfates> Molotov cocktail earrings tweet\n",
      "1426712513719193603 2021-08-14 19:09:04 -0600 <deepfates> what's the best blog\n",
      "1426710798907449344 2021-08-14 19:02:16 -0600 <deepfates> make all your replies into subtweets\n",
      "1426710239248793601 2021-08-14 19:00:02 -0600 <deepfates> 🤔\n",
      "1426672499589267459 2021-08-14 16:30:04 -0600 <deepfates> @parafactual diffing*\n",
      "1426672432342052872 2021-08-14 16:29:48 -0600 <deepfates> People don't give the internet enough credit\n",
      "1426670443012890627 2021-08-14 16:21:54 -0600 <deepfates> annoyed by colab notebooks again\n",
      "1426669799032061952 2021-08-14 16:19:20 -0600 <deepfates> yes. tell us\n",
      "1426629295376584708 2021-08-14 13:38:24 -0600 <deepfates> why are all these people fiending so hard for a rural life in a cottage growing food by hand?  did the Amish stop accepting new members or something\n",
      "1426581722607493125 2021-08-14 10:29:21 -0600 <deepfates> I miss having my best friend. but I don't miss feeling betrayed on the regular, or being belittled anytime there's an audience. And I don't know how to tell which person he is now, or if it's even possible to separate the behaviors I liked from the ones I couldn't stand\n",
      "1426580257880952832 2021-08-14 10:23:32 -0600 <deepfates> what have you been reading lately? other than Twitter\n",
      "1426579763754196992 2021-08-14 10:21:34 -0600 <deepfates> I have also discovered he's rebooted the project without me, under a new name. which is fine, as I don't want to collaborate with him anymore. but still a weird feeling\n",
      "1426579409675296772 2021-08-14 10:20:10 -0600 <deepfates> what do I want from this situation? Good question   https://t.co/03h3bAQtgg\n",
      "1426575847406903298 2021-08-14 10:06:01 -0600 <deepfates> seriously though, one of the most common features of people who are letting their minds be ruled by someone else, is that they argue really strongly against the possibility that might be what's happening\n",
      "1426575101248610309 2021-08-14 10:03:03 -0600 <deepfates> if your behaviors are indistinguishable from those of a person in a cult... 😇\n",
      "1426574591003086854 2021-08-14 10:01:01 -0600 <deepfates> if you have a huge fight with someone, it destroys the project you were working on and ends your friendship, and then they text you \"how's life\" 6 months later?  what you supposed to do in that situation\n",
      "1426400902647218178 2021-08-13 22:30:51 -0600 <deepfates> yeah I'm in my \"terrible 2s\" right now (32)\n",
      "1426369375175536647 2021-08-13 20:25:34 -0600 <deepfates> @taalumot @chaosprime @AntonymHangup actually i disavowed all opinionS from SCIOPS last year but this is maybe relevant anyway\n",
      "1426357590422818819 2021-08-13 19:38:44 -0600 <deepfates> attention market\n",
      "1426342344396206083 2021-08-13 18:38:09 -0600 <deepfates> Kanye put that drums back on that pop smoke track 🙏 please\n",
      "1426312341587701761 2021-08-13 16:38:56 -0600 <deepfates> \"self-flanderization\"   🤣  https://t.co/NhEKVfYhXn\n",
      "1426301837250994180 2021-08-13 15:57:12 -0600 <deepfates> if your partner wants to \"open up your relationship\"... ngmi\n",
      "1426300839774228482 2021-08-13 15:53:14 -0600 <deepfates> Who is the Eminem of texting\n",
      "1426293591694053382 2021-08-13 15:24:26 -0600 <deepfates> Who is the Eminem of feminism?\n",
      "1426293518121816064 2021-08-13 15:24:08 -0600 <deepfates> based\n",
      "1426287610163384325 2021-08-13 15:00:40 -0600 <deepfates> who is the Eminem of the Buddhism of the Greater Vehicle?\n",
      "1426286744077410306 2021-08-13 14:57:13 -0600 <deepfates> who is the Eminem of AI ethics theory\n",
      "1426286692214870018 2021-08-13 14:57:01 -0600 <deepfates> who is the Eminem of mathematics?\n",
      "1426285224812441600 2021-08-13 14:51:11 -0600 <deepfates> @enkiv2 @gymnosperm_ @87ribs I have no idea what this is\n",
      "1426284919286767617 2021-08-13 14:49:58 -0600 <deepfates> who's the Eminem of journalist\n",
      "1426284890773807104 2021-08-13 14:49:51 -0600 <deepfates> Who is the Eminem of weird Twitter\n",
      "1426284815314161667 2021-08-13 14:49:33 -0600 <deepfates> who's the Eminem of tools for thought\n",
      "1426284747169226754 2021-08-13 14:49:17 -0600 <deepfates> Who is the Eminem of the post rats\n",
      "1426284269589045256 2021-08-13 14:47:23 -0600 <deepfates> you'll never medicalize me. I am the perfect example of normal human thinking and the rest of you are fucking weird\n",
      "1426279387469545479 2021-08-13 14:27:59 -0600 <deepfates> I refuse to self-diagnose. i will not let the psychologists win\n",
      "1426276027651608579 2021-08-13 14:14:38 -0600 <deepfates> You're also welcome to come over to my house. but that's just cuz I'm a hostrat   https://t.co/uuNxsmdgMA\n",
      "1426275544589496321 2021-08-13 14:12:43 -0600 <deepfates> Time is a drug. Too much of it kills you  (Terry Pratchett)\n",
      "1426275264363827201 2021-08-13 14:11:36 -0600 <deepfates> Lady, it's a slice of pizza. I don't need you to be excited about it. I'm not kindergartener. I'm here for lunch\n",
      "1426274820916875266 2021-08-13 14:09:50 -0600 <deepfates> wanna bet?\n",
      "1426273322283651075 2021-08-13 14:03:53 -0600 <deepfates> I'm a mostrat now\n",
      "1426273162421964800 2021-08-13 14:03:15 -0600 <deepfates> an accurate model of probability is a crucial element in changing probability in your favor\n",
      "1426272650431635456 2021-08-13 14:01:13 -0600 <deepfates> on reflection, my mistake was to think of a algorithmically designed SimCluster as an organic community of real people\n",
      "1426271772798685184 2021-08-13 13:57:44 -0600 <deepfates> the Olympics is a great example of a competence hierarchy\n",
      "1426269248653991938 2021-08-13 13:47:42 -0600 <deepfates> wow sure hope this doesn't turn into a hell thread with some of the most argumentative people on Twitter 😅  actually that would be pretty cool\n",
      "1426267676851068929 2021-08-13 13:41:27 -0600 <deepfates> thinking about posting overcoded enigma using advanced jargonization to disguise my utter lack of practical wisdom\n",
      "1426260626486095876 2021-08-13 13:13:26 -0600 <deepfates> is it just me or is it your follower count directly correlated with your net worth and personal value as a human being\n",
      "1426256226858512386 2021-08-13 12:55:57 -0600 <deepfates> did not expect my peeves to become this big of a deal. perhaps I'm not the only one feeling this way 🤷🏼\n",
      "1426255573209817095 2021-08-13 12:53:21 -0600 <deepfates> This analysis is almost not wrong. Cult of personality are most things that humans do. but they are specifically the least effective thing that humans do, unless you are the leader of the cult.  engineering, though, does not respond to flattery   https://t.co/YdTAu3vK1N\n",
      "1426246548589977602 2021-08-13 12:17:30 -0600 <deepfates> what I wanted: a group of people with open minds and good conversational standards, practiced in the art of achieving mutual understanding and coherence with reality  what I got: weird religious people with talk shows. and a bunch of zoomers who can't tell the difference\n",
      "1426245547132784640 2021-08-13 12:13:31 -0600 <deepfates> wondering if perhaps this is just a feature of Twitter. as I've seen it in other groups as well.  very hard not to become a caricature of yourself when so many people are giving you instantaneous feedback on your weird internet behavior\n",
      "1426210482977902599 2021-08-13 09:54:11 -0600 <deepfates> if you want to read a non-tweet link version of this story it is in A Wizard of Earthsea by Ursula k Le Guin   https://t.co/CM8oAs4rDL\n",
      "1426207901069168642 2021-08-13 09:43:55 -0600 <deepfates> picture me sitting in directly above the engine with my eyes shut, trying desperately to imagine what this new sound could mean, while a bunch of people smoke cigarettes in my face\n",
      "1426207616603070464 2021-08-13 09:42:48 -0600 <deepfates> The young wizard and the old wizard are walking through the forest and it starts to rain.   The young wizard says, are you going to do a spell to make it stop raining?   The old wizard says, No. We are going to sit under this tree and wait until it stops by itself\n",
      "1426204459458125829 2021-08-13 09:30:15 -0600 <deepfates> Hell yeah me too\n",
      "1426203704466677760 2021-08-13 09:27:15 -0600 <deepfates> nobody even wanted this kimchi but we were taking it to the rainbow gathering so we couldn't just ditch it.   also the bus kept breaking down and everyone else just wanted to fix it by pretending it wasn't breaking down\n",
      "1426202865534570506 2021-08-13 09:23:55 -0600 <deepfates> thinking that about that time I rode in a short bus with 10 people for 5 days carrying several gallons of kimchi. It was summer in the Northeast USA so it was hot af too\n",
      "1426202512298680327 2021-08-13 09:22:31 -0600 <deepfates> @KirinDave rare* group\n",
      "1426186822523174913 2021-08-13 08:20:10 -0600 <deepfates> My biggest peeve with the post rat community is the same reason I left the new age hippie community: low standards for epistemology lead to cults of personality. and a religious regard for irrational thinking\n",
      "1426185761997656068 2021-08-13 08:15:57 -0600 <deepfates> This is fine. Really! it's just this is called practicing your instrument, not playing music.   Just like how it's not really sex if you're doing it by yourself   https://t.co/vJGLgDbRiM\n",
      "1426180149029085188 2021-08-13 07:53:39 -0600 <deepfates> yeah babe, I'm almost ready to go. Just let me get my boots on  https://t.co/QByQNB0H0W\n",
      "1426016530676989953 2021-08-12 21:03:29 -0600 <deepfates> the worst sin in music is to make songs that are more fun to play than they are to listen to\n",
      "1426001640017088514 2021-08-12 20:04:19 -0600 <deepfates> Hey you. You're finally awake\n",
      "1425991343600455681 2021-08-12 19:23:24 -0600 <deepfates> deepfates poll:  should i post more\n",
      "1425987953432555523 2021-08-12 19:09:56 -0600 <deepfates> This is exactly right. treat your body as if it has the weight and volume that it has, and move it through your environment with awareness   https://t.co/lMK8OQtUPB\n",
      "1425986845859475456 2021-08-12 19:05:32 -0600 <deepfates> no offense to my short friends. just, if you're a big dude \"boss\" sounds light-hearted.from down by my collarbones it sounds plaintive\n",
      "1425984489935671296 2021-08-12 18:56:10 -0600 <deepfates> I like the new smileys too :)\n",
      "1425969326847373314 2021-08-12 17:55:55 -0600 <deepfates> You only need to have product market fit for one person, if you can capture 100% of their self concept\n",
      "1425968628688695299 2021-08-12 17:53:08 -0600 <deepfates> capitalism creates an endless assembly line of individualized identities. And you buy them. And this is good actually\n",
      "1425965911211655176 2021-08-12 17:42:21 -0600 <deepfates> My brother is so patient. some old moonbat has been bending his ear with her weird theories about GMOs etc. for like an hour.  I would have told her to take a hike already\n",
      "1425964278817988616 2021-08-12 17:35:51 -0600 <deepfates> communepilled  https://t.co/nt4NHI0hWc\n",
      "[!] No more data! Scraping will stop now.\n",
      "found 0 deleted tweets in this search.\n"
     ]
    }
   ],
   "source": [
    "#hide_output\n",
    "import twint\n",
    "import nest_asyncio\n",
    "nest_asyncio.apply()\n",
    "\n",
    "\n",
    "c = twint.Config()\n",
    "\n",
    "c.Search = 'from:deepfates (to:deepfates OR exclude:replies)'\n",
    "tweets = []`\n",
    "c.Store_object = True\n",
    "c.Store_object_tweets_list = tweets\n",
    "\n",
    "\n",
    "twint.run.Search(c)"
   ]
  },
  {
   "cell_type": "code",
   "execution_count": 2,
   "metadata": {
    "execution": {
     "iopub.execute_input": "2021-08-21T20:57:47.107563Z",
     "iopub.status.busy": "2021-08-21T20:57:47.107406Z",
     "iopub.status.idle": "2021-08-21T20:57:47.111870Z",
     "shell.execute_reply": "2021-08-21T20:57:47.111384Z",
     "shell.execute_reply.started": "2021-08-21T20:57:47.107544Z"
    },
    "tags": []
   },
   "outputs": [],
   "source": [
    "#better save that list to disk before i mess around too much more\n",
    "import pickle\n",
    "\n",
    "with open('../assets/tweets.pkl', 'wb') as f:\n",
    "    pickle.dump(tweets, f)"
   ]
  },
  {
   "cell_type": "code",
   "execution_count": 6,
   "metadata": {
    "execution": {
     "iopub.execute_input": "2021-08-21T20:57:55.035204Z",
     "iopub.status.busy": "2021-08-21T20:57:55.034537Z",
     "iopub.status.idle": "2021-08-21T20:57:55.040934Z",
     "shell.execute_reply": "2021-08-21T20:57:55.040397Z",
     "shell.execute_reply.started": "2021-08-21T20:57:55.035117Z"
    },
    "tags": []
   },
   "outputs": [
    {
     "data": {
      "text/plain": [
       "412"
      ]
     },
     "execution_count": 6,
     "metadata": {},
     "output_type": "execute_result"
    }
   ],
   "source": [
    "len(tweets)"
   ]
  },
  {
   "cell_type": "code",
   "execution_count": 10,
   "metadata": {
    "execution": {
     "iopub.execute_input": "2021-08-21T21:05:25.062323Z",
     "iopub.status.busy": "2021-08-21T21:05:25.062028Z",
     "iopub.status.idle": "2021-08-21T21:05:25.065805Z",
     "shell.execute_reply": "2021-08-21T21:05:25.065051Z",
     "shell.execute_reply.started": "2021-08-21T21:05:25.062287Z"
    },
    "tags": []
   },
   "outputs": [],
   "source": [
    "t = tweets[5]"
   ]
  },
  {
   "cell_type": "code",
   "execution_count": 11,
   "metadata": {
    "execution": {
     "iopub.execute_input": "2021-08-21T21:05:25.171743Z",
     "iopub.status.busy": "2021-08-21T21:05:25.171595Z",
     "iopub.status.idle": "2021-08-21T21:05:25.176422Z",
     "shell.execute_reply": "2021-08-21T21:05:25.175910Z",
     "shell.execute_reply.started": "2021-08-21T21:05:25.171727Z"
    },
    "tags": []
   },
   "outputs": [
    {
     "data": {
      "text/plain": [
       "('1429150073578037252',\n",
       " '2021-08-21',\n",
       " '2021-08-21 12:44:19 MDT',\n",
       " 1429152399860637709,\n",
       " 1,\n",
       " 'https://twitter.com/deepfates/status/1429152399860637709',\n",
       " [],\n",
       " [],\n",
       " '',\n",
       " 2,\n",
       " [{'screen_name': 'paleoludic',\n",
       "   'name': 'The Neoludic',\n",
       "   'id': '825775322759102465'}],\n",
       " False,\n",
       " '',\n",
       " '',\n",
       " 0,\n",
       " '',\n",
       " '',\n",
       " '12:44:19',\n",
       " '-0600',\n",
       " \"@paleoludic oh shit i tried IT WORKS   can't believe i din't try printing it before!!\",\n",
       " [],\n",
       " 3315205122,\n",
       " '3315205122',\n",
       " '',\n",
       " '',\n",
       " 'deepfates',\n",
       " 0)"
      ]
     },
     "execution_count": 11,
     "metadata": {},
     "output_type": "execute_result"
    }
   ],
   "source": [
    "t.conversation_id, t.datestamp, t.datetime, t.id, t.likes_count, t.link, t.mentions, t.photos, t.quote_url, t.replies_count, t.reply_to, t.retweet, t.retweet_date, t.retweet_id, t.retweets_count, t.source, t.thumbnail, t.timestamp, t.timezone, t.tweet, t.urls, t.user_id, t.user_id_str, t.user_rt, t.user_rt_id, t.username, t.video"
   ]
  },
  {
   "cell_type": "code",
   "execution_count": 12,
   "metadata": {
    "execution": {
     "iopub.execute_input": "2021-08-21T21:05:25.304702Z",
     "iopub.status.busy": "2021-08-21T21:05:25.304557Z",
     "iopub.status.idle": "2021-08-21T21:05:25.306812Z",
     "shell.execute_reply": "2021-08-21T21:05:25.306416Z",
     "shell.execute_reply.started": "2021-08-21T21:05:25.304685Z"
    },
    "tags": []
   },
   "outputs": [],
   "source": [
    "import requests\n",
    "import shutil"
   ]
  },
  {
   "cell_type": "code",
   "execution_count": 13,
   "metadata": {
    "execution": {
     "iopub.execute_input": "2021-08-21T21:05:25.456855Z",
     "iopub.status.busy": "2021-08-21T21:05:25.456186Z",
     "iopub.status.idle": "2021-08-21T21:05:25.475270Z",
     "shell.execute_reply": "2021-08-21T21:05:25.473916Z",
     "shell.execute_reply.started": "2021-08-21T21:05:25.456771Z"
    },
    "tags": []
   },
   "outputs": [],
   "source": [
    "def dl_image(url):\n",
    "    filename = '../images/' + url.split('/')[-1]\n",
    "    r = requests.get(url, stream = True)\n",
    "    if r.status_code == 200:\n",
    "        r.raw.decode_content = True\n",
    "        with open(filename,'wb') as f:\n",
    "            shutil.copyfileobj(r.raw, f)\n",
    "        return(filename)\n",
    "    else:\n",
    "        return(None)\n",
    "    \n",
    "def image_template(filename):\n",
    "    return(f'![image from twitter](/{filename[1:]})\\n')\n",
    "\n",
    "    \n",
    "def get_tweet(t):\n",
    "    if t.photos == []:\n",
    "        img_md = ''\n",
    "    else:\n",
    "        img_list = [dl_image(url) for url in t.photos]\n",
    "        img_md = '\\n'.join([image_template(o) for o in img_list])\n",
    "\n",
    "    return(f'''\n",
    "#### <a href = \"{t.link}\">*{t.timestamp}*</a>\n",
    "\n",
    "<font size=\"5\">{t.tweet}</font>\n",
    "\n",
    "{img_md}\n",
    "\n",
    "🗨️ {t.replies_count} ♺ {t.retweets_count} 🤍  {t.likes_count}   \n",
    "\n",
    "---\n",
    "    ''')\n",
    "\n",
    "def get_md(tweets, date):\n",
    "    tweets_text = ''.join(t for t in tweets)\n",
    "    return(f'''---\n",
    "title: deepfates log {date}\n",
    "layout: post\n",
    "toc: true\n",
    "comments: false\n",
    "search_exclude: false\n",
    "categories: [tweets]\n",
    "---\n",
    "\n",
    "{tweets_text}\n",
    "            ''')"
   ]
  },
  {
   "cell_type": "code",
   "execution_count": 14,
   "metadata": {
    "execution": {
     "iopub.execute_input": "2021-08-21T21:05:26.329237Z",
     "iopub.status.busy": "2021-08-21T21:05:26.329060Z",
     "iopub.status.idle": "2021-08-21T21:05:26.331472Z",
     "shell.execute_reply": "2021-08-21T21:05:26.330972Z",
     "shell.execute_reply.started": "2021-08-21T21:05:26.329220Z"
    },
    "tags": []
   },
   "outputs": [],
   "source": [
    "from IPython.display import Markdown"
   ]
  },
  {
   "cell_type": "code",
   "execution_count": 15,
   "metadata": {
    "execution": {
     "iopub.execute_input": "2021-08-21T21:05:27.245362Z",
     "iopub.status.busy": "2021-08-21T21:05:27.245187Z",
     "iopub.status.idle": "2021-08-21T21:05:27.248404Z",
     "shell.execute_reply": "2021-08-21T21:05:27.247948Z",
     "shell.execute_reply.started": "2021-08-21T21:05:27.245332Z"
    },
    "tags": []
   },
   "outputs": [
    {
     "data": {
      "text/markdown": [
       "\n",
       "#### <a href = \"https://twitter.com/deepfates/status/1429152399860637709\">*12:44:19*</a>\n",
       "\n",
       "<font size=\"5\">@paleoludic oh shit i tried IT WORKS   can't believe i din't try printing it before!!</font>\n",
       "\n",
       "\n",
       "\n",
       "🗨️ 2 ♺ 0 🤍  1   \n",
       "\n",
       "---\n",
       "    "
      ],
      "text/plain": [
       "<IPython.core.display.Markdown object>"
      ]
     },
     "execution_count": 15,
     "metadata": {},
     "output_type": "execute_result"
    }
   ],
   "source": [
    "Markdown(get_tweet(t))"
   ]
  },
  {
   "cell_type": "code",
   "execution_count": 16,
   "metadata": {
    "execution": {
     "iopub.execute_input": "2021-08-21T21:05:28.779083Z",
     "iopub.status.busy": "2021-08-21T21:05:28.778864Z",
     "iopub.status.idle": "2021-08-21T21:05:28.782497Z",
     "shell.execute_reply": "2021-08-21T21:05:28.782039Z",
     "shell.execute_reply.started": "2021-08-21T21:05:28.779051Z"
    },
    "tags": []
   },
   "outputs": [
    {
     "data": {
      "text/plain": [
       "55"
      ]
     },
     "execution_count": 16,
     "metadata": {},
     "output_type": "execute_result"
    }
   ],
   "source": [
    "yesterday = '2021-08-20'\n",
    "y_tweets = [tw for tw in tweets if tw.datestamp == yesterday]\n",
    "len(y_tweets)"
   ]
  },
  {
   "cell_type": "code",
   "execution_count": 17,
   "metadata": {
    "execution": {
     "iopub.execute_input": "2021-08-21T21:05:28.901035Z",
     "iopub.status.busy": "2021-08-21T21:05:28.900344Z",
     "iopub.status.idle": "2021-08-21T21:05:28.905565Z",
     "shell.execute_reply": "2021-08-21T21:05:28.905112Z",
     "shell.execute_reply.started": "2021-08-21T21:05:28.900951Z"
    },
    "tags": []
   },
   "outputs": [],
   "source": [
    "y_sorted = sorted(y_tweets, key=lambda x: x.datetime)\n",
    "# [tweet.tweet for tweet in y_sorted]"
   ]
  },
  {
   "cell_type": "markdown",
   "metadata": {},
   "source": [
    "Too many replies! Let's limit to just mine for now"
   ]
  },
  {
   "cell_type": "code",
   "execution_count": 18,
   "metadata": {
    "execution": {
     "iopub.execute_input": "2021-08-21T21:05:29.960526Z",
     "iopub.status.busy": "2021-08-21T21:05:29.960349Z",
     "iopub.status.idle": "2021-08-21T21:05:34.252788Z",
     "shell.execute_reply": "2021-08-21T21:05:34.250521Z",
     "shell.execute_reply.started": "2021-08-21T21:05:29.960496Z"
    },
    "tags": []
   },
   "outputs": [],
   "source": [
    "y_md = get_md([get_tweet(t) for t in y_sorted if \"@\" not in t.tweet], yesterday)"
   ]
  },
  {
   "cell_type": "code",
   "execution_count": 19,
   "metadata": {
    "execution": {
     "iopub.execute_input": "2021-08-21T21:05:34.256875Z",
     "iopub.status.busy": "2021-08-21T21:05:34.256251Z",
     "iopub.status.idle": "2021-08-21T21:05:34.262348Z",
     "shell.execute_reply": "2021-08-21T21:05:34.261830Z",
     "shell.execute_reply.started": "2021-08-21T21:05:34.256792Z"
    },
    "tags": []
   },
   "outputs": [
    {
     "data": {
      "text/plain": [
       "'---\\ntitle: deepfates log 2021-08-20\\nlayout: post\\ntoc: true\\ncomments: false\\nsearch_exclude: false\\ncategories: [tweets]\\n---\\n\\n\\n#### <a href = \"https://twitter.com/deepfates/status/1428619480108867589\">*01:26:41*</a>\\n\\n<font size=\"5\">one day you\\'ll find out there really is no corner of Twitter. but by then it will be too late</font>\\n\\n\\n\\n🗨️ 3 ♺ 2 \\U0001f90d  41   \\n\\n---\\n    \\n#### <a href = \"https://twitter.com/deepfates/status/1428622106514833410\">*01:37:07*</a>\\n\\n<font size=\"5\">whoa. how did they know  https://t.co/F1O5sOkkqQ</font>\\n\\n![image from twitter](/./images/E9N8OvJXMAYIaCl.png)\\n\\n\\n🗨️ 3 ♺ 0 \\U0001f90d  16   \\n\\n---\\n    \\n#### <a href = \"https://twitter.com/deepfates/status/1428738515593056264\">*09:19:41*</a>\\n\\n<font size=\"5\">I realizing that I may never go back and rewrite the goofy novel I wrote in my mid-20s. For some reason I always thought I would fix it up, turn it into something better once I knew more and had more talent. but will I?  maybe I should just post it on the internet for free lol</font>\\n\\n\\n\\n🗨️ 8 ♺ 0 \\U0001f90d  28   \\n\\n---\\n    \\n#### <a href = \"https://twitter.com/deepfates/status/1428738941876940802\">*09:21:23*</a>\\n\\n<font size=\"5\">I like the dialectic of nerds making new ways to detect images and other nerds immediately making new ways to defeat those detectors. Just for fun.  tech critics seem to think this is evidence of tech failure. to me it looks like... evolution   https://t.co/6puIVOvtjm</font>\\n\\n\\n\\n🗨️ 0 ♺ 0 \\U0001f90d  8   \\n\\n---\\n    \\n#### <a href = \"https://twitter.com/deepfates/status/1428740514904428550\">*09:27:38*</a>\\n\\n<font size=\"5\">actually I do have GPT-3 access right now 🧐    https://t.co/TzneotZEca</font>\\n\\n\\n\\n🗨️ 0 ♺ 0 \\U0001f90d  12   \\n\\n---\\n    \\n#### <a href = \"https://twitter.com/deepfates/status/1428741074122649607\">*09:29:51*</a>\\n\\n<font size=\"5\">if you don\\'t understand this entire reference it\\'s okay to unfollow me</font>\\n\\n\\n\\n🗨️ 0 ♺ 0 \\U0001f90d  2   \\n\\n---\\n    \\n#### <a href = \"https://twitter.com/deepfates/status/1428743807273668610\">*09:40:43*</a>\\n\\n<font size=\"5\">why are there two sets of headphones on the table. what was i listening to</font>\\n\\n\\n\\n🗨️ 0 ♺ 0 \\U0001f90d  4   \\n\\n---\\n    \\n#### <a href = \"https://twitter.com/deepfates/status/1428761736996392964\">*10:51:57*</a>\\n\\n<font size=\"5\">wow people do become boring as soon as they become millionaires huh</font>\\n\\n\\n\\n🗨️ 14 ♺ 1 \\U0001f90d  56   \\n\\n---\\n    \\n#### <a href = \"https://twitter.com/deepfates/status/1428761910095273986\">*10:52:39*</a>\\n\\n<font size=\"5\">*maniacal laughter*</font>\\n\\n\\n\\n🗨️ 1 ♺ 0 \\U0001f90d  6   \\n\\n---\\n    \\n#### <a href = \"https://twitter.com/deepfates/status/1428779202405355520\">*12:01:21*</a>\\n\\n<font size=\"5\">GF can probably not imagine what a mess I am when she\\'s not around. considering what a mess I am when she is around. but it\\'s a considerable leap in magnitude</font>\\n\\n\\n\\n🗨️ 4 ♺ 1 \\U0001f90d  29   \\n\\n---\\n    \\n#### <a href = \"https://twitter.com/deepfates/status/1428780182295437318\">*12:05:15*</a>\\n\\n<font size=\"5\">I think the environmental impact of covering the desert in solar panels is underrated. And probably good</font>\\n\\n\\n\\n🗨️ 3 ♺ 0 \\U0001f90d  11   \\n\\n---\\n    \\n#### <a href = \"https://twitter.com/deepfates/status/1428780758253121545\">*12:07:32*</a>\\n\\n<font size=\"5\">thinking of becoming more earnest. anybody know how to cultivate naivete</font>\\n\\n\\n\\n🗨️ 34 ♺ 10 \\U0001f90d  138   \\n\\n---\\n    \\n#### <a href = \"https://twitter.com/deepfates/status/1428806387006509058\">*13:49:23*</a>\\n\\n<font size=\"5\">is this sincerity 💁🤐   https://t.co/mJFqdvxwud</font>\\n\\n\\n\\n🗨️ 1 ♺ 0 \\U0001f90d  5   \\n\\n---\\n    \\n#### <a href = \"https://twitter.com/deepfates/status/1428807617149870090\">*13:54:16*</a>\\n\\n<font size=\"5\">oh no  not again   https://t.co/wi63uOF6O9</font>\\n\\n\\n\\n🗨️ 0 ♺ 0 \\U0001f90d  1   \\n\\n---\\n    \\n#### <a href = \"https://twitter.com/deepfates/status/1428808321038012419\">*13:57:04*</a>\\n\\n<font size=\"5\">me</font>\\n\\n\\n\\n🗨️ 1 ♺ 0 \\U0001f90d  23   \\n\\n---\\n    \\n#### <a href = \"https://twitter.com/deepfates/status/1428810548876038146\">*14:05:55*</a>\\n\\n<font size=\"5\">these are the Kegan stages everyone\\'s been talking about?  https://t.co/mHbNRDKxDE</font>\\n\\n![image from twitter](/./images/E9QnnzyX0AEvlQH.jpg)\\n\\n\\n🗨️ 10 ♺ 4 \\U0001f90d  62   \\n\\n---\\n    \\n#### <a href = \"https://twitter.com/deepfates/status/1428828710199648258\">*15:18:05*</a>\\n\\n<font size=\"5\">I like to think I have \"some guy\" energy</font>\\n\\n\\n\\n🗨️ 3 ♺ 1 \\U0001f90d  19   \\n\\n---\\n    \\n#### <a href = \"https://twitter.com/deepfates/status/1428840780442083331\">*16:06:03*</a>\\n\\n<font size=\"5\">A nontrivial number of people are drawn to Montessori primarily because Montessori is beautiful and they believe there is power in beauty.</font>\\n\\n\\n\\n🗨️ 3 ♺ 1 \\U0001f90d  19   \\n\\n---\\n    \\n#### <a href = \"https://twitter.com/deepfates/status/1428842737755885568\">*16:13:49*</a>\\n\\n<font size=\"5\">have you tried becoming the problem?</font>\\n\\n\\n\\n🗨️ 15 ♺ 14 \\U0001f90d  83   \\n\\n---\\n    \\n#### <a href = \"https://twitter.com/deepfates/status/1428844222904508418\">*16:19:44*</a>\\n\\n<font size=\"5\">a not fun thing with Twitter, as many MMORPGs, is that some of the most annoying people are on here</font>\\n\\n\\n\\n🗨️ 1 ♺ 0 \\U0001f90d  7   \\n\\n---\\n    \\n#### <a href = \"https://twitter.com/deepfates/status/1428844672659697667\">*16:21:31*</a>\\n\\n<font size=\"5\">vibing while the world burns</font>\\n\\n\\n\\n🗨️ 0 ♺ 3 \\U0001f90d  25   \\n\\n---\\n    \\n#### <a href = \"https://twitter.com/deepfates/status/1428848193803104263\">*16:35:30*</a>\\n\\n<font size=\"5\">they\\'re letting Richard Powers write ANOTHER BOOK?!</font>\\n\\n\\n\\n🗨️ 2 ♺ 0 \\U0001f90d  5   \\n\\n---\\n    \\n#### <a href = \"https://twitter.com/deepfates/status/1428870634298355712\">*18:04:41*</a>\\n\\n<font size=\"5\">Who made the planning fallacy recursive? I bet that seemed like a great hack at the time</font>\\n\\n\\n\\n🗨️ 2 ♺ 0 \\U0001f90d  11   \\n\\n---\\n    \\n#### <a href = \"https://twitter.com/deepfates/status/1428871698821091330\">*18:08:54*</a>\\n\\n<font size=\"5\">I\\'m at the intersection of Art and Technology. are... did you guys pick a different place to meet or... ?  It was Friday right?</font>\\n\\n\\n\\n🗨️ 2 ♺ 3 \\U0001f90d  28   \\n\\n---\\n    \\n#### <a href = \"https://twitter.com/deepfates/status/1428895473721516032\">*19:43:23*</a>\\n\\n<font size=\"5\">Not everyone in the world is just so gorgeous and beautiful and wonderful. When are the people on Instagram going to accept that all of their friends are of mediocre hotness</font>\\n\\n\\n\\n🗨️ 0 ♺ 0 \\U0001f90d  6   \\n\\n---\\n    \\n#### <a href = \"https://twitter.com/deepfates/status/1428896827936415746\">*19:48:46*</a>\\n\\n<font size=\"5\">anytime I listen to 4:44 I get an earworm of the melody from Caught Their Eyes. is this just because it\\'s so out of key? or is it possibly actually good?</font>\\n\\n\\n\\n🗨️ 1 ♺ 0 \\U0001f90d  3   \\n\\n---\\n    \\n#### <a href = \"https://twitter.com/deepfates/status/1428897278094299137\">*19:50:33*</a>\\n\\n<font size=\"5\">anytime there\\'s something in music where I don\\'t know if I love it or I hate it, usually I end up discovering that I love it.  first time I remember this happening was with auto-tune. It was like a switch flipped and suddenly this thing that I was so against, I was all about</font>\\n\\n\\n\\n🗨️ 0 ♺ 1 \\U0001f90d  5   \\n\\n---\\n    \\n#### <a href = \"https://twitter.com/deepfates/status/1428902835157016581\">*20:12:38*</a>\\n\\n<font size=\"5\">Well I dropped the bike. but I\\'m fine!   apparently you can\\'t do 20 mi an hour around a corner like that.  little scrape on my hand. Not even bleeding. The right pedal took most of the damage too lol  It was bound to happen. Glad I got it out of the way early</font>\\n\\n\\n\\n🗨️ 3 ♺ 0 \\U0001f90d  15   \\n\\n---\\n    \\n#### <a href = \"https://twitter.com/deepfates/status/1428903273726054402\">*20:14:22*</a>\\n\\n<font size=\"5\">some of y\\'all should worry less about your BMI and more about your GMI</font>\\n\\n\\n\\n🗨️ 4 ♺ 4 \\U0001f90d  40   \\n\\n---\\n    \\n#### <a href = \"https://twitter.com/deepfates/status/1428903696109162501\">*20:16:03*</a>\\n\\n<font size=\"5\">remember that the bike is an electric fat bike and weighs about 70 lb. if you\\'re trying to calculate how much damage actually went down  https://t.co/5hmVzsZsrZ</font>\\n\\n![image from twitter](/./images/E9R8Vs0XMAYvUM_.jpg)\\n\\n\\n🗨️ 1 ♺ 0 \\U0001f90d  10   \\n\\n---\\n    \\n#### <a href = \"https://twitter.com/deepfates/status/1428913191254323215\">*20:53:47*</a>\\n\\n<font size=\"5\">When the vibe gets ominous   https://t.co/DBM3SCZ5xl</font>\\n\\n\\n\\n🗨️ 0 ♺ 0 \\U0001f90d  6   \\n\\n---\\n    \\n#### <a href = \"https://twitter.com/deepfates/status/1428915223688192000\">*21:01:51*</a>\\n\\n<font size=\"5\">A fun thing about being shirtless at home is spilling a \"sexy amount\\' of mustard on your body</font>\\n\\n\\n\\n🗨️ 2 ♺ 6 \\U0001f90d  28   \\n\\n---\\n    \\n#### <a href = \"https://twitter.com/deepfates/status/1428922226548559878\">*21:29:41*</a>\\n\\n<font size=\"5\">oh I found some more on my leg</font>\\n\\n\\n\\n🗨️ 0 ♺ 0 \\U0001f90d  4   \\n\\n---\\n    \\n#### <a href = \"https://twitter.com/deepfates/status/1428925537901334530\">*21:42:51*</a>\\n\\n<font size=\"5\">I live on a road that used to be the colonial trail to the farthest edges of New Spain.   It has seen continuous traffic and human activity since the 1500s.   A sedan just drove by blasting \"In The End\" by Linkin Park</font>\\n\\n\\n\\n🗨️ 1 ♺ 0 \\U0001f90d  20   \\n\\n---\\n    \\n#### <a href = \"https://twitter.com/deepfates/status/1428926282620878850\">*21:45:48*</a>\\n\\n<font size=\"5\">incredible sentence. maybe I do need whimsy in my life again</font>\\n\\n\\n\\n🗨️ 1 ♺ 0 \\U0001f90d  4   \\n\\n---\\n    \\n#### <a href = \"https://twitter.com/deepfates/status/1428929183988781057\">*21:57:20*</a>\\n\\n<font size=\"5\">This is the worst thing I\\'ve ever heard and it makes me hate programming and myself. truly a cursed experience which I will never want to hear again and yet will be compelled to listen to until it drives me insane</font>\\n\\n\\n\\n🗨️ 3 ♺ 1 \\U0001f90d  15   \\n\\n---\\n    \\n#### <a href = \"https://twitter.com/deepfates/status/1428931011921031183\">*22:04:36*</a>\\n\\n<font size=\"5\">how do i contact the SCP people. where is the quarantine for this</font>\\n\\n\\n\\n🗨️ 1 ♺ 0 \\U0001f90d  6   \\n\\n---\\n    \\n#### <a href = \"https://twitter.com/deepfates/status/1428933509079609345\">*22:14:31*</a>\\n\\n<font size=\"5\">the internet of beefs is way more fun if you have an automatic meme cannon</font>\\n\\n\\n\\n🗨️ 0 ♺ 0 \\U0001f90d  6   \\n\\n---\\n    \\n#### <a href = \"https://twitter.com/deepfates/status/1428935074960003072\">*22:20:44*</a>\\n\\n<font size=\"5\">twitter can be a really fun game to play but it doesn\\'t have a map. games are cooler with maps, i know that much.  what do you think twitter\\'s map would look like</font>\\n\\n\\n\\n🗨️ 11 ♺ 3 \\U0001f90d  48   \\n\\n---\\n    \\n#### <a href = \"https://twitter.com/deepfates/status/1428944006445248515\">*22:56:14*</a>\\n\\n<font size=\"5\">is this cozy  https://t.co/dHeZTuikap</font>\\n\\n![image from twitter](/./images/E9Sg_dUXEAsAXvQ.png)\\n\\n\\n🗨️ 1 ♺ 0 \\U0001f90d  17   \\n\\n---\\n    \\n#### <a href = \"https://twitter.com/deepfates/status/1428944801550962691\">*22:59:23*</a>\\n\\n<font size=\"5\">is this cozy  https://t.co/UfxERawIFa</font>\\n\\n![image from twitter](/./images/E9ShuOcWQAMREAf.png)\\n\\n\\n🗨️ 1 ♺ 0 \\U0001f90d  3   \\n\\n---\\n    \\n#### <a href = \"https://twitter.com/deepfates/status/1428944858484514819\">*22:59:37*</a>\\n\\n<font size=\"5\">is this cozy? also w2c  https://t.co/Medojhhyhy</font>\\n\\n![image from twitter](/./images/E9ShxhRWUAYCS5e.png)\\n\\n\\n🗨️ 1 ♺ 0 \\U0001f90d  3   \\n\\n---\\n    \\n#### <a href = \"https://twitter.com/deepfates/status/1428944935097667586\">*22:59:55*</a>\\n\\n<font size=\"5\">is this cozy? is this group chat  https://t.co/cQHFKNNjbe</font>\\n\\n![image from twitter](/./images/E9Sh19lXMAYJWBm.png)\\n\\n\\n🗨️ 1 ♺ 0 \\U0001f90d  6   \\n\\n---\\n    \\n#### <a href = \"https://twitter.com/deepfates/status/1428945035723214852\">*23:00:19*</a>\\n\\n<font size=\"5\">this has to be cozy right  https://t.co/aagGFaUKSr</font>\\n\\n![image from twitter](/./images/E9Sh7xpWEAEc5Jq.png)\\n\\n\\n🗨️ 1 ♺ 1 \\U0001f90d  3   \\n\\n---\\n    \\n#### <a href = \"https://twitter.com/deepfates/status/1428945295744897025\">*23:01:21*</a>\\n\\n<font size=\"5\">i iknow this shit cozy  https://t.co/SufBVPHCWh</font>\\n\\n![image from twitter](/./images/E9SiK9FWEAQEj9O.png)\\n\\n\\n🗨️ 1 ♺ 2 \\U0001f90d  9   \\n\\n---\\n    \\n#### <a href = \"https://twitter.com/deepfates/status/1428946081308610566\">*23:04:28*</a>\\n\\n<font size=\"5\">seems cozy  https://t.co/2pnw1XTqSc</font>\\n\\n![image from twitter](/./images/E9Si4rkWQAM5zc-.png)\\n\\n\\n🗨️ 1 ♺ 0 \\U0001f90d  3   \\n\\n---\\n    \\n#### <a href = \"https://twitter.com/deepfates/status/1428946230869176322\">*23:05:04*</a>\\n\\n<font size=\"5\">nobody likes this image  https://t.co/89i7gw4cPh</font>\\n\\n![image from twitter](/./images/E9SjBU-XEAM19no.png)\\n\\n\\n🗨️ 0 ♺ 1 \\U0001f90d  12   \\n\\n---\\n    \\n#### <a href = \"https://twitter.com/deepfates/status/1428946891484577794\">*23:07:42*</a>\\n\\n<font size=\"5\">cozy fs  https://t.co/V9R6QBwgXl</font>\\n\\n![image from twitter](/./images/E9Sjm6PWYAAK6JR.png)\\n\\n\\n🗨️ 1 ♺ 0 \\U0001f90d  3   \\n\\n---\\n    \\n#### <a href = \"https://twitter.com/deepfates/status/1428947078273802241\">*23:08:26*</a>\\n\\n<font size=\"5\">surprised this isn\\'t already somebody\\'s whole cozy account  https://t.co/2qy1mWioxw</font>\\n\\n![image from twitter](/./images/E9SjyIzWYAMuqEw.png)\\n\\n\\n🗨️ 2 ♺ 1 \\U0001f90d  4   \\n\\n---\\n    \\n#### <a href = \"https://twitter.com/deepfates/status/1428948321738047489\">*23:13:23*</a>\\n\\n<font size=\"5\">cowzy  https://t.co/jvOdhsdBlO</font>\\n\\n![image from twitter](/./images/E9Sk7HOXIAIVKWM.png)\\n\\n\\n🗨️ 2 ♺ 4 \\U0001f90d  13   \\n\\n---\\n    \\n#### <a href = \"https://twitter.com/deepfates/status/1428948574080016388\">*23:14:23*</a>\\n\\n<font size=\"5\">whne yr getting cozy in the morngingin  https://t.co/JUHhVvuexW</font>\\n\\n![image from twitter](/./images/E9SlJvpXIAA0-Q-.png)\\n\\n\\n🗨️ 2 ♺ 0 \\U0001f90d  10   \\n\\n---\\n    \\n#### <a href = \"https://twitter.com/deepfates/status/1428949863576875009\">*23:19:30*</a>\\n\\n<font size=\"5\">this may be the coziest image  https://t.co/zAEFfrFEQT</font>\\n\\n![image from twitter](/./images/E9SmUyOWUAEF19Z.png)\\n\\n\\n🗨️ 0 ♺ 0 \\U0001f90d  4   \\n\\n---\\n    \\n#### <a href = \"https://twitter.com/deepfates/status/1428950171208110086\">*23:20:44*</a>\\n\\n<font size=\"5\">i\\'m just saying...  https://t.co/uTjIZKL0z2</font>\\n\\n![image from twitter](/./images/E9SmmqaWYAUXa7I.png)\\n\\n\\n🗨️ 10 ♺ 2 \\U0001f90d  57   \\n\\n---\\n    \\n            '"
      ]
     },
     "execution_count": 19,
     "metadata": {},
     "output_type": "execute_result"
    }
   ],
   "source": [
    "y_md"
   ]
  },
  {
   "cell_type": "code",
   "execution_count": 20,
   "metadata": {
    "execution": {
     "iopub.execute_input": "2021-08-21T21:05:37.092277Z",
     "iopub.status.busy": "2021-08-21T21:05:37.092104Z",
     "iopub.status.idle": "2021-08-21T21:05:37.095181Z",
     "shell.execute_reply": "2021-08-21T21:05:37.094659Z",
     "shell.execute_reply.started": "2021-08-21T21:05:37.092247Z"
    },
    "tags": []
   },
   "outputs": [],
   "source": [
    "with open(f'../_posts/tweets/{yesterday}-tweets.md', 'w') as f:\n",
    "    print(y_md, file=f)"
   ]
  },
  {
   "cell_type": "markdown",
   "metadata": {},
   "source": [
    "Okay, that'll do for now. It prints a chronological page of tweets for each day. Linking, video and oter people's tweets will have to come later.\n",
    "\n",
    "I'll wrap that behavior in a function and pass it my tweets and a set of dates when i have tweeted."
   ]
  },
  {
   "cell_type": "code",
   "execution_count": 21,
   "metadata": {
    "execution": {
     "iopub.execute_input": "2021-08-21T21:05:37.360960Z",
     "iopub.status.busy": "2021-08-21T21:05:37.360276Z",
     "iopub.status.idle": "2021-08-21T21:05:37.366852Z",
     "shell.execute_reply": "2021-08-21T21:05:37.366349Z",
     "shell.execute_reply.started": "2021-08-21T21:05:37.360874Z"
    },
    "tags": []
   },
   "outputs": [],
   "source": [
    "def write_day_page(day, tweets):\n",
    "    tweets = [tw for tw in tweets if tw.datestamp == day]\n",
    "    sorted_tweets = sorted(tweets, key=lambda x: x.datetime)\n",
    "    md = get_md([get_tweet(t) for t in sorted_tweets], day)\n",
    "    with open(f'../_posts/tweets/{day}-tweets.md', 'w') as f:\n",
    "        print(md, file=f)"
   ]
  },
  {
   "cell_type": "code",
   "execution_count": 22,
   "metadata": {
    "execution": {
     "iopub.execute_input": "2021-08-21T21:05:37.978160Z",
     "iopub.status.busy": "2021-08-21T21:05:37.977981Z",
     "iopub.status.idle": "2021-08-21T21:05:37.980868Z",
     "shell.execute_reply": "2021-08-21T21:05:37.980391Z",
     "shell.execute_reply.started": "2021-08-21T21:05:37.978129Z"
    },
    "tags": []
   },
   "outputs": [],
   "source": [
    "self_tweets = [t for t in tweets if \"@\" not in t.tweet]"
   ]
  },
  {
   "cell_type": "code",
   "execution_count": 23,
   "metadata": {
    "execution": {
     "iopub.execute_input": "2021-08-21T21:05:38.266593Z",
     "iopub.status.busy": "2021-08-21T21:05:38.265914Z",
     "iopub.status.idle": "2021-08-21T21:05:38.272555Z",
     "shell.execute_reply": "2021-08-21T21:05:38.271988Z",
     "shell.execute_reply.started": "2021-08-21T21:05:38.266507Z"
    },
    "tags": []
   },
   "outputs": [
    {
     "data": {
      "text/plain": [
       "382"
      ]
     },
     "execution_count": 23,
     "metadata": {},
     "output_type": "execute_result"
    }
   ],
   "source": [
    "len(self_tweets)"
   ]
  },
  {
   "cell_type": "code",
   "execution_count": 24,
   "metadata": {
    "execution": {
     "iopub.execute_input": "2021-08-21T21:05:38.658955Z",
     "iopub.status.busy": "2021-08-21T21:05:38.658787Z",
     "iopub.status.idle": "2021-08-21T21:05:38.662401Z",
     "shell.execute_reply": "2021-08-21T21:05:38.661961Z",
     "shell.execute_reply.started": "2021-08-21T21:05:38.658936Z"
    },
    "tags": []
   },
   "outputs": [
    {
     "data": {
      "text/plain": [
       "53"
      ]
     },
     "execution_count": 24,
     "metadata": {},
     "output_type": "execute_result"
    }
   ],
   "source": [
    "len([tw for tw in self_tweets if tw.datestamp == yesterday])"
   ]
  },
  {
   "cell_type": "code",
   "execution_count": 25,
   "metadata": {
    "execution": {
     "iopub.execute_input": "2021-08-21T21:05:39.824423Z",
     "iopub.status.busy": "2021-08-21T21:05:39.823728Z",
     "iopub.status.idle": "2021-08-21T21:05:43.681084Z",
     "shell.execute_reply": "2021-08-21T21:05:43.680434Z",
     "shell.execute_reply.started": "2021-08-21T21:05:39.824339Z"
    },
    "tags": []
   },
   "outputs": [],
   "source": [
    "write_day_page(yesterday, self_tweets)"
   ]
  },
  {
   "cell_type": "code",
   "execution_count": 26,
   "metadata": {
    "execution": {
     "iopub.execute_input": "2021-08-21T21:05:43.682163Z",
     "iopub.status.busy": "2021-08-21T21:05:43.681960Z",
     "iopub.status.idle": "2021-08-21T21:05:43.685246Z",
     "shell.execute_reply": "2021-08-21T21:05:43.684503Z",
     "shell.execute_reply.started": "2021-08-21T21:05:43.682140Z"
    },
    "tags": []
   },
   "outputs": [],
   "source": [
    "days = set([t.datestamp for t in self_tweets])"
   ]
  },
  {
   "cell_type": "code",
   "execution_count": 27,
   "metadata": {
    "execution": {
     "iopub.execute_input": "2021-08-21T21:05:43.686574Z",
     "iopub.status.busy": "2021-08-21T21:05:43.686352Z",
     "iopub.status.idle": "2021-08-21T21:05:43.691626Z",
     "shell.execute_reply": "2021-08-21T21:05:43.691179Z",
     "shell.execute_reply.started": "2021-08-21T21:05:43.686554Z"
    },
    "tags": []
   },
   "outputs": [],
   "source": [
    "from tqdm import tqdm"
   ]
  },
  {
   "cell_type": "code",
   "execution_count": null,
   "metadata": {
    "execution": {
     "iopub.execute_input": "2021-08-21T21:05:43.692508Z",
     "iopub.status.busy": "2021-08-21T21:05:43.692363Z"
    },
    "tags": []
   },
   "outputs": [
    {
     "name": "stderr",
     "output_type": "stream",
     "text": [
      " 80%|████████  | 8/10 [00:08<00:01,  1.03it/s]"
     ]
    }
   ],
   "source": [
    "for day in tqdm(days):\n",
    "    write_day_page(day, self_tweets)"
   ]
  },
  {
   "cell_type": "markdown",
   "metadata": {},
   "source": [
    "I would also liek to do analysis to see how often I tweet. And make a big list of links. Maybe next time.\n",
    "\n",
    "For now you can find these secret tweet archives by searching in the [Explore](/explore) page"
   ]
  },
  {
   "cell_type": "code",
   "execution_count": null,
   "metadata": {
    "tags": []
   },
   "outputs": [],
   "source": [
    "days"
   ]
  },
  {
   "cell_type": "code",
   "execution_count": 102,
   "metadata": {
    "execution": {
     "iopub.execute_input": "2021-08-21T19:51:40.217442Z",
     "iopub.status.busy": "2021-08-21T19:51:40.216379Z",
     "iopub.status.idle": "2021-08-21T19:51:40.228587Z",
     "shell.execute_reply": "2021-08-21T19:51:40.226616Z",
     "shell.execute_reply.started": "2021-08-21T19:51:40.217345Z"
    },
    "tags": []
   },
   "outputs": [
    {
     "ename": "SyntaxError",
     "evalue": "invalid syntax (<ipython-input-102-3dfcbe7a94c7>, line 1)",
     "output_type": "error",
     "traceback": [
      "\u001b[0;36m  File \u001b[0;32m\"<ipython-input-102-3dfcbe7a94c7>\"\u001b[0;36m, line \u001b[0;32m1\u001b[0m\n\u001b[0;31m    *Sometimes I have to edit the files printed before, because twint only reaches back so far*\u001b[0m\n\u001b[0m               ^\u001b[0m\n\u001b[0;31mSyntaxError\u001b[0m\u001b[0;31m:\u001b[0m invalid syntax\n"
     ]
    }
   ],
   "source": [
    "*Sometimes I have to edit the files printed before, because twint only reaches back so far*"
   ]
  },
  {
   "cell_type": "code",
   "execution_count": 104,
   "metadata": {
    "execution": {
     "iopub.execute_input": "2021-08-21T19:52:54.406371Z",
     "iopub.status.busy": "2021-08-21T19:52:54.406029Z",
     "iopub.status.idle": "2021-08-21T19:52:54.409920Z",
     "shell.execute_reply": "2021-08-21T19:52:54.408836Z",
     "shell.execute_reply.started": "2021-08-21T19:52:54.406342Z"
    }
   },
   "outputs": [],
   "source": [
    "from pathlib import Path"
   ]
  },
  {
   "cell_type": "code",
   "execution_count": 121,
   "metadata": {
    "execution": {
     "iopub.execute_input": "2021-08-21T19:56:54.908792Z",
     "iopub.status.busy": "2021-08-21T19:56:54.908559Z",
     "iopub.status.idle": "2021-08-21T19:56:54.967369Z",
     "shell.execute_reply": "2021-08-21T19:56:54.966362Z",
     "shell.execute_reply.started": "2021-08-21T19:56:54.908764Z"
    },
    "scrolled": true,
    "tags": []
   },
   "outputs": [
    {
     "name": "stderr",
     "output_type": "stream",
     "text": [
      "489it [00:00, 9396.94it/s]\n"
     ]
    }
   ],
   "source": [
    "for file in tqdm(Path('../_posts/tweets').iterdir()):\n",
    "    if file.suffix == '.md':\n",
    "        with open(file, 'r') as f:\n",
    "            text = f.read()\n",
    "        cleantext = text.replace('/fastpages/','')\n",
    "        with open(file, 'w') as f:\n",
    "            print(cleantext, file=f)\n"
   ]
  },
  {
   "cell_type": "code",
   "execution_count": null,
   "metadata": {},
   "outputs": [],
   "source": []
  }
 ],
 "metadata": {
  "kernelspec": {
   "display_name": "Python 3",
   "language": "python",
   "name": "python3"
  },
  "language_info": {
   "codemirror_mode": {
    "name": "ipython",
    "version": 3
   },
   "file_extension": ".py",
   "mimetype": "text/x-python",
   "name": "python",
   "nbconvert_exporter": "python",
   "pygments_lexer": "ipython3",
   "version": "3.7.7"
  },
  "widgets": {
   "application/vnd.jupyter.widget-state+json": {
    "state": {},
    "version_major": 2,
    "version_minor": 0
   }
  }
 },
 "nbformat": 4,
 "nbformat_minor": 4
}
