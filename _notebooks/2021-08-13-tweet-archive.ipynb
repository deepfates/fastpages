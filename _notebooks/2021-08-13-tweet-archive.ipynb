{
 "cells": [
  {
   "cell_type": "markdown",
   "metadata": {
    "tags": []
   },
   "source": [
    "# Archive my tweets\n",
    "\n",
    "- badges: true\n",
    "- categories: [code, twitter]\n",
    "- hide: true\n"
   ]
  },
  {
   "cell_type": "markdown",
   "metadata": {
    "heading_collapsed": "true",
    "tags": []
   },
   "source": [
    "## I want to extract all the tweets I've ever written and convert them to small markdown files so they show up as \"posts\" on this website.\n",
    "\n",
    "Posts are organized by date, in the traditional blogging format. But so are tweets, kind of? They're listed chronologically anyway. Maybe I could make one post for each day, and then have all the tweets listed on that page. Each one could have its tweet ID as a header, thus having an internal link. Tweets can link to the tweets that precede them, and maybe even backlink to tweets that follow.\n",
    "\n",
    "It's not quite block references, but as a way of keeping my second brain under my ownership it should work. And this way if anyone wants to cancel me they'll have a convenient search box and permalinks for it. Even if my account gets deleted, my bad takes can stay up."
   ]
  },
  {
   "cell_type": "code",
   "execution_count": 1,
   "metadata": {
    "execution": {
     "iopub.execute_input": "2021-10-20T17:55:03.691903Z",
     "iopub.status.busy": "2021-10-20T17:55:03.691548Z",
     "iopub.status.idle": "2021-10-20T17:55:03.704216Z",
     "shell.execute_reply": "2021-10-20T17:55:03.703660Z",
     "shell.execute_reply.started": "2021-10-20T17:55:03.691815Z"
    },
    "tags": []
   },
   "outputs": [
    {
     "data": {
      "text/plain": [
       "'2021-09-12'"
      ]
     },
     "execution_count": 1,
     "metadata": {},
     "output_type": "execute_result"
    }
   ],
   "source": [
    "# Find the last date i ran this\n",
    "from pathlib import Path\n",
    "out_dir = Path('../_posts/tweets/')\n",
    "posts = [o.name for o in out_dir.iterdir()]\n",
    "\n",
    "last_date = sorted(posts)[-2][:10]\n",
    "\n",
    "last_date"
   ]
  },
  {
   "cell_type": "markdown",
   "metadata": {},
   "source": [
    "This :point_up: is a workaround. Sometime after I started archiving my tweets, Twitter changed the API for search. This means that unofficial scrapers like `twint`stopped being able to see tweets from more than a few months ago. Even the in-app search was broken for a while.\n",
    "\n",
    "Fortunately I had already scraped and archived my old tweets, so now I just check to see when the last time I ran this script was and find tweets since that date. This also helps protect me from getting rate-limited by Twitter (they tend to do that if you download 30,000 tweets a few times in a row lol)."
   ]
  },
  {
   "cell_type": "code",
   "execution_count": 2,
   "metadata": {
    "execution": {
     "iopub.execute_input": "2021-10-20T17:55:03.706147Z",
     "iopub.status.busy": "2021-10-20T17:55:03.705733Z",
     "iopub.status.idle": "2021-10-20T17:55:23.251634Z",
     "shell.execute_reply": "2021-10-20T17:55:23.251228Z",
     "shell.execute_reply.started": "2021-10-20T17:55:03.706115Z"
    },
    "scrolled": true,
    "tags": []
   },
   "outputs": [
    {
     "data": {
      "text/plain": [
       "<twint.run.Twint at 0x7fce23268390>"
      ]
     },
     "execution_count": 2,
     "metadata": {},
     "output_type": "execute_result"
    }
   ],
   "source": [
    "#hide_output\n",
    "import twint\n",
    "import nest_asyncio\n",
    "nest_asyncio.apply()\n",
    "\n",
    "\n",
    "c = twint.Config()\n",
    "c.Username = 'deepfates'\n",
    "tweets = []\n",
    "c.Store_object = True\n",
    "c.Store_object_tweets_list = tweets\n",
    "c.Since = last_date\n",
    "c.Hide_output = True\n",
    "twint.run.Profile(c)"
   ]
  },
  {
   "cell_type": "markdown",
   "metadata": {
    "heading_collapsed": "true",
    "tags": []
   },
   "source": [
    "## Check data\n",
    "\n",
    "That gives a dataset of tweets. Let's explore one here, and see some of its metadata."
   ]
  },
  {
   "cell_type": "code",
   "execution_count": 3,
   "metadata": {
    "execution": {
     "iopub.execute_input": "2021-10-20T17:55:23.252843Z",
     "iopub.status.busy": "2021-10-20T17:55:23.252472Z",
     "iopub.status.idle": "2021-10-20T17:55:23.257579Z",
     "shell.execute_reply": "2021-10-20T17:55:23.256705Z",
     "shell.execute_reply.started": "2021-10-20T17:55:23.252808Z"
    },
    "tags": []
   },
   "outputs": [
    {
     "data": {
      "text/plain": [
       "3247"
      ]
     },
     "execution_count": 3,
     "metadata": {},
     "output_type": "execute_result"
    }
   ],
   "source": [
    "len(tweets)"
   ]
  },
  {
   "cell_type": "code",
   "execution_count": 4,
   "metadata": {
    "execution": {
     "iopub.execute_input": "2021-10-20T17:55:23.258685Z",
     "iopub.status.busy": "2021-10-20T17:55:23.258472Z",
     "iopub.status.idle": "2021-10-20T17:55:23.261819Z",
     "shell.execute_reply": "2021-10-20T17:55:23.261102Z",
     "shell.execute_reply.started": "2021-10-20T17:55:23.258644Z"
    },
    "tags": []
   },
   "outputs": [],
   "source": [
    "t = tweets[-1]"
   ]
  },
  {
   "cell_type": "code",
   "execution_count": 5,
   "metadata": {
    "execution": {
     "iopub.execute_input": "2021-10-20T17:55:23.262793Z",
     "iopub.status.busy": "2021-10-20T17:55:23.262624Z",
     "iopub.status.idle": "2021-10-20T17:55:23.268223Z",
     "shell.execute_reply": "2021-10-20T17:55:23.267140Z",
     "shell.execute_reply.started": "2021-10-20T17:55:23.262770Z"
    },
    "tags": []
   },
   "outputs": [
    {
     "data": {
      "text/plain": [
       "('1439019641205055496',\n",
       " '2021-09-17',\n",
       " '2021-09-17 18:28:06 MDT',\n",
       " 1439023391512670210,\n",
       " 4,\n",
       " 'https://twitter.com/deepfates/status/1439023391512670210',\n",
       " [],\n",
       " [],\n",
       " '',\n",
       " 0,\n",
       " [{'screen_name': 'IgorBrigadir', 'name': 'Igor Brigadir', 'id': '495430242'}],\n",
       " False,\n",
       " '',\n",
       " '',\n",
       " 0,\n",
       " '',\n",
       " '',\n",
       " '18:28:06',\n",
       " '-0600',\n",
       " '@IgorBrigadir And it said that one day you will wrestle the very world snake itself! And win',\n",
       " [],\n",
       " 3315205122,\n",
       " '3315205122',\n",
       " '',\n",
       " '',\n",
       " 'deepfates',\n",
       " 0)"
      ]
     },
     "execution_count": 5,
     "metadata": {},
     "output_type": "execute_result"
    }
   ],
   "source": [
    "t.conversation_id, t.datestamp, t.datetime, t.id, t.likes_count, t.link, t.mentions, t.photos, t.quote_url, t.replies_count, t.reply_to, t.retweet, t.retweet_date, t.retweet_id, t.retweets_count, t.source, t.thumbnail, t.timestamp, t.timezone, t.tweet, t.urls, t.user_id, t.user_id_str, t.user_rt, t.user_rt_id, t.username, t.video"
   ]
  },
  {
   "cell_type": "markdown",
   "metadata": {
    "tags": []
   },
   "source": [
    "## Tweet layout functions\n",
    "\n",
    "Many of my tweets have pictures or memes attached, but Twitter only includes the pic.twitter.com URL for these. Here I build a few functions to download the image and squeeze it into a Markdown template for display on my site."
   ]
  },
  {
   "cell_type": "code",
   "execution_count": 6,
   "metadata": {
    "execution": {
     "iopub.execute_input": "2021-10-20T17:55:23.269562Z",
     "iopub.status.busy": "2021-10-20T17:55:23.269391Z",
     "iopub.status.idle": "2021-10-20T17:55:23.271753Z",
     "shell.execute_reply": "2021-10-20T17:55:23.271297Z",
     "shell.execute_reply.started": "2021-10-20T17:55:23.269542Z"
    },
    "tags": []
   },
   "outputs": [],
   "source": [
    "import requests\n",
    "import shutil"
   ]
  },
  {
   "cell_type": "code",
   "execution_count": 36,
   "metadata": {
    "execution": {
     "iopub.execute_input": "2021-10-20T18:04:01.167498Z",
     "iopub.status.busy": "2021-10-20T18:04:01.167278Z",
     "iopub.status.idle": "2021-10-20T18:04:01.172391Z",
     "shell.execute_reply": "2021-10-20T18:04:01.171980Z",
     "shell.execute_reply.started": "2021-10-20T18:04:01.167478Z"
    },
    "tags": []
   },
   "outputs": [],
   "source": [
    "def dl_image(url):\n",
    "    filename = '../images/from_twitter/' + url.split('/')[-1]\n",
    "    r = requests.get(url, stream = True)\n",
    "    if r.status_code == 200:\n",
    "        r.raw.decode_content = True\n",
    "        with open(filename,'wb') as f:\n",
    "            shutil.copyfileobj(r.raw, f)\n",
    "        return(filename)\n",
    "    else:\n",
    "        return(None)\n",
    "    \n",
    "# hacky thing uses [1:] to shave the first '.' off the filename\n",
    "def image_template(filename):\n",
    "    return(f'![image from twitter]({filename[2:]})\\n')\n",
    "\n",
    "    \n",
    "def get_tweet(t):\n",
    "    if t.photos == []:\n",
    "        img_md = ''\n",
    "    else:\n",
    "        img_list = [dl_image(url) for url in t.photos]\n",
    "        img_md = '\\n'.join([image_template(o) for o in img_list])\n",
    "\n",
    "    return(f'''\n",
    "#### <a href = \"{t.link}\">*{t.timestamp}*</a>\n",
    "\n",
    "<font size=\"5\">{t.tweet}</font>\n",
    "\n",
    "{img_md}\n",
    "\n",
    "🗨️ {t.replies_count} ♺ {t.retweets_count} 🤍  {t.likes_count}   \n",
    "\n",
    "---\n",
    "    ''')\n",
    "\n",
    "def get_md(tweets, date):\n",
    "    tweets_text = ''.join(t for t in tweets)\n",
    "    return(f'''---\n",
    "title: deepfates log {date}\n",
    "layout: post\n",
    "toc: true\n",
    "comments: false\n",
    "search_exclude: false\n",
    "categories: [tweets]\n",
    "---\n",
    "\n",
    "{tweets_text}\n",
    "            ''')"
   ]
  },
  {
   "cell_type": "code",
   "execution_count": 37,
   "metadata": {
    "execution": {
     "iopub.execute_input": "2021-10-20T18:04:01.302101Z",
     "iopub.status.busy": "2021-10-20T18:04:01.301848Z",
     "iopub.status.idle": "2021-10-20T18:04:01.304894Z",
     "shell.execute_reply": "2021-10-20T18:04:01.304323Z",
     "shell.execute_reply.started": "2021-10-20T18:04:01.302081Z"
    },
    "tags": []
   },
   "outputs": [],
   "source": [
    "from IPython.display import Markdown"
   ]
  },
  {
   "cell_type": "code",
   "execution_count": 38,
   "metadata": {
    "execution": {
     "iopub.execute_input": "2021-10-20T18:04:02.311332Z",
     "iopub.status.busy": "2021-10-20T18:04:02.311151Z",
     "iopub.status.idle": "2021-10-20T18:04:02.315512Z",
     "shell.execute_reply": "2021-10-20T18:04:02.315045Z",
     "shell.execute_reply.started": "2021-10-20T18:04:02.311309Z"
    },
    "tags": []
   },
   "outputs": [
    {
     "data": {
      "text/plain": [
       "4"
      ]
     },
     "execution_count": 38,
     "metadata": {},
     "output_type": "execute_result"
    }
   ],
   "source": [
    "yesterday = t.datestamp\n",
    "y_tweets = [tw for tw in tweets if tw.datestamp == yesterday]\n",
    "len(y_tweets)"
   ]
  },
  {
   "cell_type": "code",
   "execution_count": 39,
   "metadata": {
    "execution": {
     "iopub.execute_input": "2021-10-20T18:04:02.457125Z",
     "iopub.status.busy": "2021-10-20T18:04:02.456969Z",
     "iopub.status.idle": "2021-10-20T18:04:02.462461Z",
     "shell.execute_reply": "2021-10-20T18:04:02.461813Z",
     "shell.execute_reply.started": "2021-10-20T18:04:02.457107Z"
    },
    "tags": []
   },
   "outputs": [
    {
     "data": {
      "text/markdown": [
       "\n",
       "#### <a href = \"https://twitter.com/deepfates/status/1439023391512670210\">*18:28:06*</a>\n",
       "\n",
       "<font size=\"5\">@IgorBrigadir And it said that one day you will wrestle the very world snake itself! And win</font>\n",
       "\n",
       "\n",
       "\n",
       "🗨️ 0 ♺ 0 🤍  4   \n",
       "\n",
       "---\n",
       "    "
      ],
      "text/plain": [
       "<IPython.core.display.Markdown object>"
      ]
     },
     "execution_count": 39,
     "metadata": {},
     "output_type": "execute_result"
    }
   ],
   "source": [
    "Markdown(get_tweet([tw for tw in tweets if tw.datestamp == yesterday][-1]))"
   ]
  },
  {
   "cell_type": "code",
   "execution_count": 40,
   "metadata": {
    "execution": {
     "iopub.execute_input": "2021-10-20T18:04:02.582507Z",
     "iopub.status.busy": "2021-10-20T18:04:02.582326Z",
     "iopub.status.idle": "2021-10-20T18:04:02.585188Z",
     "shell.execute_reply": "2021-10-20T18:04:02.584779Z",
     "shell.execute_reply.started": "2021-10-20T18:04:02.582486Z"
    },
    "tags": []
   },
   "outputs": [],
   "source": [
    "y_sorted = sorted(y_tweets, key=lambda x: x.datetime)\n",
    "# [tweet.tweet for tweet in y_sorted]"
   ]
  },
  {
   "cell_type": "markdown",
   "metadata": {},
   "source": [
    "Too many replies! Let's limit to just mine for now"
   ]
  },
  {
   "cell_type": "code",
   "execution_count": 41,
   "metadata": {
    "execution": {
     "iopub.execute_input": "2021-10-20T18:04:03.153545Z",
     "iopub.status.busy": "2021-10-20T18:04:03.152866Z",
     "iopub.status.idle": "2021-10-20T18:04:03.158997Z",
     "shell.execute_reply": "2021-10-20T18:04:03.158483Z",
     "shell.execute_reply.started": "2021-10-20T18:04:03.153457Z"
    },
    "tags": []
   },
   "outputs": [],
   "source": [
    "y_md = get_md([get_tweet(t) for t in y_sorted if \"@\" not in t.tweet], yesterday)"
   ]
  },
  {
   "cell_type": "code",
   "execution_count": 42,
   "metadata": {
    "execution": {
     "iopub.execute_input": "2021-10-20T18:04:03.285980Z",
     "iopub.status.busy": "2021-10-20T18:04:03.285560Z",
     "iopub.status.idle": "2021-10-20T18:04:03.293764Z",
     "shell.execute_reply": "2021-10-20T18:04:03.292233Z",
     "shell.execute_reply.started": "2021-10-20T18:04:03.285927Z"
    },
    "tags": []
   },
   "outputs": [
    {
     "data": {
      "text/plain": [
       "136"
      ]
     },
     "execution_count": 42,
     "metadata": {},
     "output_type": "execute_result"
    }
   ],
   "source": [
    "len(y_md)"
   ]
  },
  {
   "cell_type": "code",
   "execution_count": null,
   "metadata": {},
   "outputs": [],
   "source": []
  },
  {
   "cell_type": "code",
   "execution_count": 43,
   "metadata": {
    "execution": {
     "iopub.execute_input": "2021-10-20T18:04:04.207936Z",
     "iopub.status.busy": "2021-10-20T18:04:04.207201Z",
     "iopub.status.idle": "2021-10-20T18:04:04.212899Z",
     "shell.execute_reply": "2021-10-20T18:04:04.212469Z",
     "shell.execute_reply.started": "2021-10-20T18:04:04.207844Z"
    },
    "tags": []
   },
   "outputs": [],
   "source": [
    "with open(f'../_posts/tweets/{yesterday}-tweets.md', 'w') as f:\n",
    "    print(y_md, file=f)"
   ]
  },
  {
   "cell_type": "markdown",
   "metadata": {},
   "source": [
    "## Do the work\n",
    "\n",
    "Okay, that'll do for now. It prints a chronological page of tweets for each day.\n",
    "\n",
    "I'll wrap that behavior in a function and pass it my tweets and a set of dates when i have tweeted."
   ]
  },
  {
   "cell_type": "code",
   "execution_count": 44,
   "metadata": {
    "execution": {
     "iopub.execute_input": "2021-10-20T18:04:26.765197Z",
     "iopub.status.busy": "2021-10-20T18:04:26.765021Z",
     "iopub.status.idle": "2021-10-20T18:04:26.769049Z",
     "shell.execute_reply": "2021-10-20T18:04:26.768295Z",
     "shell.execute_reply.started": "2021-10-20T18:04:26.765178Z"
    },
    "tags": []
   },
   "outputs": [],
   "source": [
    "def write_day_page(day, tweets):\n",
    "    tweets = [tw for tw in tweets if tw.datestamp == day]\n",
    "    sorted_tweets = sorted(tweets, key=lambda x: x.datetime)\n",
    "    md = get_md([get_tweet(t) for t in sorted_tweets], day)\n",
    "    with open(f'../_posts/tweets/{day}-tweets.md', 'w') as f:\n",
    "        print(md, file=f)"
   ]
  },
  {
   "cell_type": "code",
   "execution_count": 45,
   "metadata": {
    "execution": {
     "iopub.execute_input": "2021-10-20T18:04:26.886108Z",
     "iopub.status.busy": "2021-10-20T18:04:26.885950Z",
     "iopub.status.idle": "2021-10-20T18:04:26.890404Z",
     "shell.execute_reply": "2021-10-20T18:04:26.889802Z",
     "shell.execute_reply.started": "2021-10-20T18:04:26.886090Z"
    },
    "tags": []
   },
   "outputs": [
    {
     "data": {
      "text/plain": [
       "661"
      ]
     },
     "execution_count": 45,
     "metadata": {},
     "output_type": "execute_result"
    }
   ],
   "source": [
    "self_tweets = [t for t in tweets if \"@\" not in t.tweet]\n",
    "\n",
    "len(self_tweets)"
   ]
  },
  {
   "cell_type": "code",
   "execution_count": 46,
   "metadata": {
    "execution": {
     "iopub.execute_input": "2021-10-20T18:04:26.999216Z",
     "iopub.status.busy": "2021-10-20T18:04:26.998926Z",
     "iopub.status.idle": "2021-10-20T18:04:27.003319Z",
     "shell.execute_reply": "2021-10-20T18:04:27.002790Z",
     "shell.execute_reply.started": "2021-10-20T18:04:26.999180Z"
    },
    "tags": []
   },
   "outputs": [
    {
     "data": {
      "text/plain": [
       "33"
      ]
     },
     "execution_count": 46,
     "metadata": {},
     "output_type": "execute_result"
    }
   ],
   "source": [
    "days = set([t.datestamp for t in self_tweets])\n",
    "\n",
    "len(days)"
   ]
  },
  {
   "cell_type": "code",
   "execution_count": 47,
   "metadata": {
    "execution": {
     "iopub.execute_input": "2021-10-20T18:04:27.356924Z",
     "iopub.status.busy": "2021-10-20T18:04:27.356693Z",
     "iopub.status.idle": "2021-10-20T18:04:27.359771Z",
     "shell.execute_reply": "2021-10-20T18:04:27.359245Z",
     "shell.execute_reply.started": "2021-10-20T18:04:27.356901Z"
    },
    "tags": []
   },
   "outputs": [],
   "source": [
    "from tqdm import tqdm"
   ]
  },
  {
   "cell_type": "code",
   "execution_count": null,
   "metadata": {
    "execution": {
     "iopub.execute_input": "2021-10-20T18:04:27.540116Z",
     "iopub.status.busy": "2021-10-20T18:04:27.539886Z"
    },
    "tags": []
   },
   "outputs": [
    {
     "name": "stderr",
     "output_type": "stream",
     "text": [
      "  6%|▌         | 2/33 [00:00<00:16,  1.89it/s]"
     ]
    }
   ],
   "source": [
    "for day in tqdm(days):\n",
    "    write_day_page(day, self_tweets)"
   ]
  },
  {
   "cell_type": "markdown",
   "metadata": {},
   "source": [
    "I would also like to do analysis to see how often I tweet, and other facts. And maybe make a big list of links. Maybe next time.\n",
    "\n",
    "For now you can find these secret tweet archives by searching in the [Explore](/explore) page. The days archived this time are as follows."
   ]
  },
  {
   "cell_type": "code",
   "execution_count": 34,
   "metadata": {
    "execution": {
     "iopub.execute_input": "2021-10-20T18:00:12.552469Z",
     "iopub.status.busy": "2021-10-20T18:00:12.552156Z",
     "iopub.status.idle": "2021-10-20T18:00:12.557783Z",
     "shell.execute_reply": "2021-10-20T18:00:12.556733Z",
     "shell.execute_reply.started": "2021-10-20T18:00:12.552429Z"
    },
    "tags": []
   },
   "outputs": [
    {
     "data": {
      "text/plain": [
       "{'2021-09-18',\n",
       " '2021-09-19',\n",
       " '2021-09-20',\n",
       " '2021-09-21',\n",
       " '2021-09-22',\n",
       " '2021-09-23',\n",
       " '2021-09-24',\n",
       " '2021-09-25',\n",
       " '2021-09-26',\n",
       " '2021-09-27',\n",
       " '2021-09-28',\n",
       " '2021-09-29',\n",
       " '2021-09-30',\n",
       " '2021-10-01',\n",
       " '2021-10-02',\n",
       " '2021-10-03',\n",
       " '2021-10-04',\n",
       " '2021-10-05',\n",
       " '2021-10-06',\n",
       " '2021-10-07',\n",
       " '2021-10-08',\n",
       " '2021-10-09',\n",
       " '2021-10-10',\n",
       " '2021-10-11',\n",
       " '2021-10-12',\n",
       " '2021-10-13',\n",
       " '2021-10-14',\n",
       " '2021-10-15',\n",
       " '2021-10-16',\n",
       " '2021-10-17',\n",
       " '2021-10-18',\n",
       " '2021-10-19',\n",
       " '2021-10-20'}"
      ]
     },
     "execution_count": 34,
     "metadata": {},
     "output_type": "execute_result"
    }
   ],
   "source": [
    "days"
   ]
  },
  {
   "cell_type": "code",
   "execution_count": null,
   "metadata": {},
   "outputs": [],
   "source": []
  }
 ],
 "metadata": {
  "kernelspec": {
   "display_name": "Python 3",
   "language": "python",
   "name": "python3"
  },
  "language_info": {
   "codemirror_mode": {
    "name": "ipython",
    "version": 3
   },
   "file_extension": ".py",
   "mimetype": "text/x-python",
   "name": "python",
   "nbconvert_exporter": "python",
   "pygments_lexer": "ipython3",
   "version": "3.7.7"
  },
  "widgets": {
   "application/vnd.jupyter.widget-state+json": {
    "state": {},
    "version_major": 2,
    "version_minor": 0
   }
  }
 },
 "nbformat": 4,
 "nbformat_minor": 4
}
