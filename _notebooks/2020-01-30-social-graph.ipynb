{
 "cells": [
  {
   "cell_type": "code",
   "execution_count": null,
   "metadata": {},
   "outputs": [],
   "source": []
  },
  {
   "cell_type": "markdown",
   "metadata": {},
   "source": [
    "# Social Graph\n",
    "> an exercise in internet cartography\n",
    "- categories: [code, twitter]\n",
    "- badges: false\n",
    "- image: images/social-graph.jpg"
   ]
  },
  {
   "cell_type": "markdown",
   "metadata": {},
   "source": [
    "I like being on Twitter, and I have studied their algorithms and graph structures from several angles. Here are some of the maps I have made of my twitter circles over the years:"
   ]
  },
  {
   "cell_type": "markdown",
   "metadata": {},
   "source": [
    "> twitter: https://twitter.com/deepfates/status/1222950709798162433\n",
    "\n",
    "> twitter: https://twitter.com/deepfates/status/1346879388177080320\n",
    "\n",
    "> twitter: https://twitter.com/deepfates/status/1346886970107162633\n",
    "\n",
    "> twitter: https://twitter.com/deepfates/status/1349504913227726850\n",
    "\n",
    "> twitter: https://twitter.com/deepfates/status/1403219539165319177\n",
    "\n",
    "> twitter: https://twitter.com/deepfates/status/1403352422479646722\n",
    "\n",
    "> twitter: https://twitter.com/deepfates/status/1403356278777253891\n",
    "\n",
    "> twitter: https://twitter.com/deepfates/status/1409204099795595269\n",
    "\n",
    "> twitter: https://twitter.com/deepfates/status/1409245684067454980\n",
    "\n",
    "> twitter: https://twitter.com/deepfates/status/1414401310603063303"
   ]
  },
  {
   "cell_type": "code",
   "execution_count": null,
   "metadata": {},
   "outputs": [],
   "source": []
  }
 ],
 "metadata": {
  "kernelspec": {
   "display_name": "Python 3",
   "language": "python",
   "name": "python3"
  },
  "language_info": {
   "codemirror_mode": {
    "name": "ipython",
    "version": 3
   },
   "file_extension": ".py",
   "mimetype": "text/x-python",
   "name": "python",
   "nbconvert_exporter": "python",
   "pygments_lexer": "ipython3",
   "version": "3.7.7"
  },
  "widgets": {
   "application/vnd.jupyter.widget-state+json": {
    "state": {},
    "version_major": 2,
    "version_minor": 0
   }
  }
 },
 "nbformat": 4,
 "nbformat_minor": 4
}
