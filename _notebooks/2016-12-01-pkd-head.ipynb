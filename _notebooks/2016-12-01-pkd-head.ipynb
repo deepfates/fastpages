{
 "cells": [
  {
   "cell_type": "code",
   "execution_count": null,
   "metadata": {},
   "outputs": [],
   "source": []
  },
  {
   "cell_type": "markdown",
   "metadata": {},
   "source": [
    "# PKD's Head\n",
    "> a terrible reanimation of a 20th century prophet\n",
    "- categories: [bots]\n",
    "- badges: false\n",
    "- image: images/pkd.jpg"
   ]
  },
  {
   "cell_type": "markdown",
   "metadata": {},
   "source": [
    "## A Twitter bot I built in 2016. Status: active. Find [PKD's Head on twitter](https://twitter.com/pkd_head):\n",
    "\n",
    "> twitter: https://twitter.com/pkd_head/status/1161221524893945857\n",
    "\n",
    "*Built with `markovify` and `tweepy`. Hosted on `Heroku` free plan somewhere but I've lost the password...*\n",
    "\n",
    "---"
   ]
  },
  {
   "cell_type": "markdown",
   "metadata": {},
   "source": [
    "This bot thinks it is Philip K. Dick, the 20th century sci-fi author. PKD wrote a number of books that struggled with the nature of reality and self. In the 1970s he had an experience that he variously attributed to aliens, Gnostic gods or the malfunctioning of his own brain. \n",
    "\n",
    "In the early 2000s a group of engineers built a working robot that replicated PKD’s head and spoke from recordings of his own voice. On their flight to San Francisco to deliver PKD’s head to the Googlemen, the android was stolen. It never reappeared.\n",
    "\n",
    "I wondered what a robot who wasn’t sure if it was Philip K. Dick or a simulated consciousness would think about. Once activated, I felt pity for @pkd_head, but I can’t just turn him off — wouldn’t that be like killing him?\n"
   ]
  }
 ],
 "metadata": {
  "kernelspec": {
   "display_name": "Python 3",
   "language": "python",
   "name": "python3"
  },
  "language_info": {
   "codemirror_mode": {
    "name": "ipython",
    "version": 3
   },
   "file_extension": ".py",
   "mimetype": "text/x-python",
   "name": "python",
   "nbconvert_exporter": "python",
   "pygments_lexer": "ipython3",
   "version": "3.7.7"
  }
 },
 "nbformat": 4,
 "nbformat_minor": 4
}
