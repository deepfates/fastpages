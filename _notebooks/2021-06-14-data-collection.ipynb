{
 "cells": [
  {
   "cell_type": "code",
   "execution_count": null,
   "metadata": {},
   "outputs": [],
   "source": []
  },
  {
   "cell_type": "markdown",
   "metadata": {
    "execution": {
     "iopub.execute_input": "2021-06-08T02:15:45.288459Z",
     "iopub.status.busy": "2021-06-08T02:15:45.288278Z",
     "iopub.status.idle": "2021-06-08T02:15:45.291898Z",
     "shell.execute_reply": "2021-06-08T02:15:45.291116Z",
     "shell.execute_reply.started": "2021-06-08T02:15:45.288441Z"
    },
    "tags": []
   },
   "source": [
    "# Data collection\n",
    "> How do books become classics?\n",
    "- toc: true \n",
    "- badges: true\n",
    "- comments: true\n",
    "- categories: [books, invisible-canon]\n",
    "- image: images/popularity-prestige.png"
   ]
  },
  {
   "cell_type": "markdown",
   "metadata": {},
   "source": [
    "# Data"
   ]
  },
  {
   "cell_type": "markdown",
   "metadata": {
    "tags": []
   },
   "source": [
    "## What data can I gather?\n",
    "\n",
    "I have acquired some datasets to explore and combine into the table of correspondences:\n",
    "\n",
    "- **Goodbooks-10K**\n",
    "\n",
    "    The top 10K books on goodreads, with ratings and metadata\n",
    "    http://fastml.com/goodbooks-10k\n",
    "    \n",
    "    - @article{goodbooks2017,\n",
    "    author = {Zajac, Zygmunt},\n",
    "    title = {Goodbooks-10k: a new dataset for book recommendations},\n",
    "    year = {2017},\n",
    "    publisher = {FastML},\n",
    "    journal = {FastML},\n",
    "    howpublished = {\\url{http://fastml.com/goodbooks-10k}},\n",
    "    }\n",
    "\n",
    "- **UCSD Book Graph**\n",
    "    \n",
    "    Very large goodreads scrape with authors (800K), genres, works (1.5M), users(800K), ratings, reviews\n",
    "    https://sites.google.com/eng.ucsd.edu/ucsdbookgraph/home\n",
    "\n",
    "    - Mengting Wan, Julian McAuley, \"[Item Recommendation on Monotonic Behavior Chains](https://github.com/MengtingWan/mengtingwan.github.io/raw/master/paper/recsys18_mwan.pdf)\", in RecSys'18. [[bibtex](https://dblp.uni-trier.de/rec/bibtex/conf/recsys/WanM18)]\n",
    "    - Mengting Wan, Rishabh Misra, Ndapa Nakashole, Julian McAuley, \"[Fine-Grained Spoiler Detection from Large-Scale Review Corpora](https://github.com/MengtingWan/mengtingwan.github.io/raw/master/paper/acl19_mwan.pdf)\", in ACL'19. [[bibtex](https://dblp.uni-trier.de/rec/bibtex/conf/acl/WanMNM19)]\n",
    "\n",
    "- **Amazon review data**\n",
    "\n",
    "    Books by ASIN (~3 million) and fulltext reviews (51 million) from Amazon\n",
    "    https://nijianmo.github.io/amazon/index.html\n",
    "\n",
    "    - Image-based recommendations on styles and substitutes, \n",
    "        J. McAuley, C. Targett, J. Shi, A. van den Hengel\n",
    "        SIGIR, 2015\n",
    "        draft\n",
    "\n",
    "- **NovelRank sales rank data**\n",
    "    \n",
    "    Sales ranks for books on Amazon (61K), over time    \n",
    "    https://www.kaggle.com/ucffool/amazon-sales-rank-data-for-print-and-kindle-books\n",
    "    \n",
    "    - CC-BY-NC-SA Credit to NovelRank.com for compiling the data and Amazon.com as the data source.\n",
    "    \n",
    "\n",
    "Some of these are whopping huge datasets. It would be cool to put every single field into a dataframe and run a tabular neural net, just to see what happens. But the wise thing is to build up from the minimum necessary data, and add things as they seem useful. To do that I need an ontology of what books are, and how they are organized.\n",
    "\n"
   ]
  },
  {
   "cell_type": "markdown",
   "metadata": {},
   "source": [
    "### What is the ontology of a book?\n",
    "\n",
    "If I have learned anything about the book business, it's that only two things are real: people, and books. Everything else is an abstraction: genres, series, formats, publishing houses, deadlines, paychecks, prestige, canons, they're all just convenient abstractions we use to simplify the incredible world of books and the people who read and write them.\n",
    "\n",
    "In the datasets we can find Authors and Users who review them . We can also find their books, either individually for each unique format (Books) or all formats for each title (Works). Making sense of different Books and Works is a difficult job. Fortunately, someone has already done this for us.\n",
    "\n",
    "Unfortunately, someone else also did it, differently, and we have to reconcile the two standards. It's the classic XKCD problem:\n",
    "\n",
    "![xkcd 'standards' cartoon](https://imgs.xkcd.com/comics/standards.png)\n",
    "\n",
    "In this case we have the following standards:\n",
    "\n",
    " - **ISBN**: International Standard Book Number\n",
    " - **EAN**: European Article Number\n",
    " - **ASIN**: Amazon Standard Identification Number\n",
    " - **goodreads_book_id**: Specific edition of a book\n",
    " - **goodreads_work_id**: Wrapper for all editions of a title\n",
    " \n",
    "For more fun information about book labeling standards, a good place to start is the Wikipedia page for [Bookland](https://en.wikipedia.org/wiki/Bookland):\n",
    "\n",
    "> twitter https://twitter.com/deepfates/status/1404573448987459587?s=20\n",
    "\n",
    "(There are fewer standards for authors and users, but probably similar problems.)\n",
    " "
   ]
  },
  {
   "cell_type": "markdown",
   "metadata": {},
   "source": [
    "Ultimately, the specifics of any given edition of a book are abstractions that lay on top of the text itself. The most sensible way to organize books is by W\\work id, if possible. Works can have author and genre information associated, and each edition can be a child of the work, with its own id associations and review characteristics. Go from general to specific detail as you descend into the object. \n",
    " \n",
    "`note: this is starting to sound like a network graph. keep that tactic in mind in case this gets unwieldy`\n",
    "\n",
    "Plus, if we want to find classicness in books, we need to keep track of them through different historical eras of publishing. The UCSD Book Graph data has aggregate data for works and authors, so that's probably a good place to start. \n",
    "\n",
    "But perhaps for testing purposes, we should use a smaller subset of books. Let's start by finding the ten thousand top books, according to Goodbooks-10k,and collating their work, author and genre data."
   ]
  },
  {
   "cell_type": "code",
   "execution_count": 1,
   "metadata": {
    "execution": {
     "iopub.execute_input": "2021-06-15T16:24:33.008224Z",
     "iopub.status.busy": "2021-06-15T16:24:33.007436Z",
     "iopub.status.idle": "2021-06-15T16:24:33.352782Z",
     "shell.execute_reply": "2021-06-15T16:24:33.352331Z",
     "shell.execute_reply.started": "2021-06-15T16:24:33.008011Z"
    }
   },
   "outputs": [],
   "source": [
    "import pandas as pd\n"
   ]
  },
  {
   "cell_type": "code",
   "execution_count": 2,
   "metadata": {
    "execution": {
     "iopub.execute_input": "2021-06-15T16:24:33.353624Z",
     "iopub.status.busy": "2021-06-15T16:24:33.353507Z",
     "iopub.status.idle": "2021-06-15T16:24:33.401751Z",
     "shell.execute_reply": "2021-06-15T16:24:33.401230Z",
     "shell.execute_reply.started": "2021-06-15T16:24:33.353609Z"
    }
   },
   "outputs": [],
   "source": [
    "goodbooks = pd.read_csv('/run/media/mage/INDESTRUCTIBLESLIME/Replaceable/datasets/goodbooks-10k/books.csv')"
   ]
  },
  {
   "cell_type": "code",
   "execution_count": 3,
   "metadata": {
    "execution": {
     "iopub.execute_input": "2021-06-15T16:24:33.402566Z",
     "iopub.status.busy": "2021-06-15T16:24:33.402438Z",
     "iopub.status.idle": "2021-06-15T16:24:33.426405Z",
     "shell.execute_reply": "2021-06-15T16:24:33.425978Z",
     "shell.execute_reply.started": "2021-06-15T16:24:33.402550Z"
    },
    "tags": []
   },
   "outputs": [
    {
     "data": {
      "text/html": [
       "<div>\n",
       "<style scoped>\n",
       "    .dataframe tbody tr th:only-of-type {\n",
       "        vertical-align: middle;\n",
       "    }\n",
       "\n",
       "    .dataframe tbody tr th {\n",
       "        vertical-align: top;\n",
       "    }\n",
       "\n",
       "    .dataframe thead th {\n",
       "        text-align: right;\n",
       "    }\n",
       "</style>\n",
       "<table border=\"1\" class=\"dataframe\">\n",
       "  <thead>\n",
       "    <tr style=\"text-align: right;\">\n",
       "      <th></th>\n",
       "      <th>book_id</th>\n",
       "      <th>goodreads_book_id</th>\n",
       "      <th>best_book_id</th>\n",
       "      <th>work_id</th>\n",
       "      <th>books_count</th>\n",
       "      <th>isbn</th>\n",
       "      <th>isbn13</th>\n",
       "      <th>authors</th>\n",
       "      <th>original_publication_year</th>\n",
       "      <th>original_title</th>\n",
       "      <th>...</th>\n",
       "      <th>ratings_count</th>\n",
       "      <th>work_ratings_count</th>\n",
       "      <th>work_text_reviews_count</th>\n",
       "      <th>ratings_1</th>\n",
       "      <th>ratings_2</th>\n",
       "      <th>ratings_3</th>\n",
       "      <th>ratings_4</th>\n",
       "      <th>ratings_5</th>\n",
       "      <th>image_url</th>\n",
       "      <th>small_image_url</th>\n",
       "    </tr>\n",
       "  </thead>\n",
       "  <tbody>\n",
       "    <tr>\n",
       "      <th>0</th>\n",
       "      <td>1</td>\n",
       "      <td>2767052</td>\n",
       "      <td>2767052</td>\n",
       "      <td>2792775</td>\n",
       "      <td>272</td>\n",
       "      <td>439023483</td>\n",
       "      <td>9.780439e+12</td>\n",
       "      <td>Suzanne Collins</td>\n",
       "      <td>2008.0</td>\n",
       "      <td>The Hunger Games</td>\n",
       "      <td>...</td>\n",
       "      <td>4780653</td>\n",
       "      <td>4942365</td>\n",
       "      <td>155254</td>\n",
       "      <td>66715</td>\n",
       "      <td>127936</td>\n",
       "      <td>560092</td>\n",
       "      <td>1481305</td>\n",
       "      <td>2706317</td>\n",
       "      <td>https://images.gr-assets.com/books/1447303603m...</td>\n",
       "      <td>https://images.gr-assets.com/books/1447303603s...</td>\n",
       "    </tr>\n",
       "    <tr>\n",
       "      <th>1</th>\n",
       "      <td>2</td>\n",
       "      <td>3</td>\n",
       "      <td>3</td>\n",
       "      <td>4640799</td>\n",
       "      <td>491</td>\n",
       "      <td>439554934</td>\n",
       "      <td>9.780440e+12</td>\n",
       "      <td>J.K. Rowling, Mary GrandPré</td>\n",
       "      <td>1997.0</td>\n",
       "      <td>Harry Potter and the Philosopher's Stone</td>\n",
       "      <td>...</td>\n",
       "      <td>4602479</td>\n",
       "      <td>4800065</td>\n",
       "      <td>75867</td>\n",
       "      <td>75504</td>\n",
       "      <td>101676</td>\n",
       "      <td>455024</td>\n",
       "      <td>1156318</td>\n",
       "      <td>3011543</td>\n",
       "      <td>https://images.gr-assets.com/books/1474154022m...</td>\n",
       "      <td>https://images.gr-assets.com/books/1474154022s...</td>\n",
       "    </tr>\n",
       "    <tr>\n",
       "      <th>2</th>\n",
       "      <td>3</td>\n",
       "      <td>41865</td>\n",
       "      <td>41865</td>\n",
       "      <td>3212258</td>\n",
       "      <td>226</td>\n",
       "      <td>316015849</td>\n",
       "      <td>9.780316e+12</td>\n",
       "      <td>Stephenie Meyer</td>\n",
       "      <td>2005.0</td>\n",
       "      <td>Twilight</td>\n",
       "      <td>...</td>\n",
       "      <td>3866839</td>\n",
       "      <td>3916824</td>\n",
       "      <td>95009</td>\n",
       "      <td>456191</td>\n",
       "      <td>436802</td>\n",
       "      <td>793319</td>\n",
       "      <td>875073</td>\n",
       "      <td>1355439</td>\n",
       "      <td>https://images.gr-assets.com/books/1361039443m...</td>\n",
       "      <td>https://images.gr-assets.com/books/1361039443s...</td>\n",
       "    </tr>\n",
       "    <tr>\n",
       "      <th>3</th>\n",
       "      <td>4</td>\n",
       "      <td>2657</td>\n",
       "      <td>2657</td>\n",
       "      <td>3275794</td>\n",
       "      <td>487</td>\n",
       "      <td>61120081</td>\n",
       "      <td>9.780061e+12</td>\n",
       "      <td>Harper Lee</td>\n",
       "      <td>1960.0</td>\n",
       "      <td>To Kill a Mockingbird</td>\n",
       "      <td>...</td>\n",
       "      <td>3198671</td>\n",
       "      <td>3340896</td>\n",
       "      <td>72586</td>\n",
       "      <td>60427</td>\n",
       "      <td>117415</td>\n",
       "      <td>446835</td>\n",
       "      <td>1001952</td>\n",
       "      <td>1714267</td>\n",
       "      <td>https://images.gr-assets.com/books/1361975680m...</td>\n",
       "      <td>https://images.gr-assets.com/books/1361975680s...</td>\n",
       "    </tr>\n",
       "    <tr>\n",
       "      <th>4</th>\n",
       "      <td>5</td>\n",
       "      <td>4671</td>\n",
       "      <td>4671</td>\n",
       "      <td>245494</td>\n",
       "      <td>1356</td>\n",
       "      <td>743273567</td>\n",
       "      <td>9.780743e+12</td>\n",
       "      <td>F. Scott Fitzgerald</td>\n",
       "      <td>1925.0</td>\n",
       "      <td>The Great Gatsby</td>\n",
       "      <td>...</td>\n",
       "      <td>2683664</td>\n",
       "      <td>2773745</td>\n",
       "      <td>51992</td>\n",
       "      <td>86236</td>\n",
       "      <td>197621</td>\n",
       "      <td>606158</td>\n",
       "      <td>936012</td>\n",
       "      <td>947718</td>\n",
       "      <td>https://images.gr-assets.com/books/1490528560m...</td>\n",
       "      <td>https://images.gr-assets.com/books/1490528560s...</td>\n",
       "    </tr>\n",
       "  </tbody>\n",
       "</table>\n",
       "<p>5 rows × 23 columns</p>\n",
       "</div>"
      ],
      "text/plain": [
       "   book_id  goodreads_book_id  best_book_id  work_id  books_count       isbn  \\\n",
       "0        1            2767052       2767052  2792775          272  439023483   \n",
       "1        2                  3             3  4640799          491  439554934   \n",
       "2        3              41865         41865  3212258          226  316015849   \n",
       "3        4               2657          2657  3275794          487   61120081   \n",
       "4        5               4671          4671   245494         1356  743273567   \n",
       "\n",
       "         isbn13                      authors  original_publication_year  \\\n",
       "0  9.780439e+12              Suzanne Collins                     2008.0   \n",
       "1  9.780440e+12  J.K. Rowling, Mary GrandPré                     1997.0   \n",
       "2  9.780316e+12              Stephenie Meyer                     2005.0   \n",
       "3  9.780061e+12                   Harper Lee                     1960.0   \n",
       "4  9.780743e+12          F. Scott Fitzgerald                     1925.0   \n",
       "\n",
       "                             original_title  ... ratings_count  \\\n",
       "0                          The Hunger Games  ...       4780653   \n",
       "1  Harry Potter and the Philosopher's Stone  ...       4602479   \n",
       "2                                  Twilight  ...       3866839   \n",
       "3                     To Kill a Mockingbird  ...       3198671   \n",
       "4                          The Great Gatsby  ...       2683664   \n",
       "\n",
       "  work_ratings_count  work_text_reviews_count  ratings_1  ratings_2  \\\n",
       "0            4942365                   155254      66715     127936   \n",
       "1            4800065                    75867      75504     101676   \n",
       "2            3916824                    95009     456191     436802   \n",
       "3            3340896                    72586      60427     117415   \n",
       "4            2773745                    51992      86236     197621   \n",
       "\n",
       "   ratings_3  ratings_4  ratings_5  \\\n",
       "0     560092    1481305    2706317   \n",
       "1     455024    1156318    3011543   \n",
       "2     793319     875073    1355439   \n",
       "3     446835    1001952    1714267   \n",
       "4     606158     936012     947718   \n",
       "\n",
       "                                           image_url  \\\n",
       "0  https://images.gr-assets.com/books/1447303603m...   \n",
       "1  https://images.gr-assets.com/books/1474154022m...   \n",
       "2  https://images.gr-assets.com/books/1361039443m...   \n",
       "3  https://images.gr-assets.com/books/1361975680m...   \n",
       "4  https://images.gr-assets.com/books/1490528560m...   \n",
       "\n",
       "                                     small_image_url  \n",
       "0  https://images.gr-assets.com/books/1447303603s...  \n",
       "1  https://images.gr-assets.com/books/1474154022s...  \n",
       "2  https://images.gr-assets.com/books/1361039443s...  \n",
       "3  https://images.gr-assets.com/books/1361975680s...  \n",
       "4  https://images.gr-assets.com/books/1490528560s...  \n",
       "\n",
       "[5 rows x 23 columns]"
      ]
     },
     "execution_count": 3,
     "metadata": {},
     "output_type": "execute_result"
    }
   ],
   "source": [
    "goodbooks.head()"
   ]
  },
  {
   "cell_type": "code",
   "execution_count": 4,
   "metadata": {
    "execution": {
     "iopub.execute_input": "2021-06-15T16:24:33.427214Z",
     "iopub.status.busy": "2021-06-15T16:24:33.427035Z",
     "iopub.status.idle": "2021-06-15T16:24:33.430921Z",
     "shell.execute_reply": "2021-06-15T16:24:33.430422Z",
     "shell.execute_reply.started": "2021-06-15T16:24:33.427193Z"
    }
   },
   "outputs": [
    {
     "data": {
      "text/plain": [
       "10000"
      ]
     },
     "execution_count": 4,
     "metadata": {},
     "output_type": "execute_result"
    }
   ],
   "source": [
    "len(goodbooks)"
   ]
  },
  {
   "cell_type": "code",
   "execution_count": 5,
   "metadata": {
    "execution": {
     "iopub.execute_input": "2021-06-15T16:24:33.431800Z",
     "iopub.status.busy": "2021-06-15T16:24:33.431658Z",
     "iopub.status.idle": "2021-06-15T16:24:33.435534Z",
     "shell.execute_reply": "2021-06-15T16:24:33.434948Z",
     "shell.execute_reply.started": "2021-06-15T16:24:33.431782Z"
    },
    "tags": []
   },
   "outputs": [],
   "source": [
    "goodbooks.index = goodbooks['work_id']\n",
    "\n",
    "del(goodbooks['work_id'])\n"
   ]
  },
  {
   "cell_type": "code",
   "execution_count": 6,
   "metadata": {
    "execution": {
     "iopub.execute_input": "2021-06-15T16:24:33.436430Z",
     "iopub.status.busy": "2021-06-15T16:24:33.436265Z",
     "iopub.status.idle": "2021-06-15T16:24:33.456687Z",
     "shell.execute_reply": "2021-06-15T16:24:33.455716Z",
     "shell.execute_reply.started": "2021-06-15T16:24:33.436408Z"
    },
    "tags": []
   },
   "outputs": [
    {
     "data": {
      "text/html": [
       "<div>\n",
       "<style scoped>\n",
       "    .dataframe tbody tr th:only-of-type {\n",
       "        vertical-align: middle;\n",
       "    }\n",
       "\n",
       "    .dataframe tbody tr th {\n",
       "        vertical-align: top;\n",
       "    }\n",
       "\n",
       "    .dataframe thead th {\n",
       "        text-align: right;\n",
       "    }\n",
       "</style>\n",
       "<table border=\"1\" class=\"dataframe\">\n",
       "  <thead>\n",
       "    <tr style=\"text-align: right;\">\n",
       "      <th></th>\n",
       "      <th>book_id</th>\n",
       "      <th>goodreads_book_id</th>\n",
       "      <th>best_book_id</th>\n",
       "      <th>books_count</th>\n",
       "      <th>isbn</th>\n",
       "      <th>isbn13</th>\n",
       "      <th>authors</th>\n",
       "      <th>original_publication_year</th>\n",
       "      <th>original_title</th>\n",
       "      <th>title</th>\n",
       "      <th>...</th>\n",
       "      <th>ratings_count</th>\n",
       "      <th>work_ratings_count</th>\n",
       "      <th>work_text_reviews_count</th>\n",
       "      <th>ratings_1</th>\n",
       "      <th>ratings_2</th>\n",
       "      <th>ratings_3</th>\n",
       "      <th>ratings_4</th>\n",
       "      <th>ratings_5</th>\n",
       "      <th>image_url</th>\n",
       "      <th>small_image_url</th>\n",
       "    </tr>\n",
       "    <tr>\n",
       "      <th>work_id</th>\n",
       "      <th></th>\n",
       "      <th></th>\n",
       "      <th></th>\n",
       "      <th></th>\n",
       "      <th></th>\n",
       "      <th></th>\n",
       "      <th></th>\n",
       "      <th></th>\n",
       "      <th></th>\n",
       "      <th></th>\n",
       "      <th></th>\n",
       "      <th></th>\n",
       "      <th></th>\n",
       "      <th></th>\n",
       "      <th></th>\n",
       "      <th></th>\n",
       "      <th></th>\n",
       "      <th></th>\n",
       "      <th></th>\n",
       "      <th></th>\n",
       "      <th></th>\n",
       "    </tr>\n",
       "  </thead>\n",
       "  <tbody>\n",
       "    <tr>\n",
       "      <th>2792775</th>\n",
       "      <td>1</td>\n",
       "      <td>2767052</td>\n",
       "      <td>2767052</td>\n",
       "      <td>272</td>\n",
       "      <td>439023483</td>\n",
       "      <td>9.780439e+12</td>\n",
       "      <td>Suzanne Collins</td>\n",
       "      <td>2008.0</td>\n",
       "      <td>The Hunger Games</td>\n",
       "      <td>The Hunger Games (The Hunger Games, #1)</td>\n",
       "      <td>...</td>\n",
       "      <td>4780653</td>\n",
       "      <td>4942365</td>\n",
       "      <td>155254</td>\n",
       "      <td>66715</td>\n",
       "      <td>127936</td>\n",
       "      <td>560092</td>\n",
       "      <td>1481305</td>\n",
       "      <td>2706317</td>\n",
       "      <td>https://images.gr-assets.com/books/1447303603m...</td>\n",
       "      <td>https://images.gr-assets.com/books/1447303603s...</td>\n",
       "    </tr>\n",
       "    <tr>\n",
       "      <th>4640799</th>\n",
       "      <td>2</td>\n",
       "      <td>3</td>\n",
       "      <td>3</td>\n",
       "      <td>491</td>\n",
       "      <td>439554934</td>\n",
       "      <td>9.780440e+12</td>\n",
       "      <td>J.K. Rowling, Mary GrandPré</td>\n",
       "      <td>1997.0</td>\n",
       "      <td>Harry Potter and the Philosopher's Stone</td>\n",
       "      <td>Harry Potter and the Sorcerer's Stone (Harry P...</td>\n",
       "      <td>...</td>\n",
       "      <td>4602479</td>\n",
       "      <td>4800065</td>\n",
       "      <td>75867</td>\n",
       "      <td>75504</td>\n",
       "      <td>101676</td>\n",
       "      <td>455024</td>\n",
       "      <td>1156318</td>\n",
       "      <td>3011543</td>\n",
       "      <td>https://images.gr-assets.com/books/1474154022m...</td>\n",
       "      <td>https://images.gr-assets.com/books/1474154022s...</td>\n",
       "    </tr>\n",
       "    <tr>\n",
       "      <th>3212258</th>\n",
       "      <td>3</td>\n",
       "      <td>41865</td>\n",
       "      <td>41865</td>\n",
       "      <td>226</td>\n",
       "      <td>316015849</td>\n",
       "      <td>9.780316e+12</td>\n",
       "      <td>Stephenie Meyer</td>\n",
       "      <td>2005.0</td>\n",
       "      <td>Twilight</td>\n",
       "      <td>Twilight (Twilight, #1)</td>\n",
       "      <td>...</td>\n",
       "      <td>3866839</td>\n",
       "      <td>3916824</td>\n",
       "      <td>95009</td>\n",
       "      <td>456191</td>\n",
       "      <td>436802</td>\n",
       "      <td>793319</td>\n",
       "      <td>875073</td>\n",
       "      <td>1355439</td>\n",
       "      <td>https://images.gr-assets.com/books/1361039443m...</td>\n",
       "      <td>https://images.gr-assets.com/books/1361039443s...</td>\n",
       "    </tr>\n",
       "    <tr>\n",
       "      <th>3275794</th>\n",
       "      <td>4</td>\n",
       "      <td>2657</td>\n",
       "      <td>2657</td>\n",
       "      <td>487</td>\n",
       "      <td>61120081</td>\n",
       "      <td>9.780061e+12</td>\n",
       "      <td>Harper Lee</td>\n",
       "      <td>1960.0</td>\n",
       "      <td>To Kill a Mockingbird</td>\n",
       "      <td>To Kill a Mockingbird</td>\n",
       "      <td>...</td>\n",
       "      <td>3198671</td>\n",
       "      <td>3340896</td>\n",
       "      <td>72586</td>\n",
       "      <td>60427</td>\n",
       "      <td>117415</td>\n",
       "      <td>446835</td>\n",
       "      <td>1001952</td>\n",
       "      <td>1714267</td>\n",
       "      <td>https://images.gr-assets.com/books/1361975680m...</td>\n",
       "      <td>https://images.gr-assets.com/books/1361975680s...</td>\n",
       "    </tr>\n",
       "    <tr>\n",
       "      <th>245494</th>\n",
       "      <td>5</td>\n",
       "      <td>4671</td>\n",
       "      <td>4671</td>\n",
       "      <td>1356</td>\n",
       "      <td>743273567</td>\n",
       "      <td>9.780743e+12</td>\n",
       "      <td>F. Scott Fitzgerald</td>\n",
       "      <td>1925.0</td>\n",
       "      <td>The Great Gatsby</td>\n",
       "      <td>The Great Gatsby</td>\n",
       "      <td>...</td>\n",
       "      <td>2683664</td>\n",
       "      <td>2773745</td>\n",
       "      <td>51992</td>\n",
       "      <td>86236</td>\n",
       "      <td>197621</td>\n",
       "      <td>606158</td>\n",
       "      <td>936012</td>\n",
       "      <td>947718</td>\n",
       "      <td>https://images.gr-assets.com/books/1490528560m...</td>\n",
       "      <td>https://images.gr-assets.com/books/1490528560s...</td>\n",
       "    </tr>\n",
       "  </tbody>\n",
       "</table>\n",
       "<p>5 rows × 22 columns</p>\n",
       "</div>"
      ],
      "text/plain": [
       "         book_id  goodreads_book_id  best_book_id  books_count       isbn  \\\n",
       "work_id                                                                     \n",
       "2792775        1            2767052       2767052          272  439023483   \n",
       "4640799        2                  3             3          491  439554934   \n",
       "3212258        3              41865         41865          226  316015849   \n",
       "3275794        4               2657          2657          487   61120081   \n",
       "245494         5               4671          4671         1356  743273567   \n",
       "\n",
       "               isbn13                      authors  original_publication_year  \\\n",
       "work_id                                                                         \n",
       "2792775  9.780439e+12              Suzanne Collins                     2008.0   \n",
       "4640799  9.780440e+12  J.K. Rowling, Mary GrandPré                     1997.0   \n",
       "3212258  9.780316e+12              Stephenie Meyer                     2005.0   \n",
       "3275794  9.780061e+12                   Harper Lee                     1960.0   \n",
       "245494   9.780743e+12          F. Scott Fitzgerald                     1925.0   \n",
       "\n",
       "                                   original_title  \\\n",
       "work_id                                             \n",
       "2792775                          The Hunger Games   \n",
       "4640799  Harry Potter and the Philosopher's Stone   \n",
       "3212258                                  Twilight   \n",
       "3275794                     To Kill a Mockingbird   \n",
       "245494                           The Great Gatsby   \n",
       "\n",
       "                                                     title  ... ratings_count  \\\n",
       "work_id                                                     ...                 \n",
       "2792775            The Hunger Games (The Hunger Games, #1)  ...       4780653   \n",
       "4640799  Harry Potter and the Sorcerer's Stone (Harry P...  ...       4602479   \n",
       "3212258                            Twilight (Twilight, #1)  ...       3866839   \n",
       "3275794                              To Kill a Mockingbird  ...       3198671   \n",
       "245494                                    The Great Gatsby  ...       2683664   \n",
       "\n",
       "         work_ratings_count  work_text_reviews_count  ratings_1  ratings_2  \\\n",
       "work_id                                                                      \n",
       "2792775             4942365                   155254      66715     127936   \n",
       "4640799             4800065                    75867      75504     101676   \n",
       "3212258             3916824                    95009     456191     436802   \n",
       "3275794             3340896                    72586      60427     117415   \n",
       "245494              2773745                    51992      86236     197621   \n",
       "\n",
       "         ratings_3  ratings_4  ratings_5  \\\n",
       "work_id                                    \n",
       "2792775     560092    1481305    2706317   \n",
       "4640799     455024    1156318    3011543   \n",
       "3212258     793319     875073    1355439   \n",
       "3275794     446835    1001952    1714267   \n",
       "245494      606158     936012     947718   \n",
       "\n",
       "                                                 image_url  \\\n",
       "work_id                                                      \n",
       "2792775  https://images.gr-assets.com/books/1447303603m...   \n",
       "4640799  https://images.gr-assets.com/books/1474154022m...   \n",
       "3212258  https://images.gr-assets.com/books/1361039443m...   \n",
       "3275794  https://images.gr-assets.com/books/1361975680m...   \n",
       "245494   https://images.gr-assets.com/books/1490528560m...   \n",
       "\n",
       "                                           small_image_url  \n",
       "work_id                                                     \n",
       "2792775  https://images.gr-assets.com/books/1447303603s...  \n",
       "4640799  https://images.gr-assets.com/books/1474154022s...  \n",
       "3212258  https://images.gr-assets.com/books/1361039443s...  \n",
       "3275794  https://images.gr-assets.com/books/1361975680s...  \n",
       "245494   https://images.gr-assets.com/books/1490528560s...  \n",
       "\n",
       "[5 rows x 22 columns]"
      ]
     },
     "execution_count": 6,
     "metadata": {},
     "output_type": "execute_result"
    }
   ],
   "source": [
    "goodbooks.head()"
   ]
  },
  {
   "cell_type": "markdown",
   "metadata": {},
   "source": [
    "Okay, good! We have a list of 10,000 books sorted by `work_id`. Let's add some genre data from the UCSD Book Graph"
   ]
  },
  {
   "cell_type": "code",
   "execution_count": 7,
   "metadata": {
    "execution": {
     "iopub.execute_input": "2021-06-15T16:24:33.459111Z",
     "iopub.status.busy": "2021-06-15T16:24:33.458829Z",
     "iopub.status.idle": "2021-06-15T16:24:40.386936Z",
     "shell.execute_reply": "2021-06-15T16:24:40.385276Z",
     "shell.execute_reply.started": "2021-06-15T16:24:33.459065Z"
    },
    "tags": []
   },
   "outputs": [],
   "source": [
    "genres = pd.read_json('/run/media/mage/INDESTRUCTIBLESLIME/Replaceable/datasets/goodreads/downloads/goodreads_book_genres_initial.json', lines=True)"
   ]
  },
  {
   "cell_type": "code",
   "execution_count": 8,
   "metadata": {
    "execution": {
     "iopub.execute_input": "2021-06-15T16:24:40.389959Z",
     "iopub.status.busy": "2021-06-15T16:24:40.389514Z",
     "iopub.status.idle": "2021-06-15T16:24:40.405138Z",
     "shell.execute_reply": "2021-06-15T16:24:40.404253Z",
     "shell.execute_reply.started": "2021-06-15T16:24:40.389902Z"
    },
    "tags": []
   },
   "outputs": [
    {
     "data": {
      "text/html": [
       "<div>\n",
       "<style scoped>\n",
       "    .dataframe tbody tr th:only-of-type {\n",
       "        vertical-align: middle;\n",
       "    }\n",
       "\n",
       "    .dataframe tbody tr th {\n",
       "        vertical-align: top;\n",
       "    }\n",
       "\n",
       "    .dataframe thead th {\n",
       "        text-align: right;\n",
       "    }\n",
       "</style>\n",
       "<table border=\"1\" class=\"dataframe\">\n",
       "  <thead>\n",
       "    <tr style=\"text-align: right;\">\n",
       "      <th></th>\n",
       "      <th>book_id</th>\n",
       "      <th>genres</th>\n",
       "    </tr>\n",
       "  </thead>\n",
       "  <tbody>\n",
       "    <tr>\n",
       "      <th>0</th>\n",
       "      <td>5333265</td>\n",
       "      <td>{'history, historical fiction, biography': 1}</td>\n",
       "    </tr>\n",
       "    <tr>\n",
       "      <th>1</th>\n",
       "      <td>1333909</td>\n",
       "      <td>{'fiction': 219, 'history, historical fiction,...</td>\n",
       "    </tr>\n",
       "    <tr>\n",
       "      <th>2</th>\n",
       "      <td>7327624</td>\n",
       "      <td>{'fantasy, paranormal': 31, 'fiction': 8, 'mys...</td>\n",
       "    </tr>\n",
       "    <tr>\n",
       "      <th>3</th>\n",
       "      <td>6066819</td>\n",
       "      <td>{'fiction': 555, 'romance': 23, 'mystery, thri...</td>\n",
       "    </tr>\n",
       "    <tr>\n",
       "      <th>4</th>\n",
       "      <td>287140</td>\n",
       "      <td>{'non-fiction': 3}</td>\n",
       "    </tr>\n",
       "  </tbody>\n",
       "</table>\n",
       "</div>"
      ],
      "text/plain": [
       "   book_id                                             genres\n",
       "0  5333265      {'history, historical fiction, biography': 1}\n",
       "1  1333909  {'fiction': 219, 'history, historical fiction,...\n",
       "2  7327624  {'fantasy, paranormal': 31, 'fiction': 8, 'mys...\n",
       "3  6066819  {'fiction': 555, 'romance': 23, 'mystery, thri...\n",
       "4   287140                                 {'non-fiction': 3}"
      ]
     },
     "execution_count": 8,
     "metadata": {},
     "output_type": "execute_result"
    }
   ],
   "source": [
    "genres.head()"
   ]
  },
  {
   "cell_type": "code",
   "execution_count": 9,
   "metadata": {
    "execution": {
     "iopub.execute_input": "2021-06-15T16:24:40.406648Z",
     "iopub.status.busy": "2021-06-15T16:24:40.406389Z",
     "iopub.status.idle": "2021-06-15T16:24:40.411607Z",
     "shell.execute_reply": "2021-06-15T16:24:40.410924Z",
     "shell.execute_reply.started": "2021-06-15T16:24:40.406614Z"
    }
   },
   "outputs": [
    {
     "data": {
      "text/plain": [
       "2360655"
      ]
     },
     "execution_count": 9,
     "metadata": {},
     "output_type": "execute_result"
    }
   ],
   "source": [
    "len(genres)"
   ]
  },
  {
   "cell_type": "code",
   "execution_count": 10,
   "metadata": {
    "execution": {
     "iopub.execute_input": "2021-06-15T16:24:40.412727Z",
     "iopub.status.busy": "2021-06-15T16:24:40.412510Z",
     "iopub.status.idle": "2021-06-15T16:25:14.020068Z",
     "shell.execute_reply": "2021-06-15T16:25:14.019527Z",
     "shell.execute_reply.started": "2021-06-15T16:24:40.412699Z"
    },
    "tags": []
   },
   "outputs": [],
   "source": [
    "goodbooks['genre'] = [[genres.loc[genres['book_id'] == i]][0]['genres'].values[0] if len([genres.loc[genres['book_id'] == i]][0]['genres'].values) > 0 else '' for i in goodbooks['goodreads_book_id'] ]"
   ]
  },
  {
   "cell_type": "code",
   "execution_count": 11,
   "metadata": {
    "execution": {
     "iopub.execute_input": "2021-06-15T16:25:14.020890Z",
     "iopub.status.busy": "2021-06-15T16:25:14.020745Z",
     "iopub.status.idle": "2021-06-15T16:25:14.041393Z",
     "shell.execute_reply": "2021-06-15T16:25:14.040853Z",
     "shell.execute_reply.started": "2021-06-15T16:25:14.020861Z"
    },
    "tags": []
   },
   "outputs": [
    {
     "data": {
      "text/html": [
       "<div>\n",
       "<style scoped>\n",
       "    .dataframe tbody tr th:only-of-type {\n",
       "        vertical-align: middle;\n",
       "    }\n",
       "\n",
       "    .dataframe tbody tr th {\n",
       "        vertical-align: top;\n",
       "    }\n",
       "\n",
       "    .dataframe thead th {\n",
       "        text-align: right;\n",
       "    }\n",
       "</style>\n",
       "<table border=\"1\" class=\"dataframe\">\n",
       "  <thead>\n",
       "    <tr style=\"text-align: right;\">\n",
       "      <th></th>\n",
       "      <th>book_id</th>\n",
       "      <th>goodreads_book_id</th>\n",
       "      <th>best_book_id</th>\n",
       "      <th>books_count</th>\n",
       "      <th>isbn</th>\n",
       "      <th>isbn13</th>\n",
       "      <th>authors</th>\n",
       "      <th>original_publication_year</th>\n",
       "      <th>original_title</th>\n",
       "      <th>title</th>\n",
       "      <th>...</th>\n",
       "      <th>work_ratings_count</th>\n",
       "      <th>work_text_reviews_count</th>\n",
       "      <th>ratings_1</th>\n",
       "      <th>ratings_2</th>\n",
       "      <th>ratings_3</th>\n",
       "      <th>ratings_4</th>\n",
       "      <th>ratings_5</th>\n",
       "      <th>image_url</th>\n",
       "      <th>small_image_url</th>\n",
       "      <th>genre</th>\n",
       "    </tr>\n",
       "    <tr>\n",
       "      <th>work_id</th>\n",
       "      <th></th>\n",
       "      <th></th>\n",
       "      <th></th>\n",
       "      <th></th>\n",
       "      <th></th>\n",
       "      <th></th>\n",
       "      <th></th>\n",
       "      <th></th>\n",
       "      <th></th>\n",
       "      <th></th>\n",
       "      <th></th>\n",
       "      <th></th>\n",
       "      <th></th>\n",
       "      <th></th>\n",
       "      <th></th>\n",
       "      <th></th>\n",
       "      <th></th>\n",
       "      <th></th>\n",
       "      <th></th>\n",
       "      <th></th>\n",
       "      <th></th>\n",
       "    </tr>\n",
       "  </thead>\n",
       "  <tbody>\n",
       "    <tr>\n",
       "      <th>2792775</th>\n",
       "      <td>1</td>\n",
       "      <td>2767052</td>\n",
       "      <td>2767052</td>\n",
       "      <td>272</td>\n",
       "      <td>439023483</td>\n",
       "      <td>9.780439e+12</td>\n",
       "      <td>Suzanne Collins</td>\n",
       "      <td>2008.0</td>\n",
       "      <td>The Hunger Games</td>\n",
       "      <td>The Hunger Games (The Hunger Games, #1)</td>\n",
       "      <td>...</td>\n",
       "      <td>4942365</td>\n",
       "      <td>155254</td>\n",
       "      <td>66715</td>\n",
       "      <td>127936</td>\n",
       "      <td>560092</td>\n",
       "      <td>1481305</td>\n",
       "      <td>2706317</td>\n",
       "      <td>https://images.gr-assets.com/books/1447303603m...</td>\n",
       "      <td>https://images.gr-assets.com/books/1447303603s...</td>\n",
       "      <td>{'young-adult': 30173, 'fiction': 26304, 'fant...</td>\n",
       "    </tr>\n",
       "    <tr>\n",
       "      <th>4640799</th>\n",
       "      <td>2</td>\n",
       "      <td>3</td>\n",
       "      <td>3</td>\n",
       "      <td>491</td>\n",
       "      <td>439554934</td>\n",
       "      <td>9.780440e+12</td>\n",
       "      <td>J.K. Rowling, Mary GrandPré</td>\n",
       "      <td>1997.0</td>\n",
       "      <td>Harry Potter and the Philosopher's Stone</td>\n",
       "      <td>Harry Potter and the Sorcerer's Stone (Harry P...</td>\n",
       "      <td>...</td>\n",
       "      <td>4800065</td>\n",
       "      <td>75867</td>\n",
       "      <td>75504</td>\n",
       "      <td>101676</td>\n",
       "      <td>455024</td>\n",
       "      <td>1156318</td>\n",
       "      <td>3011543</td>\n",
       "      <td>https://images.gr-assets.com/books/1474154022m...</td>\n",
       "      <td>https://images.gr-assets.com/books/1474154022s...</td>\n",
       "      <td>{'fantasy, paranormal': 54156, 'young-adult': ...</td>\n",
       "    </tr>\n",
       "    <tr>\n",
       "      <th>3212258</th>\n",
       "      <td>3</td>\n",
       "      <td>41865</td>\n",
       "      <td>41865</td>\n",
       "      <td>226</td>\n",
       "      <td>316015849</td>\n",
       "      <td>9.780316e+12</td>\n",
       "      <td>Stephenie Meyer</td>\n",
       "      <td>2005.0</td>\n",
       "      <td>Twilight</td>\n",
       "      <td>Twilight (Twilight, #1)</td>\n",
       "      <td>...</td>\n",
       "      <td>3916824</td>\n",
       "      <td>95009</td>\n",
       "      <td>456191</td>\n",
       "      <td>436802</td>\n",
       "      <td>793319</td>\n",
       "      <td>875073</td>\n",
       "      <td>1355439</td>\n",
       "      <td>https://images.gr-assets.com/books/1361039443m...</td>\n",
       "      <td>https://images.gr-assets.com/books/1361039443s...</td>\n",
       "      <td>{'young-adult': 19627, 'fantasy, paranormal': ...</td>\n",
       "    </tr>\n",
       "    <tr>\n",
       "      <th>3275794</th>\n",
       "      <td>4</td>\n",
       "      <td>2657</td>\n",
       "      <td>2657</td>\n",
       "      <td>487</td>\n",
       "      <td>61120081</td>\n",
       "      <td>9.780061e+12</td>\n",
       "      <td>Harper Lee</td>\n",
       "      <td>1960.0</td>\n",
       "      <td>To Kill a Mockingbird</td>\n",
       "      <td>To Kill a Mockingbird</td>\n",
       "      <td>...</td>\n",
       "      <td>3340896</td>\n",
       "      <td>72586</td>\n",
       "      <td>60427</td>\n",
       "      <td>117415</td>\n",
       "      <td>446835</td>\n",
       "      <td>1001952</td>\n",
       "      <td>1714267</td>\n",
       "      <td>https://images.gr-assets.com/books/1361975680m...</td>\n",
       "      <td>https://images.gr-assets.com/books/1361975680s...</td>\n",
       "      <td>{'fiction': 8870, 'history, historical fiction...</td>\n",
       "    </tr>\n",
       "    <tr>\n",
       "      <th>245494</th>\n",
       "      <td>5</td>\n",
       "      <td>4671</td>\n",
       "      <td>4671</td>\n",
       "      <td>1356</td>\n",
       "      <td>743273567</td>\n",
       "      <td>9.780743e+12</td>\n",
       "      <td>F. Scott Fitzgerald</td>\n",
       "      <td>1925.0</td>\n",
       "      <td>The Great Gatsby</td>\n",
       "      <td>The Great Gatsby</td>\n",
       "      <td>...</td>\n",
       "      <td>2773745</td>\n",
       "      <td>51992</td>\n",
       "      <td>86236</td>\n",
       "      <td>197621</td>\n",
       "      <td>606158</td>\n",
       "      <td>936012</td>\n",
       "      <td>947718</td>\n",
       "      <td>https://images.gr-assets.com/books/1490528560m...</td>\n",
       "      <td>https://images.gr-assets.com/books/1490528560s...</td>\n",
       "      <td>{'fiction': 20684, 'history, historical fictio...</td>\n",
       "    </tr>\n",
       "  </tbody>\n",
       "</table>\n",
       "<p>5 rows × 23 columns</p>\n",
       "</div>"
      ],
      "text/plain": [
       "         book_id  goodreads_book_id  best_book_id  books_count       isbn  \\\n",
       "work_id                                                                     \n",
       "2792775        1            2767052       2767052          272  439023483   \n",
       "4640799        2                  3             3          491  439554934   \n",
       "3212258        3              41865         41865          226  316015849   \n",
       "3275794        4               2657          2657          487   61120081   \n",
       "245494         5               4671          4671         1356  743273567   \n",
       "\n",
       "               isbn13                      authors  original_publication_year  \\\n",
       "work_id                                                                         \n",
       "2792775  9.780439e+12              Suzanne Collins                     2008.0   \n",
       "4640799  9.780440e+12  J.K. Rowling, Mary GrandPré                     1997.0   \n",
       "3212258  9.780316e+12              Stephenie Meyer                     2005.0   \n",
       "3275794  9.780061e+12                   Harper Lee                     1960.0   \n",
       "245494   9.780743e+12          F. Scott Fitzgerald                     1925.0   \n",
       "\n",
       "                                   original_title  \\\n",
       "work_id                                             \n",
       "2792775                          The Hunger Games   \n",
       "4640799  Harry Potter and the Philosopher's Stone   \n",
       "3212258                                  Twilight   \n",
       "3275794                     To Kill a Mockingbird   \n",
       "245494                           The Great Gatsby   \n",
       "\n",
       "                                                     title  ...  \\\n",
       "work_id                                                     ...   \n",
       "2792775            The Hunger Games (The Hunger Games, #1)  ...   \n",
       "4640799  Harry Potter and the Sorcerer's Stone (Harry P...  ...   \n",
       "3212258                            Twilight (Twilight, #1)  ...   \n",
       "3275794                              To Kill a Mockingbird  ...   \n",
       "245494                                    The Great Gatsby  ...   \n",
       "\n",
       "        work_ratings_count  work_text_reviews_count  ratings_1  ratings_2  \\\n",
       "work_id                                                                     \n",
       "2792775            4942365                   155254      66715     127936   \n",
       "4640799            4800065                    75867      75504     101676   \n",
       "3212258            3916824                    95009     456191     436802   \n",
       "3275794            3340896                    72586      60427     117415   \n",
       "245494             2773745                    51992      86236     197621   \n",
       "\n",
       "         ratings_3  ratings_4  ratings_5  \\\n",
       "work_id                                    \n",
       "2792775     560092    1481305    2706317   \n",
       "4640799     455024    1156318    3011543   \n",
       "3212258     793319     875073    1355439   \n",
       "3275794     446835    1001952    1714267   \n",
       "245494      606158     936012     947718   \n",
       "\n",
       "                                                 image_url  \\\n",
       "work_id                                                      \n",
       "2792775  https://images.gr-assets.com/books/1447303603m...   \n",
       "4640799  https://images.gr-assets.com/books/1474154022m...   \n",
       "3212258  https://images.gr-assets.com/books/1361039443m...   \n",
       "3275794  https://images.gr-assets.com/books/1361975680m...   \n",
       "245494   https://images.gr-assets.com/books/1490528560m...   \n",
       "\n",
       "                                           small_image_url  \\\n",
       "work_id                                                      \n",
       "2792775  https://images.gr-assets.com/books/1447303603s...   \n",
       "4640799  https://images.gr-assets.com/books/1474154022s...   \n",
       "3212258  https://images.gr-assets.com/books/1361039443s...   \n",
       "3275794  https://images.gr-assets.com/books/1361975680s...   \n",
       "245494   https://images.gr-assets.com/books/1490528560s...   \n",
       "\n",
       "                                                     genre  \n",
       "work_id                                                     \n",
       "2792775  {'young-adult': 30173, 'fiction': 26304, 'fant...  \n",
       "4640799  {'fantasy, paranormal': 54156, 'young-adult': ...  \n",
       "3212258  {'young-adult': 19627, 'fantasy, paranormal': ...  \n",
       "3275794  {'fiction': 8870, 'history, historical fiction...  \n",
       "245494   {'fiction': 20684, 'history, historical fictio...  \n",
       "\n",
       "[5 rows x 23 columns]"
      ]
     },
     "execution_count": 11,
     "metadata": {},
     "output_type": "execute_result"
    }
   ],
   "source": [
    "goodbooks.head()"
   ]
  },
  {
   "cell_type": "markdown",
   "metadata": {},
   "source": [
    "## Explore the goodbooks-10K dataset"
   ]
  },
  {
   "cell_type": "markdown",
   "metadata": {},
   "source": [
    "I want to chart the goodbooks dataset and color the datapoints by their biggest genre attribute. I think that will give some insight into the types of books we want to acquire.\n",
    "\n",
    "Let's make a little function to return the top genre of a given row from the dataframe."
   ]
  },
  {
   "cell_type": "code",
   "execution_count": 12,
   "metadata": {
    "execution": {
     "iopub.execute_input": "2021-06-15T16:25:14.042420Z",
     "iopub.status.busy": "2021-06-15T16:25:14.042197Z",
     "iopub.status.idle": "2021-06-15T16:25:14.046516Z",
     "shell.execute_reply": "2021-06-15T16:25:14.045990Z",
     "shell.execute_reply.started": "2021-06-15T16:25:14.042385Z"
    },
    "tags": []
   },
   "outputs": [],
   "source": [
    "def genre_from_id(work_id, df):\n",
    "    genre = df.loc[work_id]['genre']\n",
    "    if type(genre) is dict and len(genre) > 0:\n",
    "        top = sorted(genre.items(), key=lambda item: item[1], reverse=True)[0][0]\n",
    "    else:\n",
    "        top = 'missing'\n",
    "    return(top)"
   ]
  },
  {
   "cell_type": "code",
   "execution_count": 13,
   "metadata": {
    "execution": {
     "iopub.execute_input": "2021-06-15T16:25:14.047456Z",
     "iopub.status.busy": "2021-06-15T16:25:14.047298Z",
     "iopub.status.idle": "2021-06-15T16:25:14.053929Z",
     "shell.execute_reply": "2021-06-15T16:25:14.053378Z",
     "shell.execute_reply.started": "2021-06-15T16:25:14.047436Z"
    },
    "tags": []
   },
   "outputs": [
    {
     "data": {
      "text/plain": [
       "'young-adult'"
      ]
     },
     "execution_count": 13,
     "metadata": {},
     "output_type": "execute_result"
    }
   ],
   "source": [
    "genre_from_id(2792775,goodbooks)"
   ]
  },
  {
   "cell_type": "code",
   "execution_count": 14,
   "metadata": {
    "execution": {
     "iopub.execute_input": "2021-06-15T16:25:14.055169Z",
     "iopub.status.busy": "2021-06-15T16:25:14.054918Z",
     "iopub.status.idle": "2021-06-15T16:25:15.254221Z",
     "shell.execute_reply": "2021-06-15T16:25:15.253603Z",
     "shell.execute_reply.started": "2021-06-15T16:25:14.055142Z"
    },
    "tags": []
   },
   "outputs": [],
   "source": [
    "goodbooks['top_genre'] = [genre_from_id(work_id, goodbooks) for work_id in goodbooks.index]"
   ]
  },
  {
   "cell_type": "code",
   "execution_count": 15,
   "metadata": {
    "execution": {
     "iopub.execute_input": "2021-06-15T16:25:15.255113Z",
     "iopub.status.busy": "2021-06-15T16:25:15.254977Z",
     "iopub.status.idle": "2021-06-15T16:25:15.259221Z",
     "shell.execute_reply": "2021-06-15T16:25:15.258778Z",
     "shell.execute_reply.started": "2021-06-15T16:25:15.255099Z"
    },
    "tags": []
   },
   "outputs": [
    {
     "data": {
      "text/plain": [
       "work_id\n",
       "2792775            young-adult\n",
       "4640799    fantasy, paranormal\n",
       "3212258    fantasy, paranormal\n",
       "3275794                fiction\n",
       "245494                 fiction\n",
       "Name: top_genre, dtype: object"
      ]
     },
     "execution_count": 15,
     "metadata": {},
     "output_type": "execute_result"
    }
   ],
   "source": [
    "goodbooks['top_genre'].head()"
   ]
  },
  {
   "cell_type": "markdown",
   "metadata": {},
   "source": [
    "Okay now we've got a column that categorizes top genre. Next we have to choose some axes on which to plot the scatter points. What columns do we have to work from?\n",
    "\n"
   ]
  },
  {
   "cell_type": "code",
   "execution_count": 16,
   "metadata": {
    "execution": {
     "iopub.execute_input": "2021-06-15T16:25:15.260118Z",
     "iopub.status.busy": "2021-06-15T16:25:15.259937Z",
     "iopub.status.idle": "2021-06-15T16:25:15.263886Z",
     "shell.execute_reply": "2021-06-15T16:25:15.263361Z",
     "shell.execute_reply.started": "2021-06-15T16:25:15.260091Z"
    },
    "tags": []
   },
   "outputs": [
    {
     "data": {
      "text/plain": [
       "Index(['book_id', 'goodreads_book_id', 'best_book_id', 'books_count', 'isbn',\n",
       "       'isbn13', 'authors', 'original_publication_year', 'original_title',\n",
       "       'title', 'language_code', 'average_rating', 'ratings_count',\n",
       "       'work_ratings_count', 'work_text_reviews_count', 'ratings_1',\n",
       "       'ratings_2', 'ratings_3', 'ratings_4', 'ratings_5', 'image_url',\n",
       "       'small_image_url', 'genre', 'top_genre'],\n",
       "      dtype='object')"
      ]
     },
     "execution_count": 16,
     "metadata": {},
     "output_type": "execute_result"
    }
   ],
   "source": [
    "goodbooks.columns"
   ]
  },
  {
   "cell_type": "markdown",
   "metadata": {},
   "source": [
    "As a sanity check I'm going to start with publication year and average rating. This should make it clear pretty quick if the data is messed up.\n",
    "\n",
    "I'm going to try the `plotly` library, for more interactive graphs"
   ]
  },
  {
   "cell_type": "code",
   "execution_count": 1,
   "metadata": {
    "execution": {
     "iopub.execute_input": "2021-07-05T21:46:46.838058Z",
     "iopub.status.busy": "2021-07-05T21:46:46.837880Z",
     "iopub.status.idle": "2021-07-05T21:46:47.665886Z",
     "shell.execute_reply": "2021-07-05T21:46:47.665418Z",
     "shell.execute_reply.started": "2021-07-05T21:46:46.838010Z"
    },
    "tags": []
   },
   "outputs": [],
   "source": [
    "from IPython.display import HTML\n",
    "import plotly.express as px\n"
   ]
  },
  {
   "cell_type": "code",
   "execution_count": null,
   "metadata": {},
   "outputs": [],
   "source": [
    "import plotly.io as pio\n",
    "pio.renderers.default = 'notebook_connected'\n"
   ]
  },
  {
   "cell_type": "code",
   "execution_count": null,
   "metadata": {
    "tags": []
   },
   "outputs": [],
   "source": [
    "fig = px.scatter(goodbooks, x=\"original_publication_year\", y=\"average_rating\", color=\"top_genre\", hover_data = ['authors', 'title'], size='books_count',\n",
    "                title=\"What is a classic book? a graph by @deepfates\", height=800)\n",
    "HTML(fig.to_html())"
   ]
  },
  {
   "cell_type": "code",
   "execution_count": 42,
   "metadata": {
    "execution": {
     "iopub.execute_input": "2021-06-15T16:37:24.387188Z",
     "iopub.status.busy": "2021-06-15T16:37:24.387039Z",
     "iopub.status.idle": "2021-06-15T16:37:24.439148Z",
     "shell.execute_reply": "2021-06-15T16:37:24.438344Z",
     "shell.execute_reply.started": "2021-06-15T16:37:24.387171Z"
    },
    "tags": []
   },
   "outputs": [],
   "source": [
    "with open('goodbooks-genre-pop-time.html', 'w') as f:\n",
    "    f.write(fig.to_html())"
   ]
  },
  {
   "cell_type": "markdown",
   "metadata": {},
   "source": [
    "Here i have graphed the average rating of the top 10,000 books over time. The size of the marker represents the number of distinct formats the book has been printed in.\n",
    "\n",
    "This graph confirms the idea of classicness eroding over time: a few books, in a narrow but high range of quality, survive from the time before printing. The range widens after printing, but continues a general \"cone\" effect that you would expect if low-quality books were forgotten over time. \n",
    "\n",
    "We can also see the clear effect of intellectual property laws on the canon here. Up til 1926 we have mostly big bubbles, but afterward almost all the bubbles are small. In fact, it's hard to see that "
   ]
  },
  {
   "cell_type": "code",
   "execution_count": 58,
   "metadata": {
    "execution": {
     "iopub.execute_input": "2021-06-16T15:58:07.748364Z",
     "iopub.status.busy": "2021-06-16T15:58:07.747681Z",
     "iopub.status.idle": "2021-06-16T15:58:07.756921Z",
     "shell.execute_reply": "2021-06-16T15:58:07.756463Z",
     "shell.execute_reply.started": "2021-06-16T15:58:07.748280Z"
    },
    "tags": []
   },
   "outputs": [
    {
     "data": {
      "text/plain": [
       "9440"
      ]
     },
     "execution_count": 58,
     "metadata": {},
     "output_type": "execute_result"
    }
   ],
   "source": [
    "len(goodbooks.loc[goodbooks['original_publication_year'] > 1926])"
   ]
  },
  {
   "cell_type": "markdown",
   "metadata": {},
   "source": [
    "of them are published *after* that year! Only 560 public domain books are represented. They've just been reprinted so many times that they dwarf the thousands of tiny modern books.\n",
    "\n",
    "This does suggest one unconventional path to canonization: if you make your book public domain, and (crucially) if your book is desirable enough to sell a bunch of copies, you could convince multiple publishers to sell different printings of it, and become more well known than if you had kept the copyright! This may have its downsides, of course; please [email me](mailto://deepfates@gmail.com) with results if you try it."
   ]
  },
  {
   "cell_type": "markdown",
   "metadata": {},
   "source": [
    "Another open question is the count of books per genre. Let's see if we can get any more information about that from goodbooks-10K."
   ]
  },
  {
   "cell_type": "code",
   "execution_count": null,
   "metadata": {
    "tags": []
   },
   "outputs": [],
   "source": [
    "fig = px.histogram(goodbooks, x = 'top_genre')\n",
    "HTML(fig.to_html())"
   ]
  },
  {
   "cell_type": "markdown",
   "metadata": {},
   "source": [
    "There are some obvious parallels here to my own sales count data, and some insights into the life cycle of readers. There are also some major discrepancies.\n",
    "\n",
    "First the bad news: the \"romance\" section is nonexistent at my store. This is not because we're biased against harlequins (though we are). It's a combination of factors: our customers don't prefer them, another store in town specializes in romances, and we have very limited shelf space, so we can't keep the bulk series that are the real sellers in romance (and mystery, for that matter). \n",
    "\n",
    "We decided to stop having an official section for these and file any that we do have in with Fiction, and in fact some of the books listed above as Romance (*Wuthering Heights*, for instance) we keep in Classics.\n",
    "\n",
    "Maybe we can repeat the top_genre step, but this time throw out any Romance data and take the next genre instead."
   ]
  },
  {
   "cell_type": "code",
   "execution_count": 92,
   "metadata": {
    "execution": {
     "iopub.execute_input": "2021-06-16T16:25:17.753277Z",
     "iopub.status.busy": "2021-06-16T16:25:17.753033Z",
     "iopub.status.idle": "2021-06-16T16:25:17.760615Z",
     "shell.execute_reply": "2021-06-16T16:25:17.759973Z",
     "shell.execute_reply.started": "2021-06-16T16:25:17.753254Z"
    },
    "tags": []
   },
   "outputs": [
    {
     "data": {
      "text/plain": [
       "669"
      ]
     },
     "execution_count": 92,
     "metadata": {},
     "output_type": "execute_result"
    }
   ],
   "source": [
    "len(goodbooks[goodbooks['top_genre'] == 'romance'])"
   ]
  },
  {
   "cell_type": "code",
   "execution_count": 87,
   "metadata": {
    "execution": {
     "iopub.execute_input": "2021-06-16T16:23:47.196456Z",
     "iopub.status.busy": "2021-06-16T16:23:47.196299Z",
     "iopub.status.idle": "2021-06-16T16:23:47.200806Z",
     "shell.execute_reply": "2021-06-16T16:23:47.200378Z",
     "shell.execute_reply.started": "2021-06-16T16:23:47.196437Z"
    },
    "tags": []
   },
   "outputs": [
    {
     "data": {
      "text/plain": [
       "book_id                                                                     63\n",
       "goodreads_book_id                                                         6185\n",
       "best_book_id                                                              6185\n",
       "books_count                                                               2498\n",
       "isbn                                                                 393978893\n",
       "isbn13                                                        9780393978900.00\n",
       "authors                                          Emily Brontë, Richard J. Dunn\n",
       "original_publication_year                                              1847.00\n",
       "original_title                                               Wuthering Heights\n",
       "title                                                        Wuthering Heights\n",
       "language_code                                                              eng\n",
       "average_rating                                                            3.82\n",
       "ratings_count                                                           899195\n",
       "work_ratings_count                                                     1001135\n",
       "work_text_reviews_count                                                  26157\n",
       "ratings_1                                                                46469\n",
       "ratings_2                                                                84084\n",
       "ratings_3                                                               215320\n",
       "ratings_4                                                               309180\n",
       "ratings_5                                                               346082\n",
       "image_url                    https://s.gr-assets.com/assets/nophoto/book/11...\n",
       "small_image_url              https://s.gr-assets.com/assets/nophoto/book/50...\n",
       "genre                        {'romance': 4001, 'fiction': 2229, 'history, h...\n",
       "top_genre                                                              romance\n",
       "Name: 1565818, dtype: object"
      ]
     },
     "execution_count": 87,
     "metadata": {},
     "output_type": "execute_result"
    }
   ],
   "source": [
    "goodbooks.loc[1565818]"
   ]
  },
  {
   "cell_type": "code",
   "execution_count": 89,
   "metadata": {
    "execution": {
     "iopub.execute_input": "2021-06-16T16:24:44.175346Z",
     "iopub.status.busy": "2021-06-16T16:24:44.174541Z",
     "iopub.status.idle": "2021-06-16T16:24:44.183450Z",
     "shell.execute_reply": "2021-06-16T16:24:44.182733Z",
     "shell.execute_reply.started": "2021-06-16T16:24:44.175244Z"
    },
    "tags": []
   },
   "outputs": [],
   "source": [
    "def genre_no_romance(work_id, df):\n",
    "    genre = df.loc[work_id]['genre']\n",
    "    if type(genre) is dict and len(genre) > 0:\n",
    "        top_n = sorted(genre.items(), key=lambda item: item[1], reverse=True)\n",
    "        \n",
    "        if top_n[0][0] == 'romance' and len(top_n) > 1 :\n",
    "            top = top_n[1][0]\n",
    "        else:\n",
    "            top = top_n[0][0]\n",
    "    else:\n",
    "        top = 'missing'\n",
    "        \n",
    "    return(top)"
   ]
  },
  {
   "cell_type": "code",
   "execution_count": 90,
   "metadata": {
    "execution": {
     "iopub.execute_input": "2021-06-16T16:24:53.014505Z",
     "iopub.status.busy": "2021-06-16T16:24:53.014327Z",
     "iopub.status.idle": "2021-06-16T16:24:53.018128Z",
     "shell.execute_reply": "2021-06-16T16:24:53.017678Z",
     "shell.execute_reply.started": "2021-06-16T16:24:53.014488Z"
    },
    "tags": []
   },
   "outputs": [
    {
     "data": {
      "text/plain": [
       "'fiction'"
      ]
     },
     "execution_count": 90,
     "metadata": {},
     "output_type": "execute_result"
    }
   ],
   "source": [
    "genre_no_romance(1565818,goodbooks)"
   ]
  },
  {
   "cell_type": "code",
   "execution_count": 95,
   "metadata": {
    "execution": {
     "iopub.execute_input": "2021-06-16T16:25:44.110786Z",
     "iopub.status.busy": "2021-06-16T16:25:44.110088Z",
     "iopub.status.idle": "2021-06-16T16:25:45.237874Z",
     "shell.execute_reply": "2021-06-16T16:25:45.237401Z",
     "shell.execute_reply.started": "2021-06-16T16:25:44.110700Z"
    },
    "tags": []
   },
   "outputs": [],
   "source": [
    "goodbooks['top_genre'] = [genre_no_romance(work_id, goodbooks) for work_id in goodbooks.index]"
   ]
  },
  {
   "cell_type": "code",
   "execution_count": null,
   "metadata": {
    "tags": []
   },
   "outputs": [],
   "source": [
    "fig = px.histogram(goodbooks, x = 'top_genre')\n",
    "HTML(fig.to_html())"
   ]
  },
  {
   "cell_type": "markdown",
   "metadata": {},
   "source": [
    "That's better! There are still some issues, like the lack of a 'drama' section, but we're getting there.\n",
    "\n",
    "I wonder if drama is even included in this genre data. Let's check wth the Bard"
   ]
  },
  {
   "cell_type": "code",
   "execution_count": 100,
   "metadata": {
    "collapsed": true,
    "execution": {
     "iopub.execute_input": "2021-06-16T16:27:50.809989Z",
     "iopub.status.busy": "2021-06-16T16:27:50.809805Z",
     "iopub.status.idle": "2021-06-16T16:27:50.833421Z",
     "shell.execute_reply": "2021-06-16T16:27:50.832807Z",
     "shell.execute_reply.started": "2021-06-16T16:27:50.809971Z"
    },
    "jupyter": {
     "outputs_hidden": true
    },
    "tags": []
   },
   "outputs": [
    {
     "data": {
      "text/html": [
       "<div>\n",
       "<style scoped>\n",
       "    .dataframe tbody tr th:only-of-type {\n",
       "        vertical-align: middle;\n",
       "    }\n",
       "\n",
       "    .dataframe tbody tr th {\n",
       "        vertical-align: top;\n",
       "    }\n",
       "\n",
       "    .dataframe thead th {\n",
       "        text-align: right;\n",
       "    }\n",
       "</style>\n",
       "<table border=\"1\" class=\"dataframe\">\n",
       "  <thead>\n",
       "    <tr style=\"text-align: right;\">\n",
       "      <th></th>\n",
       "      <th>book_id</th>\n",
       "      <th>goodreads_book_id</th>\n",
       "      <th>best_book_id</th>\n",
       "      <th>books_count</th>\n",
       "      <th>isbn</th>\n",
       "      <th>isbn13</th>\n",
       "      <th>authors</th>\n",
       "      <th>original_publication_year</th>\n",
       "      <th>original_title</th>\n",
       "      <th>title</th>\n",
       "      <th>...</th>\n",
       "      <th>work_text_reviews_count</th>\n",
       "      <th>ratings_1</th>\n",
       "      <th>ratings_2</th>\n",
       "      <th>ratings_3</th>\n",
       "      <th>ratings_4</th>\n",
       "      <th>ratings_5</th>\n",
       "      <th>image_url</th>\n",
       "      <th>small_image_url</th>\n",
       "      <th>genre</th>\n",
       "      <th>top_genre</th>\n",
       "    </tr>\n",
       "    <tr>\n",
       "      <th>work_id</th>\n",
       "      <th></th>\n",
       "      <th></th>\n",
       "      <th></th>\n",
       "      <th></th>\n",
       "      <th></th>\n",
       "      <th></th>\n",
       "      <th></th>\n",
       "      <th></th>\n",
       "      <th></th>\n",
       "      <th></th>\n",
       "      <th></th>\n",
       "      <th></th>\n",
       "      <th></th>\n",
       "      <th></th>\n",
       "      <th></th>\n",
       "      <th></th>\n",
       "      <th></th>\n",
       "      <th></th>\n",
       "      <th></th>\n",
       "      <th></th>\n",
       "      <th></th>\n",
       "    </tr>\n",
       "  </thead>\n",
       "  <tbody>\n",
       "    <tr>\n",
       "      <th>1896522</th>\n",
       "      <td>154</td>\n",
       "      <td>8852</td>\n",
       "      <td>8852</td>\n",
       "      <td>1732</td>\n",
       "      <td>743477103</td>\n",
       "      <td>9.780743e+12</td>\n",
       "      <td>William Shakespeare</td>\n",
       "      <td>1606.0</td>\n",
       "      <td>The Tragedy of Macbeth</td>\n",
       "      <td>Macbeth</td>\n",
       "      <td>...</td>\n",
       "      <td>7609</td>\n",
       "      <td>10551</td>\n",
       "      <td>35408</td>\n",
       "      <td>127354</td>\n",
       "      <td>183871</td>\n",
       "      <td>167642</td>\n",
       "      <td>https://images.gr-assets.com/books/1459795224m...</td>\n",
       "      <td>https://images.gr-assets.com/books/1459795224s...</td>\n",
       "      <td>{'fiction': 3359, 'poetry': 605, 'history, his...</td>\n",
       "      <td>fiction</td>\n",
       "    </tr>\n",
       "    <tr>\n",
       "      <th>995103</th>\n",
       "      <td>353</td>\n",
       "      <td>12996</td>\n",
       "      <td>12996</td>\n",
       "      <td>1053</td>\n",
       "      <td>743477553</td>\n",
       "      <td>9.780743e+12</td>\n",
       "      <td>William Shakespeare</td>\n",
       "      <td>1603.0</td>\n",
       "      <td>The Tragedy of Othello, The Moor of Venice</td>\n",
       "      <td>Othello</td>\n",
       "      <td>...</td>\n",
       "      <td>4334</td>\n",
       "      <td>4281</td>\n",
       "      <td>16576</td>\n",
       "      <td>64922</td>\n",
       "      <td>92076</td>\n",
       "      <td>78902</td>\n",
       "      <td>https://images.gr-assets.com/books/1459795105m...</td>\n",
       "      <td>https://images.gr-assets.com/books/1459795105s...</td>\n",
       "      <td>{'fiction': 1682, 'poetry': 403, 'romance': 17...</td>\n",
       "      <td>fiction</td>\n",
       "    </tr>\n",
       "    <tr>\n",
       "      <th>2342136</th>\n",
       "      <td>714</td>\n",
       "      <td>12938</td>\n",
       "      <td>12938</td>\n",
       "      <td>1108</td>\n",
       "      <td>074348276X</td>\n",
       "      <td>9.780743e+12</td>\n",
       "      <td>William Shakespeare</td>\n",
       "      <td>1603.0</td>\n",
       "      <td>The Tragedie of King Lear</td>\n",
       "      <td>King Lear</td>\n",
       "      <td>...</td>\n",
       "      <td>3079</td>\n",
       "      <td>2825</td>\n",
       "      <td>10502</td>\n",
       "      <td>36179</td>\n",
       "      <td>47682</td>\n",
       "      <td>50094</td>\n",
       "      <td>https://images.gr-assets.com/books/1331563731m...</td>\n",
       "      <td>https://images.gr-assets.com/books/1331563731s...</td>\n",
       "      <td>{'fiction': 1257, 'poetry': 343, 'history, his...</td>\n",
       "      <td>fiction</td>\n",
       "    </tr>\n",
       "    <tr>\n",
       "      <th>3152341</th>\n",
       "      <td>773</td>\n",
       "      <td>47021</td>\n",
       "      <td>47021</td>\n",
       "      <td>689</td>\n",
       "      <td>074347757X</td>\n",
       "      <td>9.780743e+12</td>\n",
       "      <td>William Shakespeare</td>\n",
       "      <td>1593.0</td>\n",
       "      <td>The Taming of the Shrew</td>\n",
       "      <td>The Taming of the Shrew</td>\n",
       "      <td>...</td>\n",
       "      <td>2370</td>\n",
       "      <td>2869</td>\n",
       "      <td>9611</td>\n",
       "      <td>35666</td>\n",
       "      <td>47453</td>\n",
       "      <td>38641</td>\n",
       "      <td>https://images.gr-assets.com/books/1327935253m...</td>\n",
       "      <td>https://images.gr-assets.com/books/1327935253s...</td>\n",
       "      <td>{'fiction': 996, 'romance': 288, 'poetry': 275...</td>\n",
       "      <td>fiction</td>\n",
       "    </tr>\n",
       "    <tr>\n",
       "      <th>1359590</th>\n",
       "      <td>804</td>\n",
       "      <td>12985</td>\n",
       "      <td>12985</td>\n",
       "      <td>956</td>\n",
       "      <td>743482832</td>\n",
       "      <td>9.780743e+12</td>\n",
       "      <td>William Shakespeare</td>\n",
       "      <td>1623.0</td>\n",
       "      <td>The Tempest</td>\n",
       "      <td>The Tempest</td>\n",
       "      <td>...</td>\n",
       "      <td>2831</td>\n",
       "      <td>2394</td>\n",
       "      <td>10084</td>\n",
       "      <td>37832</td>\n",
       "      <td>46984</td>\n",
       "      <td>38243</td>\n",
       "      <td>https://images.gr-assets.com/books/1327793692m...</td>\n",
       "      <td>https://images.gr-assets.com/books/1327793692s...</td>\n",
       "      <td>{'fiction': 206, 'history, historical fiction,...</td>\n",
       "      <td>fiction</td>\n",
       "    </tr>\n",
       "    <tr>\n",
       "      <th>3267921</th>\n",
       "      <td>855</td>\n",
       "      <td>1625</td>\n",
       "      <td>1625</td>\n",
       "      <td>861</td>\n",
       "      <td>743482778</td>\n",
       "      <td>9.780743e+12</td>\n",
       "      <td>William Shakespeare</td>\n",
       "      <td>1601.0</td>\n",
       "      <td>Twelfth Night; or, What You Will</td>\n",
       "      <td>Twelfth Night</td>\n",
       "      <td>...</td>\n",
       "      <td>2615</td>\n",
       "      <td>1494</td>\n",
       "      <td>6329</td>\n",
       "      <td>29985</td>\n",
       "      <td>47546</td>\n",
       "      <td>43539</td>\n",
       "      <td>https://images.gr-assets.com/books/1416628008m...</td>\n",
       "      <td>https://images.gr-assets.com/books/1416628008s...</td>\n",
       "      <td>{'fiction': 920, 'romance': 321, 'poetry': 298...</td>\n",
       "      <td>fiction</td>\n",
       "    </tr>\n",
       "    <tr>\n",
       "      <th>702863</th>\n",
       "      <td>1885</td>\n",
       "      <td>42607</td>\n",
       "      <td>42607</td>\n",
       "      <td>709</td>\n",
       "      <td>074348486X</td>\n",
       "      <td>9.780743e+12</td>\n",
       "      <td>William Shakespeare</td>\n",
       "      <td>1599.0</td>\n",
       "      <td>As You Like It</td>\n",
       "      <td>As You Like It</td>\n",
       "      <td>...</td>\n",
       "      <td>1312</td>\n",
       "      <td>894</td>\n",
       "      <td>3908</td>\n",
       "      <td>17213</td>\n",
       "      <td>22421</td>\n",
       "      <td>17061</td>\n",
       "      <td>https://images.gr-assets.com/books/1327935363m...</td>\n",
       "      <td>https://images.gr-assets.com/books/1327935363s...</td>\n",
       "      <td>{'fiction': 505, 'romance': 167, 'poetry': 182...</td>\n",
       "      <td>fiction</td>\n",
       "    </tr>\n",
       "    <tr>\n",
       "      <th>3000541</th>\n",
       "      <td>2209</td>\n",
       "      <td>569564</td>\n",
       "      <td>569564</td>\n",
       "      <td>828</td>\n",
       "      <td>517053616</td>\n",
       "      <td>9.780517e+12</td>\n",
       "      <td>William Shakespeare</td>\n",
       "      <td>1623.0</td>\n",
       "      <td>The Complete Works</td>\n",
       "      <td>The Complete Works</td>\n",
       "      <td>...</td>\n",
       "      <td>726</td>\n",
       "      <td>448</td>\n",
       "      <td>695</td>\n",
       "      <td>4279</td>\n",
       "      <td>10908</td>\n",
       "      <td>29680</td>\n",
       "      <td>https://images.gr-assets.com/books/1327884293m...</td>\n",
       "      <td>https://images.gr-assets.com/books/1327884293s...</td>\n",
       "      <td>{'history, historical fiction, biography': 69,...</td>\n",
       "      <td>fiction</td>\n",
       "    </tr>\n",
       "    <tr>\n",
       "      <th>6302847</th>\n",
       "      <td>6417</td>\n",
       "      <td>44133</td>\n",
       "      <td>44133</td>\n",
       "      <td>498</td>\n",
       "      <td>521293731</td>\n",
       "      <td>9.780521e+12</td>\n",
       "      <td>William Shakespeare</td>\n",
       "      <td>1600.0</td>\n",
       "      <td>The Winter's Tale</td>\n",
       "      <td>The Winter's Tale</td>\n",
       "      <td>...</td>\n",
       "      <td>810</td>\n",
       "      <td>300</td>\n",
       "      <td>1692</td>\n",
       "      <td>6488</td>\n",
       "      <td>6925</td>\n",
       "      <td>4566</td>\n",
       "      <td>https://images.gr-assets.com/books/1327893509m...</td>\n",
       "      <td>https://images.gr-assets.com/books/1327893509s...</td>\n",
       "      <td>{'fiction': 203, 'poetry': 82, 'romance': 65, ...</td>\n",
       "      <td>fiction</td>\n",
       "    </tr>\n",
       "    <tr>\n",
       "      <th>275237</th>\n",
       "      <td>6530</td>\n",
       "      <td>72978</td>\n",
       "      <td>72978</td>\n",
       "      <td>376</td>\n",
       "      <td>671722921</td>\n",
       "      <td>9.780672e+12</td>\n",
       "      <td>William Shakespeare</td>\n",
       "      <td>1589.0</td>\n",
       "      <td>NaN</td>\n",
       "      <td>Titus Andronicus</td>\n",
       "      <td>...</td>\n",
       "      <td>1062</td>\n",
       "      <td>579</td>\n",
       "      <td>1848</td>\n",
       "      <td>4963</td>\n",
       "      <td>5942</td>\n",
       "      <td>5035</td>\n",
       "      <td>https://images.gr-assets.com/books/1397028943m...</td>\n",
       "      <td>https://images.gr-assets.com/books/1397028943s...</td>\n",
       "      <td>{'fiction': 226, 'poetry': 73, 'history, histo...</td>\n",
       "      <td>fiction</td>\n",
       "    </tr>\n",
       "    <tr>\n",
       "      <th>525707</th>\n",
       "      <td>6692</td>\n",
       "      <td>82356</td>\n",
       "      <td>82356</td>\n",
       "      <td>474</td>\n",
       "      <td>1853262439</td>\n",
       "      <td>9.781853e+12</td>\n",
       "      <td>William Shakespeare</td>\n",
       "      <td>1594.0</td>\n",
       "      <td>NaN</td>\n",
       "      <td>The Comedy of Errors</td>\n",
       "      <td>...</td>\n",
       "      <td>782</td>\n",
       "      <td>252</td>\n",
       "      <td>1392</td>\n",
       "      <td>5964</td>\n",
       "      <td>6717</td>\n",
       "      <td>4514</td>\n",
       "      <td>https://images.gr-assets.com/books/1328543324m...</td>\n",
       "      <td>https://images.gr-assets.com/books/1328543324s...</td>\n",
       "      <td>{'fiction': 224, 'poetry': 96, 'romance': 22, ...</td>\n",
       "      <td>fiction</td>\n",
       "    </tr>\n",
       "  </tbody>\n",
       "</table>\n",
       "<p>11 rows × 24 columns</p>\n",
       "</div>"
      ],
      "text/plain": [
       "         book_id  goodreads_book_id  best_book_id  books_count        isbn  \\\n",
       "work_id                                                                      \n",
       "1896522      154               8852          8852         1732   743477103   \n",
       "995103       353              12996         12996         1053   743477553   \n",
       "2342136      714              12938         12938         1108  074348276X   \n",
       "3152341      773              47021         47021          689  074347757X   \n",
       "1359590      804              12985         12985          956   743482832   \n",
       "3267921      855               1625          1625          861   743482778   \n",
       "702863      1885              42607         42607          709  074348486X   \n",
       "3000541     2209             569564        569564          828   517053616   \n",
       "6302847     6417              44133         44133          498   521293731   \n",
       "275237      6530              72978         72978          376   671722921   \n",
       "525707      6692              82356         82356          474  1853262439   \n",
       "\n",
       "               isbn13              authors  original_publication_year  \\\n",
       "work_id                                                                 \n",
       "1896522  9.780743e+12  William Shakespeare                     1606.0   \n",
       "995103   9.780743e+12  William Shakespeare                     1603.0   \n",
       "2342136  9.780743e+12  William Shakespeare                     1603.0   \n",
       "3152341  9.780743e+12  William Shakespeare                     1593.0   \n",
       "1359590  9.780743e+12  William Shakespeare                     1623.0   \n",
       "3267921  9.780743e+12  William Shakespeare                     1601.0   \n",
       "702863   9.780743e+12  William Shakespeare                     1599.0   \n",
       "3000541  9.780517e+12  William Shakespeare                     1623.0   \n",
       "6302847  9.780521e+12  William Shakespeare                     1600.0   \n",
       "275237   9.780672e+12  William Shakespeare                     1589.0   \n",
       "525707   9.781853e+12  William Shakespeare                     1594.0   \n",
       "\n",
       "                                     original_title                    title  \\\n",
       "work_id                                                                        \n",
       "1896522                      The Tragedy of Macbeth                  Macbeth   \n",
       "995103   The Tragedy of Othello, The Moor of Venice                  Othello   \n",
       "2342136                   The Tragedie of King Lear                King Lear   \n",
       "3152341                     The Taming of the Shrew  The Taming of the Shrew   \n",
       "1359590                                 The Tempest              The Tempest   \n",
       "3267921            Twelfth Night; or, What You Will            Twelfth Night   \n",
       "702863                               As You Like It           As You Like It   \n",
       "3000541                          The Complete Works       The Complete Works   \n",
       "6302847                           The Winter's Tale        The Winter's Tale   \n",
       "275237                                          NaN         Titus Andronicus   \n",
       "525707                                          NaN     The Comedy of Errors   \n",
       "\n",
       "         ... work_text_reviews_count  ratings_1  ratings_2  ratings_3  \\\n",
       "work_id  ...                                                            \n",
       "1896522  ...                    7609      10551      35408     127354   \n",
       "995103   ...                    4334       4281      16576      64922   \n",
       "2342136  ...                    3079       2825      10502      36179   \n",
       "3152341  ...                    2370       2869       9611      35666   \n",
       "1359590  ...                    2831       2394      10084      37832   \n",
       "3267921  ...                    2615       1494       6329      29985   \n",
       "702863   ...                    1312        894       3908      17213   \n",
       "3000541  ...                     726        448        695       4279   \n",
       "6302847  ...                     810        300       1692       6488   \n",
       "275237   ...                    1062        579       1848       4963   \n",
       "525707   ...                     782        252       1392       5964   \n",
       "\n",
       "         ratings_4  ratings_5  \\\n",
       "work_id                         \n",
       "1896522     183871     167642   \n",
       "995103       92076      78902   \n",
       "2342136      47682      50094   \n",
       "3152341      47453      38641   \n",
       "1359590      46984      38243   \n",
       "3267921      47546      43539   \n",
       "702863       22421      17061   \n",
       "3000541      10908      29680   \n",
       "6302847       6925       4566   \n",
       "275237        5942       5035   \n",
       "525707        6717       4514   \n",
       "\n",
       "                                                 image_url  \\\n",
       "work_id                                                      \n",
       "1896522  https://images.gr-assets.com/books/1459795224m...   \n",
       "995103   https://images.gr-assets.com/books/1459795105m...   \n",
       "2342136  https://images.gr-assets.com/books/1331563731m...   \n",
       "3152341  https://images.gr-assets.com/books/1327935253m...   \n",
       "1359590  https://images.gr-assets.com/books/1327793692m...   \n",
       "3267921  https://images.gr-assets.com/books/1416628008m...   \n",
       "702863   https://images.gr-assets.com/books/1327935363m...   \n",
       "3000541  https://images.gr-assets.com/books/1327884293m...   \n",
       "6302847  https://images.gr-assets.com/books/1327893509m...   \n",
       "275237   https://images.gr-assets.com/books/1397028943m...   \n",
       "525707   https://images.gr-assets.com/books/1328543324m...   \n",
       "\n",
       "                                           small_image_url  \\\n",
       "work_id                                                      \n",
       "1896522  https://images.gr-assets.com/books/1459795224s...   \n",
       "995103   https://images.gr-assets.com/books/1459795105s...   \n",
       "2342136  https://images.gr-assets.com/books/1331563731s...   \n",
       "3152341  https://images.gr-assets.com/books/1327935253s...   \n",
       "1359590  https://images.gr-assets.com/books/1327793692s...   \n",
       "3267921  https://images.gr-assets.com/books/1416628008s...   \n",
       "702863   https://images.gr-assets.com/books/1327935363s...   \n",
       "3000541  https://images.gr-assets.com/books/1327884293s...   \n",
       "6302847  https://images.gr-assets.com/books/1327893509s...   \n",
       "275237   https://images.gr-assets.com/books/1397028943s...   \n",
       "525707   https://images.gr-assets.com/books/1328543324s...   \n",
       "\n",
       "                                                     genre  top_genre  \n",
       "work_id                                                                \n",
       "1896522  {'fiction': 3359, 'poetry': 605, 'history, his...    fiction  \n",
       "995103   {'fiction': 1682, 'poetry': 403, 'romance': 17...    fiction  \n",
       "2342136  {'fiction': 1257, 'poetry': 343, 'history, his...    fiction  \n",
       "3152341  {'fiction': 996, 'romance': 288, 'poetry': 275...    fiction  \n",
       "1359590  {'fiction': 206, 'history, historical fiction,...    fiction  \n",
       "3267921  {'fiction': 920, 'romance': 321, 'poetry': 298...    fiction  \n",
       "702863   {'fiction': 505, 'romance': 167, 'poetry': 182...    fiction  \n",
       "3000541  {'history, historical fiction, biography': 69,...    fiction  \n",
       "6302847  {'fiction': 203, 'poetry': 82, 'romance': 65, ...    fiction  \n",
       "275237   {'fiction': 226, 'poetry': 73, 'history, histo...    fiction  \n",
       "525707   {'fiction': 224, 'poetry': 96, 'romance': 22, ...    fiction  \n",
       "\n",
       "[11 rows x 24 columns]"
      ]
     },
     "execution_count": 100,
     "metadata": {},
     "output_type": "execute_result"
    }
   ],
   "source": [
    "goodbooks[goodbooks['authors'] == 'William Shakespeare']"
   ]
  },
  {
   "cell_type": "markdown",
   "metadata": {},
   "source": [
    "Nope! It's being collected as poetry, history, romance but not as drama. Swing and a miss. Oh well, nonetheless we have some information for our proportioning:\n"
   ]
  },
  {
   "cell_type": "code",
   "execution_count": 102,
   "metadata": {
    "execution": {
     "iopub.execute_input": "2021-06-16T16:31:48.405275Z",
     "iopub.status.busy": "2021-06-16T16:31:48.404594Z",
     "iopub.status.idle": "2021-06-16T16:31:48.416366Z",
     "shell.execute_reply": "2021-06-16T16:31:48.415720Z",
     "shell.execute_reply.started": "2021-06-16T16:31:48.405189Z"
    },
    "tags": []
   },
   "outputs": [
    {
     "data": {
      "text/plain": [
       "fiction                                   3455\n",
       "fantasy, paranormal                       1788\n",
       "mystery, thriller, crime                  1319\n",
       "non-fiction                               1279\n",
       "young-adult                                671\n",
       "children                                   566\n",
       "history, historical fiction, biography     436\n",
       "comics, graphic                            403\n",
       "poetry                                      76\n",
       "missing                                      5\n",
       "romance                                      2\n",
       "Name: top_genre, dtype: int64"
      ]
     },
     "execution_count": 102,
     "metadata": {},
     "output_type": "execute_result"
    }
   ],
   "source": [
    "gs = goodbooks['top_genre'].value_counts()\n",
    "gs"
   ]
  },
  {
   "cell_type": "code",
   "execution_count": 125,
   "metadata": {
    "execution": {
     "iopub.execute_input": "2021-06-16T16:38:00.760576Z",
     "iopub.status.busy": "2021-06-16T16:38:00.760391Z",
     "iopub.status.idle": "2021-06-16T16:38:00.765289Z",
     "shell.execute_reply": "2021-06-16T16:38:00.764883Z",
     "shell.execute_reply.started": "2021-06-16T16:38:00.760558Z"
    },
    "tags": []
   },
   "outputs": [
    {
     "data": {
      "text/plain": [
       "(6562, 2194, 1237, 7)"
      ]
     },
     "execution_count": 125,
     "metadata": {},
     "output_type": "execute_result"
    }
   ],
   "source": [
    "nums = {k:v for k, v in gs.items()}\n",
    "fic = nums['fiction'] + nums['fantasy, paranormal'] + nums['mystery, thriller, crime']\n",
    "nf = nums['non-fiction'] + nums['poetry'] + nums['comics, graphic'] + nums['history, historical fiction, biography']\n",
    "kids = nums['young-adult'] + nums['children']\n",
    "misc = nums['romance'] + nums['missing']\n",
    "\n",
    "fic, nf, kids, misc"
   ]
  },
  {
   "cell_type": "markdown",
   "metadata": {},
   "source": [
    "So about 12% of the books are in children and young adult categories, another 20% in non-fiction (including history, poetry and comics, which we shelve on that side of the room) and quite a majority (65%) in the fiction categories! "
   ]
  },
  {
   "cell_type": "markdown",
   "metadata": {},
   "source": [
    "Ontology of a book:\n",
    "\n",
    "A work with\n",
    " - a title\n",
    " - a creation year\n",
    " - one or more:\n",
    "     - authors\n",
    "     - editions\n",
    "     - cover images\n",
    "     - genres\n",
    "     - programatic IDs\n",
    " - various \n",
    "     - rankings\n",
    "     - reviews\n",
    "     - listings\n",
    "     - sales rank"
   ]
  }
 ],
 "metadata": {
  "kernelspec": {
   "display_name": "Python 3",
   "language": "python",
   "name": "python3"
  },
  "language_info": {
   "codemirror_mode": {
    "name": "ipython",
    "version": 3
   },
   "file_extension": ".py",
   "mimetype": "text/x-python",
   "name": "python",
   "nbconvert_exporter": "python",
   "pygments_lexer": "ipython3",
   "version": "3.7.7"
  },
  "widgets": {
   "application/vnd.jupyter.widget-state+json": {
    "state": {},
    "version_major": 2,
    "version_minor": 0
   }
  }
 },
 "nbformat": 4,
 "nbformat_minor": 4
}
