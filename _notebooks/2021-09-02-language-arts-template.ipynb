{
 "cells": [
  {
   "cell_type": "markdown",
   "metadata": {},
   "source": [
    "# Language Arts Template\n",
    "> Generating blog pages for my GAN experiments\n",
    "\n",
    "- categories: [synthetic-media]\n",
    "- badges: false\n"
   ]
  },
  {
   "cell_type": "markdown",
   "metadata": {},
   "source": [
    "Around the end of 2020 I learned to train Generative Adversarial Networks, or GANs, on image datasets to create art generators. I used a bunch of book and font data and made a series i call **Language Arts**.\n",
    "\n",
    "To display those in the `fastpages` framework I need to make markdown files for each of the projects, with its own date and description, and a list of image tags to display. Also a header image and video tags for any interpolation videos. And of course I'll need to copy some images over from the folder itself. \n",
    "\n",
    "Creating a template string has worked so far, for generating markdown folders. I can't do it entirely programmatically because I want to insert relevant comments for each one as I recall them. And I want to hand select the images, so I don't just copy over a bunch of crappy early-epoch training images. Probably the best way to do this is to hcopy images for each GAN project to subfolder of `images` with its name, then use a function of the folder name and manually-added metadata to build a markdown file over the contents of the folder. There are only so many projects I've built, and the marginal cost for adding a new one will be small if I can re-use the function."
   ]
  },
  {
   "cell_type": "code",
   "execution_count": 20,
   "metadata": {
    "execution": {
     "iopub.execute_input": "2021-09-02T16:27:51.821177Z",
     "iopub.status.busy": "2021-09-02T16:27:51.820987Z",
     "iopub.status.idle": "2021-09-02T16:27:51.824590Z",
     "shell.execute_reply": "2021-09-02T16:27:51.824142Z",
     "shell.execute_reply.started": "2021-09-02T16:27:51.821154Z"
    },
    "tags": []
   },
   "outputs": [],
   "source": [
    "from IPython.display import Markdown\n",
    "from pathlib import Path\n",
    "\n",
    "in_dir = '../images/book_cover_gan'\n",
    "\n",
    "images = [file for file in Path(in_dir).iterdir()]\n"
   ]
  },
  {
   "cell_type": "markdown",
   "metadata": {},
   "source": [
    "The following will display all the images when printed into the notebook, but doesn't get picked up by the fastpages converter, so it looks bad on the website. Maybe some day I will fix the converter myself, but until then I'm okay with generating markdown files that will work"
   ]
  },
  {
   "cell_type": "code",
   "execution_count": 4,
   "metadata": {
    "execution": {
     "iopub.execute_input": "2021-09-02T15:51:56.182889Z",
     "iopub.status.busy": "2021-09-02T15:51:56.181859Z",
     "iopub.status.idle": "2021-09-02T15:51:56.193011Z",
     "shell.execute_reply": "2021-09-02T15:51:56.190049Z",
     "shell.execute_reply.started": "2021-09-02T15:51:56.182750Z"
    },
    "tags": []
   },
   "outputs": [],
   "source": [
    "# Markdown('\\n'.join([f'![book cover generated with GAN]({image})' for image in images]))"
   ]
  },
  {
   "cell_type": "code",
   "execution_count": 23,
   "metadata": {
    "execution": {
     "iopub.execute_input": "2021-09-02T16:28:38.612048Z",
     "iopub.status.busy": "2021-09-02T16:28:38.611806Z",
     "iopub.status.idle": "2021-09-02T16:28:38.616789Z",
     "shell.execute_reply": "2021-09-02T16:28:38.616060Z",
     "shell.execute_reply.started": "2021-09-02T16:28:38.612019Z"
    },
    "tags": []
   },
   "outputs": [
    {
     "data": {
      "text/plain": [
       "[PosixPath('../images/book_cover_gan/95-ema.jpg'),\n",
       " PosixPath('../images/book_cover_gan/74-ema.jpg'),\n",
       " PosixPath('../images/book_cover_gan/117-ema.jpg'),\n",
       " PosixPath('../images/book_cover_gan/99-ema.jpg'),\n",
       " PosixPath('../images/book_cover_gan/48-ema.jpg')]"
      ]
     },
     "execution_count": 23,
     "metadata": {},
     "output_type": "execute_result"
    }
   ],
   "source": [
    "images[:5]"
   ]
  },
  {
   "cell_type": "code",
   "execution_count": 25,
   "metadata": {
    "execution": {
     "iopub.execute_input": "2021-09-02T16:28:44.384300Z",
     "iopub.status.busy": "2021-09-02T16:28:44.384117Z",
     "iopub.status.idle": "2021-09-02T16:28:44.388273Z",
     "shell.execute_reply": "2021-09-02T16:28:44.387469Z",
     "shell.execute_reply.started": "2021-09-02T16:28:44.384278Z"
    },
    "tags": []
   },
   "outputs": [
    {
     "data": {
      "text/plain": [
       "'95-ema.jpg'"
      ]
     },
     "execution_count": 25,
     "metadata": {},
     "output_type": "execute_result"
    }
   ],
   "source": [
    "images[0].name"
   ]
  },
  {
   "cell_type": "code",
   "execution_count": 70,
   "metadata": {
    "execution": {
     "iopub.execute_input": "2021-09-02T17:06:41.975876Z",
     "iopub.status.busy": "2021-09-02T17:06:41.975703Z",
     "iopub.status.idle": "2021-09-02T17:06:41.979863Z",
     "shell.execute_reply": "2021-09-02T17:06:41.979311Z",
     "shell.execute_reply.started": "2021-09-02T17:06:41.975860Z"
    },
    "tags": []
   },
   "outputs": [],
   "source": [
    "\n",
    "title = in_dir.split('/')[-1].replace('_', ' ').capitalize().replace('gan','GAN')\n",
    "\n",
    "           \n",
    "images_md = ' '.join([f'![generated image]({str(image.parent)[2:]}/{image.name})' for image in images])\n",
    "\n",
    "description = \"An early experiment with the [lightweight-gan](https://github.com/lucidrains/lightweight-gan) architecture trained on a 55K-image book dataset.\"\n",
    "\n",
    "images_html = '</n>'.join([f'<img src=\"{str(image.parent)[2:]}/{image.name}\" alt=\"generated image\">' for image in images])\n",
    "\n",
    "\n",
    "template_md = f'''---\n",
    "title: {title}\n",
    "layout: post\n",
    "toc: false\n",
    "badges: false\n",
    "image: {images[0]}\n",
    "categories: [synthetic-media]\n",
    "---\n",
    "\n",
    "{description}\n",
    "\n",
    "<div style=\" display: flex; flex-flow: wrap\">\n",
    "{images_html}\n",
    "</div>\n",
    "            '''"
   ]
  },
  {
   "cell_type": "code",
   "execution_count": 73,
   "metadata": {
    "execution": {
     "iopub.execute_input": "2021-09-02T17:08:19.182754Z",
     "iopub.status.busy": "2021-09-02T17:08:19.182551Z",
     "iopub.status.idle": "2021-09-02T17:08:19.185061Z",
     "shell.execute_reply": "2021-09-02T17:08:19.184513Z",
     "shell.execute_reply.started": "2021-09-02T17:08:19.182730Z"
    },
    "tags": []
   },
   "outputs": [],
   "source": [
    "# template_md"
   ]
  },
  {
   "cell_type": "code",
   "execution_count": 72,
   "metadata": {
    "execution": {
     "iopub.execute_input": "2021-09-02T17:06:42.763332Z",
     "iopub.status.busy": "2021-09-02T17:06:42.763171Z",
     "iopub.status.idle": "2021-09-02T17:06:42.766835Z",
     "shell.execute_reply": "2021-09-02T17:06:42.766336Z",
     "shell.execute_reply.started": "2021-09-02T17:06:42.763315Z"
    },
    "tags": []
   },
   "outputs": [],
   "source": [
    "date = '2020-11-28'\n",
    "with open(f'../_posts/language-arts/{date}-{title.replace(\" \", \"-\")}.md', 'w') as f:\n",
    "    print(template_md, file=f)"
   ]
  },
  {
   "cell_type": "markdown",
   "metadata": {},
   "source": [
    "Wrap it all in a function with minimum necessary inputs, and we can print a few in quick succession! ALthought it will be good to separate the pure markdown function from teh effect of writing to disk."
   ]
  },
  {
   "cell_type": "code",
   "execution_count": 111,
   "metadata": {
    "execution": {
     "iopub.execute_input": "2021-09-02T17:33:14.156307Z",
     "iopub.status.busy": "2021-09-02T17:33:14.156130Z",
     "iopub.status.idle": "2021-09-02T17:33:14.159600Z",
     "shell.execute_reply": "2021-09-02T17:33:14.159139Z",
     "shell.execute_reply.started": "2021-09-02T17:33:14.156277Z"
    },
    "tags": []
   },
   "outputs": [],
   "source": [
    "def get_md(title, date, description, images):\n",
    "    \n",
    "    images_html = ' '.join([f'<img src=\"{str(image.parent)[2:]}/{image.name}\" alt=\"generated image\">' for image in images])\n",
    "\n",
    "    \n",
    "    template_md = f'''---\n",
    "title: {title}\n",
    "layout: post\n",
    "toc: false\n",
    "badges: false\n",
    "image: {str(images[0])[2:]}\n",
    "categories: [synthetic-media]\n",
    "---\n",
    "\n",
    "{description}\n",
    "\n",
    "<div style=\"display: flex; flex-flow: wrap; gap: 2rem\">\n",
    "{images_html}\n",
    "</div>\n",
    "            '''\n",
    "    \n",
    "    return(template_md)"
   ]
  },
  {
   "cell_type": "code",
   "execution_count": 112,
   "metadata": {
    "execution": {
     "iopub.execute_input": "2021-09-02T17:33:14.281655Z",
     "iopub.status.busy": "2021-09-02T17:33:14.281479Z",
     "iopub.status.idle": "2021-09-02T17:33:14.285714Z",
     "shell.execute_reply": "2021-09-02T17:33:14.285129Z",
     "shell.execute_reply.started": "2021-09-02T17:33:14.281637Z"
    },
    "tags": []
   },
   "outputs": [],
   "source": [
    "def write_md(in_dir, date, description):\n",
    "    images = [file for file in Path(in_dir).iterdir()]\n",
    "    title = in_dir.split('/')[-1].replace('_', ' ').capitalize().replace('gan','GAN')\n",
    "    \n",
    "    post_md = get_md(title, date, description, images)\n",
    "#     print(post_md)\n",
    "    with open(f'../_posts/language-arts/{date}-{title.replace(\" \", \"-\")}.md', 'w') as f:\n",
    "        print(post_md, file=f)"
   ]
  },
  {
   "cell_type": "code",
   "execution_count": 113,
   "metadata": {
    "execution": {
     "iopub.execute_input": "2021-09-02T17:33:14.798334Z",
     "iopub.status.busy": "2021-09-02T17:33:14.798125Z",
     "iopub.status.idle": "2021-09-02T17:33:14.802698Z",
     "shell.execute_reply": "2021-09-02T17:33:14.801725Z",
     "shell.execute_reply.started": "2021-09-02T17:33:14.798315Z"
    },
    "tags": []
   },
   "outputs": [],
   "source": [
    "write_md('../images/book_cover_gan',\n",
    "       '2020-11-28',\n",
    "      \"An early experiment with the [lightweight-gan](https://github.com/lucidrains/lightweight-gan) architecture trained on a 55K-image book dataset.\",\n",
    "      )"
   ]
  },
  {
   "cell_type": "code",
   "execution_count": null,
   "metadata": {},
   "outputs": [],
   "source": []
  }
 ],
 "metadata": {
  "kernelspec": {
   "display_name": "Python 3",
   "language": "python",
   "name": "python3"
  },
  "language_info": {
   "codemirror_mode": {
    "name": "ipython",
    "version": 3
   },
   "file_extension": ".py",
   "mimetype": "text/x-python",
   "name": "python",
   "nbconvert_exporter": "python",
   "pygments_lexer": "ipython3",
   "version": "3.7.7"
  },
  "widgets": {
   "application/vnd.jupyter.widget-state+json": {
    "state": {},
    "version_major": 2,
    "version_minor": 0
   }
  }
 },
 "nbformat": 4,
 "nbformat_minor": 4
}
