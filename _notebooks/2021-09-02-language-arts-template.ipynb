{
 "cells": [
  {
   "cell_type": "markdown",
   "metadata": {},
   "source": [
    "# Language Arts template\n",
    "> Generating blog pages for my GAN experiments\n",
    "\n",
    "- categories: [synthetic-media]\n",
    "- hide: true"
   ]
  },
  {
   "cell_type": "markdown",
   "metadata": {},
   "source": [
    "Around the end of 2020 I learned to train Generative Adversarial Networks, or GANs, on image datasets to create art generators. I used a bunch of book and font data and made a series i call **Language Arts**.\n",
    "\n",
    "To display those in the `fastpages` framework I need to make markdown files for each of the projects, with its own date and description, and a list of image tags to display. Also a header image and video tags for any interpolation videos. And of course I'll need to copy some images over from the folder itself. \n",
    "\n",
    "Creating a template string has worked so far, for generating markdown folders. I can't do it entirely programmatically because I want to insert relevant comments for each one as I recall them. And I want to hand select the images, so I don't just copy over a bunch of crappy early-epoch training images. Probably the best way to do this is to hcopy images for each GAN project to subfolder of `images` with its name, then use a function of the folder name and manually-added metadata to build a markdown file over the contents of the folder. There are only so many projects I've built, and the marginal cost for adding a new one will be small if I can re-use the function."
   ]
  },
  {
   "cell_type": "code",
   "execution_count": 1,
   "metadata": {
    "execution": {
     "iopub.execute_input": "2021-09-14T00:14:31.293814Z",
     "iopub.status.busy": "2021-09-14T00:14:31.293452Z",
     "iopub.status.idle": "2021-09-14T00:14:31.303338Z",
     "shell.execute_reply": "2021-09-14T00:14:31.302155Z",
     "shell.execute_reply.started": "2021-09-14T00:14:31.293720Z"
    },
    "tags": []
   },
   "outputs": [],
   "source": [
    "from IPython.display import Markdown\n",
    "from pathlib import Path\n",
    "\n",
    "in_dir = '../images/book_cover_gan'\n",
    "\n",
    "images = [file for file in Path(in_dir).iterdir()]\n"
   ]
  },
  {
   "cell_type": "markdown",
   "metadata": {},
   "source": [
    "The following will display all the images when printed into the notebook, but doesn't get picked up by the fastpages converter, so it looks bad on the website. Maybe some day I will fix the converter myself, but until then I'm okay with generating markdown files that will work"
   ]
  },
  {
   "cell_type": "code",
   "execution_count": 23,
   "metadata": {
    "execution": {
     "iopub.execute_input": "2021-09-02T16:28:38.612048Z",
     "iopub.status.busy": "2021-09-02T16:28:38.611806Z",
     "iopub.status.idle": "2021-09-02T16:28:38.616789Z",
     "shell.execute_reply": "2021-09-02T16:28:38.616060Z",
     "shell.execute_reply.started": "2021-09-02T16:28:38.612019Z"
    },
    "tags": []
   },
   "outputs": [
    {
     "data": {
      "text/plain": [
       "[PosixPath('../images/book_cover_gan/95-ema.jpg'),\n",
       " PosixPath('../images/book_cover_gan/74-ema.jpg'),\n",
       " PosixPath('../images/book_cover_gan/117-ema.jpg'),\n",
       " PosixPath('../images/book_cover_gan/99-ema.jpg'),\n",
       " PosixPath('../images/book_cover_gan/48-ema.jpg')]"
      ]
     },
     "execution_count": 23,
     "metadata": {},
     "output_type": "execute_result"
    }
   ],
   "source": [
    "images[:5]"
   ]
  },
  {
   "cell_type": "code",
   "execution_count": 25,
   "metadata": {
    "execution": {
     "iopub.execute_input": "2021-09-02T16:28:44.384300Z",
     "iopub.status.busy": "2021-09-02T16:28:44.384117Z",
     "iopub.status.idle": "2021-09-02T16:28:44.388273Z",
     "shell.execute_reply": "2021-09-02T16:28:44.387469Z",
     "shell.execute_reply.started": "2021-09-02T16:28:44.384278Z"
    },
    "tags": []
   },
   "outputs": [
    {
     "data": {
      "text/plain": [
       "'95-ema.jpg'"
      ]
     },
     "execution_count": 25,
     "metadata": {},
     "output_type": "execute_result"
    }
   ],
   "source": [
    "images[0].name"
   ]
  },
  {
   "cell_type": "code",
   "execution_count": 70,
   "metadata": {
    "execution": {
     "iopub.execute_input": "2021-09-02T17:06:41.975876Z",
     "iopub.status.busy": "2021-09-02T17:06:41.975703Z",
     "iopub.status.idle": "2021-09-02T17:06:41.979863Z",
     "shell.execute_reply": "2021-09-02T17:06:41.979311Z",
     "shell.execute_reply.started": "2021-09-02T17:06:41.975860Z"
    },
    "tags": []
   },
   "outputs": [],
   "source": [
    "\n",
    "title = in_dir.split('/')[-1].replace('_', ' ').capitalize().replace('gan','GAN')\n",
    "\n",
    "           \n",
    "images_md = ' '.join([f'![generated image]({str(image.parent)[2:]}/{image.name})' for image in images])\n",
    "\n",
    "description = \"An early experiment with the [lightweight-gan](https://github.com/lucidrains/lightweight-gan) architecture trained on a 55K-image book dataset.\"\n",
    "\n",
    "images_html = '</n>'.join([f'<img src=\"{str(image.parent)[2:]}/{image.name}\" alt=\"generated image\">' for image in images])\n",
    "\n",
    "\n",
    "template_md = f'''---\n",
    "title: {title}\n",
    "layout: post\n",
    "toc: false\n",
    "badges: false\n",
    "image: {images[0]}\n",
    "categories: [synthetic-media]\n",
    "---\n",
    "\n",
    "{description}\n",
    "\n",
    "<div style=\" display: flex; flex-flow: wrap\">\n",
    "{images_html}\n",
    "</div>\n",
    "            '''"
   ]
  },
  {
   "cell_type": "code",
   "execution_count": 72,
   "metadata": {
    "execution": {
     "iopub.execute_input": "2021-09-02T17:06:42.763332Z",
     "iopub.status.busy": "2021-09-02T17:06:42.763171Z",
     "iopub.status.idle": "2021-09-02T17:06:42.766835Z",
     "shell.execute_reply": "2021-09-02T17:06:42.766336Z",
     "shell.execute_reply.started": "2021-09-02T17:06:42.763315Z"
    },
    "tags": []
   },
   "outputs": [],
   "source": [
    "date = '2020-11-28'\n",
    "with open(f'../_posts/language-arts/{date}-{title.replace(\" \", \"-\")}.md', 'w') as f:\n",
    "    print(template_md, file=f)"
   ]
  },
  {
   "cell_type": "markdown",
   "metadata": {},
   "source": [
    "Wrap it all in a function with minimum necessary inputs, and we can print a few in quick succession! ALthought it will be good to separate the pure markdown function from teh effect of writing to disk."
   ]
  },
  {
   "cell_type": "code",
   "execution_count": 4,
   "metadata": {
    "execution": {
     "iopub.execute_input": "2021-09-14T00:14:41.357598Z",
     "iopub.status.busy": "2021-09-14T00:14:41.357285Z",
     "iopub.status.idle": "2021-09-14T00:14:41.366890Z",
     "shell.execute_reply": "2021-09-14T00:14:41.365424Z",
     "shell.execute_reply.started": "2021-09-14T00:14:41.357565Z"
    },
    "tags": []
   },
   "outputs": [],
   "source": [
    "def get_md(title, date, description, images, video):\n",
    "    \n",
    "    images_html = ' '.join([f'<img src=\"{str(image.parent)[2:]}/{image.name}\" alt=\"generated image\">' for image in images])\n",
    "\n",
    "    video_html = f'{{% include video_small.html url=\"{video}\" %}}' if video != \"\" else \"\"\n",
    "        \n",
    "    \n",
    "    template_md = f'''---\n",
    "title: {title}\n",
    "layout: post\n",
    "toc: false\n",
    "badges: false\n",
    "image: {str(images[0])[2:]}\n",
    "categories: [synthetic-media]\n",
    "---\n",
    "\n",
    "{description}\n",
    "\n",
    "{video_html}\n",
    "\n",
    "## Samples\n",
    "<div style=\"display: flex; flex-flow: wrap; gap: 2rem\">\n",
    "{images_html}\n",
    "</div>\n",
    "            '''\n",
    "    \n",
    "    return(template_md)"
   ]
  },
  {
   "cell_type": "code",
   "execution_count": 21,
   "metadata": {
    "execution": {
     "iopub.execute_input": "2021-09-13T22:41:18.066276Z",
     "iopub.status.busy": "2021-09-13T22:41:18.065232Z",
     "iopub.status.idle": "2021-09-13T22:41:18.081933Z",
     "shell.execute_reply": "2021-09-13T22:41:18.080567Z",
     "shell.execute_reply.started": "2021-09-13T22:41:18.066149Z"
    },
    "tags": []
   },
   "outputs": [
    {
     "data": {
      "text/plain": [
       "'---\\ntitle: ../images/book_cover_gan\\nlayout: post\\ntoc: false\\nbadges: false\\nimage: /images/book_cover_gan/95-ema.jpg\\ncategories: [synthetic-media]\\n---\\n\\nAn early experiment with the [lightweight-gan](https://github.com/lucidrains/lightweight-gan) architecture trained on a 55K-image book dataset.\\n\\n{% include video_small.html url=\"/images/book-gan.mp4\" %}\\n\\n<div style=\"display: flex; flex-flow: wrap; gap: 2rem\">\\n<img src=\"/images/book_cover_gan/95-ema.jpg\" alt=\"generated image\"> <img src=\"/images/book'"
      ]
     },
     "execution_count": 21,
     "metadata": {},
     "output_type": "execute_result"
    }
   ],
   "source": [
    "get_md('../images/book_cover_gan',\n",
    "       '2020-11-28',\n",
    "      \"An early experiment with the [lightweight-gan](https://github.com/lucidrains/lightweight-gan) architecture trained on a 55K-image book dataset.\",\n",
    "      images,\n",
    "      \"/images/book-gan.mp4\")[:500]"
   ]
  },
  {
   "cell_type": "code",
   "execution_count": 5,
   "metadata": {
    "execution": {
     "iopub.execute_input": "2021-09-14T00:14:45.228764Z",
     "iopub.status.busy": "2021-09-14T00:14:45.228488Z",
     "iopub.status.idle": "2021-09-14T00:14:45.235453Z",
     "shell.execute_reply": "2021-09-14T00:14:45.234487Z",
     "shell.execute_reply.started": "2021-09-14T00:14:45.228732Z"
    },
    "tags": []
   },
   "outputs": [],
   "source": [
    "def write_md(in_dir, date, description, video=\"\"):\n",
    "    images = [file for file in Path(in_dir).iterdir()]\n",
    "    title = in_dir.split('/')[-1].replace('_', ' ').capitalize().replace('gan','GAN')\n",
    "    \n",
    "    post_md = get_md(title, date, description, images, video)\n",
    "#     print(post_md)\n",
    "    with open(f'../_posts/language-arts/{date}-{title.replace(\" \", \"-\")}.md', 'w') as f:\n",
    "        print(post_md, file=f)"
   ]
  },
  {
   "cell_type": "code",
   "execution_count": 26,
   "metadata": {
    "execution": {
     "iopub.execute_input": "2021-09-13T22:45:58.786746Z",
     "iopub.status.busy": "2021-09-13T22:45:58.786515Z",
     "iopub.status.idle": "2021-09-13T22:45:58.790357Z",
     "shell.execute_reply": "2021-09-13T22:45:58.789833Z",
     "shell.execute_reply.started": "2021-09-13T22:45:58.786722Z"
    },
    "tags": []
   },
   "outputs": [],
   "source": [
    "write_md('../images/book_cover_gan',\n",
    "       '2020-11-28',\n",
    "      \"An early experiment with the [lightweight-gan](https://github.com/lucidrains/lightweight-gan) architecture trained on a 55K-image book dataset.\",\n",
    "      \"/images/book-gan.mp4\")"
   ]
  },
  {
   "cell_type": "code",
   "execution_count": 45,
   "metadata": {
    "execution": {
     "iopub.execute_input": "2021-09-13T23:35:10.335579Z",
     "iopub.status.busy": "2021-09-13T23:35:10.335426Z",
     "iopub.status.idle": "2021-09-13T23:35:10.338053Z",
     "shell.execute_reply": "2021-09-13T23:35:10.337554Z",
     "shell.execute_reply.started": "2021-09-13T23:35:10.335560Z"
    },
    "tags": []
   },
   "outputs": [],
   "source": [
    "write_md('../images/symbol_gan_unscii',\n",
    "       '2021-02-03',\n",
    "      \"\"\"My first experiment with trying to generate new language glyphs. I used the [unscii](http://viznut.fi/unscii/) font because it has glyphs for most of the Unicode characters.\n",
    "      \n",
    "Unfortunately, since it's a bitmap font suitable for ASCII terminals, the end result is very pixelated is hard to imagine as letters. It also tended toward\n",
    "mode collapse, as the generator figured out it could fool the discriminator with a very faint grid of dots in a gridlike pattern.\"\"\",\n",
    "      \"/images/unscii-gan.mp4\")"
   ]
  },
  {
   "cell_type": "code",
   "execution_count": 46,
   "metadata": {
    "execution": {
     "iopub.execute_input": "2021-09-13T23:35:10.556758Z",
     "iopub.status.busy": "2021-09-13T23:35:10.556566Z",
     "iopub.status.idle": "2021-09-13T23:35:10.559552Z",
     "shell.execute_reply": "2021-09-13T23:35:10.559180Z",
     "shell.execute_reply.started": "2021-09-13T23:35:10.556739Z"
    },
    "tags": []
   },
   "outputs": [],
   "source": [
    "write_md('../images/symbol_gan_noto',\n",
    "       '2021-02-05',\n",
    "      \"\"\"A model finetuned from my unscii GAN. I tried with Noto font from Google, but the underlying model was too deranged. \n",
    "Also, Noto has a lot more Eastern ideograms than Western characters and I don't know how to tell if those are even translating properly.\"\"\",\n",
    "      \"/images/noto-gan.mp4\")"
   ]
  },
  {
   "cell_type": "code",
   "execution_count": 47,
   "metadata": {
    "execution": {
     "iopub.execute_input": "2021-09-13T23:35:14.460625Z",
     "iopub.status.busy": "2021-09-13T23:35:14.460383Z",
     "iopub.status.idle": "2021-09-13T23:35:14.464426Z",
     "shell.execute_reply": "2021-09-13T23:35:14.463718Z",
     "shell.execute_reply.started": "2021-09-13T23:35:14.460599Z"
    },
    "tags": []
   },
   "outputs": [],
   "source": [
    "write_md('../images/symbol_gan_code2000',\n",
    "       '2021-02-09',\n",
    "      \"\"\"I recreated my Unicode glyphs dataset with the abandonware font [Code2000](https://web.archive.org/web/20110108105420/http://code2000.net/), which has great coverage for Western characters as well as a funky, humanist design.\n",
    "\n",
    "This time I started to see real characters emerge among the imagined ones. It was at this point that I began to wonder if this was a good thing to do to my brain.\n",
    "\n",
    "But it was too late...\"\"\",\n",
    "      \"\")"
   ]
  },
  {
   "cell_type": "code",
   "execution_count": 48,
   "metadata": {
    "execution": {
     "iopub.execute_input": "2021-09-13T23:35:17.411478Z",
     "iopub.status.busy": "2021-09-13T23:35:17.411246Z",
     "iopub.status.idle": "2021-09-13T23:35:17.414895Z",
     "shell.execute_reply": "2021-09-13T23:35:17.414352Z",
     "shell.execute_reply.started": "2021-09-13T23:35:17.411455Z"
    },
    "tags": []
   },
   "outputs": [],
   "source": [
    "write_md('../images/symbol_gan_4word',\n",
    "       '2021-03-08',\n",
    "      \"\"\"After many false starts and dead ends, I finally found a concept that would truly drive me insane. I finetuned my Code2000 symbol GAN model on a set of generated images.\n",
    "\n",
    "These images consisted of the 1,000 most commonly used four-letter words in English. With the newly trained model, I generated some new ones.\n",
    "\n",
    "If you would like to purchase one of these word worms, you can find them in NFT form at the [Language Arts Marketplace](https://opensea.io/collection/language-arts). I can't imagine why you would, but there it is.\n",
    "\n",
    "**Warning: I don't know what happens if you stare at these for too long! Use at your own risk.**\"\"\",\n",
    "      \"\")"
   ]
  },
  {
   "cell_type": "code",
   "execution_count": null,
   "metadata": {},
   "outputs": [],
   "source": []
  }
 ],
 "metadata": {
  "kernelspec": {
   "display_name": "Python 3",
   "language": "python",
   "name": "python3"
  },
  "language_info": {
   "codemirror_mode": {
    "name": "ipython",
    "version": 3
   },
   "file_extension": ".py",
   "mimetype": "text/x-python",
   "name": "python",
   "nbconvert_exporter": "python",
   "pygments_lexer": "ipython3",
   "version": "3.7.7"
  },
  "widgets": {
   "application/vnd.jupyter.widget-state+json": {
    "state": {},
    "version_major": 2,
    "version_minor": 0
   }
  }
 },
 "nbformat": 4,
 "nbformat_minor": 4
}
