{
 "cells": [
  {
   "cell_type": "markdown",
   "metadata": {},
   "source": [
    "# Language Arts template\n",
    "> Generating blog pages for my GAN experiments\n",
    "\n",
    "- categories: [synthetic-media]\n",
    "- badges: false\n"
   ]
  },
  {
   "cell_type": "markdown",
   "metadata": {},
   "source": [
    "Around the end of 2020 I learned to train Generative Adversarial Networks, or GANs, on image datasets to create art generators. I used a bunch of book and font data and made a series i call **Language Arts**.\n",
    "\n",
    "To display those in the `fastpages` framework I need to make markdown files for each of the projects, with its own date and description, and a list of image tags to display. Also a header image and video tags for any interpolation videos. And of course I'll need to copy some images over from the folder itself. \n",
    "\n",
    "Creating a template string has worked so far, for generating markdown folders. I can't do it entirely programmatically because I want to insert relevant comments for each one as I recall them. And I want to hand select the images, so I don't just copy over a bunch of crappy early-epoch training images. Probably the best way to do this is to hcopy images for each GAN project to subfolder of `images` with its name, then use a function of the folder name and manually-added metadata to build a markdown file over the contents of the folder. There are only so many projects I've built, and the marginal cost for adding a new one will be small if I can re-use the function."
   ]
  },
  {
   "cell_type": "code",
   "execution_count": 20,
   "metadata": {
    "execution": {
     "iopub.execute_input": "2021-09-02T16:27:51.821177Z",
     "iopub.status.busy": "2021-09-02T16:27:51.820987Z",
     "iopub.status.idle": "2021-09-02T16:27:51.824590Z",
     "shell.execute_reply": "2021-09-02T16:27:51.824142Z",
     "shell.execute_reply.started": "2021-09-02T16:27:51.821154Z"
    },
    "tags": []
   },
   "outputs": [],
   "source": [
    "from IPython.display import Markdown\n",
    "from pathlib import Path\n",
    "\n",
    "in_dir = '../images/book_cover_gan'\n",
    "\n",
    "images = [file for file in Path(in_dir).iterdir()]\n"
   ]
  },
  {
   "cell_type": "markdown",
   "metadata": {},
   "source": [
    "The following will display all the images when printed into the notebook, but doesn't get picked up by the fastpages converter, so it looks bad on the website. Maybe some day I will fix the converter myself, but until then I'm okay with generating markdown files that will work"
   ]
  },
  {
   "cell_type": "code",
   "execution_count": 4,
   "metadata": {
    "execution": {
     "iopub.execute_input": "2021-09-02T15:51:56.182889Z",
     "iopub.status.busy": "2021-09-02T15:51:56.181859Z",
     "iopub.status.idle": "2021-09-02T15:51:56.193011Z",
     "shell.execute_reply": "2021-09-02T15:51:56.190049Z",
     "shell.execute_reply.started": "2021-09-02T15:51:56.182750Z"
    },
    "tags": []
   },
   "outputs": [],
   "source": [
    "# Markdown('\\n'.join([f'![book cover generated with GAN]({image})' for image in images]))"
   ]
  },
  {
   "cell_type": "code",
   "execution_count": 23,
   "metadata": {
    "execution": {
     "iopub.execute_input": "2021-09-02T16:28:38.612048Z",
     "iopub.status.busy": "2021-09-02T16:28:38.611806Z",
     "iopub.status.idle": "2021-09-02T16:28:38.616789Z",
     "shell.execute_reply": "2021-09-02T16:28:38.616060Z",
     "shell.execute_reply.started": "2021-09-02T16:28:38.612019Z"
    },
    "tags": []
   },
   "outputs": [
    {
     "data": {
      "text/plain": [
       "[PosixPath('../images/book_cover_gan/95-ema.jpg'),\n",
       " PosixPath('../images/book_cover_gan/74-ema.jpg'),\n",
       " PosixPath('../images/book_cover_gan/117-ema.jpg'),\n",
       " PosixPath('../images/book_cover_gan/99-ema.jpg'),\n",
       " PosixPath('../images/book_cover_gan/48-ema.jpg')]"
      ]
     },
     "execution_count": 23,
     "metadata": {},
     "output_type": "execute_result"
    }
   ],
   "source": [
    "images[:5]"
   ]
  },
  {
   "cell_type": "code",
   "execution_count": 25,
   "metadata": {
    "execution": {
     "iopub.execute_input": "2021-09-02T16:28:44.384300Z",
     "iopub.status.busy": "2021-09-02T16:28:44.384117Z",
     "iopub.status.idle": "2021-09-02T16:28:44.388273Z",
     "shell.execute_reply": "2021-09-02T16:28:44.387469Z",
     "shell.execute_reply.started": "2021-09-02T16:28:44.384278Z"
    },
    "tags": []
   },
   "outputs": [
    {
     "data": {
      "text/plain": [
       "'95-ema.jpg'"
      ]
     },
     "execution_count": 25,
     "metadata": {},
     "output_type": "execute_result"
    }
   ],
   "source": [
    "images[0].name"
   ]
  },
  {
   "cell_type": "code",
   "execution_count": 70,
   "metadata": {
    "execution": {
     "iopub.execute_input": "2021-09-02T17:06:41.975876Z",
     "iopub.status.busy": "2021-09-02T17:06:41.975703Z",
     "iopub.status.idle": "2021-09-02T17:06:41.979863Z",
     "shell.execute_reply": "2021-09-02T17:06:41.979311Z",
     "shell.execute_reply.started": "2021-09-02T17:06:41.975860Z"
    },
    "tags": []
   },
   "outputs": [],
   "source": [
    "\n",
    "title = in_dir.split('/')[-1].replace('_', ' ').capitalize().replace('gan','GAN')\n",
    "\n",
    "           \n",
    "images_md = ' '.join([f'![generated image]({str(image.parent)[2:]}/{image.name})' for image in images])\n",
    "\n",
    "description = \"An early experiment with the [lightweight-gan](https://github.com/lucidrains/lightweight-gan) architecture trained on a 55K-image book dataset.\"\n",
    "\n",
    "images_html = '</n>'.join([f'<img src=\"{str(image.parent)[2:]}/{image.name}\" alt=\"generated image\">' for image in images])\n",
    "\n",
    "\n",
    "template_md = f'''---\n",
    "title: {title}\n",
    "layout: post\n",
    "toc: false\n",
    "badges: false\n",
    "image: {images[0]}\n",
    "categories: [synthetic-media]\n",
    "---\n",
    "\n",
    "{description}\n",
    "\n",
    "<div style=\" display: flex; flex-flow: wrap\">\n",
    "{images_html}\n",
    "</div>\n",
    "            '''"
   ]
  },
  {
   "cell_type": "code",
   "execution_count": 73,
   "metadata": {
    "execution": {
     "iopub.execute_input": "2021-09-02T17:08:19.182754Z",
     "iopub.status.busy": "2021-09-02T17:08:19.182551Z",
     "iopub.status.idle": "2021-09-02T17:08:19.185061Z",
     "shell.execute_reply": "2021-09-02T17:08:19.184513Z",
     "shell.execute_reply.started": "2021-09-02T17:08:19.182730Z"
    },
    "tags": []
   },
   "outputs": [],
   "source": [
    "# template_md"
   ]
  },
  {
   "cell_type": "code",
   "execution_count": 72,
   "metadata": {
    "execution": {
     "iopub.execute_input": "2021-09-02T17:06:42.763332Z",
     "iopub.status.busy": "2021-09-02T17:06:42.763171Z",
     "iopub.status.idle": "2021-09-02T17:06:42.766835Z",
     "shell.execute_reply": "2021-09-02T17:06:42.766336Z",
     "shell.execute_reply.started": "2021-09-02T17:06:42.763315Z"
    },
    "tags": []
   },
   "outputs": [],
   "source": [
    "date = '2020-11-28'\n",
    "with open(f'../_posts/language-arts/{date}-{title.replace(\" \", \"-\")}.md', 'w') as f:\n",
    "    print(template_md, file=f)"
   ]
  },
  {
   "cell_type": "markdown",
   "metadata": {},
   "source": [
    "Wrap it all in a function with minimum necessary inputs, and we can print a few in quick succession! ALthought it will be good to separate the pure markdown function from teh effect of writing to disk."
   ]
  },
  {
   "cell_type": "code",
   "execution_count": 114,
   "metadata": {
    "execution": {
     "iopub.execute_input": "2021-09-07T15:44:49.352139Z",
     "iopub.status.busy": "2021-09-07T15:44:49.351961Z",
     "iopub.status.idle": "2021-09-07T15:44:49.355620Z",
     "shell.execute_reply": "2021-09-07T15:44:49.355033Z",
     "shell.execute_reply.started": "2021-09-07T15:44:49.352124Z"
    },
    "tags": []
   },
   "outputs": [],
   "source": [
    "def get_md(title, date, description, images, video):\n",
    "    \n",
    "    images_html = ' '.join([f'<img src=\"{str(image.parent)[2:]}/{image.name}\" alt=\"generated image\">' for image in images])\n",
    "\n",
    "    video_html = '{% include video_small.html url=\"/images/book-gan.mp4\" %}' if video != \"\" else \"\"\n",
    "        \n",
    "    \n",
    "    template_md = f'''---\n",
    "title: {title}\n",
    "layout: post\n",
    "toc: false\n",
    "badges: false\n",
    "image: {str(images[0])[2:]}\n",
    "categories: [synthetic-media]\n",
    "---\n",
    "\n",
    "{description}\n",
    "\n",
    "{video_html}\n",
    "\n",
    "<div style=\"display: flex; flex-flow: wrap; gap: 2rem\">\n",
    "{images_html}\n",
    "</div>\n",
    "            '''\n",
    "    \n",
    "    return(template_md)"
   ]
  },
  {
   "cell_type": "code",
   "execution_count": 117,
   "metadata": {
    "execution": {
     "iopub.execute_input": "2021-09-07T15:46:07.334586Z",
     "iopub.status.busy": "2021-09-07T15:46:07.334117Z",
     "iopub.status.idle": "2021-09-07T15:46:07.342655Z",
     "shell.execute_reply": "2021-09-07T15:46:07.341644Z",
     "shell.execute_reply.started": "2021-09-07T15:46:07.334527Z"
    },
    "tags": []
   },
   "outputs": [
    {
     "data": {
      "text/plain": [
       "'---\\ntitle: ../images/book_cover_gan\\nlayout: post\\ntoc: false\\nbadges: false\\nimage: /images/book_cover_gan/95-ema.jpg\\ncategories: [synthetic-media]\\n---\\n\\nAn early experiment with the [lightweight-gan](https://github.com/lucidrains/lightweight-gan) architecture trained on a 55K-image book dataset.\\n\\n{% include video_small.html url=\"/images/book-gan.mp4\" %}\\n\\n<div style=\"display: flex; flex-flow: wrap; gap: 2rem\">\\n<img src=\"/images/book_cover_gan/95-ema.jpg\" alt=\"generated image\"> <img src=\"/images/book_cover_gan/74-ema.jpg\" alt=\"generated image\"> <img src=\"/images/book_cover_gan/117-ema.jpg\" alt=\"generated image\"> <img src=\"/images/book_cover_gan/99-ema.jpg\" alt=\"generated image\"> <img src=\"/images/book_cover_gan/48-ema.jpg\" alt=\"generated image\"> <img src=\"/images/book_cover_gan/59-ema.jpg\" alt=\"generated image\"> <img src=\"/images/book_cover_gan/62-ema.jpg\" alt=\"generated image\"> <img src=\"/images/book_cover_gan/20-ema.jpg\" alt=\"generated image\"> <img src=\"/images/book_cover_gan/23-ema.jpg\" alt=\"generated image\"> <img src=\"/images/book_cover_gan/69-ema.jpg\" alt=\"generated image\"> <img src=\"/images/book_cover_gan/43-ema.jpg\" alt=\"generated image\"> <img src=\"/images/book_cover_gan/58-ema.jpg\" alt=\"generated image\"> <img src=\"/images/book_cover_gan/87-ema.jpg\" alt=\"generated image\"> <img src=\"/images/book_cover_gan/81-ema.jpg\" alt=\"generated image\"> <img src=\"/images/book_cover_gan/24-ema.jpg\" alt=\"generated image\"> <img src=\"/images/book_cover_gan/61-ema.jpg\" alt=\"generated image\"> <img src=\"/images/book_cover_gan/35-ema.jpg\" alt=\"generated image\"> <img src=\"/images/book_cover_gan/14-ema.jpg\" alt=\"generated image\"> <img src=\"/images/book_cover_gan/34-ema.jpg\" alt=\"generated image\"> <img src=\"/images/book_cover_gan/119-ema.jpg\" alt=\"generated image\"> <img src=\"/images/book_cover_gan/73-ema.jpg\" alt=\"generated image\"> <img src=\"/images/book_cover_gan/31-ema.jpg\" alt=\"generated image\"> <img src=\"/images/book_cover_gan/98-ema.jpg\" alt=\"generated image\"> <img src=\"/images/book_cover_gan/78-ema.jpg\" alt=\"generated image\"> <img src=\"/images/book_cover_gan/75-ema.jpg\" alt=\"generated image\"> <img src=\"/images/book_cover_gan/29-ema.jpg\" alt=\"generated image\"> <img src=\"/images/book_cover_gan/125-ema.jpg\" alt=\"generated image\"> <img src=\"/images/book_cover_gan/122-ema.jpg\" alt=\"generated image\"> <img src=\"/images/book_cover_gan/7-ema.jpg\" alt=\"generated image\"> <img src=\"/images/book_cover_gan/1-ema.jpg\" alt=\"generated image\"> <img src=\"/images/book_cover_gan/97-ema.jpg\" alt=\"generated image\"> <img src=\"/images/book_cover_gan/85-ema.jpg\" alt=\"generated image\"> <img src=\"/images/book_cover_gan/19-ema.jpg\" alt=\"generated image\"> <img src=\"/images/book_cover_gan/57-ema.jpg\" alt=\"generated image\"> <img src=\"/images/book_cover_gan/100-ema.jpg\" alt=\"generated image\"> <img src=\"/images/book_cover_gan/56-ema.jpg\" alt=\"generated image\"> <img src=\"/images/book_cover_gan/104-ema.jpg\" alt=\"generated image\"> <img src=\"/images/book_cover_gan/76-ema.jpg\" alt=\"generated image\"> <img src=\"/images/book_cover_gan/4-ema.jpg\" alt=\"generated image\"> <img src=\"/images/book_cover_gan/79-ema.jpg\" alt=\"generated image\"> <img src=\"/images/book_cover_gan/49-ema.jpg\" alt=\"generated image\"> <img src=\"/images/book_cover_gan/30-ema.jpg\" alt=\"generated image\"> <img src=\"/images/book_cover_gan/60-ema.jpg\" alt=\"generated image\"> <img src=\"/images/book_cover_gan/96-ema.jpg\" alt=\"generated image\"> <img src=\"/images/book_cover_gan/63-ema.jpg\" alt=\"generated image\"> <img src=\"/images/book_cover_gan/55-ema.jpg\" alt=\"generated image\"> <img src=\"/images/book_cover_gan/84-ema.jpg\" alt=\"generated image\"> <img src=\"/images/book_cover_gan/40-ema.jpg\" alt=\"generated image\"> <img src=\"/images/book_cover_gan/105-ema.jpg\" alt=\"generated image\"> <img src=\"/images/book_cover_gan/103-ema.jpg\" alt=\"generated image\"> <img src=\"/images/book_cover_gan/18-ema.jpg\" alt=\"generated image\"> <img src=\"/images/book_cover_gan/54-ema.jpg\" alt=\"generated image\"> <img src=\"/images/book_cover_gan/77-ema.jpg\" alt=\"generated image\"> <img src=\"/images/book_cover_gan/115-ema.jpg\" alt=\"generated image\"> <img src=\"/images/book_cover_gan/53-ema.jpg\" alt=\"generated image\"> <img src=\"/images/book_cover_gan/113-ema.jpg\" alt=\"generated image\"> <img src=\"/images/book_cover_gan/67-ema.jpg\" alt=\"generated image\"> <img src=\"/images/book_cover_gan/46-ema.jpg\" alt=\"generated image\"> <img src=\"/images/book_cover_gan/27-ema.jpg\" alt=\"generated image\"> <img src=\"/images/book_cover_gan/22-ema.jpg\" alt=\"generated image\"> <img src=\"/images/book_cover_gan/89-ema.jpg\" alt=\"generated image\"> <img src=\"/images/book_cover_gan/116-ema.jpg\" alt=\"generated image\"> <img src=\"/images/book_cover_gan/111-ema.jpg\" alt=\"generated image\"> <img src=\"/images/book_cover_gan/91-ema.jpg\" alt=\"generated image\"> <img src=\"/images/book_cover_gan/50-ema.jpg\" alt=\"generated image\"> <img src=\"/images/book_cover_gan/12-ema.jpg\" alt=\"generated image\"> <img src=\"/images/book_cover_gan/72-ema.jpg\" alt=\"generated image\"> <img src=\"/images/book_cover_gan/36-ema.jpg\" alt=\"generated image\"> <img src=\"/images/book_cover_gan/17-ema.jpg\" alt=\"generated image\"> <img src=\"/images/book_cover_gan/13-ema.jpg\" alt=\"generated image\"> <img src=\"/images/book_cover_gan/33-ema.jpg\" alt=\"generated image\"> <img src=\"/images/book_cover_gan/118-ema.jpg\" alt=\"generated image\"> <img src=\"/images/book_cover_gan/120-ema.jpg\" alt=\"generated image\"> <img src=\"/images/book_cover_gan/80-ema.jpg\" alt=\"generated image\"> <img src=\"/images/book_cover_gan/90-ema.jpg\" alt=\"generated image\"> <img src=\"/images/book_cover_gan/106-ema.jpg\" alt=\"generated image\"> <img src=\"/images/book_cover_gan/112-ema.jpg\" alt=\"generated image\"> <img src=\"/images/book_cover_gan/47-ema.jpg\" alt=\"generated image\"> <img src=\"/images/book_cover_gan/71-ema.jpg\" alt=\"generated image\"> <img src=\"/images/book_cover_gan/38-ema.jpg\" alt=\"generated image\"> <img src=\"/images/book_cover_gan/37-ema.jpg\" alt=\"generated image\"> <img src=\"/images/book_cover_gan/10-ema.jpg\" alt=\"generated image\"> <img src=\"/images/book_cover_gan/52-ema.jpg\" alt=\"generated image\"> <img src=\"/images/book_cover_gan/88-ema.jpg\" alt=\"generated image\"> <img src=\"/images/book_cover_gan/11-ema.jpg\" alt=\"generated image\"> <img src=\"/images/book_cover_gan/123-ema.jpg\" alt=\"generated image\"> <img src=\"/images/book_cover_gan/16-ema.jpg\" alt=\"generated image\"> <img src=\"/images/book_cover_gan/42-ema.jpg\" alt=\"generated image\"> <img src=\"/images/book_cover_gan/121-ema.jpg\" alt=\"generated image\"> <img src=\"/images/book_cover_gan/94-ema.jpg\" alt=\"generated image\"> <img src=\"/images/book_cover_gan/110-ema.jpg\" alt=\"generated image\"> <img src=\"/images/book_cover_gan/101-ema.jpg\" alt=\"generated image\"> <img src=\"/images/book_cover_gan/5-ema.jpg\" alt=\"generated image\"> <img src=\"/images/book_cover_gan/65-ema.jpg\" alt=\"generated image\"> <img src=\"/images/book_cover_gan/70-ema.jpg\" alt=\"generated image\"> <img src=\"/images/book_cover_gan/124-ema.jpg\" alt=\"generated image\"> <img src=\"/images/book_cover_gan/102-ema.jpg\" alt=\"generated image\"> <img src=\"/images/book_cover_gan/9-ema.jpg\" alt=\"generated image\"> <img src=\"/images/book_cover_gan/68-ema.jpg\" alt=\"generated image\"> <img src=\"/images/book_cover_gan/44-ema.jpg\" alt=\"generated image\"> <img src=\"/images/book_cover_gan/109-ema.jpg\" alt=\"generated image\"> <img src=\"/images/book_cover_gan/114-ema.jpg\" alt=\"generated image\"> <img src=\"/images/book_cover_gan/26-ema.jpg\" alt=\"generated image\"> <img src=\"/images/book_cover_gan/64-ema.jpg\" alt=\"generated image\"> <img src=\"/images/book_cover_gan/41-ema.jpg\" alt=\"generated image\"> <img src=\"/images/book_cover_gan/8-ema.jpg\" alt=\"generated image\"> <img src=\"/images/book_cover_gan/107-ema.jpg\" alt=\"generated image\"> <img src=\"/images/book_cover_gan/51-ema.jpg\" alt=\"generated image\"> <img src=\"/images/book_cover_gan/39-ema.jpg\" alt=\"generated image\"> <img src=\"/images/book_cover_gan/25-ema.jpg\" alt=\"generated image\"> <img src=\"/images/book_cover_gan/82-ema.jpg\" alt=\"generated image\"> <img src=\"/images/book_cover_gan/2-ema.jpg\" alt=\"generated image\"> <img src=\"/images/book_cover_gan/3-ema.jpg\" alt=\"generated image\"> <img src=\"/images/book_cover_gan/6-ema.jpg\" alt=\"generated image\"> <img src=\"/images/book_cover_gan/0-ema.jpg\" alt=\"generated image\"> <img src=\"/images/book_cover_gan/15-ema.jpg\" alt=\"generated image\"> <img src=\"/images/book_cover_gan/32-ema.jpg\" alt=\"generated image\"> <img src=\"/images/book_cover_gan/92-ema.jpg\" alt=\"generated image\"> <img src=\"/images/book_cover_gan/86-ema.jpg\" alt=\"generated image\"> <img src=\"/images/book_cover_gan/108-ema.jpg\" alt=\"generated image\"> <img src=\"/images/book_cover_gan/66-ema.jpg\" alt=\"generated image\"> <img src=\"/images/book_cover_gan/21-ema.jpg\" alt=\"generated image\"> <img src=\"/images/book_cover_gan/83-ema.jpg\" alt=\"generated image\"> <img src=\"/images/book_cover_gan/28-ema.jpg\" alt=\"generated image\"> <img src=\"/images/book_cover_gan/93-ema.jpg\" alt=\"generated image\"> <img src=\"/images/book_cover_gan/45-ema.jpg\" alt=\"generated image\">\\n</div>\\n            '"
      ]
     },
     "execution_count": 117,
     "metadata": {},
     "output_type": "execute_result"
    }
   ],
   "source": [
    "get_md('../images/book_cover_gan',\n",
    "       '2020-11-28',\n",
    "      \"An early experiment with the [lightweight-gan](https://github.com/lucidrains/lightweight-gan) architecture trained on a 55K-image book dataset.\",\n",
    "      images,\n",
    "      \"/images/book-gan.mp4\")"
   ]
  },
  {
   "cell_type": "code",
   "execution_count": 119,
   "metadata": {
    "execution": {
     "iopub.execute_input": "2021-09-07T15:46:28.998477Z",
     "iopub.status.busy": "2021-09-07T15:46:28.998330Z",
     "iopub.status.idle": "2021-09-07T15:46:29.001986Z",
     "shell.execute_reply": "2021-09-07T15:46:29.001527Z",
     "shell.execute_reply.started": "2021-09-07T15:46:28.998459Z"
    },
    "tags": []
   },
   "outputs": [],
   "source": [
    "def write_md(in_dir, date, description, video=\"\"):\n",
    "    images = [file for file in Path(in_dir).iterdir()]\n",
    "    title = in_dir.split('/')[-1].replace('_', ' ').capitalize().replace('gan','GAN')\n",
    "    \n",
    "    post_md = get_md(title, date, description, images, video)\n",
    "#     print(post_md)\n",
    "    with open(f'../_posts/language-arts/{date}-{title.replace(\" \", \"-\")}.md', 'w') as f:\n",
    "        print(post_md, file=f)"
   ]
  },
  {
   "cell_type": "code",
   "execution_count": 120,
   "metadata": {
    "execution": {
     "iopub.execute_input": "2021-09-07T15:46:34.872835Z",
     "iopub.status.busy": "2021-09-07T15:46:34.872652Z",
     "iopub.status.idle": "2021-09-07T15:46:34.876046Z",
     "shell.execute_reply": "2021-09-07T15:46:34.875609Z",
     "shell.execute_reply.started": "2021-09-07T15:46:34.872818Z"
    },
    "tags": []
   },
   "outputs": [],
   "source": [
    "write_md('../images/book_cover_gan',\n",
    "       '2020-11-28',\n",
    "      \"An early experiment with the [lightweight-gan](https://github.com/lucidrains/lightweight-gan) architecture trained on a 55K-image book dataset.\",\n",
    "      \"/images/book-gan.mp4\")"
   ]
  }
 ],
 "metadata": {
  "kernelspec": {
   "display_name": "Python 3",
   "language": "python",
   "name": "python3"
  },
  "language_info": {
   "codemirror_mode": {
    "name": "ipython",
    "version": 3
   },
   "file_extension": ".py",
   "mimetype": "text/x-python",
   "name": "python",
   "nbconvert_exporter": "python",
   "pygments_lexer": "ipython3",
   "version": "3.7.7"
  },
  "widgets": {
   "application/vnd.jupyter.widget-state+json": {
    "state": {},
    "version_major": 2,
    "version_minor": 0
   }
  }
 },
 "nbformat": 4,
 "nbformat_minor": 4
}
