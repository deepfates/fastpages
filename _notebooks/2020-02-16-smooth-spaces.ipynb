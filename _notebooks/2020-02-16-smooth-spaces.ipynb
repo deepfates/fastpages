{
 "cells": [
  {
   "cell_type": "markdown",
   "metadata": {},
   "source": [
    "# Smooth Spaces\n",
    "> a machinic becoming-rhizome in the arboreal timeline\n",
    "- categories: [bots]\n",
    "- badges: false\n",
    "- image: images/smoothspaces.jpg"
   ]
  },
  {
   "cell_type": "markdown",
   "metadata": {},
   "source": [
    "## A bot that retweets concepts from Deleuze and Guattari. Status: active. Find [Smooth Spaces on twitter](https://twitter.com/deterrnement).\n",
    "\n",
    "*Built with* `Annoy`, `textacy` *and* `tweepy`."
   ]
  },
  {
   "cell_type": "markdown",
   "metadata": {},
   "source": [
    "Read more about this project in [SCIOPS 04.06: Machinic Assemblage](/fastpages/sciops/2020/02/19/machinic-assemblage.html)"
   ]
  },
  {
   "cell_type": "code",
   "execution_count": null,
   "metadata": {},
   "outputs": [],
   "source": []
  }
 ],
 "metadata": {
  "kernelspec": {
   "display_name": "Python 3",
   "language": "python",
   "name": "python3"
  },
  "language_info": {
   "codemirror_mode": {
    "name": "ipython",
    "version": 3
   },
   "file_extension": ".py",
   "mimetype": "text/x-python",
   "name": "python",
   "nbconvert_exporter": "python",
   "pygments_lexer": "ipython3",
   "version": "3.7.7"
  },
  "widgets": {
   "application/vnd.jupyter.widget-state+json": {
    "state": {},
    "version_major": 2,
    "version_minor": 0
   }
  }
 },
 "nbformat": 4,
 "nbformat_minor": 4
}
