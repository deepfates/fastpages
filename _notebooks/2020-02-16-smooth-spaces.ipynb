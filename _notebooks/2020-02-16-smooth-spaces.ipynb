{
 "cells": [
  {
   "cell_type": "markdown",
   "metadata": {},
   "source": [
    "# Smooth Spaces\n",
    "> a machinic becoming-rhizome in the arboreal timeline\n",
    "- categories: [bots]\n",
    "- badges: false\n",
    "- image: images/smoothspaces.jpg"
   ]
  },
  {
   "cell_type": "markdown",
   "metadata": {},
   "source": [
    "## A bot that retweets concepts from Deleuze and Guattari. Status: active. Find [Smooth Spaces on twitter](twitter.com/deterrnement).\n",
    "\n",
    "*Built with* `Annoy`, `textacy` *and* `tweepy`."
   ]
  },
  {
   "cell_type": "markdown",
   "metadata": {},
   "source": [
    "--\n",
    "\n",
    "There's a philosopher called Gilles Deleuze, a French guy from the mid-20th century. He wrote a book, with partner Felix Guattari, called __A Thousand Plateaus__. I like this book. I can't actually explain the ideas in it, but I like it. It's dense and insightful and rewardingly weird.\n",
    "\n",
    "So when I ran across a twitter bot that retweets any mention of Deleuze ([@diffandrep](www.twitter.com/diffandrep)), I thought it would help me find some other weirdos to talk about this obscure book with.\n",
    "\n",
    "I certainly found some weirdos. Deleuze is the spooky figure at the crossroads of all bizarre ideologies. I should have known, I suppose: I'm using his arcane ideas to build a ramshackle ideology with which to escape the slow apocalypse. Of course the other guys are too. \n",
    "\n",
    "Escape from the apocalypse is like hopping off a train while it's moving. You want to go any direction except forward along the track. If you stay too close, you get run over. You have to make a vector away from the train while burning off your momentum. And there are obstacles to avoid.\n",
    "\n",
    "It turns out that you can use Deleuzean theory to justify or conceptualize anything: anarchism, state power, transhumanism, posthumanism, accelerationism, hypercapitalism, far-right narratives, antifa tactics, becoming an alien monster, summoning alien monsters to earth, certain types of people actually being alien monsters already. Or you might just be a philosophy nerd, tweeting about your studies with your college friends.  \n",
    "\n",
    "One thing Deleuze and Guattari write about is the difference between __arborescence__ and __rhizome__: between the branching, hierarchical tree and the zig-zagging, omnidirectional root plant. Think ginger, or strawberries: no top or bottom, no trunk, just nodes reaching out and planting more nodes. \n",
    "\n",
    "My twitter feed usually works more like a tree: I follow __x __people, each of them follows __y__ people. It's technically a little more complicated, but to the user it's the same: for a thought to get in my feed, it has to come down some branch of the follow tree. I have somehow signed up to see it, and there is some way for me to hide it or unfollow that poster. \n",
    "\n",
    "This bot slices through the follow-tree like a kitchen knife through broccoli. It connects all the branches and all the spaces in between the branches. It flattens the twitterverse across one feverish, obsessive dimension. The bot is rhizomatic. It connects me to that alien species, \"Not followed by anyone you're following\".\n",
    "\n",
    "Of course there's another way that I see strangers in my feed: Promoted Content™. The CEO of T-Mobile has been pestering me for weeks to follow him. The Wall Street Journal has moved on from telling me I'm depressed; now it's showing stills from American Psycho and shaming me for not having an expensive watch. The Deleuze-bot and the ad market both deterritorialize my follow tree.\n",
    "\n",
    "I met people through the bot, people who I followed because of their Deleuzeposting. Now they're my internet friends: we share memes, signal-boost each other's posts, harass the same grifters. Every day my feed gets more Deleuzean. I share things that the bot shows me, and my content gets more Deleuzean too. This is a feedback loop. The bot retweets me more often. I am becoming-bot. The bot is becoming-Max.\n",
    "\n",
    "Inevitably, capital tries to recuperate the routes of escape. There are intellectual settlers here, who abuse the keywords for free promotion. They hitch their wagons to the bot's train, to sell their blogs and t-shirts and shit ideas. Even if they've never read Deleuze, the grifters must chase clout where they find it. In this way the philosophies of escape are captured by the need to make a living. Thoughtspace is colonized and the self-declared thought leaders demand fealty.\n",
    "\n",
    "After seeing enough of these posts, I realized that the signaling mechanism was the problem. The @diffandrep account retweets anyone who says the word \"Deleuze\", whether they are talking about philosophy or not. So I built a different bot: [@deterrnement](https://twitter.com/deterrnement). \n",
    "\n",
    "I used natural language processing software to extract the key phrases from __A Thousand Plateaus__: unusual words, neologisms and repeated multi-word phrases. Words like *arborescence*, *deterritorialize*, *nomadology*, \"body without organs\" and \"machinic assemblage\". \n",
    "\n",
    "The bot searches for all these terms every nine minutes, timestamping its finds so that it doesn't waste time searching through old tweets, and it shares them. \n",
    "\n",
    "It's a machinic assemblage that deterritorializes the follow-tree. \n",
    "\n",
    "It forms a line of flight from promoted content. It accelerates the process of shitposting."
   ]
  },
  {
   "cell_type": "code",
   "execution_count": null,
   "metadata": {},
   "outputs": [],
   "source": []
  }
 ],
 "metadata": {
  "kernelspec": {
   "display_name": "Python 3",
   "language": "python",
   "name": "python3"
  },
  "language_info": {
   "codemirror_mode": {
    "name": "ipython",
    "version": 3
   },
   "file_extension": ".py",
   "mimetype": "text/x-python",
   "name": "python",
   "nbconvert_exporter": "python",
   "pygments_lexer": "ipython3",
   "version": "3.7.7"
  }
 },
 "nbformat": 4,
 "nbformat_minor": 4
}
