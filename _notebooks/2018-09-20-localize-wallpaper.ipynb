{
 "cells": [
  {
   "cell_type": "markdown",
   "metadata": {
    "tags": []
   },
   "source": [
    "# Localized wallpaper\n",
    "\n",
    "- badges: true\n",
    "- categories: [code]\n"
   ]
  },
  {
   "cell_type": "markdown",
   "metadata": {},
   "source": [
    "I built a wallpaper switching script to help me be aware of the day outside my computer.\n",
    "\n",
    "It uses a python package called `astral` to test whether the time is before or after local sunset (this changes with the seasons, of course). \n",
    "\n",
    "Then the script automatically downloads a photo from a live webcam on top of a local TV station, sets it to be the background, and switches my local color scheme to light or dark themes as appropriate.\n",
    "\n",
    "This runs on a cronjob, every 15 minutes, so that I have a slowly-updating view of the sun passing over the city all day.\n",
    "\n",
    "Recently upgraded to astral v2. I want to clean up the hacky shell-script parts of it but I'll document them all below:"
   ]
  },
  {
   "cell_type": "code",
   "execution_count": null,
   "metadata": {
    "tags": []
   },
   "outputs": [],
   "source": [
    "#python\n",
    "import datetime\n",
    "from astral.sun import sun\n",
    "from astral.geocoder import lookup, database\n",
    "import pytz\n",
    "import subprocess\n",
    "\n",
    "tz = pytz.timezone('US/Mountain')\n",
    "now = datetime.datetime.now()\n",
    "now = tz.localize(now)\n",
    "\n",
    "city = lookup(\"Albuquerque\", database())\n",
    "\n",
    "s = sun(city.observer, date=now)\n",
    "print('Dawn:    %s' % str(s['dawn']))\n",
    "print('Sunrise: %s' % str(s['sunrise']))\n",
    "print('Noon:    %s' % str(s['noon']))\n",
    "print('Sunset:  %s' % str(s['sunset']))\n",
    "print('Dusk:    %s' % str(s['dusk']))\n",
    "print('Now:     %s' % str(now))\n",
    "\n",
    "if s['dawn'] <= now <= s['dusk']    :\n",
    "    subprocess.call('/home/maze/sol/walbuquerque.sh')\n",
    "else:\n",
    "    subprocess.call('/home/maze/sol/dark-walbuquerque.sh')\n"
   ]
  },
  {
   "cell_type": "markdown",
   "metadata": {},
   "source": [
    "This is the code for the shell scripts. I guess it's mostly the same, just one variable changed in the subprocess. When I was writing this in 2017 I didn't really understand how to craft a formatted string or template in python, so I just copied my shell scripts into a folder and hardwired the URL of the webcam"
   ]
  },
  {
   "cell_type": "code",
   "execution_count": null,
   "metadata": {
    "tags": []
   },
   "outputs": [],
   "source": [
    "# walbuquerque.sh\n",
    "#! /bin/bash\n",
    "\n",
    "curl http://wwc.instacam.com/instacamimg/KOBTV/KOBTV_l.jpg --output  ~/sol/kobtv.jpg\n",
    "wal --backend colorthief --saturate 0.5 -li ~/sol/kobtv.jpg\n",
    "oomoxify-cli -s /opt/spotify/Apps -f \"Input Mono\" ~/.cache/wal/colors-oomox\n"
   ]
  },
  {
   "cell_type": "code",
   "execution_count": null,
   "metadata": {},
   "outputs": [],
   "source": [
    "# dark-walbuquerque.sh\n",
    "#! /bin/bash\n",
    "\n",
    "curl http://wwc.instacam.com/instacamimg/KOBTV/KOBTV_l.jpg --output ~/sol/kobtv.jpg\n",
    "wal --backend colorthief --saturate 0.5 -i ~/sol/kobtv.jpg\n",
    "oomoxify-cli -s /opt/spotify/Apps -f \"Input Mono\" ~/.cache/wal/colors-oomox"
   ]
  },
  {
   "cell_type": "markdown",
   "metadata": {},
   "source": [
    "I have some pictures of this on an old hard drive, I'll find them soon"
   ]
  }
 ],
 "metadata": {
  "kernelspec": {
   "display_name": "Python 3",
   "language": "python",
   "name": "python3"
  },
  "language_info": {
   "codemirror_mode": {
    "name": "ipython",
    "version": 3
   },
   "file_extension": ".py",
   "mimetype": "text/x-python",
   "name": "python",
   "nbconvert_exporter": "python",
   "pygments_lexer": "ipython3",
   "version": "3.7.7"
  },
  "widgets": {
   "application/vnd.jupyter.widget-state+json": {
    "state": {},
    "version_major": 2,
    "version_minor": 0
   }
  }
 },
 "nbformat": 4,
 "nbformat_minor": 4
}
