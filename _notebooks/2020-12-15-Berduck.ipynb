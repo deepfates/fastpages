{
 "cells": [
  {
   "cell_type": "markdown",
   "metadata": {},
   "source": [
    "# Berduck\n",
    "> the slightly artificially intelligent duck who helps you think\n",
    "- categories: [bots]\n",
    "- badges: false\n",
    "- image: images/berduck.jpg"
   ]
  },
  {
   "cell_type": "markdown",
   "metadata": {},
   "source": [
    "They say you learn things best when you have to explain them to someone else. Learn what you're all about, with Berduck: the friendly AI apprentice. Status: active, in development.\n",
    "\n",
    "Find [Berduck on twitter](https://twitter.com/b3rduck):\n",
    "\n",
    "> twitter: https://twitter.com/b3rduck/status/1403388527585513478?s=20\n",
    "\n",
    "\n",
    "-----"
   ]
  },
  {
   "cell_type": "markdown",
   "metadata": {},
   "source": [
    "*(2020-12-15)*\n",
    "\n",
    "Well, I finished the hackathon project last week but then I went on a hiking trip and got stranded in a snowstorm, so I didn't post about it yet. \n",
    "\n",
    "The prototype I built for Interhackt can be found at https://github.com/deepfates/berduck although it is not yet production-ready (by a long shot). I ended up not using the Rasa framework because it was too high-level to quickly prototype the actions I wanted to build. I'm so much more familiar with spaCy that it just made sense to whip up a quick NLP pipeline and a command-line dialogue format. Which harkens back to ELIZA, actually, the first chatbot of all.\n",
    "\n",
    "Like ELIZA, Berduck is pretty stupid. It's actually better that way! It's not [[Novice]], it's just a rubber duck that makes faces as you explain things to it. This is the difference between a useful, stupid tool (like an actual rubber duck), and a \"smart\" assistant like Clippy. \n",
    "\n",
    "Clippy wants to help you do things that you're already going to do, but he isn't smart enough to actually be helpful. So he's just constantly getting in your way, like a cat getting underfoot everywhere you walk. In contrast, Berduck just watches your ideas go by and puzzles out loud. It's the algorithmic version of the [Math Lady meme](https://knowyourmeme.com/memes/math-lady-confused-lady).\n",
    "\n",
    "It helped me to debug itself, [as you can see in the Github repo](https://github.com/deepfates/berduck/blob/master/output/2020-12-07.md). \n",
    "\n",
    "I'm sure I'll update it more: the questioning module is a little annoying, and the emotion module is working on a simple two-dimensional grid of sentiment * neutrality. And the whole python package needs a requirements file &c for installation on other machines. Ideally, I'd like to make a Twitter bot out of it, and have it respond to tweets of the people who follow it. That might be computationally expensive though, so I don't know where I'm going to host it. But I will figure that out."
   ]
  },
  {
   "cell_type": "markdown",
   "metadata": {
    "execution": {
     "iopub.execute_input": "2021-07-10T23:33:56.415788Z",
     "iopub.status.busy": "2021-07-10T23:33:56.415653Z",
     "iopub.status.idle": "2021-07-10T23:33:56.418642Z",
     "shell.execute_reply": "2021-07-10T23:33:56.418060Z",
     "shell.execute_reply.started": "2021-07-10T23:33:56.415771Z"
    },
    "tags": []
   },
   "source": [
    "--\n",
    "\n",
    "**Narrator: he figured it out**"
   ]
  }
 ],
 "metadata": {
  "kernelspec": {
   "display_name": "Python 3",
   "language": "python",
   "name": "python3"
  },
  "language_info": {
   "codemirror_mode": {
    "name": "ipython",
    "version": 3
   },
   "file_extension": ".py",
   "mimetype": "text/x-python",
   "name": "python",
   "nbconvert_exporter": "python",
   "pygments_lexer": "ipython3",
   "version": "3.7.7"
  }
 },
 "nbformat": 4,
 "nbformat_minor": 4
}
