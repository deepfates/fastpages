{
 "cells": [
  {
   "cell_type": "markdown",
   "metadata": {},
   "source": [
    "# Exploring the dataset\n",
    "\n",
    "This dataset is too big for plotting lol"
   ]
  },
  {
   "cell_type": "code",
   "execution_count": 1,
   "metadata": {
    "execution": {
     "iopub.execute_input": "2021-06-30T15:33:32.375809Z",
     "iopub.status.busy": "2021-06-30T15:33:32.375625Z",
     "iopub.status.idle": "2021-06-30T15:33:32.647376Z",
     "shell.execute_reply": "2021-06-30T15:33:32.646915Z",
     "shell.execute_reply.started": "2021-06-30T15:33:32.375759Z"
    },
    "tags": []
   },
   "outputs": [],
   "source": [
    "import pandas as pd"
   ]
  },
  {
   "cell_type": "code",
   "execution_count": 2,
   "metadata": {
    "execution": {
     "iopub.execute_input": "2021-06-30T15:33:32.648117Z",
     "iopub.status.busy": "2021-06-30T15:33:32.647996Z",
     "iopub.status.idle": "2021-06-30T15:33:40.579537Z",
     "shell.execute_reply": "2021-06-30T15:33:40.578953Z",
     "shell.execute_reply.started": "2021-06-30T15:33:32.648089Z"
    },
    "tags": []
   },
   "outputs": [
    {
     "name": "stderr",
     "output_type": "stream",
     "text": [
      "/home/mage/.local/lib/python3.7/site-packages/numpy/lib/arraysetops.py:583: FutureWarning: elementwise comparison failed; returning scalar instead, but in the future will perform elementwise comparison\n",
      "  mask |= (ar1 == a)\n"
     ]
    }
   ],
   "source": [
    "graph_df = pd.read_csv('records/to_graph.csv', index_col=0)"
   ]
  },
  {
   "cell_type": "code",
   "execution_count": 3,
   "metadata": {
    "execution": {
     "iopub.execute_input": "2021-06-30T15:33:40.580618Z",
     "iopub.status.busy": "2021-06-30T15:33:40.580484Z",
     "iopub.status.idle": "2021-06-30T15:33:40.629363Z",
     "shell.execute_reply": "2021-06-30T15:33:40.629004Z",
     "shell.execute_reply.started": "2021-06-30T15:33:40.580602Z"
    },
    "tags": []
   },
   "outputs": [
    {
     "data": {
      "text/html": [
       "<div>\n",
       "<style scoped>\n",
       "    .dataframe tbody tr th:only-of-type {\n",
       "        vertical-align: middle;\n",
       "    }\n",
       "\n",
       "    .dataframe tbody tr th {\n",
       "        vertical-align: top;\n",
       "    }\n",
       "\n",
       "    .dataframe thead th {\n",
       "        text-align: right;\n",
       "    }\n",
       "</style>\n",
       "<table border=\"1\" class=\"dataframe\">\n",
       "  <thead>\n",
       "    <tr style=\"text-align: right;\">\n",
       "      <th></th>\n",
       "      <th>title</th>\n",
       "      <th>author_name</th>\n",
       "      <th>top_genre</th>\n",
       "      <th>publisher</th>\n",
       "      <th>publication_year</th>\n",
       "      <th>format</th>\n",
       "      <th>num_pages</th>\n",
       "      <th>average_rating</th>\n",
       "      <th>ratings_count</th>\n",
       "      <th>text_reviews_count</th>\n",
       "      <th>description</th>\n",
       "    </tr>\n",
       "  </thead>\n",
       "  <tbody>\n",
       "    <tr>\n",
       "      <th>340599</th>\n",
       "      <td>The Amazing Jessica (Sweet Valley Kids, #60)</td>\n",
       "      <td>Francine Pascal</td>\n",
       "      <td>children</td>\n",
       "      <td>Bantam</td>\n",
       "      <td>1995.0</td>\n",
       "      <td>Paperback</td>\n",
       "      <td>96.0</td>\n",
       "      <td>3.68</td>\n",
       "      <td>61.0</td>\n",
       "      <td>2.0</td>\n",
       "      <td>Under The Big Top!\\nThe circus has come to Swe...</td>\n",
       "    </tr>\n",
       "  </tbody>\n",
       "</table>\n",
       "</div>"
      ],
      "text/plain": [
       "                                               title      author_name  \\\n",
       "340599  The Amazing Jessica (Sweet Valley Kids, #60)  Francine Pascal   \n",
       "\n",
       "       top_genre publisher  publication_year     format  num_pages  \\\n",
       "340599  children    Bantam            1995.0  Paperback       96.0   \n",
       "\n",
       "        average_rating  ratings_count  text_reviews_count  \\\n",
       "340599            3.68           61.0                 2.0   \n",
       "\n",
       "                                              description  \n",
       "340599  Under The Big Top!\\nThe circus has come to Swe...  "
      ]
     },
     "execution_count": 3,
     "metadata": {},
     "output_type": "execute_result"
    }
   ],
   "source": [
    "graph_df.sample()"
   ]
  },
  {
   "cell_type": "code",
   "execution_count": 4,
   "metadata": {
    "execution": {
     "iopub.execute_input": "2021-06-30T15:33:40.630157Z",
     "iopub.status.busy": "2021-06-30T15:33:40.630030Z",
     "iopub.status.idle": "2021-06-30T15:33:40.632759Z",
     "shell.execute_reply": "2021-06-30T15:33:40.632298Z",
     "shell.execute_reply.started": "2021-06-30T15:33:40.630140Z"
    },
    "tags": []
   },
   "outputs": [
    {
     "data": {
      "text/plain": [
       "1216072"
      ]
     },
     "execution_count": 4,
     "metadata": {},
     "output_type": "execute_result"
    }
   ],
   "source": [
    "len(graph_df)"
   ]
  },
  {
   "cell_type": "code",
   "execution_count": 6,
   "metadata": {
    "execution": {
     "iopub.execute_input": "2021-06-30T15:33:51.792480Z",
     "iopub.status.busy": "2021-06-30T15:33:51.792223Z",
     "iopub.status.idle": "2021-06-30T15:33:51.840314Z",
     "shell.execute_reply": "2021-06-30T15:33:51.839513Z",
     "shell.execute_reply.started": "2021-06-30T15:33:51.792450Z"
    },
    "tags": []
   },
   "outputs": [
    {
     "data": {
      "text/plain": [
       "93626"
      ]
     },
     "execution_count": 6,
     "metadata": {},
     "output_type": "execute_result"
    }
   ],
   "source": [
    "subset = graph_df[graph_df['ratings_count'] > 600]\n",
    "len(subset)"
   ]
  },
  {
   "cell_type": "code",
   "execution_count": 54,
   "metadata": {
    "execution": {
     "iopub.execute_input": "2021-06-30T14:47:59.533264Z",
     "iopub.status.busy": "2021-06-30T14:47:59.532177Z",
     "iopub.status.idle": "2021-06-30T14:47:59.564988Z",
     "shell.execute_reply": "2021-06-30T14:47:59.564221Z",
     "shell.execute_reply.started": "2021-06-30T14:47:59.533127Z"
    },
    "tags": []
   },
   "outputs": [
    {
     "data": {
      "text/plain": [
       "Index(['fiction', 'fantasy', 'mystery', 'young-adult', 'romance',\n",
       "       'historical-fiction', 'favorites', 'science-fiction', 'manga',\n",
       "       'history',\n",
       "       ...\n",
       "       'commentaries', 'simplicity', 'ja-jance', 'teen', 'soul-seekers',\n",
       "       'ever-after-high', 'american-civil-war', 'angela-knight', 'israel',\n",
       "       'african-history'],\n",
       "      dtype='object', length=982)"
      ]
     },
     "execution_count": 54,
     "metadata": {},
     "output_type": "execute_result"
    }
   ],
   "source": [
    "genres = subset['top_genre'].value_counts().index\n",
    "genres"
   ]
  },
  {
   "cell_type": "markdown",
   "metadata": {},
   "source": [
    "---"
   ]
  },
  {
   "cell_type": "code",
   "execution_count": null,
   "metadata": {
    "tags": []
   },
   "outputs": [],
   "source": [
    "# from IPython.display import HTML\n",
    "# import plotly.express as px"
   ]
  },
  {
   "cell_type": "code",
   "execution_count": null,
   "metadata": {
    "tags": []
   },
   "outputs": [],
   "source": [
    "# fig = px.scatter(graph_df, x=\"average_rating\", y=\"ratings_count\", color=\"top_genre\", hover_data = ['author_name', 'title'], size='num_pages',\n",
    "#                 title=\"One Million Books\", height=800, render_mode=\"webgl\")\n",
    "\n",
    "# HTML(fig.to_html())"
   ]
  },
  {
   "cell_type": "code",
   "execution_count": null,
   "metadata": {},
   "outputs": [],
   "source": [
    "import plotly.graph_objects as go\n",
    "\n",
    "import plotly.express.colors as colors\n",
    "\n",
    "palette = colors.cyclical.Twilight"
   ]
  },
  {
   "cell_type": "code",
   "execution_count": null,
   "metadata": {
    "tags": []
   },
   "outputs": [],
   "source": [
    "palette = [palette[floor(10/(i+1))-1] for i, name in enumerate(graph_df['top_genre'].unique())]"
   ]
  },
  {
   "cell_type": "code",
   "execution_count": null,
   "metadata": {
    "tags": []
   },
   "outputs": [],
   "source": [
    "# Create figure\n",
    "fig = go.Figure()\n",
    "\n",
    "fig.add_trace(\n",
    "    go.Scattergl(\n",
    "        x = graph_df['publication_year'],\n",
    "        y = graph_df['average_rating'],\n",
    "        hovertext = graph_df['title']+'-'+graph_df['author_name'],\n",
    "        mode='markers',\n",
    "        marker = dict(\n",
    "            line = dict(\n",
    "            color = palette,\n",
    "                width = 1)\n",
    "        )\n",
    "    )\n",
    ")\n",
    "\n",
    "fig.update_traces()\n",
    "\n",
    "HTML(fig.to_html())"
   ]
  },
  {
   "cell_type": "code",
   "execution_count": null,
   "metadata": {
    "tags": []
   },
   "outputs": [],
   "source": [
    "fig.write_html(\"records/ucsd-goodreads-genre-ratingcount-avgrating.html\")"
   ]
  },
  {
   "cell_type": "markdown",
   "metadata": {},
   "source": [
    "---"
   ]
  },
  {
   "cell_type": "code",
   "execution_count": 19,
   "metadata": {
    "execution": {
     "iopub.execute_input": "2021-06-30T14:25:48.112276Z",
     "iopub.status.busy": "2021-06-30T14:25:48.111978Z",
     "iopub.status.idle": "2021-06-30T14:25:48.115314Z",
     "shell.execute_reply": "2021-06-30T14:25:48.114672Z",
     "shell.execute_reply.started": "2021-06-30T14:25:48.112241Z"
    },
    "tags": []
   },
   "outputs": [],
   "source": [
    "import hvplot"
   ]
  },
  {
   "cell_type": "code",
   "execution_count": 9,
   "metadata": {
    "execution": {
     "iopub.execute_input": "2021-06-30T14:23:57.639039Z",
     "iopub.status.busy": "2021-06-30T14:23:57.638891Z",
     "iopub.status.idle": "2021-06-30T14:23:57.760259Z",
     "shell.execute_reply": "2021-06-30T14:23:57.759809Z",
     "shell.execute_reply.started": "2021-06-30T14:23:57.638997Z"
    },
    "tags": []
   },
   "outputs": [],
   "source": [
    "from bokeh import palettes\n",
    "from bokeh.transform import factor_cmap"
   ]
  },
  {
   "cell_type": "code",
   "execution_count": 11,
   "metadata": {
    "execution": {
     "iopub.execute_input": "2021-06-30T14:23:58.784763Z",
     "iopub.status.busy": "2021-06-30T14:23:58.784612Z",
     "iopub.status.idle": "2021-06-30T14:23:58.786772Z",
     "shell.execute_reply": "2021-06-30T14:23:58.786351Z",
     "shell.execute_reply.started": "2021-06-30T14:23:58.784745Z"
    },
    "tags": []
   },
   "outputs": [],
   "source": [
    "# from bokeh.models import HoverTool, ColumnDataSource\n",
    "\n",
    "# source = ColumnDataSource(data=graph_df)\n",
    "\n",
    "# tooltips = [(col, \"@{\" + col+'}') for col in graph_df.keys()]\n",
    "# hover = HoverTool( tooltips=tooltips)\n",
    "# tooltips"
   ]
  },
  {
   "cell_type": "code",
   "execution_count": 16,
   "metadata": {
    "collapsed": true,
    "execution": {
     "iopub.execute_input": "2021-06-30T14:24:48.751697Z",
     "iopub.status.busy": "2021-06-30T14:24:48.751437Z",
     "iopub.status.idle": "2021-06-30T14:24:48.757602Z",
     "shell.execute_reply": "2021-06-30T14:24:48.756926Z",
     "shell.execute_reply.started": "2021-06-30T14:24:48.751666Z"
    },
    "jupyter": {
     "outputs_hidden": true
    },
    "tags": []
   },
   "outputs": [
    {
     "name": "stdout",
     "output_type": "stream",
     "text": [
      "\n",
      "Scatter plot\n",
      "\n",
      "Parameters\n",
      "----------\n",
      "x, y : string, optional\n",
      "    Field name to draw x- and y-positions from\n",
      "c: string, optional\n",
      "    Name of the field to color points by\n",
      "s: string, optional\n",
      "    Name of the field to scale point size by\n",
      "scale: number, optional\n",
      "    Scaling factor to apply to point scaling\n",
      "**kwds : optional\n",
      "    Keyword arguments to pass on to\n",
      "    :py:meth:`hvplot.converter.HoloViewsConverter`.\n",
      "Returns\n",
      "-------\n",
      "obj : HoloViews object\n",
      "    The HoloViews representation of the plot.\n",
      "\n",
      "\n",
      "Generic options\n",
      "---------------\n",
      "clim: tuple\n",
      "    Lower and upper bound of the color scale\n",
      "cnorm (default='linear'): str\n",
      "    Color scaling which must be one of 'linear', 'log' or 'eq_hist'\n",
      "colorbar (default=False): boolean\n",
      "    Enables a colorbar\n",
      "fontscale: number\n",
      "    Scales the size of all fonts by the same amount, e.g. fontscale=1.5\n",
      "    enlarges all fonts (title, xticks, labels etc.) by 50%\n",
      "fontsize: number or dict\n",
      "    Set title, label and legend text to the same fontsize. Finer control\n",
      "    by using a dict: {'title': '15pt', 'ylabel': '5px', 'ticks': 20}\n",
      "flip_xaxis/flip_yaxis: boolean\n",
      "    Whether to flip the axis left to right or up and down respectively\n",
      "grid (default=False): boolean\n",
      "    Whether to show a grid\n",
      "hover : boolean\n",
      "    Whether to show hover tooltips, default is True unless datashade is\n",
      "    True in which case hover is False by default\n",
      "hover_cols (default=[]): list or str\n",
      "    Additional columns to add to the hover tool or 'all' which will\n",
      "    includes all columns (including indexes if use_index is True).\n",
      "invert (default=False): boolean\n",
      "    Swaps x- and y-axis\n",
      "frame_width/frame_height: int\n",
      "    The width and height of the data area of the plot\n",
      "legend (default=True): boolean or str\n",
      "    Whether to show a legend, or a legend position\n",
      "    ('top', 'bottom', 'left', 'right')\n",
      "logx/logy (default=False): boolean\n",
      "    Enables logarithmic x- and y-axis respectively\n",
      "logz (default=False): boolean\n",
      "    Enables logarithmic colormapping\n",
      "loglog (default=False): boolean\n",
      "    Enables logarithmic x- and y-axis\n",
      "max_width/max_height: int\n",
      "    The maximum width and height of the plot for responsive modes\n",
      "min_width/min_height: int\n",
      "    The minimum width and height of the plot for responsive modes\n",
      "padding: number or tuple\n",
      "    Fraction by which to increase auto-ranged extents to make\n",
      "    datapoints more visible around borders. Supports tuples to\n",
      "    specify different amount of padding for x- and y-axis and\n",
      "    tuples of tuples to specify different amounts of padding for\n",
      "    upper and lower bounds.\n",
      "responsive: boolean\n",
      "    Whether the plot should responsively resize depending on the\n",
      "    size of the browser. Responsive mode will only work if at\n",
      "    least one dimension of the plot is left undefined, e.g. when\n",
      "    width and height or width and aspect are set the plot is set\n",
      "    to a fixed size, ignoring any responsive option.\n",
      "rot: number\n",
      "    Rotates the axis ticks along the x-axis by the specified\n",
      "    number of degrees.\n",
      "shared_axes (default=True): boolean\n",
      "    Whether to link axes between plots\n",
      "transforms (default={}): dict\n",
      "    A dictionary of HoloViews dim transforms to apply before plotting\n",
      "title (default=''): str\n",
      "    Title for the plot\n",
      "tools (default=[]): list\n",
      "    List of tool instances or strings (e.g. ['tap', box_select'])\n",
      "xaxis/yaxis: str or None\n",
      "    Whether to show the x/y-axis and whether to place it at the\n",
      "    'top'/'bottom' and 'left'/'right' respectively.\n",
      "xformatter/yformatter (default=None): str or TickFormatter\n",
      "    Formatter for the x-axis and y-axis (accepts printf formatter,\n",
      "    e.g. '%.3f', and bokeh TickFormatter)\n",
      "xlabel/ylabel/clabel (default=None): str\n",
      "    Axis labels for the x-axis, y-axis, and colorbar\n",
      "xlim/ylim (default=None): tuple or list\n",
      "    Plot limits of the x- and y-axis\n",
      "xticks/yticks (default=None): int or list\n",
      "    Ticks along x- and y-axis specified as an integer, list of\n",
      "    ticks positions, or list of tuples of the tick positions and labels\n",
      "width (default=700)/height (default=300): int\n",
      "    The width and height of the plot in pixels\n",
      "attr_labels (default=None): bool\n",
      "    Whether to use an xarray object's attributes as labels, defaults to\n",
      "    None to allow best effort without throwing a warning. Set to True\n",
      "    to see warning if the attrs can't be found, set to False to disable\n",
      "    the behavior.\n",
      "sort_date (default=True): bool\n",
      "    Whether to sort the x-axis by date before plotting\n",
      "symmetric (default=None): bool\n",
      "    Whether the data are symmetric around zero. If left unset, the data\n",
      "    will be checked for symmetry as long as the size is less than\n",
      "    ``check_symmetric_max``.\n",
      "check_symmetric_max (default=1000000):\n",
      "    Size above which to stop checking for symmetry by default on the data.\n",
      "\n",
      "Datashader options\n",
      "------------------\n",
      "aggregator (default=None):\n",
      "    Aggregator to use when applying rasterize or datashade operation\n",
      "    (valid options include 'mean', 'count', 'min', 'max' and more, and\n",
      "    datashader reduction objects)\n",
      "dynamic (default=True):\n",
      "    Whether to return a dynamic plot which sends updates on widget and\n",
      "    zoom/pan events or whether all the data should be embedded\n",
      "    (warning: for large groupby operations embedded data can become\n",
      "    very large if dynamic=False)\n",
      "datashade (default=False):\n",
      "    Whether to apply rasterization and shading using datashader\n",
      "    library returning an RGB object\n",
      "dynspread (default=False):\n",
      "    Allows plots generated with datashade=True to increase the point\n",
      "    size to make sparse regions more visible\n",
      "rasterize (default=False):\n",
      "    Whether to apply rasterization using the datashader library\n",
      "    returning an aggregated Image\n",
      "x_sampling/y_sampling (default=None):\n",
      "    Specifies the smallest allowed sampling interval along the x/y axis.\n",
      "\n",
      "Geographic options\n",
      "------------------\n",
      "coastline (default=False):\n",
      "    Whether to display a coastline on top of the plot, setting\n",
      "    coastline='10m'/'50m'/'110m' specifies a specific scale.\n",
      "crs (default=None):\n",
      "    Coordinate reference system of the data specified as Cartopy\n",
      "    CRS object, proj.4 string or EPSG code.\n",
      "features (default=None): dict or list\n",
      "    A list of features or a dictionary of features and the scale\n",
      "    at which to render it. Available features include 'borders',\n",
      "    'coastline', 'lakes', 'land', 'ocean', 'rivers' and 'states'.\n",
      "    Available scales include '10m'/'50m'/'110m'.\n",
      "geo (default=False):\n",
      "    Whether the plot should be treated as geographic (and assume\n",
      "    PlateCarree, i.e. lat/lon coordinates).\n",
      "global_extent (default=False):\n",
      "    Whether to expand the plot extent to span the whole globe.\n",
      "project (default=False):\n",
      "    Whether to project the data before plotting (adds initial\n",
      "    overhead but avoids projecting data when plot is dynamically\n",
      "    updated).\n",
      "tiles (default=False):\n",
      "    Whether to overlay the plot on a tile source. Tiles sources\n",
      "    can be selected by name or a tiles object or class can be passed,\n",
      "    the default is 'Wikipedia'.\n",
      "\n",
      "Style options\n",
      "-------------\n",
      "\n",
      "alpha\n",
      "angle\n",
      "cmap\n",
      "color\n",
      "fill_alpha\n",
      "fill_color\n",
      "hover_alpha\n",
      "hover_color\n",
      "hover_fill_alpha\n",
      "hover_fill_color\n",
      "hover_line_alpha\n",
      "hover_line_color\n",
      "line_alpha\n",
      "line_cap\n",
      "line_color\n",
      "line_dash\n",
      "line_join\n",
      "line_width\n",
      "marker\n",
      "muted_alpha\n",
      "muted_color\n",
      "muted_fill_alpha\n",
      "muted_fill_color\n",
      "muted_line_alpha\n",
      "muted_line_color\n",
      "nonselection_alpha\n",
      "nonselection_color\n",
      "nonselection_fill_alpha\n",
      "nonselection_fill_color\n",
      "nonselection_line_alpha\n",
      "nonselection_line_color\n",
      "palette\n",
      "selection_alpha\n",
      "selection_color\n",
      "selection_fill_alpha\n",
      "selection_fill_color\n",
      "selection_line_alpha\n",
      "selection_line_color\n",
      "size\n",
      "visible\n"
     ]
    }
   ],
   "source": [
    "hvplot.help('scatter')"
   ]
  },
  {
   "cell_type": "code",
   "execution_count": 52,
   "metadata": {
    "execution": {
     "iopub.execute_input": "2021-06-30T14:42:18.952411Z",
     "iopub.status.busy": "2021-06-30T14:42:18.952255Z",
     "iopub.status.idle": "2021-06-30T14:42:18.966289Z",
     "shell.execute_reply": "2021-06-30T14:42:18.965757Z",
     "shell.execute_reply.started": "2021-06-30T14:42:18.952394Z"
    },
    "tags": []
   },
   "outputs": [],
   "source": [
    "graf = subset.hvplot(\n",
    "    kind='scatter',\n",
    "    x='publication_year', \n",
    "    logx=True, \n",
    "    y='average_rating',\n",
    "    c='top_genre',\n",
    "#     colormap=palettes.Magma256,\n",
    "#     hover=True, \n",
    "    hover_cols=['author_name', 'title'],\n",
    "#     datashade=True, \n",
    "#     dynspread=True, \n",
    "    width=1000, \n",
    "    height=600)"
   ]
  },
  {
   "cell_type": "markdown",
   "metadata": {},
   "source": [
    "---"
   ]
  },
  {
   "cell_type": "code",
   "execution_count": 57,
   "metadata": {
    "execution": {
     "iopub.execute_input": "2021-06-30T14:49:19.772647Z",
     "iopub.status.busy": "2021-06-30T14:49:19.772491Z",
     "iopub.status.idle": "2021-06-30T14:49:19.775499Z",
     "shell.execute_reply": "2021-06-30T14:49:19.774723Z",
     "shell.execute_reply.started": "2021-06-30T14:49:19.772629Z"
    },
    "tags": []
   },
   "outputs": [],
   "source": [
    "from IPython.core.display import display, HTML"
   ]
  },
  {
   "cell_type": "code",
   "execution_count": 11,
   "metadata": {
    "execution": {
     "iopub.execute_input": "2021-06-30T15:38:07.991009Z",
     "iopub.status.busy": "2021-06-30T15:38:07.990828Z",
     "iopub.status.idle": "2021-06-30T15:38:07.994036Z",
     "shell.execute_reply": "2021-06-30T15:38:07.993574Z",
     "shell.execute_reply.started": "2021-06-30T15:38:07.990989Z"
    },
    "tags": []
   },
   "outputs": [
    {
     "data": {
      "text/plain": [
       "93626"
      ]
     },
     "execution_count": 11,
     "metadata": {},
     "output_type": "execute_result"
    }
   ],
   "source": [
    "len(subset)"
   ]
  },
  {
   "cell_type": "code",
   "execution_count": 12,
   "metadata": {
    "execution": {
     "iopub.execute_input": "2021-06-30T15:38:12.671464Z",
     "iopub.status.busy": "2021-06-30T15:38:12.670808Z",
     "iopub.status.idle": "2021-06-30T15:38:12.975938Z",
     "shell.execute_reply": "2021-06-30T15:38:12.975303Z",
     "shell.execute_reply.started": "2021-06-30T15:38:12.671383Z"
    },
    "tags": []
   },
   "outputs": [],
   "source": [
    "sprite_size = 32 if len(graph_df.index)>50000 else 64\n",
    "jsonstr = subset.to_json(orient='records')\n",
    "\n",
    "\n",
    "# Create Facets template  \n",
    "HTML_TEMPLATE = \"\"\"\n",
    "        <script src=\"https://cdnjs.cloudflare.com/ajax/libs/webcomponentsjs/1.3.3/webcomponents-lite.js\"></script>\n",
    "        <link rel=\"import\" href=\"https://raw.githubusercontent.com/PAIR-code/facets/master/facets-dist/facets-jupyter.html\">\n",
    "        <facets-dive sprite-image-width=\"{sprite_size}\" sprite-image-height=\"{sprite_size}\" id=\"elem\" height=\"80vh\"></facets-dive>\n",
    "        <script>\n",
    "          document.querySelector(\"#elem\").data = {jsonstr};\n",
    "        </script>\"\"\"\n",
    "\n",
    "# Load the json dataset and the sprite_size into the template\n",
    "html = HTML_TEMPLATE.format(jsonstr=jsonstr, sprite_size=sprite_size)"
   ]
  },
  {
   "cell_type": "code",
   "execution_count": 13,
   "metadata": {
    "execution": {
     "iopub.execute_input": "2021-06-30T15:38:13.155352Z",
     "iopub.status.busy": "2021-06-30T15:38:13.155143Z",
     "iopub.status.idle": "2021-06-30T15:38:13.157592Z",
     "shell.execute_reply": "2021-06-30T15:38:13.157236Z",
     "shell.execute_reply.started": "2021-06-30T15:38:13.155334Z"
    },
    "tags": []
   },
   "outputs": [],
   "source": [
    "# Display the template\n",
    "# display(HTML(html))"
   ]
  },
  {
   "cell_type": "code",
   "execution_count": 14,
   "metadata": {
    "execution": {
     "iopub.execute_input": "2021-06-30T15:38:13.867673Z",
     "iopub.status.busy": "2021-06-30T15:38:13.867522Z",
     "iopub.status.idle": "2021-06-30T15:38:14.005711Z",
     "shell.execute_reply": "2021-06-30T15:38:14.005263Z",
     "shell.execute_reply.started": "2021-06-30T15:38:13.867656Z"
    },
    "tags": []
   },
   "outputs": [],
   "source": [
    "with open('records/facets-dive.html', 'w') as f:\n",
    "    f.write(html)"
   ]
  },
  {
   "cell_type": "markdown",
   "metadata": {},
   "source": [
    "## What signal can I see in the data?"
   ]
  },
  {
   "cell_type": "markdown",
   "metadata": {},
   "source": [
    "## What signals can the computer find in the data?"
   ]
  },
  {
   "cell_type": "markdown",
   "metadata": {},
   "source": [
    "## Which books are the most desirable in each category?"
   ]
  },
  {
   "cell_type": "markdown",
   "metadata": {},
   "source": [
    "# Explain and predict"
   ]
  },
  {
   "cell_type": "markdown",
   "metadata": {},
   "source": [
    "## How can I package the canon to be explored and visualized?"
   ]
  },
  {
   "cell_type": "markdown",
   "metadata": {},
   "source": [
    "## How can I extrapolate from the canon to predict unseen data points?"
   ]
  },
  {
   "cell_type": "markdown",
   "metadata": {},
   "source": [
    "## How do I update the canon in the future, to reflect changing trends and new data?"
   ]
  }
 ],
 "metadata": {
  "kernelspec": {
   "display_name": "Python 3",
   "language": "python",
   "name": "python3"
  },
  "language_info": {
   "codemirror_mode": {
    "name": "ipython",
    "version": 3
   },
   "file_extension": ".py",
   "mimetype": "text/x-python",
   "name": "python",
   "nbconvert_exporter": "python",
   "pygments_lexer": "ipython3",
   "version": "3.7.7"
  }
 },
 "nbformat": 4,
 "nbformat_minor": 4
}
