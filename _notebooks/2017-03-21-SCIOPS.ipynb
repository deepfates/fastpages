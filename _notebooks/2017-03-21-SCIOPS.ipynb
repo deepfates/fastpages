{
 "cells": [
  {
   "cell_type": "markdown",
   "metadata": {
    "tags": []
   },
   "source": [
    "# SCIOPS newsletter\n",
    "> a cogsec newsletter. finished\n",
    "- categories: [writing, sciops]\n",
    "- badges: false\n"
   ]
  },
  {
   "cell_type": "markdown",
   "metadata": {
    "tags": []
   },
   "source": [
    "## SCIOPS was a newsletter on politics, technology, memetics and magic\n",
    "\n",
    "I wrote SCIOPS weekly(ish) for several years. I stopped writing it around the beginning of the 2020 pandemic, as my worldview started rapidly changing to keep up with events. I no longer stand by all the opinions in these letters, but I want to archive them here in case Tinyletter disappears one day.\n",
    "\n",
    "The following is code for downloading the letters and converting them to markdown files in the `_posts` folder."
   ]
  },
  {
   "cell_type": "code",
   "execution_count": 1,
   "metadata": {
    "execution": {
     "iopub.execute_input": "2021-07-11T19:33:57.663022Z",
     "iopub.status.busy": "2021-07-11T19:33:57.662852Z",
     "iopub.status.idle": "2021-07-11T19:34:03.392591Z",
     "shell.execute_reply": "2021-07-11T19:34:03.391862Z",
     "shell.execute_reply.started": "2021-07-11T19:33:57.662975Z"
    },
    "tags": []
   },
   "outputs": [
    {
     "name": "stdin",
     "output_type": "stream",
     "text": [
      " ··········\n"
     ]
    }
   ],
   "source": [
    "import base64\n",
    "import datetime\n",
    "import os.path\n",
    "\n",
    "from bs4 import BeautifulSoup\n",
    "import jinja2\n",
    "import requests\n",
    "import tinyapi\n",
    "from getpass import getpass\n",
    "from slugify import slugify\n",
    "from markdownify import markdownify as md\n",
    "\n",
    "session = tinyapi.Session('sciops', getpass())\n",
    "messages = session.get_messages(order='sent_at desc', content=True)"
   ]
  },
  {
   "cell_type": "code",
   "execution_count": 2,
   "metadata": {
    "execution": {
     "iopub.execute_input": "2021-07-11T19:34:03.393808Z",
     "iopub.status.busy": "2021-07-11T19:34:03.393641Z",
     "iopub.status.idle": "2021-07-11T19:34:03.397515Z",
     "shell.execute_reply": "2021-07-11T19:34:03.396932Z",
     "shell.execute_reply.started": "2021-07-11T19:34:03.393786Z"
    }
   },
   "outputs": [],
   "source": [
    "def download_images(soup):\n",
    "    imgs = soup.find_all('img')\n",
    "    for img in imgs:\n",
    "        if not img.has_attr('src') or img['src'].startswith('data'):\n",
    "                continue\n",
    "        img_data = requests.get(img['src'])\n",
    "        img_data_uri = 'data:{};base64,{}'.format(\n",
    "            img_data.headers['Content-Type'],\n",
    "            base64.b64encode(img_data.content).decode('utf-8'))\n",
    "        img['src'] = img_data_uri"
   ]
  },
  {
   "cell_type": "code",
   "execution_count": 50,
   "metadata": {
    "execution": {
     "iopub.execute_input": "2021-07-11T19:51:46.001668Z",
     "iopub.status.busy": "2021-07-11T19:51:46.001518Z",
     "iopub.status.idle": "2021-07-11T19:51:46.004328Z",
     "shell.execute_reply": "2021-07-11T19:51:46.003901Z",
     "shell.execute_reply.started": "2021-07-11T19:51:46.001650Z"
    },
    "tags": []
   },
   "outputs": [],
   "source": [
    "def get_frontmatter(title, desc):\n",
    "    short_desc = desc.split('.')[0].replace('\\\"','\\'')\n",
    "    frontmatter = f'''---\n",
    "title: \"{title}\"\n",
    "description: \"{short_desc}\"\n",
    "layout: post\n",
    "toc: false\n",
    "comments: false\n",
    "search_exclude: false\n",
    "categories: [sciops]\n",
    "---\n",
    "\n",
    "'''\n",
    "    return(frontmatter)"
   ]
  },
  {
   "cell_type": "code",
   "execution_count": 54,
   "metadata": {
    "execution": {
     "iopub.execute_input": "2021-07-11T19:51:46.492239Z",
     "iopub.status.busy": "2021-07-11T19:51:46.492090Z",
     "iopub.status.idle": "2021-07-11T19:51:46.495054Z",
     "shell.execute_reply": "2021-07-11T19:51:46.494567Z",
     "shell.execute_reply.started": "2021-07-11T19:51:46.492221Z"
    },
    "tags": []
   },
   "outputs": [],
   "source": [
    "def get_slug(title):\n",
    "    short_title = '-'.join(slugify(title).split('-')[3:])\n",
    "    if len(short_title) < 1:\n",
    "        short_title = 'letter'\n",
    "    return(short_title)"
   ]
  },
  {
   "cell_type": "code",
   "execution_count": 55,
   "metadata": {
    "execution": {
     "iopub.execute_input": "2021-07-11T19:51:46.611512Z",
     "iopub.status.busy": "2021-07-11T19:51:46.611323Z",
     "iopub.status.idle": "2021-07-11T19:51:46.615410Z",
     "shell.execute_reply": "2021-07-11T19:51:46.614741Z",
     "shell.execute_reply.started": "2021-07-11T19:51:46.611494Z"
    },
    "tags": []
   },
   "outputs": [],
   "source": [
    "def archive_message(message):\n",
    "    title = message['subject']\n",
    "    desc = message['snippet']\n",
    "    sent_date = datetime.datetime.fromtimestamp(message['sent_at'])\n",
    "    sent_date_str = sent_date.strftime('%Y-%m-%d')\n",
    "    filename = f'../_posts/sciops/{sent_date_str}-{get_slug(title)}.md'\n",
    "#     if os.path.exists(filename):\n",
    "#         return\n",
    "\n",
    "    html_doc = message['content']['html']\n",
    "    soup = BeautifulSoup(html_doc, 'html.parser')\n",
    "    download_images(soup)\n",
    "    message_body = soup.prettify()\n",
    "    \n",
    "    frontmatter = get_frontmatter(title, desc)\n",
    "    body = frontmatter + md(message_body)\n",
    "    with open(filename, 'w', encoding='utf-8') as f:\n",
    "        f.write(body)"
   ]
  },
  {
   "cell_type": "code",
   "execution_count": 56,
   "metadata": {
    "execution": {
     "iopub.execute_input": "2021-07-11T19:51:46.728971Z",
     "iopub.status.busy": "2021-07-11T19:51:46.728796Z",
     "iopub.status.idle": "2021-07-11T19:51:46.731576Z",
     "shell.execute_reply": "2021-07-11T19:51:46.731105Z",
     "shell.execute_reply.started": "2021-07-11T19:51:46.728952Z"
    },
    "tags": []
   },
   "outputs": [],
   "source": [
    "from tqdm import tqdm"
   ]
  },
  {
   "cell_type": "code",
   "execution_count": 57,
   "metadata": {
    "execution": {
     "iopub.execute_input": "2021-07-11T19:51:47.389121Z",
     "iopub.status.busy": "2021-07-11T19:51:47.388948Z",
     "iopub.status.idle": "2021-07-11T19:52:22.674612Z",
     "shell.execute_reply": "2021-07-11T19:52:22.674198Z",
     "shell.execute_reply.started": "2021-07-11T19:51:47.389104Z"
    },
    "tags": []
   },
   "outputs": [
    {
     "name": "stderr",
     "output_type": "stream",
     "text": [
      "100%|██████████| 138/138 [00:35<00:00,  3.91it/s]\n"
     ]
    }
   ],
   "source": [
    "for message in tqdm(messages):\n",
    "    archive_message(message)"
   ]
  }
 ],
 "metadata": {
  "kernelspec": {
   "display_name": "Python 3",
   "language": "python",
   "name": "python3"
  },
  "language_info": {
   "codemirror_mode": {
    "name": "ipython",
    "version": 3
   },
   "file_extension": ".py",
   "mimetype": "text/x-python",
   "name": "python",
   "nbconvert_exporter": "python",
   "pygments_lexer": "ipython3",
   "version": "3.7.7"
  }
 },
 "nbformat": 4,
 "nbformat_minor": 4
}
