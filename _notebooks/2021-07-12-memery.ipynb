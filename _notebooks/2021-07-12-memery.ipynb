{
 "cells": [
  {
   "cell_type": "markdown",
   "metadata": {},
   "source": [
    "# Memery\n",
    "> intelligent image search app\n",
    "- categories: [code]\n",
    "- badges: true\n",
    "- image: images/memery.jpeg\n"
   ]
  },
  {
   "cell_type": "markdown",
   "metadata": {},
   "source": [
    "## Memery lets you use human language to search your image collections.\n",
    "\n",
    "For years I was frustrated every time I tried to find an image on my hard drive: a meme to send to a friend, a photo of an important moment, a screenshot of a relevant quote. No matter how organized your folders, a hierarchical tree just can't capture all the dimensions of an image collection. And once you've found the right folder, your filenames better be easy to remember, or you still have to scan visually through hundreds of images.\n",
    "\n",
    "This is a pre-computer workflow, sifting through folders of images and recognizing the one you need by eye. Computers make it faster, but they don't reduce the cognitive friction much.\n",
    "\n",
    "### That's where **memery** comes in. \n",
    "\n",
    "Using the CLIP transformer developed by OpenAI, image search becomes meaning-full.\n",
    "\n",
    "You can search for concrete nouns, like \"bird\" or \"wizard\", or abstract concepts like \"graph\" or \"love\". You can also search for text found in the image, like the word \"signal\".\n",
    "\n",
    "Open this page in Binder or Colab with the buttons above, and run this cell to test it out (you might have to change the box that says `images/` to say `../images/`):\n"
   ]
  },
  {
   "cell_type": "code",
   "execution_count": 1,
   "metadata": {
    "execution": {
     "iopub.execute_input": "2021-08-21T20:29:43.050509Z",
     "iopub.status.busy": "2021-08-21T20:29:43.050328Z",
     "iopub.status.idle": "2021-08-21T20:29:47.246837Z",
     "shell.execute_reply": "2021-08-21T20:29:47.246348Z",
     "shell.execute_reply.started": "2021-08-21T20:29:43.050461Z"
    },
    "tags": []
   },
   "outputs": [
    {
     "data": {
      "application/vnd.jupyter.widget-view+json": {
       "model_id": "1bf0c6f20d1449d89807f199a2b4e742",
       "version_major": 2,
       "version_minor": 0
      },
      "text/plain": [
       "AppLayout(children=(Box(children=(Text(value='images/', layout=Layout(max_width='80%'), placeholder='path/to/i…"
      ]
     },
     "metadata": {},
     "output_type": "display_data"
    },
    {
     "data": {
      "text/plain": [
       "<memery.gui.appPage at 0x7fec0c074050>"
      ]
     },
     "execution_count": 1,
     "metadata": {},
     "output_type": "execute_result"
    }
   ],
   "source": [
    "from memery.gui import appPage\n",
    "\n",
    "appPage()"
   ]
  },
  {
   "cell_type": "markdown",
   "metadata": {},
   "source": [
    "Memery is also a library that can be included in python applications. For example, here's the first two results for \"bird\" in this website's image folder:\n"
   ]
  },
  {
   "cell_type": "code",
   "execution_count": 2,
   "metadata": {
    "execution": {
     "iopub.execute_input": "2021-08-21T20:29:47.575669Z",
     "iopub.status.busy": "2021-08-21T20:29:47.574976Z",
     "iopub.status.idle": "2021-08-21T20:29:52.643735Z",
     "shell.execute_reply": "2021-08-21T20:29:52.643123Z",
     "shell.execute_reply.started": "2021-08-21T20:29:47.575585Z"
    },
    "tags": []
   },
   "outputs": [
    {
     "name": "stderr",
     "output_type": "stream",
     "text": [
      "1020it [00:00, 74742.57it/s]\n",
      "1020it [00:00, 28044.88it/s]\n",
      "  0%|          | 0/1 [00:00<?, ?it/s]"
     ]
    },
    {
     "name": "stdout",
     "output_type": "stream",
     "text": [
      "starting timer\n",
      "Checking files\n",
      "Indexing\n",
      "Loaded 996 encodings\n",
      "Encoding 6 new images\n"
     ]
    },
    {
     "name": "stderr",
     "output_type": "stream",
     "text": [
      "100%|██████████| 1/1 [00:00<00:00,  6.17it/s]\n"
     ]
    },
    {
     "name": "stdout",
     "output_type": "stream",
     "text": [
      "Building treemap\n",
      "Saving 1001 encodings\n",
      "Converting query\n",
      "Searching 1001 images\n",
      "Done in 5.060962200164795 seconds\n"
     ]
    },
    {
     "data": {
      "text/plain": [
       "['../images/E84wm5UWEAAr5ie.png', '../images/images/E84wm5UWEAAr5ie.png']"
      ]
     },
     "execution_count": 2,
     "metadata": {},
     "output_type": "execute_result"
    }
   ],
   "source": [
    "from memery.core import queryFlow\n",
    "\n",
    "birds = queryFlow('../images/', 'bird')\n",
    "\n",
    "birds[:2]"
   ]
  },
  {
   "cell_type": "markdown",
   "metadata": {},
   "source": [
    "\n",
    "![](../images/E84wm5UWEAAr5ie.png)\n",
    "![](../images/E4DSGUAX0AEG6J3.jpg)"
   ]
  },
  {
   "cell_type": "markdown",
   "metadata": {},
   "source": [
    "Memery has many other features, including a browser-based GUI and a command-line interface. It's an open source project, and you can help! Find [memery at Github](https://github.com/deepfates/memery), test it out, file issues and pull requests.\n",
    "\n",
    "## Together we can solve the meme search problem."
   ]
  },
  {
   "cell_type": "code",
   "execution_count": null,
   "metadata": {},
   "outputs": [],
   "source": []
  }
 ],
 "metadata": {
  "kernelspec": {
   "display_name": "Python 3",
   "language": "python",
   "name": "python3"
  },
  "language_info": {
   "codemirror_mode": {
    "name": "ipython",
    "version": 3
   },
   "file_extension": ".py",
   "mimetype": "text/x-python",
   "name": "python",
   "nbconvert_exporter": "python",
   "pygments_lexer": "ipython3",
   "version": "3.7.7"
  },
  "widgets": {
   "application/vnd.jupyter.widget-state+json": {
    "state": {},
    "version_major": 2,
    "version_minor": 0
   }
  }
 },
 "nbformat": 4,
 "nbformat_minor": 4
}
