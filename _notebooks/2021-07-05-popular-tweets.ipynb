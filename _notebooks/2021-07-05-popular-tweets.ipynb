{
 "cells": [
  {
   "cell_type": "markdown",
   "metadata": {
    "tags": []
   },
   "source": [
    "# Popular tweets\n",
    "\n",
    "- badges: true\n",
    "- categories: [code, twitter]\n"
   ]
  },
  {
   "cell_type": "markdown",
   "metadata": {
    "tags": []
   },
   "source": [
    "## This is the code I use to generate my [Tweets](../../../../../tweets) page"
   ]
  },
  {
   "cell_type": "code",
   "execution_count": 1,
   "metadata": {
    "execution": {
     "iopub.execute_input": "2021-08-21T20:05:13.017134Z",
     "iopub.status.busy": "2021-08-21T20:05:13.016880Z",
     "iopub.status.idle": "2021-08-21T20:05:14.905153Z",
     "shell.execute_reply": "2021-08-21T20:05:14.904241Z",
     "shell.execute_reply.started": "2021-08-21T20:05:13.017069Z"
    },
    "tags": []
   },
   "outputs": [
    {
     "name": "stdout",
     "output_type": "stream",
     "text": [
      "1428780758253121545 2021-08-20 12:07:32 -0600 <deepfates> thinking of becoming more earnest. anybody know how to cultivate naivete\n",
      "1428029476223475717 2021-08-18 10:22:13 -0600 <deepfates> @leopoldasch damn dude that's so sad. I'm sorry to hear that. Out of curiosity what are the last four digits of your social\n",
      "1427434667884548102 2021-08-16 18:58:39 -0600 <deepfates> if you think \"zoomers don't understand computers\" you are severely overestimating the technical capabilities of milliennials\n",
      "1427401293342117889 2021-08-16 16:46:02 -0600 <deepfates> By internactimg with this tweet you are directly affecting my brain chemistry.  Increase         Increase   cortisol         dopamine .          👇.     👇 🗨️.     ♻️.     ❤️ ☝️   Send custom psychic effect\n",
      "1426246548589977602 2021-08-13 12:17:30 -0600 <deepfates> what I wanted: a group of people with open minds and good conversational standards, practiced in the art of achieving mutual understanding and coherence with reality  what I got: weird religious people with talk shows. and a bunch of zoomers who can't tell the difference\n",
      "1426245547132784640 2021-08-13 12:13:31 -0600 <deepfates> wondering if perhaps this is just a feature of Twitter. as I've seen it in other groups as well.  very hard not to become a caricature of yourself when so many people are giving you instantaneous feedback on your weird internet behavior\n",
      "1426186822523174913 2021-08-13 08:20:10 -0600 <deepfates> My biggest peeve with the post rat community is the same reason I left the new age hippie community: low standards for epistemology lead to cults of personality. and a religious regard for irrational thinking\n",
      "1419843330435817473 2021-07-26 20:13:24 -0600 <deepfates> HELP🆘 someone, Help me! 🥺 I only have this MATTRESS, with NO FRAME at all, sitting flat on the floor of my Unfurnished apartment, one filthy TOP SHEET smeared across it. I need somebody to come tell me how GROSS I am. I need someone to judge my MID 20TH CENTURY MACHO LITERATURE\n",
      "1419345705479544833 2021-07-25 11:16:01 -0600 <deepfates> I wish I could teach a class at the local university on, like, Casual Computer Programming for Normal People.  Just like a simple introduction to markdown, python, notebooks and APIs. could do the entire thing in Colab. It would empower people.  why they don't have this already?\n",
      "1419338925022326798 2021-07-25 10:49:04 -0600 <deepfates> @martinsean @phn1x hey way to be a good sport about this, I was going to come tell you you were wrong but a lot of people already did And you took it standing up lol 💪\n",
      "1418280877902028800 2021-07-22 12:44:46 -0600 <deepfates> The important thing about the simulation hypothesis is that if it were true, then hacking the simulation would be a real option. And that means magic is real\n",
      "1418177474534416387 2021-07-22 05:53:53 -0600 <deepfates> dreams are so dumb. Like haha here's some shit that never happened, how about you go have a real feeling about it all day\n",
      "1415702993220120581 2021-07-15 10:01:10 -0600 <deepfates> I'm 32 now. happy deepfates day\n",
      "1414278251908845576 2021-07-11 11:39:45 -0600 <deepfates> uhhh you guys?  https://t.co/g4iWg0Wwby\n",
      "1413236300749053952 2021-07-08 14:39:25 -0600 <deepfates> new political compass just dropped. tag yourself  https://t.co/cR5qKqrJ24\n",
      "1410720938866270209 2021-07-01 16:04:16 -0600 <deepfates> maybe the real reason people are afraid of GPT3 is it reveals their own so-called intelligence to be a parlor trick  https://t.co/QLFUyrbf73\n",
      "1410226877218840584 2021-06-30 07:21:02 -0600 <deepfates> type of guy who becomes enlightened but doesn't feel the need to tell anybody about it, he just uses it to make better dumb tweets\n",
      "1410009264878276617 2021-06-29 16:56:20 -0600 <deepfates> if you're still thinking your politics as \"left-wing\" or \"right-wing' I regret to inform you that the plane has no wings and also no one is flying it and also it's falling\n",
      "1409503937955127307 2021-06-28 07:28:20 -0600 <deepfates> The more I learn about how software is built, the more amazed I am that any software is ever built at all\n",
      "1408798364221722631 2021-06-26 08:44:38 -0600 <deepfates> are these \"ideas\" in the room with us now?  https://t.co/mJ214Pl57X\n",
      "[!] No more data! Scraping will stop now.\n",
      "found 0 deleted tweets in this search.\n"
     ]
    }
   ],
   "source": [
    "#hide_output\n",
    "import twint\n",
    "import nest_asyncio\n",
    "nest_asyncio.apply()\n",
    "\n",
    "\n",
    "c = twint.Config()\n",
    "\n",
    "c.Username = 'deepfates'\n",
    "c.Popular_tweets = True\n",
    "# c.Limit = 1\n",
    "c.Min_likes = 130\n",
    "tweets = []\n",
    "c.Store_object = True\n",
    "c.Store_object_tweets_list = tweets\n",
    "\n",
    "\n",
    "twint.run.Search(c)"
   ]
  },
  {
   "cell_type": "code",
   "execution_count": 2,
   "metadata": {
    "execution": {
     "iopub.execute_input": "2021-08-21T20:05:14.906321Z",
     "iopub.status.busy": "2021-08-21T20:05:14.906117Z",
     "iopub.status.idle": "2021-08-21T20:05:14.910651Z",
     "shell.execute_reply": "2021-08-21T20:05:14.909787Z",
     "shell.execute_reply.started": "2021-08-21T20:05:14.906300Z"
    },
    "tags": []
   },
   "outputs": [],
   "source": [
    "\n",
    "tweets.sort(key=lambda x: x.datetime, reverse=True)"
   ]
  },
  {
   "cell_type": "code",
   "execution_count": 3,
   "metadata": {
    "execution": {
     "iopub.execute_input": "2021-08-21T20:05:14.911916Z",
     "iopub.status.busy": "2021-08-21T20:05:14.911625Z",
     "iopub.status.idle": "2021-08-21T20:05:14.914710Z",
     "shell.execute_reply": "2021-08-21T20:05:14.914173Z",
     "shell.execute_reply.started": "2021-08-21T20:05:14.911892Z"
    },
    "tags": []
   },
   "outputs": [],
   "source": [
    "from datetime import date\n",
    "\n",
    "today = date.today()\n"
   ]
  },
  {
   "cell_type": "code",
   "execution_count": 4,
   "metadata": {
    "execution": {
     "iopub.execute_input": "2021-08-21T20:05:14.915721Z",
     "iopub.status.busy": "2021-08-21T20:05:14.915527Z",
     "iopub.status.idle": "2021-08-21T20:05:14.919230Z",
     "shell.execute_reply": "2021-08-21T20:05:14.918818Z",
     "shell.execute_reply.started": "2021-08-21T20:05:14.915689Z"
    },
    "tags": []
   },
   "outputs": [],
   "source": [
    "def get_include(link):\n",
    "    return('{% include twitter.html '+f'''content='<a href=\"{link}\">{link}</a>' '''+'%}')\n",
    "\n",
    "def get_md(includes):\n",
    "    return(f'''---\n",
    "layout: page\n",
    "title: Tweets\n",
    "permalink: /tweets/\n",
    "---\n",
    "\n",
    "I post a lot of tweets.\n",
    "\n",
    "![](/images/bird.jpg)\n",
    "\n",
    "Here are some of my recent popular posts (not my most popular posts, which I tend to delete when they make me anxious)\\n. Last updated {today}\n",
    "\\n\n",
    "{includes}\n",
    "''')"
   ]
  },
  {
   "cell_type": "code",
   "execution_count": 5,
   "metadata": {
    "execution": {
     "iopub.execute_input": "2021-08-21T20:05:14.920093Z",
     "iopub.status.busy": "2021-08-21T20:05:14.919889Z",
     "iopub.status.idle": "2021-08-21T20:05:14.923911Z",
     "shell.execute_reply": "2021-08-21T20:05:14.922225Z",
     "shell.execute_reply.started": "2021-08-21T20:05:14.920073Z"
    },
    "tags": []
   },
   "outputs": [],
   "source": [
    "includes = '\\n\\n'.join([get_include(t.link) for t in tweets])\n"
   ]
  },
  {
   "cell_type": "code",
   "execution_count": 6,
   "metadata": {
    "execution": {
     "iopub.execute_input": "2021-08-21T20:05:14.926287Z",
     "iopub.status.busy": "2021-08-21T20:05:14.926011Z",
     "iopub.status.idle": "2021-08-21T20:05:14.929981Z",
     "shell.execute_reply": "2021-08-21T20:05:14.929011Z",
     "shell.execute_reply.started": "2021-08-21T20:05:14.926256Z"
    },
    "tags": []
   },
   "outputs": [],
   "source": [
    "md = get_md(includes)"
   ]
  },
  {
   "cell_type": "code",
   "execution_count": 7,
   "metadata": {
    "execution": {
     "iopub.execute_input": "2021-08-21T20:05:14.931446Z",
     "iopub.status.busy": "2021-08-21T20:05:14.931152Z",
     "iopub.status.idle": "2021-08-21T20:05:14.934941Z",
     "shell.execute_reply": "2021-08-21T20:05:14.934152Z",
     "shell.execute_reply.started": "2021-08-21T20:05:14.931412Z"
    },
    "tags": []
   },
   "outputs": [],
   "source": [
    "with open('../_pages/tweets.md', 'w') as f:\n",
    "    print(md, file=f)"
   ]
  },
  {
   "cell_type": "code",
   "execution_count": null,
   "metadata": {},
   "outputs": [],
   "source": []
  }
 ],
 "metadata": {
  "kernelspec": {
   "display_name": "Python 3",
   "language": "python",
   "name": "python3"
  },
  "language_info": {
   "codemirror_mode": {
    "name": "ipython",
    "version": 3
   },
   "file_extension": ".py",
   "mimetype": "text/x-python",
   "name": "python",
   "nbconvert_exporter": "python",
   "pygments_lexer": "ipython3",
   "version": "3.7.7"
  },
  "widgets": {
   "application/vnd.jupyter.widget-state+json": {
    "state": {},
    "version_major": 2,
    "version_minor": 0
   }
  }
 },
 "nbformat": 4,
 "nbformat_minor": 4
}
