{
 "cells": [
  {
   "cell_type": "markdown",
   "metadata": {
    "tags": []
   },
   "source": [
    "# Popular tweets\n",
    "\n",
    "- badges: true\n",
    "- categories: [code, twitter]\n"
   ]
  },
  {
   "cell_type": "markdown",
   "metadata": {
    "tags": []
   },
   "source": [
    "## This is the code I use to generate my [Tweets](../../../../../tweets) page"
   ]
  },
  {
   "cell_type": "code",
   "execution_count": 1,
   "metadata": {
    "execution": {
     "iopub.execute_input": "2021-07-21T15:22:09.268388Z",
     "iopub.status.busy": "2021-07-21T15:22:09.268169Z",
     "iopub.status.idle": "2021-07-21T15:22:11.773237Z",
     "shell.execute_reply": "2021-07-21T15:22:11.772710Z",
     "shell.execute_reply.started": "2021-07-21T15:22:09.268327Z"
    },
    "tags": []
   },
   "outputs": [
    {
     "name": "stdout",
     "output_type": "stream",
     "text": [
      "1415702993220120581 2021-07-15 10:01:10 -0600 <deepfates> I'm 32 now. happy deepfates day\n",
      "1414278251908845576 2021-07-11 11:39:45 -0600 <deepfates> uhhh you guys?  https://t.co/g4iWg0Wwby\n",
      "1413236300749053952 2021-07-08 14:39:25 -0600 <deepfates> new political compass just dropped. tag yourself  https://t.co/cR5qKqrJ24\n",
      "1410720938866270209 2021-07-01 16:04:16 -0600 <deepfates> maybe the real reason people are afraid of GPT3 is it reveals their own so-called intelligence to be a parlor trick  https://t.co/QLFUyrbf73\n",
      "1410226877218840584 2021-06-30 07:21:02 -0600 <deepfates> type of guy who becomes enlightened but doesn't feel the need to tell anybody about it, he just uses it to make better dumb tweets\n",
      "1410009264878276617 2021-06-29 16:56:20 -0600 <deepfates> if you're still thinking your politics as \"left-wing\" or \"right-wing' I regret to inform you that the plane has no wings and also no one is flying it and also it's falling\n",
      "1409503937955127307 2021-06-28 07:28:20 -0600 <deepfates> The more I learn about how software is built, the more amazed I am that any software is ever built at all\n",
      "1408798364221722631 2021-06-26 08:44:38 -0600 <deepfates> are these \"ideas\" in the room with us now?  https://t.co/mJ214Pl57X\n",
      "1408464068109914113 2021-06-25 10:36:16 -0600 <deepfates> People talk about this side of Twitter or this corner of Twitter  what shape is Twitter?\n",
      "1406271483014377472 2021-06-19 09:23:43 -0600 <deepfates> we need a new word for the kind of dizzy, nauseous feeling you get after spending hours looking at synthetic media.  GAN art, GPT outputs, deepfake videos, LSTM music: they all have a certain uncanny valley affect in common, and it does a weird thing to you\n",
      "1406038473086144518 2021-06-18 17:57:49 -0600 <deepfates> I think it's hilarious that there are tons of NGO people out there trying to figure out how we're going to reinvent schooling and spending 40 hours a week talking with each other about it.   meanwhile I know teenagers on Twitter who are doing their homework with GPT-3 🤣\n",
      "1403775419208417280 2021-06-12 12:05:15 -0600 <deepfates> rt 🔒  https://t.co/TkgYsUJfCE\n",
      "1403402890237067271 2021-06-11 11:24:57 -0600 <deepfates> but!  7) modern agriculture is pretty fucked up, as are cities. we should make them all ecological. and we should rewild the suburbs  because nothing hurts like the suburbs, once you've been in the wilderness a while\n",
      "1403402638222368769 2021-06-11 11:23:57 -0600 <deepfates> i live in the city now because it's like a ten minute walk to the food store where somebody has already made food supplies that i can literally buy with money i worked for at something i'm good at and enjoy.   people do cities for a reason. LARPers know this but don't admit\n",
      "1403399900700815372 2021-06-11 11:13:04 -0600 <deepfates> once you accept that you are part of a giant time-binding hyperorganism called \"society\" or whatever, you can align yourself with the processes around you.   instead of living dependent on yet hostile to the hive, convincing yourself that it's Chaotic Good because Society is Evil\n",
      "1403397402145574914 2021-06-11 11:03:09 -0600 <deepfates> groups of young people should take over old infrastructure and make it their own. people should fall in love, and feud, and have epic stories. there is meaning in it.  we just have to not fall for our own narratives\n",
      "1403397093658705920 2021-06-11 11:01:55 -0600 <deepfates> there are so many ghost towns in America. there will be so many more, soon. it is good for small groups of people to come together and try different things.  and i think i learned more in my 20s than people who went to college 🤔\n",
      "1403396101030531080 2021-06-11 10:57:58 -0600 <deepfates> a real \"permanent autonomous zone\" is like the Zapatista municipalities in Chiapas, or the Kurds in Rojava. you want autonomy? simple. defend yourself against every sovereign power that claims power over you.   how you gonna do that at the peacenik commune? u have like one gun\n",
      "1403393455456456707 2021-06-11 10:47:28 -0600 <deepfates> (how do primitivists change a lightbulb? they don't. they just light the room with their laptop screens)\n",
      "1403393321494618115 2021-06-11 10:46:56 -0600 <deepfates> you can't, of course. anyone can do the math on this, but most people won't. especially the primitivists. they prefer their narrative over reality. they eat the food that other people get from town. i don't know how they get over this cognitive dissonance, but they're good at it\n",
      "1403391239806980098 2021-06-11 10:38:39 -0600 <deepfates> but to get all that wood required a bunch of hippies to get in the pickup, drive up the mountain, fell trees with chainsaw, buck and throw the wood and come back and chop it all to size. so you need a bunch of gasoline and food to get wood. \"hippie power\" is food-based energy\n",
      "1403388501924597760 2021-06-11 10:27:47 -0600 <deepfates> 2) hierarchies and in-group/outgroup dynamics are probably hardwired in humans. if you attempt to suppress them, they will become invisible, and then you can't even talk about them. This is well covered terrain, \"tyranny of structurelessness material\", but it hurts to see it irl\n",
      "1403388500334891010 2021-06-11 10:27:46 -0600 <deepfates> 1) arable land is expensive, farming requires a lot of land, growing all your own food is basically impossible unless you want to spend literally all your time doing it.   we grew a lot of fresh veg but got our staples with food stamps or cash\n",
      "1403388498804051968 2021-06-11 10:27:46 -0600 <deepfates> I spent three years living at an anarchist to find out if people could live without oppressive social structures. here are some things I learned\n",
      "1402712065874092033 2021-06-09 13:39:52 -0600 <deepfates> a lot of people will tell you to \"empty your mind\". this is a trap.   they want to store things in there\n",
      "1400591012834152454 2021-06-03 17:11:33 -0600 <deepfates>  https://t.co/rRaOXnNxKI\n",
      "1400098818079686656 2021-06-02 08:35:45 -0600 <deepfates> sometimes i wish i could just enjoy my life. i feel so much pressure: to create, to build the things i imagine. i feel like there's not enough time: in the day, the week, the weekends. in my life.   i don't understand how people just... consume experiences\n",
      "1398863101735354373 2021-05-29 22:45:27 -0600 <deepfates> you're telling me carbon made these lifeforms based?\n",
      "1397960354416644097 2021-05-27 10:58:15 -0600 <deepfates> personally I think this is a great idea  https://t.co/VaHFyrg28C\n",
      "1396151620661137409 2021-05-22 11:11:00 -0600 <deepfates> found on hard drive  https://t.co/B61IXJAQvV\n",
      "1394312624121257992 2021-05-17 09:23:29 -0600 <deepfates> the trick to budgeting is to make more money, not spend less\n",
      "1389585659581583365 2021-05-04 08:20:13 -0600 <deepfates> Within 10-20 years, nearly every branch of computer science will be, for all intents and purposes, a branch of magic.  Computational illusion, comp enchantment, comp sorcery, comp summoning... Even comp enlightenment. Impossible simulations, non-Euclidean data analysis, telepathy\n",
      "1388949801325133824 2021-05-02 14:13:32 -0600 <deepfates> yeah, I have a \"colorblind\" dating policy. I don't see red flags\n",
      "1388529423570272256 2021-05-01 10:23:06 -0600 <deepfates> how old were you when you found out  https://t.co/XMb2pgGKIw\n",
      "1388498206783262725 2021-05-01 08:19:04 -0600 <deepfates> gf has been gone for a week. The house is a war zone. I have 4 hours to clean up before picking her up at the airport.  wish me luck\n",
      "1387409599989383168 2021-04-28 08:13:20 -0600 <deepfates> yesterday a real tall stoned looking dude come in my bookstore. he saw our magic books through the window and had to compliment them.  \"Do you even know what you have here?\" he said. \"This is the Real Shit right here. What is this, an arms dealership?\"\n",
      "1385370925793636354 2021-04-22 17:12:22 -0600 <deepfates> how is this a real book??  https://t.co/VwIgG8yVTU\n",
      "1384901122394107904 2021-04-21 10:05:32 -0600 <deepfates>  https://t.co/CdKyG6rcnX\n",
      "1384885466542100483 2021-04-21 09:03:19 -0600 <deepfates> oh no 🤦🤦🤦 post rats are doing memes  https://t.co/oiyVn60s64\n",
      "1384243814672474124 2021-04-19 14:33:38 -0600 <deepfates> wyd after smoking this?  https://t.co/ZClIqCOkmA\n",
      "1382400028648480770 2021-04-14 12:27:05 -0600 <deepfates> technically a pushup is an upside down bench press of the entire planet\n",
      "1378359302449139717 2021-04-03 08:50:41 -0600 <deepfates> hey if you didn't know yet there's going to be a WORLDWIDE COFFEE BEAN SHORTAGE this year. You might want to go stock up on Bean. This is not a drill I would not lie to you about coffee.   ❤️ to my friends who don't keep tabs on global infrastructure\n",
      "1377661108559900673 2021-04-01 10:36:18 -0600 <deepfates> stop taking your fucking shopping cart back to the store. Don't even put it in that little corral thing. You got to leave shopping carts all over the parking lot. the best part of working at a grocery store is collecting shopping carts, alone, in the parking lot. don't fuck it up\n",
      "1365169415742922752 2021-02-25 22:18:46 -0600 <deepfates> please do not tap on the glass. it scares the tweets\n",
      "1355758083079761921 2021-01-30 23:01:30 -0600 <deepfates> I always hoped one day my life would look like this  https://t.co/2jJOtRYXbY\n",
      "1348756926046162944 2021-01-11 15:21:24 -0600 <deepfates> there's no such thing as the marketplace of ideas. ideas are alive.   there is ecology of an ideas\n"
     ]
    }
   ],
   "source": [
    "#hide_output\n",
    "import twint\n",
    "import nest_asyncio\n",
    "nest_asyncio.apply()\n",
    "\n",
    "\n",
    "c = twint.Config()\n",
    "\n",
    "c.Username = 'deepfates'\n",
    "c.Popular_tweets = True\n",
    "c.Limit = 1\n",
    "c.Min_likes = 130\n",
    "tweets = []\n",
    "c.Store_object = True\n",
    "c.Store_object_tweets_list = tweets\n",
    "\n",
    "\n",
    "twint.run.Search(c)"
   ]
  },
  {
   "cell_type": "code",
   "execution_count": 2,
   "metadata": {
    "execution": {
     "iopub.execute_input": "2021-07-21T15:22:11.774151Z",
     "iopub.status.busy": "2021-07-21T15:22:11.774007Z",
     "iopub.status.idle": "2021-07-21T15:22:11.777083Z",
     "shell.execute_reply": "2021-07-21T15:22:11.776467Z",
     "shell.execute_reply.started": "2021-07-21T15:22:11.774132Z"
    },
    "tags": []
   },
   "outputs": [],
   "source": [
    "\n",
    "tweets.sort(key=lambda x: x.datetime, reverse=True)"
   ]
  },
  {
   "cell_type": "code",
   "execution_count": 3,
   "metadata": {
    "execution": {
     "iopub.execute_input": "2021-07-21T15:22:11.778193Z",
     "iopub.status.busy": "2021-07-21T15:22:11.777939Z",
     "iopub.status.idle": "2021-07-21T15:22:11.780643Z",
     "shell.execute_reply": "2021-07-21T15:22:11.780146Z",
     "shell.execute_reply.started": "2021-07-21T15:22:11.778170Z"
    },
    "tags": []
   },
   "outputs": [],
   "source": [
    "from datetime import date\n",
    "\n",
    "today = date.today()\n"
   ]
  },
  {
   "cell_type": "code",
   "execution_count": 4,
   "metadata": {
    "execution": {
     "iopub.execute_input": "2021-07-21T15:22:11.781591Z",
     "iopub.status.busy": "2021-07-21T15:22:11.781413Z",
     "iopub.status.idle": "2021-07-21T15:22:11.784786Z",
     "shell.execute_reply": "2021-07-21T15:22:11.784221Z",
     "shell.execute_reply.started": "2021-07-21T15:22:11.781570Z"
    },
    "tags": []
   },
   "outputs": [],
   "source": [
    "def get_include(link):\n",
    "    return('{% include twitter.html '+f'''content='<a href=\"{link}\">{link}</a>' '''+'%}')\n",
    "\n",
    "def get_md(includes):\n",
    "    return(f'''---\n",
    "layout: page\n",
    "title: Tweets\n",
    "permalink: /tweets/\n",
    "---\n",
    "\n",
    "I post a lot of tweets.\n",
    "\n",
    "![](../images/bird.jpg)\n",
    "\n",
    "Here are some of my recent popular posts (not my most popular posts, which I tend to delete when they make me anxious)\\n. Last updated {today}\n",
    "\\n\n",
    "{includes}\n",
    "''')"
   ]
  },
  {
   "cell_type": "code",
   "execution_count": 5,
   "metadata": {
    "execution": {
     "iopub.execute_input": "2021-07-21T15:22:11.785863Z",
     "iopub.status.busy": "2021-07-21T15:22:11.785654Z",
     "iopub.status.idle": "2021-07-21T15:22:11.789467Z",
     "shell.execute_reply": "2021-07-21T15:22:11.788835Z",
     "shell.execute_reply.started": "2021-07-21T15:22:11.785830Z"
    },
    "tags": []
   },
   "outputs": [],
   "source": [
    "includes = '\\n\\n'.join([get_include(t.link) for t in tweets])\n"
   ]
  },
  {
   "cell_type": "code",
   "execution_count": 6,
   "metadata": {
    "execution": {
     "iopub.execute_input": "2021-07-21T15:22:11.790660Z",
     "iopub.status.busy": "2021-07-21T15:22:11.790459Z",
     "iopub.status.idle": "2021-07-21T15:22:11.794520Z",
     "shell.execute_reply": "2021-07-21T15:22:11.793705Z",
     "shell.execute_reply.started": "2021-07-21T15:22:11.790634Z"
    },
    "tags": []
   },
   "outputs": [],
   "source": [
    "md = get_md(includes)\n",
    "with open('../_pages/tweets.md', 'w') as f:\n",
    "    print(md, file=f)"
   ]
  }
 ],
 "metadata": {
  "kernelspec": {
   "display_name": "Python 3",
   "language": "python",
   "name": "python3"
  },
  "language_info": {
   "codemirror_mode": {
    "name": "ipython",
    "version": 3
   },
   "file_extension": ".py",
   "mimetype": "text/x-python",
   "name": "python",
   "nbconvert_exporter": "python",
   "pygments_lexer": "ipython3",
   "version": "3.7.7"
  },
  "widgets": {
   "application/vnd.jupyter.widget-state+json": {
    "state": {},
    "version_major": 2,
    "version_minor": 0
   }
  }
 },
 "nbformat": 4,
 "nbformat_minor": 4
}
