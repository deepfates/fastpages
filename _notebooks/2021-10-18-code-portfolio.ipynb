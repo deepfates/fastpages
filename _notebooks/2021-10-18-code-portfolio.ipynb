{
 "cells": [
  {
   "cell_type": "markdown",
   "metadata": {},
   "source": [
    "# A small code portfolio\n",
    "> for those who wish to see\n",
    "- categories: [code]\n",
    "- badges: true"
   ]
  },
  {
   "cell_type": "markdown",
   "metadata": {},
   "source": [
    "## What is this page?\n",
    "\n",
    "### A potential employer asked me to demonstrate a few pieces of my code. \n",
    "\n",
    "I decided to do it here in my notebook, where am I comfortable and where other people who wish to might see it.\n",
    "\n",
    "This notebook is generated with the [fastpages](https://github.com/fastai/fastpages) framework. Fastpages allows me to write my posts in Jupyter notebooks. That means I can include my code and the actual results it outputs, right on the page. Under the hood, fastpages converts `.ipynb` notebook files into markdown files, and passes those to the Jekyll static site generator. Jekyll is written in Ruby, which I don't know very well, but it was one of the first popular static site generators and it has strong integration with Github, so I've gotten pretty familiar with it over the years. I wrote a few custom modules on top of fastpages, in Liquid and HTML, but mostly left the site uncustomized. On the previous version of my website I spent a lot of time customizing JSX and not enough time posting. I now correct that trend.\n",
    "\n",
    "The potential employer asked me for 4 things:\n",
    "1) front-end (a short example in React works) \n",
    "2) back-end code (anything in Python)\n",
    "3) ML modeling - non-DL, and \n",
    "4) a DL model. \n",
    "\n",
    "As a self-taught coder, looking back at old code can be an embarrassing experience from me. I haven't had a lot of feedback on my code, so I only realize how bad it was when I look at it with more experienced eyes. Nonetheless, it will be a good learning experience for me, so here goes. "
   ]
  },
  {
   "cell_type": "markdown",
   "metadata": {
    "tags": []
   },
   "source": [
    "## Front-end code\n",
    "\n",
    "An old friend asked me to design, develop and host a small website for their community herbalism group in Portland. They mostly organize through Instagram and Facebook, but wanted a flyer site at [plantainproject.org](plantainproject.org) to point people to. Especially donors.\n",
    "\n",
    "I used the Gatsby framework, which was probably overkill for this use case but was a satisfying level of complexity to be a learning project for me. Mostly what I did was modify a template someone else had made, but I'm still pretty proud of the design decisions I made. \n",
    "\n",
    "They gave me only a logo (hand-drawn), a few photos, and a text manifesto. I converted the logo to SVG and colorized it, built a color palette and chose fonts around the logo design. Then I designed a layout with CSS Grid, which allowed me to control the pacing of the website using viewport height. \n",
    "\n",
    "![image of the website](plantainproject-org.png)\n",
    "\n",
    "I did this project before I really understood how to use Git, so the bulk of the project was done in one commit (\"lump-based development\"?). I know better now, but this does give the advantage of seeing [all the changes in one diff](https://github.com/deepfates/plantainproject-org/commit/8137e65aa0259114db48c6db52f328d83a19d6b3). I actually wrote this code in fall 2018, but didn't commit it to a git repo until 2020. :sweat_smile: \n",
    "\n",
    "Here's a small grid-based component, using CSS-in-JSX and `styled-components`, which was the fashion at the time. I haven't worked in React much over the last couple years, so who knows how much has changed.\n",
    "\n",
    "![screenshot of a git diff](react-component.png)\n",
    "\n",
    "**Note: this is not the most recent project I have done in Gatsby and React, but the others were more complicated and suffered more from JS churn.**"
   ]
  },
  {
   "cell_type": "markdown",
   "metadata": {},
   "source": [
    "## Back-end code\n",
    "\n",
    "\n"
   ]
  },
  {
   "cell_type": "markdown",
   "metadata": {
    "tags": []
   },
   "source": [
    "## Machine learning code\n",
    "\n",
    "Please see my page [Sales Data Exploration](/canon/2021/09/08/sales-data-exploration.html) where I clean and analyze book rankings from Amazon. I go further still in [Minimum Distortion Embedding on book data](/canon/2021/09/09/MDE-books.html), reducing the dimensionality of the dataset and finding clusters, but I do use some deep learning embeddings as features in that notebook.\n",
    "\n",
    "![a graph from the project](reviewcount-salesrank.png)"
   ]
  },
  {
   "cell_type": "markdown",
   "metadata": {
    "tags": []
   },
   "source": [
    "## Deep learning code\n",
    "\n",
    "I refer the reader to my project [Legiblate](/code/2021/09/08/sales-data-exploration.html), where I train an image classifier to judge the genre of a book by its cover. Or try the  **[Legiblate app](http://legiblate.herokuapp.com/)** yourself!\n",
    "\n",
    "![Legiblate screenshot](legiblate.png)"
   ]
  },
  {
   "cell_type": "code",
   "execution_count": null,
   "metadata": {},
   "outputs": [],
   "source": []
  }
 ],
 "metadata": {
  "kernelspec": {
   "display_name": "Python 3",
   "language": "python",
   "name": "python3"
  },
  "language_info": {
   "codemirror_mode": {
    "name": "ipython",
    "version": 3
   },
   "file_extension": ".py",
   "mimetype": "text/x-python",
   "name": "python",
   "nbconvert_exporter": "python",
   "pygments_lexer": "ipython3",
   "version": "3.7.7"
  },
  "widgets": {
   "application/vnd.jupyter.widget-state+json": {
    "state": {},
    "version_major": 2,
    "version_minor": 0
   }
  }
 },
 "nbformat": 4,
 "nbformat_minor": 4
}
