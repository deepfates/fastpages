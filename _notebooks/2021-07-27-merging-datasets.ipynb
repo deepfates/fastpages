{
 "cells": [
  {
   "cell_type": "code",
   "execution_count": null,
   "metadata": {},
   "outputs": [],
   "source": []
  },
  {
   "cell_type": "markdown",
   "metadata": {
    "tags": []
   },
   "source": [
    "# Merging datasets\n",
    "> cross-index all the things\n",
    "- toc: true \n",
    "- badges: true\n",
    "- comments: true\n",
    "- categories: [canon]\n",
    "- hide: false"
   ]
  },
  {
   "cell_type": "markdown",
   "metadata": {},
   "source": [
    "## There are too many different standard book numbering system. Therefore, we need a new universal standard book numbering system..."
   ]
  },
  {
   "cell_type": "markdown",
   "metadata": {},
   "source": [
    "But right now what I need is a list of ISBNs for book lists from different eras. I opened all these up on the work computer and then stupidly closed them and went home; should have just done htis here entirely. Basically I want a list for prehistory-1700, 1700-1900, 1900-1950, 1950-1990, 1990-2010 and 2010-2021. I don't know if I'll get equal amounts from each but this distribution matches roughly the goodbooks-10k numbers and my inutuitive sense of what people like to buy. It also plays into the idea of a narrowing of canon over time, as I wrote about in [Canon Curation](_notebooks/2021-06-10-canon-curation.ipynb). \n",
    "\n",
    "I will need the ranked fiction canon, for the book titles, and my large books dataset for getting their ISBN by title. There might be more than one ISBN, but I think I can grab whichever edition has the highest number of reviews and assume that's the one to get (if a buyer wants a less popular edition, they can figure that out). While I'm doing that I might as well grab the same type of data that I did for graphing goodbooks-10k, so I don't have to repeat all these steps later if I want it."
   ]
  },
  {
   "cell_type": "code",
   "execution_count": 1,
   "metadata": {
    "execution": {
     "iopub.execute_input": "2021-07-28T17:32:31.334640Z",
     "iopub.status.busy": "2021-07-28T17:32:31.333820Z",
     "iopub.status.idle": "2021-07-28T17:32:31.620897Z",
     "shell.execute_reply": "2021-07-28T17:32:31.620508Z",
     "shell.execute_reply.started": "2021-07-28T17:32:31.334415Z"
    },
    "tags": []
   },
   "outputs": [],
   "source": [
    "import pandas as pd\n"
   ]
  },
  {
   "cell_type": "code",
   "execution_count": 2,
   "metadata": {
    "execution": {
     "iopub.execute_input": "2021-07-28T17:32:31.621634Z",
     "iopub.status.busy": "2021-07-28T17:32:31.621516Z",
     "iopub.status.idle": "2021-07-28T17:33:00.561742Z",
     "shell.execute_reply": "2021-07-28T17:33:00.561340Z",
     "shell.execute_reply.started": "2021-07-28T17:32:31.621619Z"
    },
    "tags": []
   },
   "outputs": [],
   "source": [
    "large_df = pd.read_csv('../../records/cleaned_goodreads_books.csv')"
   ]
  },
  {
   "cell_type": "code",
   "execution_count": 3,
   "metadata": {
    "execution": {
     "iopub.execute_input": "2021-07-28T17:33:00.562795Z",
     "iopub.status.busy": "2021-07-28T17:33:00.562660Z",
     "iopub.status.idle": "2021-07-28T17:33:00.588936Z",
     "shell.execute_reply": "2021-07-28T17:33:00.588468Z",
     "shell.execute_reply.started": "2021-07-28T17:33:00.562779Z"
    },
    "tags": []
   },
   "outputs": [
    {
     "data": {
      "text/html": [
       "<div>\n",
       "<style scoped>\n",
       "    .dataframe tbody tr th:only-of-type {\n",
       "        vertical-align: middle;\n",
       "    }\n",
       "\n",
       "    .dataframe tbody tr th {\n",
       "        vertical-align: top;\n",
       "    }\n",
       "\n",
       "    .dataframe thead th {\n",
       "        text-align: right;\n",
       "    }\n",
       "</style>\n",
       "<table border=\"1\" class=\"dataframe\">\n",
       "  <thead>\n",
       "    <tr style=\"text-align: right;\">\n",
       "      <th></th>\n",
       "      <th>Unnamed: 0</th>\n",
       "      <th>Unnamed: 0.1</th>\n",
       "      <th>Unnamed: 0.1.1</th>\n",
       "      <th>isbn</th>\n",
       "      <th>text_reviews_count</th>\n",
       "      <th>series</th>\n",
       "      <th>language_code</th>\n",
       "      <th>popular_shelves</th>\n",
       "      <th>asin</th>\n",
       "      <th>average_rating</th>\n",
       "      <th>...</th>\n",
       "      <th>publication_month</th>\n",
       "      <th>publication_year</th>\n",
       "      <th>url</th>\n",
       "      <th>image_url</th>\n",
       "      <th>book_id</th>\n",
       "      <th>ratings_count</th>\n",
       "      <th>work_id</th>\n",
       "      <th>title</th>\n",
       "      <th>top_genre</th>\n",
       "      <th>author_name</th>\n",
       "    </tr>\n",
       "  </thead>\n",
       "  <tbody>\n",
       "    <tr>\n",
       "      <th>1215978</th>\n",
       "      <td>1215978</td>\n",
       "      <td>1215978</td>\n",
       "      <td>2360645</td>\n",
       "      <td>0689852959</td>\n",
       "      <td>1.0</td>\n",
       "      <td>[]</td>\n",
       "      <td>NaN</td>\n",
       "      <td>[{'count': '22', 'name': 'to-read'}, {'count':...</td>\n",
       "      <td>NaN</td>\n",
       "      <td>4.36</td>\n",
       "      <td>...</td>\n",
       "      <td>9.0</td>\n",
       "      <td>2002.0</td>\n",
       "      <td>https://www.goodreads.com/book/show/331839.Jac...</td>\n",
       "      <td>https://s.gr-assets.com/assets/nophoto/book/11...</td>\n",
       "      <td>331839</td>\n",
       "      <td>18.0</td>\n",
       "      <td>25313618.0</td>\n",
       "      <td>Jacqueline Kennedy Onassis: Friend of the Arts</td>\n",
       "      <td>biography</td>\n",
       "      <td>Beatrice Gormley</td>\n",
       "    </tr>\n",
       "    <tr>\n",
       "      <th>1215979</th>\n",
       "      <td>1215979</td>\n",
       "      <td>1215979</td>\n",
       "      <td>2360647</td>\n",
       "      <td>0373126476</td>\n",
       "      <td>9.0</td>\n",
       "      <td>[]</td>\n",
       "      <td>NaN</td>\n",
       "      <td>[{'count': '78', 'name': 'to-read'}, {'count':...</td>\n",
       "      <td>NaN</td>\n",
       "      <td>3.42</td>\n",
       "      <td>...</td>\n",
       "      <td>7.0</td>\n",
       "      <td>2007.0</td>\n",
       "      <td>https://www.goodreads.com/book/show/2685097-th...</td>\n",
       "      <td>https://s.gr-assets.com/assets/nophoto/book/11...</td>\n",
       "      <td>2685097</td>\n",
       "      <td>112.0</td>\n",
       "      <td>2710420.0</td>\n",
       "      <td>The Spaniard's Blackmailed Bride</td>\n",
       "      <td>harlequin</td>\n",
       "      <td>Trish Morey</td>\n",
       "    </tr>\n",
       "    <tr>\n",
       "      <th>1215980</th>\n",
       "      <td>1215980</td>\n",
       "      <td>1215980</td>\n",
       "      <td>2360651</td>\n",
       "      <td>178092870X</td>\n",
       "      <td>2.0</td>\n",
       "      <td>[]</td>\n",
       "      <td>eng</td>\n",
       "      <td>[{'count': '702', 'name': 'to-read'}, {'count'...</td>\n",
       "      <td>NaN</td>\n",
       "      <td>3.50</td>\n",
       "      <td>...</td>\n",
       "      <td>8.0</td>\n",
       "      <td>2015.0</td>\n",
       "      <td>https://www.goodreads.com/book/show/26168430-s...</td>\n",
       "      <td>https://images.gr-assets.com/books/1440592011m...</td>\n",
       "      <td>26168430</td>\n",
       "      <td>6.0</td>\n",
       "      <td>46130263.0</td>\n",
       "      <td>Sherlock Holmes and the July Crisis</td>\n",
       "      <td>mystery</td>\n",
       "      <td>Arthur Conan Doyle</td>\n",
       "    </tr>\n",
       "    <tr>\n",
       "      <th>1215981</th>\n",
       "      <td>1215981</td>\n",
       "      <td>1215981</td>\n",
       "      <td>2360652</td>\n",
       "      <td>0765197456</td>\n",
       "      <td>6.0</td>\n",
       "      <td>[]</td>\n",
       "      <td>NaN</td>\n",
       "      <td>[{'count': '37', 'name': 'to-read'}, {'count':...</td>\n",
       "      <td>NaN</td>\n",
       "      <td>4.00</td>\n",
       "      <td>...</td>\n",
       "      <td>8.0</td>\n",
       "      <td>1996.0</td>\n",
       "      <td>https://www.goodreads.com/book/show/2342551.Th...</td>\n",
       "      <td>https://s.gr-assets.com/assets/nophoto/book/11...</td>\n",
       "      <td>2342551</td>\n",
       "      <td>36.0</td>\n",
       "      <td>2349247.0</td>\n",
       "      <td>The Children's Classic Poetry Collection</td>\n",
       "      <td>poetry</td>\n",
       "      <td>Nicola Baxter</td>\n",
       "    </tr>\n",
       "    <tr>\n",
       "      <th>1215982</th>\n",
       "      <td>1215982</td>\n",
       "      <td>1215982</td>\n",
       "      <td>2360653</td>\n",
       "      <td>162378140X</td>\n",
       "      <td>17.0</td>\n",
       "      <td>['658195']</td>\n",
       "      <td>eng</td>\n",
       "      <td>[{'count': '56', 'name': 'to-read'}, {'count':...</td>\n",
       "      <td>NaN</td>\n",
       "      <td>4.37</td>\n",
       "      <td>...</td>\n",
       "      <td>4.0</td>\n",
       "      <td>2014.0</td>\n",
       "      <td>https://www.goodreads.com/book/show/22017381-1...</td>\n",
       "      <td>https://images.gr-assets.com/books/1398621236m...</td>\n",
       "      <td>22017381</td>\n",
       "      <td>70.0</td>\n",
       "      <td>41332799.0</td>\n",
       "      <td>101 Nights: Volume One (101 Nights, #1-3)</td>\n",
       "      <td>erotica</td>\n",
       "      <td>S.E. Reign</td>\n",
       "    </tr>\n",
       "  </tbody>\n",
       "</table>\n",
       "<p>5 rows × 28 columns</p>\n",
       "</div>"
      ],
      "text/plain": [
       "         Unnamed: 0  Unnamed: 0.1  Unnamed: 0.1.1        isbn  \\\n",
       "1215978     1215978       1215978         2360645  0689852959   \n",
       "1215979     1215979       1215979         2360647  0373126476   \n",
       "1215980     1215980       1215980         2360651  178092870X   \n",
       "1215981     1215981       1215981         2360652  0765197456   \n",
       "1215982     1215982       1215982         2360653  162378140X   \n",
       "\n",
       "         text_reviews_count      series language_code  \\\n",
       "1215978                 1.0          []           NaN   \n",
       "1215979                 9.0          []           NaN   \n",
       "1215980                 2.0          []           eng   \n",
       "1215981                 6.0          []           NaN   \n",
       "1215982                17.0  ['658195']           eng   \n",
       "\n",
       "                                           popular_shelves asin  \\\n",
       "1215978  [{'count': '22', 'name': 'to-read'}, {'count':...  NaN   \n",
       "1215979  [{'count': '78', 'name': 'to-read'}, {'count':...  NaN   \n",
       "1215980  [{'count': '702', 'name': 'to-read'}, {'count'...  NaN   \n",
       "1215981  [{'count': '37', 'name': 'to-read'}, {'count':...  NaN   \n",
       "1215982  [{'count': '56', 'name': 'to-read'}, {'count':...  NaN   \n",
       "\n",
       "         average_rating  ... publication_month publication_year  \\\n",
       "1215978            4.36  ...               9.0           2002.0   \n",
       "1215979            3.42  ...               7.0           2007.0   \n",
       "1215980            3.50  ...               8.0           2015.0   \n",
       "1215981            4.00  ...               8.0           1996.0   \n",
       "1215982            4.37  ...               4.0           2014.0   \n",
       "\n",
       "                                                       url  \\\n",
       "1215978  https://www.goodreads.com/book/show/331839.Jac...   \n",
       "1215979  https://www.goodreads.com/book/show/2685097-th...   \n",
       "1215980  https://www.goodreads.com/book/show/26168430-s...   \n",
       "1215981  https://www.goodreads.com/book/show/2342551.Th...   \n",
       "1215982  https://www.goodreads.com/book/show/22017381-1...   \n",
       "\n",
       "                                                 image_url   book_id  \\\n",
       "1215978  https://s.gr-assets.com/assets/nophoto/book/11...    331839   \n",
       "1215979  https://s.gr-assets.com/assets/nophoto/book/11...   2685097   \n",
       "1215980  https://images.gr-assets.com/books/1440592011m...  26168430   \n",
       "1215981  https://s.gr-assets.com/assets/nophoto/book/11...   2342551   \n",
       "1215982  https://images.gr-assets.com/books/1398621236m...  22017381   \n",
       "\n",
       "        ratings_count     work_id  \\\n",
       "1215978          18.0  25313618.0   \n",
       "1215979         112.0   2710420.0   \n",
       "1215980           6.0  46130263.0   \n",
       "1215981          36.0   2349247.0   \n",
       "1215982          70.0  41332799.0   \n",
       "\n",
       "                                                  title  top_genre  \\\n",
       "1215978  Jacqueline Kennedy Onassis: Friend of the Arts  biography   \n",
       "1215979                The Spaniard's Blackmailed Bride  harlequin   \n",
       "1215980             Sherlock Holmes and the July Crisis    mystery   \n",
       "1215981        The Children's Classic Poetry Collection     poetry   \n",
       "1215982       101 Nights: Volume One (101 Nights, #1-3)    erotica   \n",
       "\n",
       "                author_name  \n",
       "1215978    Beatrice Gormley  \n",
       "1215979         Trish Morey  \n",
       "1215980  Arthur Conan Doyle  \n",
       "1215981       Nicola Baxter  \n",
       "1215982          S.E. Reign  \n",
       "\n",
       "[5 rows x 28 columns]"
      ]
     },
     "execution_count": 3,
     "metadata": {},
     "output_type": "execute_result"
    }
   ],
   "source": [
    "large_df.tail()"
   ]
  },
  {
   "cell_type": "code",
   "execution_count": 4,
   "metadata": {
    "execution": {
     "iopub.execute_input": "2021-07-28T17:33:00.589770Z",
     "iopub.status.busy": "2021-07-28T17:33:00.589643Z",
     "iopub.status.idle": "2021-07-28T17:33:00.596523Z",
     "shell.execute_reply": "2021-07-28T17:33:00.596156Z",
     "shell.execute_reply.started": "2021-07-28T17:33:00.589753Z"
    },
    "tags": []
   },
   "outputs": [],
   "source": [
    "ranked_df = pd.read_csv('../assets/2021-07-27-found-canon.csv')"
   ]
  },
  {
   "cell_type": "code",
   "execution_count": 5,
   "metadata": {
    "execution": {
     "iopub.execute_input": "2021-07-28T17:33:00.597250Z",
     "iopub.status.busy": "2021-07-28T17:33:00.597140Z",
     "iopub.status.idle": "2021-07-28T17:33:00.605849Z",
     "shell.execute_reply": "2021-07-28T17:33:00.605339Z",
     "shell.execute_reply.started": "2021-07-28T17:33:00.597235Z"
    },
    "tags": []
   },
   "outputs": [
    {
     "data": {
      "text/html": [
       "<div>\n",
       "<style scoped>\n",
       "    .dataframe tbody tr th:only-of-type {\n",
       "        vertical-align: middle;\n",
       "    }\n",
       "\n",
       "    .dataframe tbody tr th {\n",
       "        vertical-align: top;\n",
       "    }\n",
       "\n",
       "    .dataframe thead th {\n",
       "        text-align: right;\n",
       "    }\n",
       "</style>\n",
       "<table border=\"1\" class=\"dataframe\">\n",
       "  <thead>\n",
       "    <tr style=\"text-align: right;\">\n",
       "      <th></th>\n",
       "      <th>Unnamed: 0</th>\n",
       "      <th>Title</th>\n",
       "      <th>Listed count</th>\n",
       "      <th>Author</th>\n",
       "    </tr>\n",
       "  </thead>\n",
       "  <tbody>\n",
       "    <tr>\n",
       "      <th>0</th>\n",
       "      <td>1</td>\n",
       "      <td>Ulysses</td>\n",
       "      <td>51.0</td>\n",
       "      <td>Joyce, James</td>\n",
       "    </tr>\n",
       "    <tr>\n",
       "      <th>1</th>\n",
       "      <td>2</td>\n",
       "      <td>The Great Gatsby</td>\n",
       "      <td>50.0</td>\n",
       "      <td>F. Scott Fitzgerald</td>\n",
       "    </tr>\n",
       "    <tr>\n",
       "      <th>2</th>\n",
       "      <td>3</td>\n",
       "      <td>One Hundred Years of Solitude</td>\n",
       "      <td>44.0</td>\n",
       "      <td>Gabriel Garcia Marquez</td>\n",
       "    </tr>\n",
       "    <tr>\n",
       "      <th>3</th>\n",
       "      <td>4</td>\n",
       "      <td>Lolita</td>\n",
       "      <td>43.0</td>\n",
       "      <td>Vladimir Nabokov</td>\n",
       "    </tr>\n",
       "    <tr>\n",
       "      <th>4</th>\n",
       "      <td>5</td>\n",
       "      <td>Nineteen Eighty Four</td>\n",
       "      <td>42.0</td>\n",
       "      <td>Orwell, George</td>\n",
       "    </tr>\n",
       "    <tr>\n",
       "      <th>...</th>\n",
       "      <td>...</td>\n",
       "      <td>...</td>\n",
       "      <td>...</td>\n",
       "      <td>...</td>\n",
       "    </tr>\n",
       "    <tr>\n",
       "      <th>4409</th>\n",
       "      <td>4410</td>\n",
       "      <td>Decline of the West</td>\n",
       "      <td>1.0</td>\n",
       "      <td>O</td>\n",
       "    </tr>\n",
       "    <tr>\n",
       "      <th>4410</th>\n",
       "      <td>4411</td>\n",
       "      <td>The History of the Standard Oil Company</td>\n",
       "      <td>1.0</td>\n",
       "      <td>I</td>\n",
       "    </tr>\n",
       "    <tr>\n",
       "      <th>4411</th>\n",
       "      <td>4412</td>\n",
       "      <td>Theory of Games and Economic Behavior</td>\n",
       "      <td>1.0</td>\n",
       "      <td>J</td>\n",
       "    </tr>\n",
       "    <tr>\n",
       "      <th>4412</th>\n",
       "      <td>4413</td>\n",
       "      <td>AA Big Book</td>\n",
       "      <td>1.0</td>\n",
       "      <td>B</td>\n",
       "    </tr>\n",
       "    <tr>\n",
       "      <th>4413</th>\n",
       "      <td>4414</td>\n",
       "      <td>Behaviorism</td>\n",
       "      <td>1.0</td>\n",
       "      <td>J</td>\n",
       "    </tr>\n",
       "  </tbody>\n",
       "</table>\n",
       "<p>4414 rows × 4 columns</p>\n",
       "</div>"
      ],
      "text/plain": [
       "      Unnamed: 0                                    Title  Listed count  \\\n",
       "0              1                                  Ulysses          51.0   \n",
       "1              2                        The Great Gatsby           50.0   \n",
       "2              3           One Hundred Years of Solitude           44.0   \n",
       "3              4                                  Lolita           43.0   \n",
       "4              5                     Nineteen Eighty Four          42.0   \n",
       "...          ...                                      ...           ...   \n",
       "4409        4410                      Decline of the West           1.0   \n",
       "4410        4411  The History of the Standard Oil Company           1.0   \n",
       "4411        4412    Theory of Games and Economic Behavior           1.0   \n",
       "4412        4413                              AA Big Book           1.0   \n",
       "4413        4414                              Behaviorism           1.0   \n",
       "\n",
       "                      Author  \n",
       "0               Joyce, James  \n",
       "1        F. Scott Fitzgerald  \n",
       "2     Gabriel Garcia Marquez  \n",
       "3           Vladimir Nabokov  \n",
       "4             Orwell, George  \n",
       "...                      ...  \n",
       "4409                       O  \n",
       "4410                       I  \n",
       "4411                       J  \n",
       "4412                       B  \n",
       "4413                       J  \n",
       "\n",
       "[4414 rows x 4 columns]"
      ]
     },
     "execution_count": 5,
     "metadata": {},
     "output_type": "execute_result"
    }
   ],
   "source": [
    "ranked_df"
   ]
  },
  {
   "cell_type": "markdown",
   "metadata": {},
   "source": [
    "Ooh, looking at the end of this dataframe it looks like my method for extracting Author information got messed up somehow. Better just delete that column and reconstruct it from the data in `large_df` anyway."
   ]
  },
  {
   "cell_type": "code",
   "execution_count": 6,
   "metadata": {
    "execution": {
     "iopub.execute_input": "2021-07-28T17:33:00.606781Z",
     "iopub.status.busy": "2021-07-28T17:33:00.606588Z",
     "iopub.status.idle": "2021-07-28T17:33:00.619264Z",
     "shell.execute_reply": "2021-07-28T17:33:00.618686Z",
     "shell.execute_reply.started": "2021-07-28T17:33:00.606755Z"
    },
    "tags": []
   },
   "outputs": [
    {
     "data": {
      "text/html": [
       "<div>\n",
       "<style scoped>\n",
       "    .dataframe tbody tr th:only-of-type {\n",
       "        vertical-align: middle;\n",
       "    }\n",
       "\n",
       "    .dataframe tbody tr th {\n",
       "        vertical-align: top;\n",
       "    }\n",
       "\n",
       "    .dataframe thead th {\n",
       "        text-align: right;\n",
       "    }\n",
       "</style>\n",
       "<table border=\"1\" class=\"dataframe\">\n",
       "  <thead>\n",
       "    <tr style=\"text-align: right;\">\n",
       "      <th></th>\n",
       "      <th>Unnamed: 0</th>\n",
       "      <th>Title</th>\n",
       "      <th>Listed count</th>\n",
       "    </tr>\n",
       "  </thead>\n",
       "  <tbody>\n",
       "    <tr>\n",
       "      <th>0</th>\n",
       "      <td>1</td>\n",
       "      <td>Ulysses</td>\n",
       "      <td>51.0</td>\n",
       "    </tr>\n",
       "    <tr>\n",
       "      <th>1</th>\n",
       "      <td>2</td>\n",
       "      <td>The Great Gatsby</td>\n",
       "      <td>50.0</td>\n",
       "    </tr>\n",
       "    <tr>\n",
       "      <th>2</th>\n",
       "      <td>3</td>\n",
       "      <td>One Hundred Years of Solitude</td>\n",
       "      <td>44.0</td>\n",
       "    </tr>\n",
       "    <tr>\n",
       "      <th>3</th>\n",
       "      <td>4</td>\n",
       "      <td>Lolita</td>\n",
       "      <td>43.0</td>\n",
       "    </tr>\n",
       "    <tr>\n",
       "      <th>4</th>\n",
       "      <td>5</td>\n",
       "      <td>Nineteen Eighty Four</td>\n",
       "      <td>42.0</td>\n",
       "    </tr>\n",
       "    <tr>\n",
       "      <th>...</th>\n",
       "      <td>...</td>\n",
       "      <td>...</td>\n",
       "      <td>...</td>\n",
       "    </tr>\n",
       "    <tr>\n",
       "      <th>4409</th>\n",
       "      <td>4410</td>\n",
       "      <td>Decline of the West</td>\n",
       "      <td>1.0</td>\n",
       "    </tr>\n",
       "    <tr>\n",
       "      <th>4410</th>\n",
       "      <td>4411</td>\n",
       "      <td>The History of the Standard Oil Company</td>\n",
       "      <td>1.0</td>\n",
       "    </tr>\n",
       "    <tr>\n",
       "      <th>4411</th>\n",
       "      <td>4412</td>\n",
       "      <td>Theory of Games and Economic Behavior</td>\n",
       "      <td>1.0</td>\n",
       "    </tr>\n",
       "    <tr>\n",
       "      <th>4412</th>\n",
       "      <td>4413</td>\n",
       "      <td>AA Big Book</td>\n",
       "      <td>1.0</td>\n",
       "    </tr>\n",
       "    <tr>\n",
       "      <th>4413</th>\n",
       "      <td>4414</td>\n",
       "      <td>Behaviorism</td>\n",
       "      <td>1.0</td>\n",
       "    </tr>\n",
       "  </tbody>\n",
       "</table>\n",
       "<p>4414 rows × 3 columns</p>\n",
       "</div>"
      ],
      "text/plain": [
       "      Unnamed: 0                                    Title  Listed count\n",
       "0              1                                  Ulysses          51.0\n",
       "1              2                        The Great Gatsby           50.0\n",
       "2              3           One Hundred Years of Solitude           44.0\n",
       "3              4                                  Lolita           43.0\n",
       "4              5                     Nineteen Eighty Four          42.0\n",
       "...          ...                                      ...           ...\n",
       "4409        4410                      Decline of the West           1.0\n",
       "4410        4411  The History of the Standard Oil Company           1.0\n",
       "4411        4412    Theory of Games and Economic Behavior           1.0\n",
       "4412        4413                              AA Big Book           1.0\n",
       "4413        4414                              Behaviorism           1.0\n",
       "\n",
       "[4414 rows x 3 columns]"
      ]
     },
     "execution_count": 6,
     "metadata": {},
     "output_type": "execute_result"
    }
   ],
   "source": [
    "no_authors = ranked_df.drop(columns='Author')\n",
    "no_authors"
   ]
  },
  {
   "cell_type": "code",
   "execution_count": 23,
   "metadata": {
    "execution": {
     "iopub.execute_input": "2021-07-28T17:39:15.590192Z",
     "iopub.status.busy": "2021-07-28T17:39:15.589461Z",
     "iopub.status.idle": "2021-07-28T17:39:15.607876Z",
     "shell.execute_reply": "2021-07-28T17:39:15.605468Z",
     "shell.execute_reply.started": "2021-07-28T17:39:15.590105Z"
    },
    "tags": []
   },
   "outputs": [
    {
     "data": {
      "text/plain": [
       "0          0312853122\n",
       "1                 NaN\n",
       "2          0743294297\n",
       "3          0850308712\n",
       "4          1599150603\n",
       "              ...    \n",
       "1215978    0689852959\n",
       "1215979    0373126476\n",
       "1215980    178092870X\n",
       "1215981    0765197456\n",
       "1215982    162378140X\n",
       "Name: isbn, Length: 1215983, dtype: object"
      ]
     },
     "execution_count": 23,
     "metadata": {},
     "output_type": "execute_result"
    }
   ],
   "source": [
    "# isbns = \n",
    "large_df['isbn']"
   ]
  },
  {
   "cell_type": "code",
   "execution_count": 61,
   "metadata": {
    "execution": {
     "iopub.execute_input": "2021-07-28T17:49:49.413359Z",
     "iopub.status.busy": "2021-07-28T17:49:49.412682Z",
     "iopub.status.idle": "2021-07-28T17:49:49.584989Z",
     "shell.execute_reply": "2021-07-28T17:49:49.584028Z",
     "shell.execute_reply.started": "2021-07-28T17:49:49.413274Z"
    },
    "tags": []
   },
   "outputs": [],
   "source": [
    "ulysseses = large_df.loc[large_df['title']=='Ulysses']\n",
    "\n",
    "sorted_ulysseses = ulysseses.sort_values(by='ratings_count', ascending=False)\n",
    "\n",
    "sorted_ulysseses.index = range(len(sorted_ulysseses))"
   ]
  },
  {
   "cell_type": "code",
   "execution_count": 138,
   "metadata": {
    "execution": {
     "iopub.execute_input": "2021-07-28T18:39:36.367741Z",
     "iopub.status.busy": "2021-07-28T18:39:36.367067Z",
     "iopub.status.idle": "2021-07-28T18:39:36.387245Z",
     "shell.execute_reply": "2021-07-28T18:39:36.385142Z",
     "shell.execute_reply.started": "2021-07-28T18:39:36.367657Z"
    },
    "tags": []
   },
   "outputs": [
    {
     "data": {
      "text/plain": [
       "Unnamed: 0                                                       805796\n",
       "Unnamed: 0.1                                                     805796\n",
       "Unnamed: 0.1.1                                                  1563735\n",
       "isbn                                                         0679722769\n",
       "text_reviews_count                                              3674.00\n",
       "series                                                               []\n",
       "language_code                                                       eng\n",
       "popular_shelves       [{'count': '3692', 'name': 'to-read'}, {'count...\n",
       "asin                                                                NaN\n",
       "average_rating                                                     3.74\n",
       "similar_books         ['595038', '10543', '164434', '76527', '16111'...\n",
       "description           The revised edition follows the complete and u...\n",
       "format                                                        Paperback\n",
       "link                  https://www.goodreads.com/book/show/338798.Uly...\n",
       "authors                             [{'author_id': '5144', 'role': ''}]\n",
       "publisher                                                       Vintage\n",
       "num_pages                                                        810.00\n",
       "isbn13                                                    9780679722762\n",
       "publication_month                                                   NaN\n",
       "publication_year                                                1990.00\n",
       "url                   https://www.goodreads.com/book/show/338798.Uly...\n",
       "image_url             https://images.gr-assets.com/books/1428891345m...\n",
       "book_id                                                          338798\n",
       "ratings_count                                                  78309.00\n",
       "work_id                                                      2368224.00\n",
       "title                                                           Ulysses\n",
       "top_genre                                                      classics\n",
       "author_name                                                 James Joyce\n",
       "Name: 0, dtype: object"
      ]
     },
     "execution_count": 138,
     "metadata": {},
     "output_type": "execute_result"
    }
   ],
   "source": [
    "sorted_ulysseses.loc[0]"
   ]
  },
  {
   "cell_type": "markdown",
   "metadata": {
    "tags": []
   },
   "source": [
    "# "
   ]
  },
  {
   "cell_type": "code",
   "execution_count": 102,
   "metadata": {
    "execution": {
     "iopub.execute_input": "2021-07-28T18:15:31.846374Z",
     "iopub.status.busy": "2021-07-28T18:15:31.845702Z",
     "iopub.status.idle": "2021-07-28T18:15:31.868769Z",
     "shell.execute_reply": "2021-07-28T18:15:31.866917Z",
     "shell.execute_reply.started": "2021-07-28T18:15:31.846288Z"
    },
    "tags": []
   },
   "outputs": [
    {
     "data": {
      "text/plain": [
       "author_name                                                 James Joyce\n",
       "top_genre                                                      classics\n",
       "format                                                        Paperback\n",
       "publisher                                                       Vintage\n",
       "description           The revised edition follows the complete and u...\n",
       "num_pages                                                        810.00\n",
       "average_rating                                                     3.74\n",
       "ratings_count                                                  78309.00\n",
       "text_reviews_count                                              3674.00\n",
       "publication_year                                                1990.00\n",
       "work_id                                                      2368224.00\n",
       "book_id                                                          338798\n",
       "isbn                                                         0679722769\n",
       "isbn13                                                    9780679722762\n",
       "asin                                                                NaN\n",
       "Name: 0, dtype: object"
      ]
     },
     "execution_count": 102,
     "metadata": {},
     "output_type": "execute_result"
    }
   ],
   "source": [
    "total_ulysses = sorted_ulysseses[['author_name', 'top_genre', 'format', 'publisher', 'description', 'num_pages', 'average_rating', 'ratings_count','text_reviews_count', 'publication_year','work_id', 'book_id', 'isbn', 'isbn13', 'asin']]\n",
    "total_ulysses.loc[0]"
   ]
  },
  {
   "cell_type": "markdown",
   "metadata": {},
   "source": [
    "I can get most of the data I need here, including the ISBN of the most popular edition in cases like Ulysses where there are many printings. But the `publication_year` isn't the same as the original year of printing -- for that, we'll need to find the oldest copy with the same `work_id` as the popular one."
   ]
  },
  {
   "cell_type": "code",
   "execution_count": 100,
   "metadata": {
    "execution": {
     "iopub.execute_input": "2021-07-28T18:01:42.312353Z",
     "iopub.status.busy": "2021-07-28T18:01:42.311576Z",
     "iopub.status.idle": "2021-07-28T18:01:42.329073Z",
     "shell.execute_reply": "2021-07-28T18:01:42.326066Z",
     "shell.execute_reply.started": "2021-07-28T18:01:42.312236Z"
    },
    "tags": []
   },
   "outputs": [],
   "source": [
    "u = total_ulysses.loc[total_ulysses['work_id']==2368224.0]\n",
    "\n",
    "su = u.sort_values(by='publication_year', ascending=True)\n",
    "\n",
    "su.index = range(len(su))"
   ]
  },
  {
   "cell_type": "code",
   "execution_count": 101,
   "metadata": {
    "execution": {
     "iopub.execute_input": "2021-07-28T18:01:42.399007Z",
     "iopub.status.busy": "2021-07-28T18:01:42.398291Z",
     "iopub.status.idle": "2021-07-28T18:01:42.408718Z",
     "shell.execute_reply": "2021-07-28T18:01:42.407985Z",
     "shell.execute_reply.started": "2021-07-28T18:01:42.398920Z"
    },
    "tags": []
   },
   "outputs": [
    {
     "data": {
      "text/plain": [
       "1934.0"
      ]
     },
     "execution_count": 101,
     "metadata": {},
     "output_type": "execute_result"
    }
   ],
   "source": [
    "su.loc[0].publication_year"
   ]
  },
  {
   "cell_type": "markdown",
   "metadata": {},
   "source": [
    "There it is! Now to capture all this logic in a simple function. I don't want to access `large_df` too often, and when I do it will be much faster to access by index rather than searching through every time. So I'll set the index to be titles, make a function for grabbing the right data by the title, then build a new dataframe with the titles in the same order as `ranked_df` and merge them."
   ]
  },
  {
   "cell_type": "code",
   "execution_count": 434,
   "metadata": {
    "execution": {
     "iopub.execute_input": "2021-07-28T21:26:40.800725Z",
     "iopub.status.busy": "2021-07-28T21:26:40.800503Z",
     "iopub.status.idle": "2021-07-28T21:26:40.805638Z",
     "shell.execute_reply": "2021-07-28T21:26:40.805076Z",
     "shell.execute_reply.started": "2021-07-28T21:26:40.800697Z"
    },
    "tags": []
   },
   "outputs": [],
   "source": [
    "def get_best_from_editions_df(eds):\n",
    "    \n",
    "    sorted_eds = eds.sort_values(by='ratings_count', ascending=False).copy()\n",
    "    sorted_eds.index = range(len(sorted_eds))\n",
    "    \n",
    "    same_work_eds = sorted_eds.loc[sorted_eds['work_id'] == sorted_eds.loc[0]['work_id']].copy()\n",
    "    sorted_smes = same_work_eds.sort_values(by='publication_year', ascending=True).copy()\n",
    "    sorted_smes.index = range(len(sorted_smes))\n",
    "    \n",
    "    first_pub_year = sorted_smes.loc[0].publication_year.copy()\n",
    "    best = sorted_eds.loc[0].copy()\n",
    "    best['first_pub_year'] = first_pub_year\n",
    "    return([o for o in best.values])"
   ]
  },
  {
   "cell_type": "code",
   "execution_count": 435,
   "metadata": {
    "execution": {
     "iopub.execute_input": "2021-07-28T21:26:40.950593Z",
     "iopub.status.busy": "2021-07-28T21:26:40.950373Z",
     "iopub.status.idle": "2021-07-28T21:26:40.956784Z",
     "shell.execute_reply": "2021-07-28T21:26:40.956338Z",
     "shell.execute_reply.started": "2021-07-28T21:26:40.950568Z"
    },
    "tags": []
   },
   "outputs": [
    {
     "data": {
      "text/plain": [
       "[805796,\n",
       " 805796,\n",
       " 1563735,\n",
       " '0679722769',\n",
       " 3674.0,\n",
       " '[]',\n",
       " 'eng',\n",
       " \"[{'count': '3692', 'name': 'to-read'}, {'count': '3424', 'name': 'classics'}, {'count': '2412', 'name': 'fiction'}, {'count': '621', 'name': 'literature'}, {'count': '365', 'name': 'currently-reading'}, {'count': '352', 'name': 'books-i-own'}, {'count': '305', 'name': 'novels'}, {'count': '299', 'name': 'irish'}, {'count': '297', 'name': 'ireland'}, {'count': '234', 'name': 'to-buy'}, {'count': '223', 'name': 'abandoned'}, {'count': '175', 'name': 'unfinished'}, {'count': '175', 'name': 'modernism'}, {'count': '167', 'name': '1001-books'}, {'count': '163', 'name': '20th-century'}, {'count': '146', 'name': 'default'}, {'count': '145', 'name': 'classics-to-read'}, {'count': '141', 'name': 'irish-literature'}, {'count': '137', 'name': 'library'}, {'count': '133', 'name': 'literary-fiction'}, {'count': '125', 'name': 'rory-gilmore-reading-challenge'}, {'count': '121', 'name': 'banned-books'}, {'count': '107', 'name': '1001'}, {'count': '97', 'name': 'classic-literature'}, {'count': '96', 'name': 'ebook'}, {'count': '94', 'name': 'english'}, {'count': '94', 'name': 'my-library'}, {'count': '94', 'name': 'to-read-classics'}, {'count': '93', 'name': 'my-ebooks'}, {'count': '88', 'name': 'did-not-finish'}, {'count': '87', 'name': 'modern-classics'}, {'count': '84', 'name': 'wish-list'}, {'count': '81', 'name': 'favourites'}, {'count': '78', 'name': 'literary'}, {'count': '78', 'name': 'ebooks'}, {'count': '73', 'name': 'joyce'}, {'count': '71', 'name': 'rory-gilmore-challenge'}, {'count': '71', 'name': 'my-books'}, {'count': '70', 'name': '50-books-to-read-before-you-die'}, {'count': '68', 'name': 'to-read-fiction'}, {'count': '66', 'name': 'on-hold'}, {'count': '65', 'name': 'classic-fiction'}, {'count': '64', 'name': 'irish-lit'}, {'count': '63', 'name': 'james-joyce'}, {'count': '63', 'name': '1001-books-to-read-before-you-die'}, {'count': '62', 'name': 'lit'}, {'count': '62', 'name': 'didn-t-finish'}, {'count': '58', 'name': 'rory-gilmore'}, {'count': '58', 'name': 'must-read'}, {'count': '57', 'name': 'bbc-big-read'}, {'count': '56', 'name': 'gave-up-on'}, {'count': '55', 'name': 'school'}, {'count': '53', 'name': 'audiobooks'}, {'count': '53', 'name': 'classic-lit'}, {'count': '52', 'name': 'never-finished'}, {'count': '51', 'name': 'english-literature'}, {'count': '50', 'name': 'dnf'}, {'count': '50', 'name': 'top-100'}, {'count': '49', 'name': 'audio'}, {'count': '49', 'name': 'stream-of-consciousness'}, {'count': '49', 'name': 'modernist'}, {'count': '48', 'name': 'general-fiction'}, {'count': '47', 'name': '100-books-to-read-before-you-die'}, {'count': '47', 'name': 'modern-library-100-best-novels'}, {'count': '47', 'name': 'modern-library-100'}, {'count': '46', 'name': '1920s'}, {'count': '46', 'name': 're-read'}, {'count': '45', 'name': 'ℱａｖｏｒｉｔｅｓ'}, {'count': '45', 'name': 'rory-gilmore-reading-list'}, {'count': '45', 'name': 'gilmore-girls'}, {'count': '44', 'name': 'audible'}, {'count': '44', 'name': 'e-book'}, {'count': '44', 'name': 'e-books'}, {'count': '43', 'name': 'gave-up'}, {'count': '42', 'name': 'i-own'}, {'count': '42', 'name': 'modern-library-top-100'}, {'count': '41', 'name': 'fiction-to-read'}, {'count': '41', 'name': 'bbc-top-100'}, {'count': '40', 'name': 'british'}, {'count': '40', 'name': 'partially-read'}, {'count': '40', 'name': 'books'}, {'count': '39', 'name': 'audiobook'}, {'count': '39', 'name': 'couldn-t-finish'}, {'count': '39', 'name': 'college'}, {'count': '38', 'name': 'university'}, {'count': '37', 'name': 'europe'}, {'count': '37', 'name': 'adult'}, {'count': '36', 'name': 'owned'}, {'count': '36', 'name': 'own-to-read'}, {'count': '36', 'name': 'to-re-read'}, {'count': '35', 'name': 'adult-fiction'}, {'count': '35', 'name': 'banned'}, {'count': '34', 'name': 'bookshelf'}, {'count': '34', 'name': 'modern-library'}, {'count': '34', 'name': 'owned-to-read'}, {'count': '34', 'name': 'unread'}, {'count': '34', 'name': 'modern'}, {'count': '33', 'name': 'stopped-reading'}, {'count': '33', 'name': '1001-books-you-must-read-before-you'}, {'count': '33', 'name': 'all-time-favorites'}]\",\n",
       " nan,\n",
       " 3.74,\n",
       " \"['595038', '10543', '164434', '76527', '16111', '126512', '115476', '447884', '446542', '261441', '446103', '13368', '97333', '778463', '80890', '243381']\",\n",
       " 'The revised edition follows the complete and unabridged text of ULYSSESas corrected and reset in 1961. Like the first American edition of 1934, it also contains the original foreword by the author and the historic court ruling by Judge John M. Woolsey to remove the federal ban on ULYSSES. It also contains page references to the 1934 edition, which are indicated in the margins.',\n",
       " 'Paperback',\n",
       " 'https://www.goodreads.com/book/show/338798.Ulysses',\n",
       " \"[{'author_id': '5144', 'role': ''}]\",\n",
       " 'Vintage',\n",
       " 810.0,\n",
       " '9780679722762',\n",
       " nan,\n",
       " 1990.0,\n",
       " 'https://www.goodreads.com/book/show/338798.Ulysses',\n",
       " 'https://images.gr-assets.com/books/1428891345m/338798.jpg',\n",
       " 338798,\n",
       " 78309.0,\n",
       " 2368224.0,\n",
       " 'Ulysses',\n",
       " 'classics',\n",
       " 'James Joyce',\n",
       " 1934.0]"
      ]
     },
     "execution_count": 435,
     "metadata": {},
     "output_type": "execute_result"
    }
   ],
   "source": [
    "get_best_from_editions_df(ulysseses)"
   ]
  },
  {
   "cell_type": "code",
   "execution_count": 378,
   "metadata": {
    "execution": {
     "iopub.execute_input": "2021-07-28T20:59:40.575347Z",
     "iopub.status.busy": "2021-07-28T20:59:40.575136Z",
     "iopub.status.idle": "2021-07-28T20:59:40.916150Z",
     "shell.execute_reply": "2021-07-28T20:59:40.915700Z",
     "shell.execute_reply.started": "2021-07-28T20:59:40.575323Z"
    },
    "tags": []
   },
   "outputs": [],
   "source": [
    "large_df = large_df.set_index('title')"
   ]
  },
  {
   "cell_type": "code",
   "execution_count": 127,
   "metadata": {
    "execution": {
     "iopub.execute_input": "2021-07-28T18:33:06.159782Z",
     "iopub.status.busy": "2021-07-28T18:33:06.159096Z",
     "iopub.status.idle": "2021-07-28T18:33:06.277492Z",
     "shell.execute_reply": "2021-07-28T18:33:06.275616Z",
     "shell.execute_reply.started": "2021-07-28T18:33:06.159696Z"
    }
   },
   "outputs": [
    {
     "data": {
      "text/plain": [
       "Index([                                         'W.C. Fields: A Life on Film',\n",
       "                        'The Unschooled Wizard (Sun Wolf and Starhawk, #1-2)',\n",
       "                                                       'Best Friends Forever',\n",
       "       'Runic Astrology: Starcraft and Timekeeping in the Northern Tradition',\n",
       "                                              'The Aeneid for Boys and Girls',\n",
       "                                                      'The Wanting of Levine',\n",
       "                     'All's Fairy in Love and War (Avalon: Web of Magic, #8)',\n",
       "                                                       'The Devil's Notebook',\n",
       "                                  'Crowner Royal (Crowner John Mystery, #13)',\n",
       "                                                           'The Te Of Piglet',\n",
       "       ...\n",
       "                  'The Sensible Necktie and Other Stories of Sherlock Holmes',\n",
       "                                                    'Mrs. Hudson in New York',\n",
       "                                         'Contracted: A Wife for the Bedroom',\n",
       "                                     'The Brazilian Boss's Innocent Mistress',\n",
       "                              'North Country Cutthroats (The Trailsman #314)',\n",
       "                             'Jacqueline Kennedy Onassis: Friend of the Arts',\n",
       "                                           'The Spaniard's Blackmailed Bride',\n",
       "                                        'Sherlock Holmes and the July Crisis',\n",
       "                                   'The Children's Classic Poetry Collection',\n",
       "                                  '101 Nights: Volume One (101 Nights, #1-3)'],\n",
       "      dtype='object', name='title', length=1215983)"
      ]
     },
     "execution_count": 127,
     "metadata": {},
     "output_type": "execute_result"
    }
   ],
   "source": [
    "large_df.index"
   ]
  },
  {
   "cell_type": "code",
   "execution_count": 131,
   "metadata": {
    "tags": []
   },
   "outputs": [
    {
     "data": {
      "text/plain": [
       "1262"
      ]
     },
     "execution_count": 131,
     "metadata": {},
     "output_type": "execute_result"
    }
   ],
   "source": [
    "len([title for title in ranked_df['Title'] if title not in large_df.index])"
   ]
  },
  {
   "cell_type": "markdown",
   "metadata": {},
   "source": [
    "That's kind of annoying... :thinking:\n",
    "\n",
    "Some of the titles don't match to any of the titles in my goodreads dataset. That's probably not because they don't exist in the data, but they've been named something slightly different. I think I can use Levenshtein distance to measure the difference between strings and find the closest match in the dataset -- a process called \"fuzzy matching\""
   ]
  },
  {
   "cell_type": "code",
   "execution_count": 180,
   "metadata": {
    "execution": {
     "iopub.execute_input": "2021-07-28T19:11:20.719126Z",
     "iopub.status.busy": "2021-07-28T19:11:20.718382Z",
     "iopub.status.idle": "2021-07-28T19:11:27.082965Z",
     "shell.execute_reply": "2021-07-28T19:11:27.080328Z",
     "shell.execute_reply.started": "2021-07-28T19:11:20.719038Z"
    },
    "tags": []
   },
   "outputs": [
    {
     "name": "stdout",
     "output_type": "stream",
     "text": [
      "Defaulting to user installation because normal site-packages is not writeable\n",
      "Collecting rapidfuzz\n",
      "  Downloading rapidfuzz-1.4.1-cp37-cp37m-manylinux2010_x86_64.whl (749 kB)\n",
      "\u001b[K     |████████████████████████████████| 749 kB 750 kB/s eta 0:00:01\n",
      "\u001b[?25hInstalling collected packages: rapidfuzz\n",
      "Successfully installed rapidfuzz-1.4.1\n",
      "\u001b[33mWARNING: You are using pip version 20.3.3; however, version 21.2.1 is available.\n",
      "You should consider upgrading via the '/usr/bin/python3.7 -m pip install --upgrade pip' command.\u001b[0m\n"
     ]
    }
   ],
   "source": [
    "!pip install rapidfuzz"
   ]
  },
  {
   "cell_type": "code",
   "execution_count": 181,
   "metadata": {
    "execution": {
     "iopub.execute_input": "2021-07-28T19:12:02.630938Z",
     "iopub.status.busy": "2021-07-28T19:12:02.629795Z",
     "iopub.status.idle": "2021-07-28T19:12:02.737596Z",
     "shell.execute_reply": "2021-07-28T19:12:02.735916Z",
     "shell.execute_reply.started": "2021-07-28T19:12:02.630791Z"
    },
    "tags": []
   },
   "outputs": [],
   "source": [
    "from tqdm import tqdm\n",
    "from rapidfuzz import process, utils"
   ]
  },
  {
   "cell_type": "code",
   "execution_count": 198,
   "metadata": {
    "execution": {
     "iopub.execute_input": "2021-07-28T19:21:44.642550Z",
     "iopub.status.busy": "2021-07-28T19:21:44.641759Z",
     "iopub.status.idle": "2021-07-28T19:21:45.501484Z",
     "shell.execute_reply": "2021-07-28T19:21:45.500961Z",
     "shell.execute_reply.started": "2021-07-28T19:21:44.642452Z"
    },
    "tags": []
   },
   "outputs": [],
   "source": [
    "large_titles_list = [str(o) for o in large_df.index.array]"
   ]
  },
  {
   "cell_type": "code",
   "execution_count": 199,
   "metadata": {
    "execution": {
     "iopub.execute_input": "2021-07-28T19:21:45.502626Z",
     "iopub.status.busy": "2021-07-28T19:21:45.502506Z",
     "iopub.status.idle": "2021-07-28T19:21:45.735558Z",
     "shell.execute_reply": "2021-07-28T19:21:45.735054Z",
     "shell.execute_reply.started": "2021-07-28T19:21:45.502611Z"
    },
    "tags": []
   },
   "outputs": [],
   "source": [
    "processed_titles = [utils.default_process(o) for o in large_titles_list]"
   ]
  },
  {
   "cell_type": "code",
   "execution_count": 202,
   "metadata": {
    "execution": {
     "iopub.execute_input": "2021-07-28T19:22:15.114425Z",
     "iopub.status.busy": "2021-07-28T19:22:15.114067Z",
     "iopub.status.idle": "2021-07-28T19:22:15.120650Z",
     "shell.execute_reply": "2021-07-28T19:22:15.120167Z",
     "shell.execute_reply.started": "2021-07-28T19:22:15.114381Z"
    },
    "tags": []
   },
   "outputs": [
    {
     "data": {
      "text/plain": [
       "\"Harry Potter and the Philosopher's Stone\""
      ]
     },
     "execution_count": 202,
     "metadata": {},
     "output_type": "execute_result"
    }
   ],
   "source": [
    "large_titles_list[7680]"
   ]
  },
  {
   "cell_type": "code",
   "execution_count": 205,
   "metadata": {
    "execution": {
     "iopub.execute_input": "2021-07-28T19:29:25.928736Z",
     "iopub.status.busy": "2021-07-28T19:29:25.928473Z",
     "iopub.status.idle": "2021-07-28T19:38:34.489944Z",
     "shell.execute_reply": "2021-07-28T19:38:34.489589Z",
     "shell.execute_reply.started": "2021-07-28T19:29:25.928712Z"
    },
    "tags": []
   },
   "outputs": [
    {
     "name": "stderr",
     "output_type": "stream",
     "text": [
      "100%|██████████| 4414/4414 [09:08<00:00,  8.05it/s]\n"
     ]
    },
    {
     "data": {
      "text/plain": [
       "578"
      ]
     },
     "execution_count": 205,
     "metadata": {},
     "output_type": "execute_result"
    }
   ],
   "source": [
    "titles_to_drop = []\n",
    "for title in tqdm(ranked_df['Title']):\n",
    "    if title.strip() not in large_df.index:\n",
    "        processed_query = utils.default_process(title)\n",
    "#         print(fuzz.ratio(title.strip(), ))\n",
    "        match = process.extractOne(processed_query, processed_titles, processor=None, score_cutoff=90.1)\n",
    "        if match == None:\n",
    "            titles_to_drop.append(title)\n",
    "        else:\n",
    "            pass\n",
    "    else:\n",
    "        pass\n",
    "len(titles_to_drop)"
   ]
  },
  {
   "cell_type": "code",
   "execution_count": 258,
   "metadata": {
    "execution": {
     "iopub.execute_input": "2021-07-28T19:52:49.076136Z",
     "iopub.status.busy": "2021-07-28T19:52:49.075911Z",
     "iopub.status.idle": "2021-07-28T19:52:49.087450Z",
     "shell.execute_reply": "2021-07-28T19:52:49.087090Z",
     "shell.execute_reply.started": "2021-07-28T19:52:49.076109Z"
    },
    "tags": []
   },
   "outputs": [
    {
     "data": {
      "text/html": [
       "<div>\n",
       "<style scoped>\n",
       "    .dataframe tbody tr th:only-of-type {\n",
       "        vertical-align: middle;\n",
       "    }\n",
       "\n",
       "    .dataframe tbody tr th {\n",
       "        vertical-align: top;\n",
       "    }\n",
       "\n",
       "    .dataframe thead th {\n",
       "        text-align: right;\n",
       "    }\n",
       "</style>\n",
       "<table border=\"1\" class=\"dataframe\">\n",
       "  <thead>\n",
       "    <tr style=\"text-align: right;\">\n",
       "      <th></th>\n",
       "      <th>Unnamed: 0</th>\n",
       "      <th>Title</th>\n",
       "      <th>Listed count</th>\n",
       "      <th>Author</th>\n",
       "    </tr>\n",
       "  </thead>\n",
       "  <tbody>\n",
       "    <tr>\n",
       "      <th>93</th>\n",
       "      <td>94</td>\n",
       "      <td>First Folio</td>\n",
       "      <td>16.0</td>\n",
       "      <td>William Shakespeare</td>\n",
       "    </tr>\n",
       "    <tr>\n",
       "      <th>200</th>\n",
       "      <td>201</td>\n",
       "      <td>U.S.A. Trilogy</td>\n",
       "      <td>10.0</td>\n",
       "      <td>John Dos Passos</td>\n",
       "    </tr>\n",
       "    <tr>\n",
       "      <th>239</th>\n",
       "      <td>240</td>\n",
       "      <td>The Histories of Herodotus</td>\n",
       "      <td>9.0</td>\n",
       "      <td>Herodotus</td>\n",
       "    </tr>\n",
       "    <tr>\n",
       "      <th>243</th>\n",
       "      <td>244</td>\n",
       "      <td>Household Tales</td>\n",
       "      <td>9.0</td>\n",
       "      <td>Brothers Grimm</td>\n",
       "    </tr>\n",
       "    <tr>\n",
       "      <th>283</th>\n",
       "      <td>284</td>\n",
       "      <td>The Naked Dead</td>\n",
       "      <td>8.0</td>\n",
       "      <td>Norman Mailer</td>\n",
       "    </tr>\n",
       "    <tr>\n",
       "      <th>...</th>\n",
       "      <td>...</td>\n",
       "      <td>...</td>\n",
       "      <td>...</td>\n",
       "      <td>...</td>\n",
       "    </tr>\n",
       "    <tr>\n",
       "      <th>4394</th>\n",
       "      <td>4395</td>\n",
       "      <td>Encyclicals of Pope John XXIII</td>\n",
       "      <td>1.0</td>\n",
       "      <td>P</td>\n",
       "    </tr>\n",
       "    <tr>\n",
       "      <th>4395</th>\n",
       "      <td>4396</td>\n",
       "      <td>Psychology of the Unconscious</td>\n",
       "      <td>1.0</td>\n",
       "      <td>C</td>\n",
       "    </tr>\n",
       "    <tr>\n",
       "      <th>4401</th>\n",
       "      <td>4402</td>\n",
       "      <td>A Critique of the Theory of Evolution</td>\n",
       "      <td>1.0</td>\n",
       "      <td>T</td>\n",
       "    </tr>\n",
       "    <tr>\n",
       "      <th>4404</th>\n",
       "      <td>4405</td>\n",
       "      <td>Judgement and Reasoning in the Child</td>\n",
       "      <td>1.0</td>\n",
       "      <td>J</td>\n",
       "    </tr>\n",
       "    <tr>\n",
       "      <th>4413</th>\n",
       "      <td>4414</td>\n",
       "      <td>Behaviorism</td>\n",
       "      <td>1.0</td>\n",
       "      <td>J</td>\n",
       "    </tr>\n",
       "  </tbody>\n",
       "</table>\n",
       "<p>578 rows × 4 columns</p>\n",
       "</div>"
      ],
      "text/plain": [
       "      Unnamed: 0                                  Title  Listed count  \\\n",
       "93            94                            First Folio          16.0   \n",
       "200          201                         U.S.A. Trilogy          10.0   \n",
       "239          240             The Histories of Herodotus           9.0   \n",
       "243          244                        Household Tales           9.0   \n",
       "283          284                         The Naked Dead           8.0   \n",
       "...          ...                                    ...           ...   \n",
       "4394        4395         Encyclicals of Pope John XXIII           1.0   \n",
       "4395        4396          Psychology of the Unconscious           1.0   \n",
       "4401        4402  A Critique of the Theory of Evolution           1.0   \n",
       "4404        4405   Judgement and Reasoning in the Child           1.0   \n",
       "4413        4414                            Behaviorism           1.0   \n",
       "\n",
       "                   Author  \n",
       "93    William Shakespeare  \n",
       "200       John Dos Passos  \n",
       "239             Herodotus  \n",
       "243        Brothers Grimm  \n",
       "283         Norman Mailer  \n",
       "...                   ...  \n",
       "4394                    P  \n",
       "4395                    C  \n",
       "4401                    T  \n",
       "4404                    J  \n",
       "4413                    J  \n",
       "\n",
       "[578 rows x 4 columns]"
      ]
     },
     "execution_count": 258,
     "metadata": {},
     "output_type": "execute_result"
    }
   ],
   "source": [
    "drop_df = ranked_df[ranked_df['Title'].isin(titles_to_drop)]\n",
    "\n",
    "\n",
    "drop_df"
   ]
  },
  {
   "cell_type": "code",
   "execution_count": 259,
   "metadata": {
    "execution": {
     "iopub.execute_input": "2021-07-28T19:52:51.294420Z",
     "iopub.status.busy": "2021-07-28T19:52:51.293923Z",
     "iopub.status.idle": "2021-07-28T19:52:51.322622Z",
     "shell.execute_reply": "2021-07-28T19:52:51.321788Z",
     "shell.execute_reply.started": "2021-07-28T19:52:51.294359Z"
    }
   },
   "outputs": [
    {
     "data": {
      "text/html": [
       "<div>\n",
       "<style scoped>\n",
       "    .dataframe tbody tr th:only-of-type {\n",
       "        vertical-align: middle;\n",
       "    }\n",
       "\n",
       "    .dataframe tbody tr th {\n",
       "        vertical-align: top;\n",
       "    }\n",
       "\n",
       "    .dataframe thead th {\n",
       "        text-align: right;\n",
       "    }\n",
       "</style>\n",
       "<table border=\"1\" class=\"dataframe\">\n",
       "  <thead>\n",
       "    <tr style=\"text-align: right;\">\n",
       "      <th></th>\n",
       "      <th>Unnamed: 0</th>\n",
       "      <th>Listed count</th>\n",
       "    </tr>\n",
       "  </thead>\n",
       "  <tbody>\n",
       "    <tr>\n",
       "      <th>count</th>\n",
       "      <td>578.000000</td>\n",
       "      <td>578.000000</td>\n",
       "    </tr>\n",
       "    <tr>\n",
       "      <th>mean</th>\n",
       "      <td>2763.669550</td>\n",
       "      <td>1.346021</td>\n",
       "    </tr>\n",
       "    <tr>\n",
       "      <th>std</th>\n",
       "      <td>1083.393657</td>\n",
       "      <td>1.199939</td>\n",
       "    </tr>\n",
       "    <tr>\n",
       "      <th>min</th>\n",
       "      <td>94.000000</td>\n",
       "      <td>1.000000</td>\n",
       "    </tr>\n",
       "    <tr>\n",
       "      <th>25%</th>\n",
       "      <td>1933.250000</td>\n",
       "      <td>1.000000</td>\n",
       "    </tr>\n",
       "    <tr>\n",
       "      <th>50%</th>\n",
       "      <td>2941.500000</td>\n",
       "      <td>1.000000</td>\n",
       "    </tr>\n",
       "    <tr>\n",
       "      <th>75%</th>\n",
       "      <td>3560.000000</td>\n",
       "      <td>1.000000</td>\n",
       "    </tr>\n",
       "    <tr>\n",
       "      <th>max</th>\n",
       "      <td>4414.000000</td>\n",
       "      <td>16.000000</td>\n",
       "    </tr>\n",
       "  </tbody>\n",
       "</table>\n",
       "</div>"
      ],
      "text/plain": [
       "        Unnamed: 0  Listed count\n",
       "count   578.000000    578.000000\n",
       "mean   2763.669550      1.346021\n",
       "std    1083.393657      1.199939\n",
       "min      94.000000      1.000000\n",
       "25%    1933.250000      1.000000\n",
       "50%    2941.500000      1.000000\n",
       "75%    3560.000000      1.000000\n",
       "max    4414.000000     16.000000"
      ]
     },
     "execution_count": 259,
     "metadata": {},
     "output_type": "execute_result"
    }
   ],
   "source": [
    "drop_df.describe()"
   ]
  },
  {
   "cell_type": "code",
   "execution_count": 255,
   "metadata": {
    "execution": {
     "iopub.execute_input": "2021-07-28T19:52:10.615599Z",
     "iopub.status.busy": "2021-07-28T19:52:10.615410Z",
     "iopub.status.idle": "2021-07-28T19:52:10.627037Z",
     "shell.execute_reply": "2021-07-28T19:52:10.626678Z",
     "shell.execute_reply.started": "2021-07-28T19:52:10.615580Z"
    }
   },
   "outputs": [
    {
     "data": {
      "text/html": [
       "<div>\n",
       "<style scoped>\n",
       "    .dataframe tbody tr th:only-of-type {\n",
       "        vertical-align: middle;\n",
       "    }\n",
       "\n",
       "    .dataframe tbody tr th {\n",
       "        vertical-align: top;\n",
       "    }\n",
       "\n",
       "    .dataframe thead th {\n",
       "        text-align: right;\n",
       "    }\n",
       "</style>\n",
       "<table border=\"1\" class=\"dataframe\">\n",
       "  <thead>\n",
       "    <tr style=\"text-align: right;\">\n",
       "      <th></th>\n",
       "      <th>Unnamed: 0</th>\n",
       "      <th>Listed count</th>\n",
       "    </tr>\n",
       "  </thead>\n",
       "  <tbody>\n",
       "    <tr>\n",
       "      <th>count</th>\n",
       "      <td>4414.000000</td>\n",
       "      <td>4414.000000</td>\n",
       "    </tr>\n",
       "    <tr>\n",
       "      <th>mean</th>\n",
       "      <td>2207.500000</td>\n",
       "      <td>2.543045</td>\n",
       "    </tr>\n",
       "    <tr>\n",
       "      <th>std</th>\n",
       "      <td>1274.356373</td>\n",
       "      <td>4.267015</td>\n",
       "    </tr>\n",
       "    <tr>\n",
       "      <th>min</th>\n",
       "      <td>1.000000</td>\n",
       "      <td>1.000000</td>\n",
       "    </tr>\n",
       "    <tr>\n",
       "      <th>25%</th>\n",
       "      <td>1104.250000</td>\n",
       "      <td>1.000000</td>\n",
       "    </tr>\n",
       "    <tr>\n",
       "      <th>50%</th>\n",
       "      <td>2207.500000</td>\n",
       "      <td>1.000000</td>\n",
       "    </tr>\n",
       "    <tr>\n",
       "      <th>75%</th>\n",
       "      <td>3310.750000</td>\n",
       "      <td>2.000000</td>\n",
       "    </tr>\n",
       "    <tr>\n",
       "      <th>max</th>\n",
       "      <td>4414.000000</td>\n",
       "      <td>51.000000</td>\n",
       "    </tr>\n",
       "  </tbody>\n",
       "</table>\n",
       "</div>"
      ],
      "text/plain": [
       "        Unnamed: 0  Listed count\n",
       "count  4414.000000   4414.000000\n",
       "mean   2207.500000      2.543045\n",
       "std    1274.356373      4.267015\n",
       "min       1.000000      1.000000\n",
       "25%    1104.250000      1.000000\n",
       "50%    2207.500000      1.000000\n",
       "75%    3310.750000      2.000000\n",
       "max    4414.000000     51.000000"
      ]
     },
     "execution_count": 255,
     "metadata": {},
     "output_type": "execute_result"
    }
   ],
   "source": [
    "ranked_df.describe()"
   ]
  },
  {
   "cell_type": "markdown",
   "metadata": {},
   "source": [
    "So there are 578 titles with no good match in my large Goodreads dataset. Their average rank is significantly lower, as well, so I think it will be okay to simply drop them from the dataset.\n",
    "\n",
    "Then I should rerank `ranked_df` and iterate through it again, replacing titles with the form they are found in `large_df`. At that point I can build my final dataset with info from both of those dataframes."
   ]
  },
  {
   "cell_type": "code",
   "execution_count": 264,
   "metadata": {
    "execution": {
     "iopub.execute_input": "2021-07-28T19:58:34.712597Z",
     "iopub.status.busy": "2021-07-28T19:58:34.712145Z",
     "iopub.status.idle": "2021-07-28T19:58:34.719229Z",
     "shell.execute_reply": "2021-07-28T19:58:34.717954Z",
     "shell.execute_reply.started": "2021-07-28T19:58:34.712538Z"
    },
    "tags": []
   },
   "outputs": [
    {
     "data": {
      "text/plain": [
       "'First Folio'"
      ]
     },
     "execution_count": 264,
     "metadata": {},
     "output_type": "execute_result"
    }
   ],
   "source": [
    "titles_to_drop[0]"
   ]
  },
  {
   "cell_type": "code",
   "execution_count": 283,
   "metadata": {
    "execution": {
     "iopub.execute_input": "2021-07-28T20:04:00.163256Z",
     "iopub.status.busy": "2021-07-28T20:04:00.162880Z",
     "iopub.status.idle": "2021-07-28T20:04:00.169194Z",
     "shell.execute_reply": "2021-07-28T20:04:00.168331Z",
     "shell.execute_reply.started": "2021-07-28T20:04:00.163209Z"
    },
    "tags": []
   },
   "outputs": [],
   "source": [
    "ranked_titles_df = no_authors.set_index('Title')"
   ]
  },
  {
   "cell_type": "code",
   "execution_count": 285,
   "metadata": {
    "execution": {
     "iopub.execute_input": "2021-07-28T20:04:05.568724Z",
     "iopub.status.busy": "2021-07-28T20:04:05.568216Z",
     "iopub.status.idle": "2021-07-28T20:04:05.576135Z",
     "shell.execute_reply": "2021-07-28T20:04:05.574341Z",
     "shell.execute_reply.started": "2021-07-28T20:04:05.568661Z"
    },
    "tags": []
   },
   "outputs": [],
   "source": [
    "ranked_titles_df.columns = ['rank', 'listed_count']"
   ]
  },
  {
   "cell_type": "code",
   "execution_count": 286,
   "metadata": {
    "execution": {
     "iopub.execute_input": "2021-07-28T20:04:05.884951Z",
     "iopub.status.busy": "2021-07-28T20:04:05.884709Z",
     "iopub.status.idle": "2021-07-28T20:04:05.892878Z",
     "shell.execute_reply": "2021-07-28T20:04:05.892433Z",
     "shell.execute_reply.started": "2021-07-28T20:04:05.884932Z"
    },
    "tags": []
   },
   "outputs": [
    {
     "data": {
      "text/html": [
       "<div>\n",
       "<style scoped>\n",
       "    .dataframe tbody tr th:only-of-type {\n",
       "        vertical-align: middle;\n",
       "    }\n",
       "\n",
       "    .dataframe tbody tr th {\n",
       "        vertical-align: top;\n",
       "    }\n",
       "\n",
       "    .dataframe thead th {\n",
       "        text-align: right;\n",
       "    }\n",
       "</style>\n",
       "<table border=\"1\" class=\"dataframe\">\n",
       "  <thead>\n",
       "    <tr style=\"text-align: right;\">\n",
       "      <th></th>\n",
       "      <th>rank</th>\n",
       "      <th>listed_count</th>\n",
       "    </tr>\n",
       "    <tr>\n",
       "      <th>Title</th>\n",
       "      <th></th>\n",
       "      <th></th>\n",
       "    </tr>\n",
       "  </thead>\n",
       "  <tbody>\n",
       "    <tr>\n",
       "      <th>Ulysses</th>\n",
       "      <td>1</td>\n",
       "      <td>51.0</td>\n",
       "    </tr>\n",
       "    <tr>\n",
       "      <th>The Great Gatsby</th>\n",
       "      <td>2</td>\n",
       "      <td>50.0</td>\n",
       "    </tr>\n",
       "    <tr>\n",
       "      <th>One Hundred Years of Solitude</th>\n",
       "      <td>3</td>\n",
       "      <td>44.0</td>\n",
       "    </tr>\n",
       "    <tr>\n",
       "      <th>Lolita</th>\n",
       "      <td>4</td>\n",
       "      <td>43.0</td>\n",
       "    </tr>\n",
       "    <tr>\n",
       "      <th>Nineteen Eighty Four</th>\n",
       "      <td>5</td>\n",
       "      <td>42.0</td>\n",
       "    </tr>\n",
       "    <tr>\n",
       "      <th>...</th>\n",
       "      <td>...</td>\n",
       "      <td>...</td>\n",
       "    </tr>\n",
       "    <tr>\n",
       "      <th>Decline of the West</th>\n",
       "      <td>4410</td>\n",
       "      <td>1.0</td>\n",
       "    </tr>\n",
       "    <tr>\n",
       "      <th>The History of the Standard Oil Company</th>\n",
       "      <td>4411</td>\n",
       "      <td>1.0</td>\n",
       "    </tr>\n",
       "    <tr>\n",
       "      <th>Theory of Games and Economic Behavior</th>\n",
       "      <td>4412</td>\n",
       "      <td>1.0</td>\n",
       "    </tr>\n",
       "    <tr>\n",
       "      <th>AA Big Book</th>\n",
       "      <td>4413</td>\n",
       "      <td>1.0</td>\n",
       "    </tr>\n",
       "    <tr>\n",
       "      <th>Behaviorism</th>\n",
       "      <td>4414</td>\n",
       "      <td>1.0</td>\n",
       "    </tr>\n",
       "  </tbody>\n",
       "</table>\n",
       "<p>4414 rows × 2 columns</p>\n",
       "</div>"
      ],
      "text/plain": [
       "                                         rank  listed_count\n",
       "Title                                                      \n",
       "Ulysses                                     1          51.0\n",
       "The Great Gatsby                            2          50.0\n",
       "One Hundred Years of Solitude               3          44.0\n",
       "Lolita                                      4          43.0\n",
       "Nineteen Eighty Four                        5          42.0\n",
       "...                                       ...           ...\n",
       "Decline of the West                      4410           1.0\n",
       "The History of the Standard Oil Company  4411           1.0\n",
       "Theory of Games and Economic Behavior    4412           1.0\n",
       "AA Big Book                              4413           1.0\n",
       "Behaviorism                              4414           1.0\n",
       "\n",
       "[4414 rows x 2 columns]"
      ]
     },
     "execution_count": 286,
     "metadata": {},
     "output_type": "execute_result"
    }
   ],
   "source": [
    "ranked_titles_df"
   ]
  },
  {
   "cell_type": "code",
   "execution_count": 287,
   "metadata": {
    "execution": {
     "iopub.execute_input": "2021-07-28T20:04:11.356721Z",
     "iopub.status.busy": "2021-07-28T20:04:11.356526Z",
     "iopub.status.idle": "2021-07-28T20:04:11.368874Z",
     "shell.execute_reply": "2021-07-28T20:04:11.368499Z",
     "shell.execute_reply.started": "2021-07-28T20:04:11.356702Z"
    },
    "tags": []
   },
   "outputs": [
    {
     "data": {
      "text/html": [
       "<div>\n",
       "<style scoped>\n",
       "    .dataframe tbody tr th:only-of-type {\n",
       "        vertical-align: middle;\n",
       "    }\n",
       "\n",
       "    .dataframe tbody tr th {\n",
       "        vertical-align: top;\n",
       "    }\n",
       "\n",
       "    .dataframe thead th {\n",
       "        text-align: right;\n",
       "    }\n",
       "</style>\n",
       "<table border=\"1\" class=\"dataframe\">\n",
       "  <thead>\n",
       "    <tr style=\"text-align: right;\">\n",
       "      <th></th>\n",
       "      <th>rank</th>\n",
       "      <th>listed_count</th>\n",
       "    </tr>\n",
       "  </thead>\n",
       "  <tbody>\n",
       "    <tr>\n",
       "      <th>count</th>\n",
       "      <td>3836.000000</td>\n",
       "      <td>3836.000000</td>\n",
       "    </tr>\n",
       "    <tr>\n",
       "      <th>mean</th>\n",
       "      <td>2123.697602</td>\n",
       "      <td>2.723410</td>\n",
       "    </tr>\n",
       "    <tr>\n",
       "      <th>std</th>\n",
       "      <td>1280.040730</td>\n",
       "      <td>4.526196</td>\n",
       "    </tr>\n",
       "    <tr>\n",
       "      <th>min</th>\n",
       "      <td>1.000000</td>\n",
       "      <td>1.000000</td>\n",
       "    </tr>\n",
       "    <tr>\n",
       "      <th>25%</th>\n",
       "      <td>999.750000</td>\n",
       "      <td>1.000000</td>\n",
       "    </tr>\n",
       "    <tr>\n",
       "      <th>50%</th>\n",
       "      <td>2092.500000</td>\n",
       "      <td>1.000000</td>\n",
       "    </tr>\n",
       "    <tr>\n",
       "      <th>75%</th>\n",
       "      <td>3199.250000</td>\n",
       "      <td>2.000000</td>\n",
       "    </tr>\n",
       "    <tr>\n",
       "      <th>max</th>\n",
       "      <td>4413.000000</td>\n",
       "      <td>51.000000</td>\n",
       "    </tr>\n",
       "  </tbody>\n",
       "</table>\n",
       "</div>"
      ],
      "text/plain": [
       "              rank  listed_count\n",
       "count  3836.000000   3836.000000\n",
       "mean   2123.697602      2.723410\n",
       "std    1280.040730      4.526196\n",
       "min       1.000000      1.000000\n",
       "25%     999.750000      1.000000\n",
       "50%    2092.500000      1.000000\n",
       "75%    3199.250000      2.000000\n",
       "max    4413.000000     51.000000"
      ]
     },
     "execution_count": 287,
     "metadata": {},
     "output_type": "execute_result"
    }
   ],
   "source": [
    "dropped_df = ranked_titles_df.drop(titles_to_drop)\n",
    "dropped_df.describe()"
   ]
  },
  {
   "cell_type": "code",
   "execution_count": 288,
   "metadata": {
    "execution": {
     "iopub.execute_input": "2021-07-28T20:04:11.725566Z",
     "iopub.status.busy": "2021-07-28T20:04:11.725376Z",
     "iopub.status.idle": "2021-07-28T20:04:11.728746Z",
     "shell.execute_reply": "2021-07-28T20:04:11.728215Z",
     "shell.execute_reply.started": "2021-07-28T20:04:11.725548Z"
    },
    "tags": []
   },
   "outputs": [],
   "source": [
    "dropped_df['rank'] = range(1, len(dropped_df) + 1)"
   ]
  },
  {
   "cell_type": "code",
   "execution_count": 289,
   "metadata": {
    "execution": {
     "iopub.execute_input": "2021-07-28T20:04:12.585519Z",
     "iopub.status.busy": "2021-07-28T20:04:12.585281Z",
     "iopub.status.idle": "2021-07-28T20:04:12.596527Z",
     "shell.execute_reply": "2021-07-28T20:04:12.595953Z",
     "shell.execute_reply.started": "2021-07-28T20:04:12.585494Z"
    },
    "tags": []
   },
   "outputs": [
    {
     "data": {
      "text/html": [
       "<div>\n",
       "<style scoped>\n",
       "    .dataframe tbody tr th:only-of-type {\n",
       "        vertical-align: middle;\n",
       "    }\n",
       "\n",
       "    .dataframe tbody tr th {\n",
       "        vertical-align: top;\n",
       "    }\n",
       "\n",
       "    .dataframe thead th {\n",
       "        text-align: right;\n",
       "    }\n",
       "</style>\n",
       "<table border=\"1\" class=\"dataframe\">\n",
       "  <thead>\n",
       "    <tr style=\"text-align: right;\">\n",
       "      <th></th>\n",
       "      <th>rank</th>\n",
       "      <th>listed_count</th>\n",
       "    </tr>\n",
       "    <tr>\n",
       "      <th>Title</th>\n",
       "      <th></th>\n",
       "      <th></th>\n",
       "    </tr>\n",
       "  </thead>\n",
       "  <tbody>\n",
       "    <tr>\n",
       "      <th>Ulysses</th>\n",
       "      <td>1</td>\n",
       "      <td>51.0</td>\n",
       "    </tr>\n",
       "    <tr>\n",
       "      <th>The Great Gatsby</th>\n",
       "      <td>2</td>\n",
       "      <td>50.0</td>\n",
       "    </tr>\n",
       "    <tr>\n",
       "      <th>One Hundred Years of Solitude</th>\n",
       "      <td>3</td>\n",
       "      <td>44.0</td>\n",
       "    </tr>\n",
       "    <tr>\n",
       "      <th>Lolita</th>\n",
       "      <td>4</td>\n",
       "      <td>43.0</td>\n",
       "    </tr>\n",
       "    <tr>\n",
       "      <th>Nineteen Eighty Four</th>\n",
       "      <td>5</td>\n",
       "      <td>42.0</td>\n",
       "    </tr>\n",
       "    <tr>\n",
       "      <th>...</th>\n",
       "      <td>...</td>\n",
       "      <td>...</td>\n",
       "    </tr>\n",
       "    <tr>\n",
       "      <th>Happiness in Marriage</th>\n",
       "      <td>3832</td>\n",
       "      <td>1.0</td>\n",
       "    </tr>\n",
       "    <tr>\n",
       "      <th>Decline of the West</th>\n",
       "      <td>3833</td>\n",
       "      <td>1.0</td>\n",
       "    </tr>\n",
       "    <tr>\n",
       "      <th>The History of the Standard Oil Company</th>\n",
       "      <td>3834</td>\n",
       "      <td>1.0</td>\n",
       "    </tr>\n",
       "    <tr>\n",
       "      <th>Theory of Games and Economic Behavior</th>\n",
       "      <td>3835</td>\n",
       "      <td>1.0</td>\n",
       "    </tr>\n",
       "    <tr>\n",
       "      <th>AA Big Book</th>\n",
       "      <td>3836</td>\n",
       "      <td>1.0</td>\n",
       "    </tr>\n",
       "  </tbody>\n",
       "</table>\n",
       "<p>3836 rows × 2 columns</p>\n",
       "</div>"
      ],
      "text/plain": [
       "                                         rank  listed_count\n",
       "Title                                                      \n",
       "Ulysses                                     1          51.0\n",
       "The Great Gatsby                            2          50.0\n",
       "One Hundred Years of Solitude               3          44.0\n",
       "Lolita                                      4          43.0\n",
       "Nineteen Eighty Four                        5          42.0\n",
       "...                                       ...           ...\n",
       "Happiness in Marriage                    3832           1.0\n",
       "Decline of the West                      3833           1.0\n",
       "The History of the Standard Oil Company  3834           1.0\n",
       "Theory of Games and Economic Behavior    3835           1.0\n",
       "AA Big Book                              3836           1.0\n",
       "\n",
       "[3836 rows x 2 columns]"
      ]
     },
     "execution_count": 289,
     "metadata": {},
     "output_type": "execute_result"
    }
   ],
   "source": [
    "dropped_df"
   ]
  },
  {
   "cell_type": "code",
   "execution_count": 326,
   "metadata": {
    "execution": {
     "iopub.execute_input": "2021-07-28T20:33:01.179918Z",
     "iopub.status.busy": "2021-07-28T20:33:01.179551Z",
     "iopub.status.idle": "2021-07-28T20:33:01.186101Z",
     "shell.execute_reply": "2021-07-28T20:33:01.184626Z",
     "shell.execute_reply.started": "2021-07-28T20:33:01.179872Z"
    },
    "tags": []
   },
   "outputs": [],
   "source": [
    "def get_corrected_title_index(processed_query, processed_index):\n",
    "    match = process.extractOne(processed_query, processed_index, processor=None, score_cutoff=90.1)\n",
    "    return(match[2])"
   ]
  },
  {
   "cell_type": "code",
   "execution_count": 327,
   "metadata": {
    "execution": {
     "iopub.execute_input": "2021-07-28T20:33:01.645964Z",
     "iopub.status.busy": "2021-07-28T20:33:01.645462Z",
     "iopub.status.idle": "2021-07-28T20:33:01.829521Z",
     "shell.execute_reply": "2021-07-28T20:33:01.828858Z",
     "shell.execute_reply.started": "2021-07-28T20:33:01.645903Z"
    },
    "tags": []
   },
   "outputs": [
    {
     "data": {
      "text/plain": [
       "217359"
      ]
     },
     "execution_count": 327,
     "metadata": {},
     "output_type": "execute_result"
    }
   ],
   "source": [
    "get_corrected_title_index(utils.default_process('''The Stories of Anton Chekhov\n",
    "'''), processed_titles)"
   ]
  },
  {
   "cell_type": "code",
   "execution_count": 328,
   "metadata": {
    "execution": {
     "iopub.execute_input": "2021-07-28T20:33:17.904040Z",
     "iopub.status.busy": "2021-07-28T20:33:17.903881Z",
     "iopub.status.idle": "2021-07-28T20:33:17.906934Z",
     "shell.execute_reply": "2021-07-28T20:33:17.906521Z",
     "shell.execute_reply.started": "2021-07-28T20:33:17.904022Z"
    }
   },
   "outputs": [
    {
     "data": {
      "text/plain": [
       "'the stories of anton tchekov'"
      ]
     },
     "execution_count": 328,
     "metadata": {},
     "output_type": "execute_result"
    }
   ],
   "source": [
    "large_titles_list[217359]"
   ]
  },
  {
   "cell_type": "code",
   "execution_count": 329,
   "metadata": {
    "execution": {
     "iopub.execute_input": "2021-07-28T20:33:21.830821Z",
     "iopub.status.busy": "2021-07-28T20:33:21.830116Z",
     "iopub.status.idle": "2021-07-28T20:33:21.840602Z",
     "shell.execute_reply": "2021-07-28T20:33:21.839247Z",
     "shell.execute_reply.started": "2021-07-28T20:33:21.830733Z"
    },
    "tags": []
   },
   "outputs": [],
   "source": [
    "def find_correct_titles(questionable_titles, correct_titles):\n",
    "    processed_titles = [utils.default_process(o) for o in correct_titles]\n",
    "    \n",
    "    for title in tqdm(questionable_titles):\n",
    "        if title.strip() not in correct_titles:\n",
    "#             print(title)\n",
    "            processed_query = utils.default_process(title)\n",
    "            i = get_corrected_title_index(processed_query, processed_titles)\n",
    "            new_title = correct_titles[i]\n",
    "            yield(new_title)\n",
    "        else:\n",
    "            yield(title.strip())"
   ]
  },
  {
   "cell_type": "code",
   "execution_count": 330,
   "metadata": {
    "execution": {
     "iopub.execute_input": "2021-07-28T20:33:22.063571Z",
     "iopub.status.busy": "2021-07-28T20:33:22.063189Z",
     "iopub.status.idle": "2021-07-28T20:37:27.240341Z",
     "shell.execute_reply": "2021-07-28T20:37:27.239599Z",
     "shell.execute_reply.started": "2021-07-28T20:33:22.063524Z"
    },
    "tags": []
   },
   "outputs": [
    {
     "name": "stderr",
     "output_type": "stream",
     "text": [
      "100%|██████████| 3836/3836 [04:04<00:00, 15.66it/s]\n"
     ]
    }
   ],
   "source": [
    "corrected_titles = [o for o in find_correct_titles(dropped_df.index, large_titles_list)]"
   ]
  },
  {
   "cell_type": "code",
   "execution_count": 331,
   "metadata": {
    "execution": {
     "iopub.execute_input": "2021-07-28T20:37:27.241774Z",
     "iopub.status.busy": "2021-07-28T20:37:27.241597Z",
     "iopub.status.idle": "2021-07-28T20:37:27.245389Z",
     "shell.execute_reply": "2021-07-28T20:37:27.244821Z",
     "shell.execute_reply.started": "2021-07-28T20:37:27.241754Z"
    },
    "tags": []
   },
   "outputs": [
    {
     "data": {
      "text/plain": [
       "3836"
      ]
     },
     "execution_count": 331,
     "metadata": {},
     "output_type": "execute_result"
    }
   ],
   "source": [
    "len(corrected_titles)"
   ]
  },
  {
   "cell_type": "code",
   "execution_count": 342,
   "metadata": {
    "execution": {
     "iopub.execute_input": "2021-07-28T20:46:16.797569Z",
     "iopub.status.busy": "2021-07-28T20:46:16.797066Z",
     "iopub.status.idle": "2021-07-28T20:46:16.804644Z",
     "shell.execute_reply": "2021-07-28T20:46:16.803567Z",
     "shell.execute_reply.started": "2021-07-28T20:46:16.797506Z"
    },
    "tags": []
   },
   "outputs": [],
   "source": [
    "dropped_df['work_title'] = corrected_titles"
   ]
  },
  {
   "cell_type": "code",
   "execution_count": 473,
   "metadata": {
    "execution": {
     "iopub.execute_input": "2021-07-28T21:43:25.896647Z",
     "iopub.status.busy": "2021-07-28T21:43:25.895850Z",
     "iopub.status.idle": "2021-07-28T21:43:25.899904Z",
     "shell.execute_reply": "2021-07-28T21:43:25.899367Z",
     "shell.execute_reply.started": "2021-07-28T21:43:25.896626Z"
    },
    "tags": []
   },
   "outputs": [],
   "source": [
    "correct_df = dropped_df.set_index('rank')"
   ]
  },
  {
   "cell_type": "code",
   "execution_count": 474,
   "metadata": {
    "execution": {
     "iopub.execute_input": "2021-07-28T21:43:26.071166Z",
     "iopub.status.busy": "2021-07-28T21:43:26.070865Z",
     "iopub.status.idle": "2021-07-28T21:43:26.083700Z",
     "shell.execute_reply": "2021-07-28T21:43:26.083211Z",
     "shell.execute_reply.started": "2021-07-28T21:43:26.071131Z"
    },
    "tags": []
   },
   "outputs": [
    {
     "data": {
      "text/html": [
       "<div>\n",
       "<style scoped>\n",
       "    .dataframe tbody tr th:only-of-type {\n",
       "        vertical-align: middle;\n",
       "    }\n",
       "\n",
       "    .dataframe tbody tr th {\n",
       "        vertical-align: top;\n",
       "    }\n",
       "\n",
       "    .dataframe thead th {\n",
       "        text-align: right;\n",
       "    }\n",
       "</style>\n",
       "<table border=\"1\" class=\"dataframe\">\n",
       "  <thead>\n",
       "    <tr style=\"text-align: right;\">\n",
       "      <th></th>\n",
       "      <th>listed_count</th>\n",
       "      <th>work_title</th>\n",
       "    </tr>\n",
       "    <tr>\n",
       "      <th>rank</th>\n",
       "      <th></th>\n",
       "      <th></th>\n",
       "    </tr>\n",
       "  </thead>\n",
       "  <tbody>\n",
       "    <tr>\n",
       "      <th>1</th>\n",
       "      <td>51.0</td>\n",
       "      <td>Ulysses</td>\n",
       "    </tr>\n",
       "    <tr>\n",
       "      <th>2</th>\n",
       "      <td>50.0</td>\n",
       "      <td>The Great Gatsby</td>\n",
       "    </tr>\n",
       "    <tr>\n",
       "      <th>3</th>\n",
       "      <td>44.0</td>\n",
       "      <td>One Hundred Years of Solitude</td>\n",
       "    </tr>\n",
       "    <tr>\n",
       "      <th>4</th>\n",
       "      <td>43.0</td>\n",
       "      <td>Lolita</td>\n",
       "    </tr>\n",
       "    <tr>\n",
       "      <th>5</th>\n",
       "      <td>42.0</td>\n",
       "      <td>Nineteen Eighty Four</td>\n",
       "    </tr>\n",
       "    <tr>\n",
       "      <th>...</th>\n",
       "      <td>...</td>\n",
       "      <td>...</td>\n",
       "    </tr>\n",
       "    <tr>\n",
       "      <th>3832</th>\n",
       "      <td>1.0</td>\n",
       "      <td>Happiness in Marriage</td>\n",
       "    </tr>\n",
       "    <tr>\n",
       "      <th>3833</th>\n",
       "      <td>1.0</td>\n",
       "      <td>Decline Of The West</td>\n",
       "    </tr>\n",
       "    <tr>\n",
       "      <th>3834</th>\n",
       "      <td>1.0</td>\n",
       "      <td>The History of the Standard Oil Company: Brief...</td>\n",
       "    </tr>\n",
       "    <tr>\n",
       "      <th>3835</th>\n",
       "      <td>1.0</td>\n",
       "      <td>Theory of Games and Economic Behavior</td>\n",
       "    </tr>\n",
       "    <tr>\n",
       "      <th>3836</th>\n",
       "      <td>1.0</td>\n",
       "      <td>Book Book</td>\n",
       "    </tr>\n",
       "  </tbody>\n",
       "</table>\n",
       "<p>3836 rows × 2 columns</p>\n",
       "</div>"
      ],
      "text/plain": [
       "      listed_count                                         work_title\n",
       "rank                                                                 \n",
       "1             51.0                                            Ulysses\n",
       "2             50.0                                   The Great Gatsby\n",
       "3             44.0                      One Hundred Years of Solitude\n",
       "4             43.0                                             Lolita\n",
       "5             42.0                               Nineteen Eighty Four\n",
       "...            ...                                                ...\n",
       "3832           1.0                              Happiness in Marriage\n",
       "3833           1.0                                Decline Of The West\n",
       "3834           1.0  The History of the Standard Oil Company: Brief...\n",
       "3835           1.0              Theory of Games and Economic Behavior\n",
       "3836           1.0                                          Book Book\n",
       "\n",
       "[3836 rows x 2 columns]"
      ]
     },
     "execution_count": 474,
     "metadata": {},
     "output_type": "execute_result"
    }
   ],
   "source": [
    "correct_df"
   ]
  },
  {
   "cell_type": "code",
   "execution_count": 388,
   "metadata": {
    "execution": {
     "iopub.execute_input": "2021-07-28T21:01:13.774771Z",
     "iopub.status.busy": "2021-07-28T21:01:13.774029Z",
     "iopub.status.idle": "2021-07-28T21:01:14.814593Z",
     "shell.execute_reply": "2021-07-28T21:01:14.814208Z",
     "shell.execute_reply.started": "2021-07-28T21:01:13.774684Z"
    },
    "tags": []
   },
   "outputs": [],
   "source": [
    "large_df['title'] = large_df.index\n",
    "total_df = large_df.set_index('Unnamed: 0')[['title',\n",
    "          'author_name',\n",
    "           'top_genre',\n",
    "           'format', \n",
    "           'publisher', \n",
    "           'description',\n",
    "           'num_pages', \n",
    "           'average_rating', \n",
    "           'ratings_count',\n",
    "           'text_reviews_count', \n",
    "           'publication_year',\n",
    "           'work_id', \n",
    "           'book_id', \n",
    "           'isbn', \n",
    "           'isbn13',\n",
    "           'asin']]"
   ]
  },
  {
   "cell_type": "code",
   "execution_count": 401,
   "metadata": {
    "execution": {
     "iopub.execute_input": "2021-07-28T21:07:32.661997Z",
     "iopub.status.busy": "2021-07-28T21:07:32.661502Z",
     "iopub.status.idle": "2021-07-28T21:07:32.666908Z",
     "shell.execute_reply": "2021-07-28T21:07:32.666251Z",
     "shell.execute_reply.started": "2021-07-28T21:07:32.661936Z"
    },
    "tags": []
   },
   "outputs": [],
   "source": [
    "def get_editions_by_title(title, total_df):\n",
    "    eds = total_df.loc[total_df['title']==title]\n",
    "    return(eds)"
   ]
  },
  {
   "cell_type": "code",
   "execution_count": 438,
   "metadata": {
    "execution": {
     "iopub.execute_input": "2021-07-28T21:30:28.222894Z",
     "iopub.status.busy": "2021-07-28T21:30:28.222712Z",
     "iopub.status.idle": "2021-07-28T21:33:18.957294Z",
     "shell.execute_reply": "2021-07-28T21:33:18.956761Z",
     "shell.execute_reply.started": "2021-07-28T21:30:28.222876Z"
    },
    "tags": []
   },
   "outputs": [],
   "source": [
    "scraped = correct_df['work_title'].apply(lambda x: get_best_from_editions_df(get_editions_by_title(x, total_df)))"
   ]
  },
  {
   "cell_type": "code",
   "execution_count": 475,
   "metadata": {
    "execution": {
     "iopub.execute_input": "2021-07-28T21:43:35.079644Z",
     "iopub.status.busy": "2021-07-28T21:43:35.078964Z",
     "iopub.status.idle": "2021-07-28T21:43:35.097620Z",
     "shell.execute_reply": "2021-07-28T21:43:35.096559Z",
     "shell.execute_reply.started": "2021-07-28T21:43:35.079557Z"
    },
    "tags": []
   },
   "outputs": [
    {
     "data": {
      "text/plain": [
       "rank\n",
       "1       [Ulysses, James Joyce, classics, Paperback, Vi...\n",
       "2       [The Great Gatsby, F. Scott Fitzgerald, classi...\n",
       "3       [One Hundred Years of Solitude, Gabriel Garcia...\n",
       "4       [Lolita, Vladimir Nabokov, fiction, Paperback,...\n",
       "5       [Nineteen Eighty Four, George Orwell, classics...\n",
       "                              ...                        \n",
       "3832    [Happiness in Marriage, Margaret Sanger, wishl...\n",
       "3833    [Decline Of The West, Oswald Spengler, history...\n",
       "3834    [The History of the Standard Oil Company: Brie...\n",
       "3835    [Theory of Games and Economic Behavior, John v...\n",
       "3836    [Book Book, Fiona Farrell, fiction, Paperback,...\n",
       "Name: work_title, Length: 3836, dtype: object"
      ]
     },
     "execution_count": 475,
     "metadata": {},
     "output_type": "execute_result"
    }
   ],
   "source": [
    "scraped"
   ]
  },
  {
   "cell_type": "code",
   "execution_count": 476,
   "metadata": {
    "execution": {
     "iopub.execute_input": "2021-07-28T21:43:35.625822Z",
     "iopub.status.busy": "2021-07-28T21:43:35.625133Z",
     "iopub.status.idle": "2021-07-28T21:43:35.657998Z",
     "shell.execute_reply": "2021-07-28T21:43:35.657089Z",
     "shell.execute_reply.started": "2021-07-28T21:43:35.625735Z"
    },
    "tags": []
   },
   "outputs": [],
   "source": [
    "scraped_df = pd.DataFrame([v for v in scraped.values])"
   ]
  },
  {
   "cell_type": "code",
   "execution_count": 477,
   "metadata": {
    "execution": {
     "iopub.execute_input": "2021-07-28T21:43:47.113296Z",
     "iopub.status.busy": "2021-07-28T21:43:47.113142Z",
     "iopub.status.idle": "2021-07-28T21:43:47.115908Z",
     "shell.execute_reply": "2021-07-28T21:43:47.115511Z",
     "shell.execute_reply.started": "2021-07-28T21:43:47.113278Z"
    },
    "tags": []
   },
   "outputs": [],
   "source": [
    "scraped_df.columns = ['title',\n",
    "          'author_name',\n",
    "           'top_genre',\n",
    "           'format', \n",
    "           'publisher', \n",
    "           'description',\n",
    "           'num_pages', \n",
    "           'average_rating', \n",
    "           'ratings_count',\n",
    "           'text_reviews_count', \n",
    "           'publication_year',\n",
    "           'work_id', \n",
    "           'book_id', \n",
    "           'isbn', \n",
    "           'isbn13',\n",
    "           'asin',\n",
    "            'first_pub_year']"
   ]
  },
  {
   "cell_type": "code",
   "execution_count": 495,
   "metadata": {
    "execution": {
     "iopub.execute_input": "2021-07-28T21:54:15.600036Z",
     "iopub.status.busy": "2021-07-28T21:54:15.599861Z",
     "iopub.status.idle": "2021-07-28T21:54:15.608836Z",
     "shell.execute_reply": "2021-07-28T21:54:15.608350Z",
     "shell.execute_reply.started": "2021-07-28T21:54:15.600018Z"
    }
   },
   "outputs": [
    {
     "data": {
      "text/html": [
       "<div>\n",
       "<style scoped>\n",
       "    .dataframe tbody tr th:only-of-type {\n",
       "        vertical-align: middle;\n",
       "    }\n",
       "\n",
       "    .dataframe tbody tr th {\n",
       "        vertical-align: top;\n",
       "    }\n",
       "\n",
       "    .dataframe thead th {\n",
       "        text-align: right;\n",
       "    }\n",
       "</style>\n",
       "<table border=\"1\" class=\"dataframe\">\n",
       "  <thead>\n",
       "    <tr style=\"text-align: right;\">\n",
       "      <th></th>\n",
       "      <th>listed_count</th>\n",
       "      <th>work_title</th>\n",
       "    </tr>\n",
       "    <tr>\n",
       "      <th>rank</th>\n",
       "      <th></th>\n",
       "      <th></th>\n",
       "    </tr>\n",
       "  </thead>\n",
       "  <tbody>\n",
       "    <tr>\n",
       "      <th>1</th>\n",
       "      <td>51.0</td>\n",
       "      <td>Ulysses</td>\n",
       "    </tr>\n",
       "    <tr>\n",
       "      <th>2</th>\n",
       "      <td>50.0</td>\n",
       "      <td>The Great Gatsby</td>\n",
       "    </tr>\n",
       "    <tr>\n",
       "      <th>3</th>\n",
       "      <td>44.0</td>\n",
       "      <td>One Hundred Years of Solitude</td>\n",
       "    </tr>\n",
       "    <tr>\n",
       "      <th>4</th>\n",
       "      <td>43.0</td>\n",
       "      <td>Lolita</td>\n",
       "    </tr>\n",
       "    <tr>\n",
       "      <th>5</th>\n",
       "      <td>42.0</td>\n",
       "      <td>Nineteen Eighty Four</td>\n",
       "    </tr>\n",
       "    <tr>\n",
       "      <th>...</th>\n",
       "      <td>...</td>\n",
       "      <td>...</td>\n",
       "    </tr>\n",
       "    <tr>\n",
       "      <th>3832</th>\n",
       "      <td>1.0</td>\n",
       "      <td>Happiness in Marriage</td>\n",
       "    </tr>\n",
       "    <tr>\n",
       "      <th>3833</th>\n",
       "      <td>1.0</td>\n",
       "      <td>Decline Of The West</td>\n",
       "    </tr>\n",
       "    <tr>\n",
       "      <th>3834</th>\n",
       "      <td>1.0</td>\n",
       "      <td>The History of the Standard Oil Company: Brief...</td>\n",
       "    </tr>\n",
       "    <tr>\n",
       "      <th>3835</th>\n",
       "      <td>1.0</td>\n",
       "      <td>Theory of Games and Economic Behavior</td>\n",
       "    </tr>\n",
       "    <tr>\n",
       "      <th>3836</th>\n",
       "      <td>1.0</td>\n",
       "      <td>Book Book</td>\n",
       "    </tr>\n",
       "  </tbody>\n",
       "</table>\n",
       "<p>3836 rows × 2 columns</p>\n",
       "</div>"
      ],
      "text/plain": [
       "      listed_count                                         work_title\n",
       "rank                                                                 \n",
       "1             51.0                                            Ulysses\n",
       "2             50.0                                   The Great Gatsby\n",
       "3             44.0                      One Hundred Years of Solitude\n",
       "4             43.0                                             Lolita\n",
       "5             42.0                               Nineteen Eighty Four\n",
       "...            ...                                                ...\n",
       "3832           1.0                              Happiness in Marriage\n",
       "3833           1.0                                Decline Of The West\n",
       "3834           1.0  The History of the Standard Oil Company: Brief...\n",
       "3835           1.0              Theory of Games and Economic Behavior\n",
       "3836           1.0                                          Book Book\n",
       "\n",
       "[3836 rows x 2 columns]"
      ]
     },
     "execution_count": 495,
     "metadata": {},
     "output_type": "execute_result"
    }
   ],
   "source": [
    "correct_df"
   ]
  },
  {
   "cell_type": "code",
   "execution_count": 496,
   "metadata": {
    "execution": {
     "iopub.execute_input": "2021-07-28T21:54:42.835906Z",
     "iopub.status.busy": "2021-07-28T21:54:42.835750Z",
     "iopub.status.idle": "2021-07-28T21:54:42.837937Z",
     "shell.execute_reply": "2021-07-28T21:54:42.837596Z",
     "shell.execute_reply.started": "2021-07-28T21:54:42.835887Z"
    },
    "tags": []
   },
   "outputs": [],
   "source": [
    "scraped_df.index = correct_df.index"
   ]
  },
  {
   "cell_type": "code",
   "execution_count": 512,
   "metadata": {
    "execution": {
     "iopub.execute_input": "2021-07-28T22:01:36.955813Z",
     "iopub.status.busy": "2021-07-28T22:01:36.955664Z",
     "iopub.status.idle": "2021-07-28T22:01:36.960186Z",
     "shell.execute_reply": "2021-07-28T22:01:36.959788Z",
     "shell.execute_reply.started": "2021-07-28T22:01:36.955795Z"
    },
    "tags": []
   },
   "outputs": [],
   "source": [
    "cat_df = pd.concat([correct_df,scraped_df], axis=1)"
   ]
  },
  {
   "cell_type": "code",
   "execution_count": 513,
   "metadata": {
    "execution": {
     "iopub.execute_input": "2021-07-28T22:01:37.346876Z",
     "iopub.status.busy": "2021-07-28T22:01:37.346423Z",
     "iopub.status.idle": "2021-07-28T22:01:37.384706Z",
     "shell.execute_reply": "2021-07-28T22:01:37.384244Z",
     "shell.execute_reply.started": "2021-07-28T22:01:37.346819Z"
    },
    "tags": []
   },
   "outputs": [
    {
     "data": {
      "text/html": [
       "<div>\n",
       "<style scoped>\n",
       "    .dataframe tbody tr th:only-of-type {\n",
       "        vertical-align: middle;\n",
       "    }\n",
       "\n",
       "    .dataframe tbody tr th {\n",
       "        vertical-align: top;\n",
       "    }\n",
       "\n",
       "    .dataframe thead th {\n",
       "        text-align: right;\n",
       "    }\n",
       "</style>\n",
       "<table border=\"1\" class=\"dataframe\">\n",
       "  <thead>\n",
       "    <tr style=\"text-align: right;\">\n",
       "      <th></th>\n",
       "      <th>listed_count</th>\n",
       "      <th>work_title</th>\n",
       "      <th>title</th>\n",
       "      <th>author_name</th>\n",
       "      <th>top_genre</th>\n",
       "      <th>format</th>\n",
       "      <th>publisher</th>\n",
       "      <th>description</th>\n",
       "      <th>num_pages</th>\n",
       "      <th>average_rating</th>\n",
       "      <th>ratings_count</th>\n",
       "      <th>text_reviews_count</th>\n",
       "      <th>publication_year</th>\n",
       "      <th>work_id</th>\n",
       "      <th>book_id</th>\n",
       "      <th>isbn</th>\n",
       "      <th>isbn13</th>\n",
       "      <th>asin</th>\n",
       "      <th>first_pub_year</th>\n",
       "    </tr>\n",
       "    <tr>\n",
       "      <th>rank</th>\n",
       "      <th></th>\n",
       "      <th></th>\n",
       "      <th></th>\n",
       "      <th></th>\n",
       "      <th></th>\n",
       "      <th></th>\n",
       "      <th></th>\n",
       "      <th></th>\n",
       "      <th></th>\n",
       "      <th></th>\n",
       "      <th></th>\n",
       "      <th></th>\n",
       "      <th></th>\n",
       "      <th></th>\n",
       "      <th></th>\n",
       "      <th></th>\n",
       "      <th></th>\n",
       "      <th></th>\n",
       "      <th></th>\n",
       "    </tr>\n",
       "  </thead>\n",
       "  <tbody>\n",
       "    <tr>\n",
       "      <th>1</th>\n",
       "      <td>51.0</td>\n",
       "      <td>Ulysses</td>\n",
       "      <td>Ulysses</td>\n",
       "      <td>James Joyce</td>\n",
       "      <td>classics</td>\n",
       "      <td>Paperback</td>\n",
       "      <td>Vintage</td>\n",
       "      <td>The revised edition follows the complete and u...</td>\n",
       "      <td>810.0</td>\n",
       "      <td>3.74</td>\n",
       "      <td>78309.0</td>\n",
       "      <td>3674.0</td>\n",
       "      <td>1990.0</td>\n",
       "      <td>2368224.0</td>\n",
       "      <td>338798</td>\n",
       "      <td>0679722769</td>\n",
       "      <td>9780679722762</td>\n",
       "      <td>NaN</td>\n",
       "      <td>1934.0</td>\n",
       "    </tr>\n",
       "    <tr>\n",
       "      <th>2</th>\n",
       "      <td>50.0</td>\n",
       "      <td>The Great Gatsby</td>\n",
       "      <td>The Great Gatsby</td>\n",
       "      <td>F. Scott Fitzgerald</td>\n",
       "      <td>classics</td>\n",
       "      <td>Paperback</td>\n",
       "      <td>Scribner</td>\n",
       "      <td>THE GREAT GATSBY, F. Scott Fitzgerald's third ...</td>\n",
       "      <td>180.0</td>\n",
       "      <td>3.89</td>\n",
       "      <td>2758812.0</td>\n",
       "      <td>43881.0</td>\n",
       "      <td>2004.0</td>\n",
       "      <td>245494.0</td>\n",
       "      <td>4671</td>\n",
       "      <td>0743273567</td>\n",
       "      <td>9780743273565</td>\n",
       "      <td>NaN</td>\n",
       "      <td>1925.0</td>\n",
       "    </tr>\n",
       "    <tr>\n",
       "      <th>3</th>\n",
       "      <td>44.0</td>\n",
       "      <td>One Hundred Years of Solitude</td>\n",
       "      <td>One Hundred Years of Solitude</td>\n",
       "      <td>Gabriel Garcia Marquez</td>\n",
       "      <td>favorites</td>\n",
       "      <td>Hardcover</td>\n",
       "      <td>Harper</td>\n",
       "      <td>Probably Garcia Marquez finest and most famous...</td>\n",
       "      <td>457.0</td>\n",
       "      <td>4.04</td>\n",
       "      <td>497852.0</td>\n",
       "      <td>13886.0</td>\n",
       "      <td>2003.0</td>\n",
       "      <td>3295655.0</td>\n",
       "      <td>320</td>\n",
       "      <td>0060531045</td>\n",
       "      <td>9780060531041</td>\n",
       "      <td>NaN</td>\n",
       "      <td>1970.0</td>\n",
       "    </tr>\n",
       "    <tr>\n",
       "      <th>4</th>\n",
       "      <td>43.0</td>\n",
       "      <td>Lolita</td>\n",
       "      <td>Lolita</td>\n",
       "      <td>Vladimir Nabokov</td>\n",
       "      <td>fiction</td>\n",
       "      <td>Paperback</td>\n",
       "      <td>Penguin</td>\n",
       "      <td>Humbert Humbert - scholar, aesthete and romant...</td>\n",
       "      <td>331.0</td>\n",
       "      <td>3.88</td>\n",
       "      <td>476744.0</td>\n",
       "      <td>12538.0</td>\n",
       "      <td>1995.0</td>\n",
       "      <td>1268631.0</td>\n",
       "      <td>7604</td>\n",
       "      <td>NaN</td>\n",
       "      <td>NaN</td>\n",
       "      <td>NaN</td>\n",
       "      <td>1955.0</td>\n",
       "    </tr>\n",
       "    <tr>\n",
       "      <th>5</th>\n",
       "      <td>42.0</td>\n",
       "      <td>Nineteen Eighty Four</td>\n",
       "      <td>Nineteen Eighty Four</td>\n",
       "      <td>George Orwell</td>\n",
       "      <td>classics</td>\n",
       "      <td>Hardcover</td>\n",
       "      <td>Methuen Publishing</td>\n",
       "      <td>Winston Smith is a low-rung member of the Part...</td>\n",
       "      <td>326.0</td>\n",
       "      <td>4.14</td>\n",
       "      <td>198.0</td>\n",
       "      <td>15.0</td>\n",
       "      <td>1993.0</td>\n",
       "      <td>153313.0</td>\n",
       "      <td>6214262</td>\n",
       "      <td>074931723X</td>\n",
       "      <td>9780749317232</td>\n",
       "      <td>NaN</td>\n",
       "      <td>1954.0</td>\n",
       "    </tr>\n",
       "    <tr>\n",
       "      <th>...</th>\n",
       "      <td>...</td>\n",
       "      <td>...</td>\n",
       "      <td>...</td>\n",
       "      <td>...</td>\n",
       "      <td>...</td>\n",
       "      <td>...</td>\n",
       "      <td>...</td>\n",
       "      <td>...</td>\n",
       "      <td>...</td>\n",
       "      <td>...</td>\n",
       "      <td>...</td>\n",
       "      <td>...</td>\n",
       "      <td>...</td>\n",
       "      <td>...</td>\n",
       "      <td>...</td>\n",
       "      <td>...</td>\n",
       "      <td>...</td>\n",
       "      <td>...</td>\n",
       "      <td>...</td>\n",
       "    </tr>\n",
       "    <tr>\n",
       "      <th>3832</th>\n",
       "      <td>1.0</td>\n",
       "      <td>Happiness in Marriage</td>\n",
       "      <td>Happiness in Marriage</td>\n",
       "      <td>Margaret Sanger</td>\n",
       "      <td>wishlist-gender-women-history</td>\n",
       "      <td>Paperback</td>\n",
       "      <td>Pierides Press</td>\n",
       "      <td>Margaret Sanger, mother of the birth control m...</td>\n",
       "      <td>NaN</td>\n",
       "      <td>3.00</td>\n",
       "      <td>6.0</td>\n",
       "      <td>2.0</td>\n",
       "      <td>2006.0</td>\n",
       "      <td>1391616.0</td>\n",
       "      <td>1401421</td>\n",
       "      <td>1406795747</td>\n",
       "      <td>9781406795745</td>\n",
       "      <td>NaN</td>\n",
       "      <td>2006.0</td>\n",
       "    </tr>\n",
       "    <tr>\n",
       "      <th>3833</th>\n",
       "      <td>1.0</td>\n",
       "      <td>Decline Of The West</td>\n",
       "      <td>Decline Of The West</td>\n",
       "      <td>Oswald Spengler</td>\n",
       "      <td>history</td>\n",
       "      <td>NaN</td>\n",
       "      <td>NaN</td>\n",
       "      <td>Since its first publication in two volumes bet...</td>\n",
       "      <td>NaN</td>\n",
       "      <td>4.07</td>\n",
       "      <td>1.0</td>\n",
       "      <td>1.0</td>\n",
       "      <td>NaN</td>\n",
       "      <td>1081173.0</td>\n",
       "      <td>6194776</td>\n",
       "      <td>0049010085</td>\n",
       "      <td>9780049010086</td>\n",
       "      <td>NaN</td>\n",
       "      <td>NaN</td>\n",
       "    </tr>\n",
       "    <tr>\n",
       "      <th>3834</th>\n",
       "      <td>1.0</td>\n",
       "      <td>The History of the Standard Oil Company: Brief...</td>\n",
       "      <td>The History of the Standard Oil Company: Brief...</td>\n",
       "      <td>Ida Minerva Tarbell</td>\n",
       "      <td>history</td>\n",
       "      <td>Paperback</td>\n",
       "      <td>Dover Publications</td>\n",
       "      <td>Muckrakers -- a term coined in 1906 by Preside...</td>\n",
       "      <td>272.0</td>\n",
       "      <td>3.88</td>\n",
       "      <td>44.0</td>\n",
       "      <td>8.0</td>\n",
       "      <td>2003.0</td>\n",
       "      <td>659882.0</td>\n",
       "      <td>673868</td>\n",
       "      <td>0486428214</td>\n",
       "      <td>9780486428215</td>\n",
       "      <td>NaN</td>\n",
       "      <td>2003.0</td>\n",
       "    </tr>\n",
       "    <tr>\n",
       "      <th>3835</th>\n",
       "      <td>1.0</td>\n",
       "      <td>Theory of Games and Economic Behavior</td>\n",
       "      <td>Theory of Games and Economic Behavior</td>\n",
       "      <td>John von Neumann</td>\n",
       "      <td>mathematics</td>\n",
       "      <td>NaN</td>\n",
       "      <td>NaN</td>\n",
       "      <td>NaN</td>\n",
       "      <td>NaN</td>\n",
       "      <td>4.17</td>\n",
       "      <td>165.0</td>\n",
       "      <td>4.0</td>\n",
       "      <td>NaN</td>\n",
       "      <td>471402.0</td>\n",
       "      <td>483055</td>\n",
       "      <td>0691130612</td>\n",
       "      <td>9780691130613</td>\n",
       "      <td>NaN</td>\n",
       "      <td>NaN</td>\n",
       "    </tr>\n",
       "    <tr>\n",
       "      <th>3836</th>\n",
       "      <td>1.0</td>\n",
       "      <td>Book Book</td>\n",
       "      <td>Book Book</td>\n",
       "      <td>Fiona Farrell</td>\n",
       "      <td>fiction</td>\n",
       "      <td>Paperback</td>\n",
       "      <td>Vintage Books</td>\n",
       "      <td>As war is waged in the Middle East, a woman in...</td>\n",
       "      <td>367.0</td>\n",
       "      <td>3.60</td>\n",
       "      <td>44.0</td>\n",
       "      <td>9.0</td>\n",
       "      <td>2004.0</td>\n",
       "      <td>1833136.0</td>\n",
       "      <td>1833201</td>\n",
       "      <td>1869416198</td>\n",
       "      <td>9781869416195</td>\n",
       "      <td>NaN</td>\n",
       "      <td>2004.0</td>\n",
       "    </tr>\n",
       "  </tbody>\n",
       "</table>\n",
       "<p>3836 rows × 19 columns</p>\n",
       "</div>"
      ],
      "text/plain": [
       "      listed_count                                         work_title  \\\n",
       "rank                                                                    \n",
       "1             51.0                                            Ulysses   \n",
       "2             50.0                                   The Great Gatsby   \n",
       "3             44.0                      One Hundred Years of Solitude   \n",
       "4             43.0                                             Lolita   \n",
       "5             42.0                               Nineteen Eighty Four   \n",
       "...            ...                                                ...   \n",
       "3832           1.0                              Happiness in Marriage   \n",
       "3833           1.0                                Decline Of The West   \n",
       "3834           1.0  The History of the Standard Oil Company: Brief...   \n",
       "3835           1.0              Theory of Games and Economic Behavior   \n",
       "3836           1.0                                          Book Book   \n",
       "\n",
       "                                                  title  \\\n",
       "rank                                                      \n",
       "1                                               Ulysses   \n",
       "2                                      The Great Gatsby   \n",
       "3                         One Hundred Years of Solitude   \n",
       "4                                                Lolita   \n",
       "5                                  Nineteen Eighty Four   \n",
       "...                                                 ...   \n",
       "3832                              Happiness in Marriage   \n",
       "3833                                Decline Of The West   \n",
       "3834  The History of the Standard Oil Company: Brief...   \n",
       "3835              Theory of Games and Economic Behavior   \n",
       "3836                                          Book Book   \n",
       "\n",
       "                 author_name                      top_genre     format  \\\n",
       "rank                                                                     \n",
       "1                James Joyce                       classics  Paperback   \n",
       "2        F. Scott Fitzgerald                       classics  Paperback   \n",
       "3     Gabriel Garcia Marquez                      favorites  Hardcover   \n",
       "4           Vladimir Nabokov                        fiction  Paperback   \n",
       "5              George Orwell                       classics  Hardcover   \n",
       "...                      ...                            ...        ...   \n",
       "3832         Margaret Sanger  wishlist-gender-women-history  Paperback   \n",
       "3833         Oswald Spengler                        history        NaN   \n",
       "3834     Ida Minerva Tarbell                        history  Paperback   \n",
       "3835        John von Neumann                    mathematics        NaN   \n",
       "3836           Fiona Farrell                        fiction  Paperback   \n",
       "\n",
       "               publisher                                        description  \\\n",
       "rank                                                                          \n",
       "1                Vintage  The revised edition follows the complete and u...   \n",
       "2               Scribner  THE GREAT GATSBY, F. Scott Fitzgerald's third ...   \n",
       "3                 Harper  Probably Garcia Marquez finest and most famous...   \n",
       "4                Penguin  Humbert Humbert - scholar, aesthete and romant...   \n",
       "5     Methuen Publishing  Winston Smith is a low-rung member of the Part...   \n",
       "...                  ...                                                ...   \n",
       "3832      Pierides Press  Margaret Sanger, mother of the birth control m...   \n",
       "3833                 NaN  Since its first publication in two volumes bet...   \n",
       "3834  Dover Publications  Muckrakers -- a term coined in 1906 by Preside...   \n",
       "3835                 NaN                                                NaN   \n",
       "3836       Vintage Books  As war is waged in the Middle East, a woman in...   \n",
       "\n",
       "      num_pages  average_rating  ratings_count  text_reviews_count  \\\n",
       "rank                                                                 \n",
       "1         810.0            3.74        78309.0              3674.0   \n",
       "2         180.0            3.89      2758812.0             43881.0   \n",
       "3         457.0            4.04       497852.0             13886.0   \n",
       "4         331.0            3.88       476744.0             12538.0   \n",
       "5         326.0            4.14          198.0                15.0   \n",
       "...         ...             ...            ...                 ...   \n",
       "3832        NaN            3.00            6.0                 2.0   \n",
       "3833        NaN            4.07            1.0                 1.0   \n",
       "3834      272.0            3.88           44.0                 8.0   \n",
       "3835        NaN            4.17          165.0                 4.0   \n",
       "3836      367.0            3.60           44.0                 9.0   \n",
       "\n",
       "      publication_year    work_id  book_id        isbn         isbn13 asin  \\\n",
       "rank                                                                         \n",
       "1               1990.0  2368224.0   338798  0679722769  9780679722762  NaN   \n",
       "2               2004.0   245494.0     4671  0743273567  9780743273565  NaN   \n",
       "3               2003.0  3295655.0      320  0060531045  9780060531041  NaN   \n",
       "4               1995.0  1268631.0     7604         NaN            NaN  NaN   \n",
       "5               1993.0   153313.0  6214262  074931723X  9780749317232  NaN   \n",
       "...                ...        ...      ...         ...            ...  ...   \n",
       "3832            2006.0  1391616.0  1401421  1406795747  9781406795745  NaN   \n",
       "3833               NaN  1081173.0  6194776  0049010085  9780049010086  NaN   \n",
       "3834            2003.0   659882.0   673868  0486428214  9780486428215  NaN   \n",
       "3835               NaN   471402.0   483055  0691130612  9780691130613  NaN   \n",
       "3836            2004.0  1833136.0  1833201  1869416198  9781869416195  NaN   \n",
       "\n",
       "      first_pub_year  \n",
       "rank                  \n",
       "1             1934.0  \n",
       "2             1925.0  \n",
       "3             1970.0  \n",
       "4             1955.0  \n",
       "5             1954.0  \n",
       "...              ...  \n",
       "3832          2006.0  \n",
       "3833             NaN  \n",
       "3834          2003.0  \n",
       "3835             NaN  \n",
       "3836          2004.0  \n",
       "\n",
       "[3836 rows x 19 columns]"
      ]
     },
     "execution_count": 513,
     "metadata": {},
     "output_type": "execute_result"
    }
   ],
   "source": [
    "cat_df"
   ]
  },
  {
   "cell_type": "code",
   "execution_count": 514,
   "metadata": {
    "execution": {
     "iopub.execute_input": "2021-07-28T22:01:37.852256Z",
     "iopub.status.busy": "2021-07-28T22:01:37.851269Z",
     "iopub.status.idle": "2021-07-28T22:01:37.869352Z",
     "shell.execute_reply": "2021-07-28T22:01:37.868807Z",
     "shell.execute_reply.started": "2021-07-28T22:01:37.852125Z"
    },
    "tags": []
   },
   "outputs": [],
   "source": [
    "final_df = cat_df.drop('work_title', axis=1)"
   ]
  },
  {
   "cell_type": "code",
   "execution_count": 515,
   "metadata": {
    "execution": {
     "iopub.execute_input": "2021-07-28T22:01:38.503869Z",
     "iopub.status.busy": "2021-07-28T22:01:38.503607Z",
     "iopub.status.idle": "2021-07-28T22:01:38.528613Z",
     "shell.execute_reply": "2021-07-28T22:01:38.527939Z",
     "shell.execute_reply.started": "2021-07-28T22:01:38.503839Z"
    },
    "tags": []
   },
   "outputs": [
    {
     "data": {
      "text/html": [
       "<div>\n",
       "<style scoped>\n",
       "    .dataframe tbody tr th:only-of-type {\n",
       "        vertical-align: middle;\n",
       "    }\n",
       "\n",
       "    .dataframe tbody tr th {\n",
       "        vertical-align: top;\n",
       "    }\n",
       "\n",
       "    .dataframe thead th {\n",
       "        text-align: right;\n",
       "    }\n",
       "</style>\n",
       "<table border=\"1\" class=\"dataframe\">\n",
       "  <thead>\n",
       "    <tr style=\"text-align: right;\">\n",
       "      <th></th>\n",
       "      <th>listed_count</th>\n",
       "      <th>num_pages</th>\n",
       "      <th>average_rating</th>\n",
       "      <th>ratings_count</th>\n",
       "      <th>text_reviews_count</th>\n",
       "      <th>publication_year</th>\n",
       "      <th>work_id</th>\n",
       "      <th>book_id</th>\n",
       "      <th>first_pub_year</th>\n",
       "    </tr>\n",
       "  </thead>\n",
       "  <tbody>\n",
       "    <tr>\n",
       "      <th>count</th>\n",
       "      <td>3836.000000</td>\n",
       "      <td>3378.000000</td>\n",
       "      <td>3836.000000</td>\n",
       "      <td>3.836000e+03</td>\n",
       "      <td>3836.000000</td>\n",
       "      <td>3218.000000</td>\n",
       "      <td>3.836000e+03</td>\n",
       "      <td>3.836000e+03</td>\n",
       "      <td>3614.000000</td>\n",
       "    </tr>\n",
       "    <tr>\n",
       "      <th>mean</th>\n",
       "      <td>2.723410</td>\n",
       "      <td>364.333629</td>\n",
       "      <td>3.917122</td>\n",
       "      <td>4.447718e+04</td>\n",
       "      <td>1441.705422</td>\n",
       "      <td>1998.267247</td>\n",
       "      <td>5.124938e+06</td>\n",
       "      <td>3.057160e+06</td>\n",
       "      <td>1983.232706</td>\n",
       "    </tr>\n",
       "    <tr>\n",
       "      <th>std</th>\n",
       "      <td>4.526196</td>\n",
       "      <td>589.408612</td>\n",
       "      <td>0.281635</td>\n",
       "      <td>1.963760e+05</td>\n",
       "      <td>5373.247895</td>\n",
       "      <td>12.648351</td>\n",
       "      <td>1.094187e+07</td>\n",
       "      <td>6.603514e+06</td>\n",
       "      <td>24.966777</td>\n",
       "    </tr>\n",
       "    <tr>\n",
       "      <th>min</th>\n",
       "      <td>1.000000</td>\n",
       "      <td>0.000000</td>\n",
       "      <td>2.330000</td>\n",
       "      <td>0.000000e+00</td>\n",
       "      <td>1.000000</td>\n",
       "      <td>1912.000000</td>\n",
       "      <td>1.140000e+02</td>\n",
       "      <td>2.100000e+01</td>\n",
       "      <td>1759.000000</td>\n",
       "    </tr>\n",
       "    <tr>\n",
       "      <th>25%</th>\n",
       "      <td>1.000000</td>\n",
       "      <td>209.000000</td>\n",
       "      <td>3.760000</td>\n",
       "      <td>1.820000e+02</td>\n",
       "      <td>17.000000</td>\n",
       "      <td>1994.000000</td>\n",
       "      <td>6.224172e+05</td>\n",
       "      <td>5.185325e+04</td>\n",
       "      <td>1968.000000</td>\n",
       "    </tr>\n",
       "    <tr>\n",
       "      <th>50%</th>\n",
       "      <td>1.000000</td>\n",
       "      <td>307.000000</td>\n",
       "      <td>3.930000</td>\n",
       "      <td>1.656500e+03</td>\n",
       "      <td>108.000000</td>\n",
       "      <td>2001.000000</td>\n",
       "      <td>1.388363e+06</td>\n",
       "      <td>2.979740e+05</td>\n",
       "      <td>1989.000000</td>\n",
       "    </tr>\n",
       "    <tr>\n",
       "      <th>75%</th>\n",
       "      <td>2.000000</td>\n",
       "      <td>444.750000</td>\n",
       "      <td>4.110000</td>\n",
       "      <td>1.178900e+04</td>\n",
       "      <td>648.250000</td>\n",
       "      <td>2006.000000</td>\n",
       "      <td>2.931549e+06</td>\n",
       "      <td>1.399795e+06</td>\n",
       "      <td>2002.000000</td>\n",
       "    </tr>\n",
       "    <tr>\n",
       "      <th>max</th>\n",
       "      <td>51.000000</td>\n",
       "      <td>32000.000000</td>\n",
       "      <td>5.000000</td>\n",
       "      <td>3.255518e+06</td>\n",
       "      <td>129572.000000</td>\n",
       "      <td>2018.000000</td>\n",
       "      <td>5.812730e+07</td>\n",
       "      <td>3.621645e+07</td>\n",
       "      <td>2018.000000</td>\n",
       "    </tr>\n",
       "  </tbody>\n",
       "</table>\n",
       "</div>"
      ],
      "text/plain": [
       "       listed_count     num_pages  average_rating  ratings_count  \\\n",
       "count   3836.000000   3378.000000     3836.000000   3.836000e+03   \n",
       "mean       2.723410    364.333629        3.917122   4.447718e+04   \n",
       "std        4.526196    589.408612        0.281635   1.963760e+05   \n",
       "min        1.000000      0.000000        2.330000   0.000000e+00   \n",
       "25%        1.000000    209.000000        3.760000   1.820000e+02   \n",
       "50%        1.000000    307.000000        3.930000   1.656500e+03   \n",
       "75%        2.000000    444.750000        4.110000   1.178900e+04   \n",
       "max       51.000000  32000.000000        5.000000   3.255518e+06   \n",
       "\n",
       "       text_reviews_count  publication_year       work_id       book_id  \\\n",
       "count         3836.000000       3218.000000  3.836000e+03  3.836000e+03   \n",
       "mean          1441.705422       1998.267247  5.124938e+06  3.057160e+06   \n",
       "std           5373.247895         12.648351  1.094187e+07  6.603514e+06   \n",
       "min              1.000000       1912.000000  1.140000e+02  2.100000e+01   \n",
       "25%             17.000000       1994.000000  6.224172e+05  5.185325e+04   \n",
       "50%            108.000000       2001.000000  1.388363e+06  2.979740e+05   \n",
       "75%            648.250000       2006.000000  2.931549e+06  1.399795e+06   \n",
       "max         129572.000000       2018.000000  5.812730e+07  3.621645e+07   \n",
       "\n",
       "       first_pub_year  \n",
       "count     3614.000000  \n",
       "mean      1983.232706  \n",
       "std         24.966777  \n",
       "min       1759.000000  \n",
       "25%       1968.000000  \n",
       "50%       1989.000000  \n",
       "75%       2002.000000  \n",
       "max       2018.000000  "
      ]
     },
     "execution_count": 515,
     "metadata": {},
     "output_type": "execute_result"
    }
   ],
   "source": [
    "final_df.describe()"
   ]
  },
  {
   "cell_type": "code",
   "execution_count": 516,
   "metadata": {
    "execution": {
     "iopub.execute_input": "2021-07-28T22:01:40.726826Z",
     "iopub.status.busy": "2021-07-28T22:01:40.726621Z",
     "iopub.status.idle": "2021-07-28T22:01:40.749030Z",
     "shell.execute_reply": "2021-07-28T22:01:40.748496Z",
     "shell.execute_reply.started": "2021-07-28T22:01:40.726803Z"
    },
    "tags": []
   },
   "outputs": [
    {
     "data": {
      "text/html": [
       "<div>\n",
       "<style scoped>\n",
       "    .dataframe tbody tr th:only-of-type {\n",
       "        vertical-align: middle;\n",
       "    }\n",
       "\n",
       "    .dataframe tbody tr th {\n",
       "        vertical-align: top;\n",
       "    }\n",
       "\n",
       "    .dataframe thead th {\n",
       "        text-align: right;\n",
       "    }\n",
       "</style>\n",
       "<table border=\"1\" class=\"dataframe\">\n",
       "  <thead>\n",
       "    <tr style=\"text-align: right;\">\n",
       "      <th></th>\n",
       "      <th>listed_count</th>\n",
       "      <th>title</th>\n",
       "      <th>author_name</th>\n",
       "      <th>top_genre</th>\n",
       "      <th>format</th>\n",
       "      <th>publisher</th>\n",
       "      <th>description</th>\n",
       "      <th>num_pages</th>\n",
       "      <th>average_rating</th>\n",
       "      <th>ratings_count</th>\n",
       "      <th>text_reviews_count</th>\n",
       "      <th>publication_year</th>\n",
       "      <th>work_id</th>\n",
       "      <th>book_id</th>\n",
       "      <th>isbn</th>\n",
       "      <th>isbn13</th>\n",
       "      <th>asin</th>\n",
       "      <th>first_pub_year</th>\n",
       "    </tr>\n",
       "    <tr>\n",
       "      <th>rank</th>\n",
       "      <th></th>\n",
       "      <th></th>\n",
       "      <th></th>\n",
       "      <th></th>\n",
       "      <th></th>\n",
       "      <th></th>\n",
       "      <th></th>\n",
       "      <th></th>\n",
       "      <th></th>\n",
       "      <th></th>\n",
       "      <th></th>\n",
       "      <th></th>\n",
       "      <th></th>\n",
       "      <th></th>\n",
       "      <th></th>\n",
       "      <th></th>\n",
       "      <th></th>\n",
       "      <th></th>\n",
       "    </tr>\n",
       "  </thead>\n",
       "  <tbody>\n",
       "    <tr>\n",
       "      <th>1</th>\n",
       "      <td>51.0</td>\n",
       "      <td>Ulysses</td>\n",
       "      <td>James Joyce</td>\n",
       "      <td>classics</td>\n",
       "      <td>Paperback</td>\n",
       "      <td>Vintage</td>\n",
       "      <td>The revised edition follows the complete and u...</td>\n",
       "      <td>810.0</td>\n",
       "      <td>3.74</td>\n",
       "      <td>78309.0</td>\n",
       "      <td>3674.0</td>\n",
       "      <td>1990.0</td>\n",
       "      <td>2368224.0</td>\n",
       "      <td>338798</td>\n",
       "      <td>0679722769</td>\n",
       "      <td>9780679722762</td>\n",
       "      <td>NaN</td>\n",
       "      <td>1934.0</td>\n",
       "    </tr>\n",
       "    <tr>\n",
       "      <th>2</th>\n",
       "      <td>50.0</td>\n",
       "      <td>The Great Gatsby</td>\n",
       "      <td>F. Scott Fitzgerald</td>\n",
       "      <td>classics</td>\n",
       "      <td>Paperback</td>\n",
       "      <td>Scribner</td>\n",
       "      <td>THE GREAT GATSBY, F. Scott Fitzgerald's third ...</td>\n",
       "      <td>180.0</td>\n",
       "      <td>3.89</td>\n",
       "      <td>2758812.0</td>\n",
       "      <td>43881.0</td>\n",
       "      <td>2004.0</td>\n",
       "      <td>245494.0</td>\n",
       "      <td>4671</td>\n",
       "      <td>0743273567</td>\n",
       "      <td>9780743273565</td>\n",
       "      <td>NaN</td>\n",
       "      <td>1925.0</td>\n",
       "    </tr>\n",
       "    <tr>\n",
       "      <th>3</th>\n",
       "      <td>44.0</td>\n",
       "      <td>One Hundred Years of Solitude</td>\n",
       "      <td>Gabriel Garcia Marquez</td>\n",
       "      <td>favorites</td>\n",
       "      <td>Hardcover</td>\n",
       "      <td>Harper</td>\n",
       "      <td>Probably Garcia Marquez finest and most famous...</td>\n",
       "      <td>457.0</td>\n",
       "      <td>4.04</td>\n",
       "      <td>497852.0</td>\n",
       "      <td>13886.0</td>\n",
       "      <td>2003.0</td>\n",
       "      <td>3295655.0</td>\n",
       "      <td>320</td>\n",
       "      <td>0060531045</td>\n",
       "      <td>9780060531041</td>\n",
       "      <td>NaN</td>\n",
       "      <td>1970.0</td>\n",
       "    </tr>\n",
       "    <tr>\n",
       "      <th>4</th>\n",
       "      <td>43.0</td>\n",
       "      <td>Lolita</td>\n",
       "      <td>Vladimir Nabokov</td>\n",
       "      <td>fiction</td>\n",
       "      <td>Paperback</td>\n",
       "      <td>Penguin</td>\n",
       "      <td>Humbert Humbert - scholar, aesthete and romant...</td>\n",
       "      <td>331.0</td>\n",
       "      <td>3.88</td>\n",
       "      <td>476744.0</td>\n",
       "      <td>12538.0</td>\n",
       "      <td>1995.0</td>\n",
       "      <td>1268631.0</td>\n",
       "      <td>7604</td>\n",
       "      <td>NaN</td>\n",
       "      <td>NaN</td>\n",
       "      <td>NaN</td>\n",
       "      <td>1955.0</td>\n",
       "    </tr>\n",
       "    <tr>\n",
       "      <th>5</th>\n",
       "      <td>42.0</td>\n",
       "      <td>Nineteen Eighty Four</td>\n",
       "      <td>George Orwell</td>\n",
       "      <td>classics</td>\n",
       "      <td>Hardcover</td>\n",
       "      <td>Methuen Publishing</td>\n",
       "      <td>Winston Smith is a low-rung member of the Part...</td>\n",
       "      <td>326.0</td>\n",
       "      <td>4.14</td>\n",
       "      <td>198.0</td>\n",
       "      <td>15.0</td>\n",
       "      <td>1993.0</td>\n",
       "      <td>153313.0</td>\n",
       "      <td>6214262</td>\n",
       "      <td>074931723X</td>\n",
       "      <td>9780749317232</td>\n",
       "      <td>NaN</td>\n",
       "      <td>1954.0</td>\n",
       "    </tr>\n",
       "  </tbody>\n",
       "</table>\n",
       "</div>"
      ],
      "text/plain": [
       "      listed_count                          title             author_name  \\\n",
       "rank                                                                        \n",
       "1             51.0                        Ulysses             James Joyce   \n",
       "2             50.0               The Great Gatsby     F. Scott Fitzgerald   \n",
       "3             44.0  One Hundred Years of Solitude  Gabriel Garcia Marquez   \n",
       "4             43.0                         Lolita        Vladimir Nabokov   \n",
       "5             42.0           Nineteen Eighty Four           George Orwell   \n",
       "\n",
       "      top_genre     format           publisher  \\\n",
       "rank                                             \n",
       "1      classics  Paperback             Vintage   \n",
       "2      classics  Paperback            Scribner   \n",
       "3     favorites  Hardcover              Harper   \n",
       "4       fiction  Paperback             Penguin   \n",
       "5      classics  Hardcover  Methuen Publishing   \n",
       "\n",
       "                                            description  num_pages  \\\n",
       "rank                                                                 \n",
       "1     The revised edition follows the complete and u...      810.0   \n",
       "2     THE GREAT GATSBY, F. Scott Fitzgerald's third ...      180.0   \n",
       "3     Probably Garcia Marquez finest and most famous...      457.0   \n",
       "4     Humbert Humbert - scholar, aesthete and romant...      331.0   \n",
       "5     Winston Smith is a low-rung member of the Part...      326.0   \n",
       "\n",
       "      average_rating  ratings_count  text_reviews_count  publication_year  \\\n",
       "rank                                                                        \n",
       "1               3.74        78309.0              3674.0            1990.0   \n",
       "2               3.89      2758812.0             43881.0            2004.0   \n",
       "3               4.04       497852.0             13886.0            2003.0   \n",
       "4               3.88       476744.0             12538.0            1995.0   \n",
       "5               4.14          198.0                15.0            1993.0   \n",
       "\n",
       "        work_id  book_id        isbn         isbn13 asin  first_pub_year  \n",
       "rank                                                                      \n",
       "1     2368224.0   338798  0679722769  9780679722762  NaN          1934.0  \n",
       "2      245494.0     4671  0743273567  9780743273565  NaN          1925.0  \n",
       "3     3295655.0      320  0060531045  9780060531041  NaN          1970.0  \n",
       "4     1268631.0     7604         NaN            NaN  NaN          1955.0  \n",
       "5      153313.0  6214262  074931723X  9780749317232  NaN          1954.0  "
      ]
     },
     "execution_count": 516,
     "metadata": {},
     "output_type": "execute_result"
    }
   ],
   "source": [
    "final_df.head()"
   ]
  },
  {
   "cell_type": "code",
   "execution_count": 509,
   "metadata": {
    "execution": {
     "iopub.execute_input": "2021-07-28T21:56:40.111884Z",
     "iopub.status.busy": "2021-07-28T21:56:40.111739Z",
     "iopub.status.idle": "2021-07-28T21:56:40.184696Z",
     "shell.execute_reply": "2021-07-28T21:56:40.184309Z",
     "shell.execute_reply.started": "2021-07-28T21:56:40.111867Z"
    },
    "tags": []
   },
   "outputs": [],
   "source": [
    "final_df.to_csv('../../records/invisible-canon-draft-1.csv')"
   ]
  },
  {
   "cell_type": "code",
   "execution_count": null,
   "metadata": {},
   "outputs": [],
   "source": []
  }
 ],
 "metadata": {
  "kernelspec": {
   "display_name": "Python 3",
   "language": "python",
   "name": "python3"
  },
  "language_info": {
   "codemirror_mode": {
    "name": "ipython",
    "version": 3
   },
   "file_extension": ".py",
   "mimetype": "text/x-python",
   "name": "python",
   "nbconvert_exporter": "python",
   "pygments_lexer": "ipython3",
   "version": "3.7.7"
  },
  "widgets": {
   "application/vnd.jupyter.widget-state+json": {
    "state": {},
    "version_major": 2,
    "version_minor": 0
   }
  }
 },
 "nbformat": 4,
 "nbformat_minor": 4
}
