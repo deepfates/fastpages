{
 "cells": [
  {
   "cell_type": "markdown",
   "metadata": {
    "execution": {
     "iopub.execute_input": "2021-06-08T02:15:45.288459Z",
     "iopub.status.busy": "2021-06-08T02:15:45.288278Z",
     "iopub.status.idle": "2021-06-08T02:15:45.291898Z",
     "shell.execute_reply": "2021-06-08T02:15:45.291116Z",
     "shell.execute_reply.started": "2021-06-08T02:15:45.288441Z"
    },
    "tags": []
   },
   "source": [
    "# Invisible Canon\n",
    "> A project with a bit of hubris\n",
    "- toc: true \n",
    "- badges: true\n",
    "- categories: [writing, canon]\n",
    "- sticky_rank: 5\n",
    "- image: images/popularity-prestige.png"
   ]
  },
  {
   "cell_type": "markdown",
   "metadata": {},
   "source": [
    "**I'm building a canon!**"
   ]
  },
  {
   "cell_type": "markdown",
   "metadata": {},
   "source": [
    "# Rationale"
   ]
  },
  {
   "cell_type": "markdown",
   "metadata": {},
   "source": [
    "## Background\n",
    "\n",
    "### What is this project, and who does it benefit?\n",
    "\n",
    "This is a personal project by internet user **@deepfates** to make a \"canon\" of about 5,000 books, selected from all possible books using data available on the internet. \n",
    "\n",
    "Though I work at a bookstore, this project is not a commercial endeavor. I want to explore the multidimensional space of all existing books: a latent space that connects both the interior concepts and the exterior context of all books, and which implies the existence of all possible books that might yet be imagined.\n",
    "\n",
    "This is not a new concept, of course. Writers and readers have studied this space forever, and changed it by their observation. Scholars have developed a discourse about which authors should be propagated and a meta-discourse about how that decision should be made. Poets and novelists have gestured to it through metaphor, or explicated it through genre tropes. \n",
    "\n",
    "Personally I was inspired by Terry Pratchett's **L-space** formulation: \n",
    "> twitter: https://twitter.com/deepfates/status/1402006194278092808?s=20\n",
    "\n",
    "\n",
    "Books, everywhere, affect all other books -- including books in the future, and books never written. Pratchett calls these **invisible writings**.\n",
    "\n",
    "My goal is to explore L-space, looking for hidden information that distinguishes some books -- the Canon-- from others -- the Archive -- and use that to make a corpus of books across a broad cross-section of genres and topics. Once selected, these books can work as training data to predict canonicity in the future. \n",
    "\n",
    "This will be my **Invisible Canon**. In these notes I will provide prose, code and data to justify and document my process.\n"
   ]
  },
  {
   "cell_type": "markdown",
   "metadata": {},
   "source": [
    "## Qualifications\n",
    "\n",
    "### Who are you to choose the Canon?\n",
    "\n",
    "As Odysseus would say, I'm nobody! I'm a person living in the third decade of the twenty-first century. I have no college degree, no institutional backing, no special knowledge. I just love books. \n",
    "\n",
    "\n",
    "I sell books for a living, at a small bookstore in the desert southwest USA. My store has room for about 5,000 curated books, since we must leave space for the chaotic flow of used books as well. I do have a little insider information: my inventory and sales data (which I will show some peeks of, but is not itself open-source). The marketplace provides some information about which books are desirable just by the amount of times people will buy them.\n",
    "\n",
    "I want to act as an arbiter between the implicit preferences of this market, and the explicit preferences cointained in sales data and book reviews around the globe, and choose books that my customers will buy, recommend and seek out. It's my duty, as a curator, to supply what people want to read. I don't think any of the available canons represent that, so I will make one."
   ]
  },
  {
   "cell_type": "markdown",
   "metadata": {},
   "source": [
    "## What is a \"canon\", anyway?\n",
    "\n",
    "It's a group of books selected from the totality of all books, with the intention to elevate and/or recognize their status. This is distinct from the \"published\", which includes all books ever made public in some sense, and the \"archive\", which is the subset of the published that has been preserved and is available to study. \n",
    "\n",
    "Too, a canon is not simply a 'corpus'. A corpus is a portion of the archive selected for a specific research purpose; a canon is a portion that is meant to represent some societal value. \n",
    "\n",
    "Here I must defer to the Stanford Literary Lab, specifically these papers in their Pamphlets series:\n",
    "\n",
    "- 8 Between Canon and Corpus [pdf](https://litlab.stanford.edu/LiteraryLabPamphlet8.pdf)\n",
    "\n",
    "- 11 Canon/Archive [pdf](https://litlab.stanford.edu/LiteraryLabPamphlet11.pdf)\n",
    "\n",
    "- 17 Popularity/Prestige [pdf](https://litlab.stanford.edu/LiteraryLabPamphlet17.pdf)\n",
    "\n",
    "In these articles, the digital humanities scholars of the Literary Lab have empirically measured the canon and archive (of literature) and found trends that correlate with their deep domain knowledge. I intend to follow recklessly in the direction they headed, and explore new terrain.\n",
    "\n",
    "The thesis developed in these papers is, first, that the canon can be taken as a superset of all canons put forth by individuals or groups, and secondly that you can project features of these books into a \"space\" that correlates to their canonicity. \n",
    "\n",
    "The authors test several different features, but prefer a framing of Popularity vs Prestige: market success vs academic success, roughly. This diagram, from Pamphlet 17, shows the use:\n",
    "\n",
    "![a scatter plot of genres with popularity on the x and prestige on the y axis](popularity-prestige.png)\n",
    "\n",
    "Popularity here is measured by number of reviews on Goodreads, and prestige by number of \"Primary Subject Author\" citations in the MLA database. To the right, something is more marketable, and to upward more well-regarded by academia. Up and to the right, therefore, is the direction of canon.\n",
    "\n",
    "This tracks with my own anecdotal evidence: the four most popular categories, Fiction, Sci-Fi, Kids, and Mystery/Thriller, are among the bestselling categories in my store.\n",
    "\n",
    "This brings up a good point: my audience is specific, and so my curation must be as well."
   ]
  },
  {
   "cell_type": "markdown",
   "metadata": {},
   "source": [
    "Next episode"
   ]
  },
  {
   "cell_type": "code",
   "execution_count": null,
   "metadata": {},
   "outputs": [],
   "source": []
  }
 ],
 "metadata": {
  "kernelspec": {
   "display_name": "Python 3",
   "language": "python",
   "name": "python3"
  },
  "language_info": {
   "codemirror_mode": {
    "name": "ipython",
    "version": 3
   },
   "file_extension": ".py",
   "mimetype": "text/x-python",
   "name": "python",
   "nbconvert_exporter": "python",
   "pygments_lexer": "ipython3",
   "version": "3.7.7"
  },
  "widgets": {
   "application/vnd.jupyter.widget-state+json": {
    "state": {},
    "version_major": 2,
    "version_minor": 0
   }
  }
 },
 "nbformat": 4,
 "nbformat_minor": 4
}
