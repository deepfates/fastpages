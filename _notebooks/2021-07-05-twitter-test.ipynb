{
 "cells": [
  {
   "cell_type": "markdown",
   "metadata": {
    "tags": []
   },
   "source": [
    "# Can I extract tweets to this page\n",
    "\n",
    "- toc: true \n",
    "- badges: true\n",
    "- comments: true\n",
    "- categories: [code, twitter]\n",
    "- hide: true"
   ]
  },
  {
   "cell_type": "code",
   "execution_count": 6,
   "metadata": {
    "execution": {
     "iopub.execute_input": "2021-07-06T01:02:41.385993Z",
     "iopub.status.busy": "2021-07-06T01:02:41.385639Z",
     "iopub.status.idle": "2021-07-06T01:02:41.390429Z",
     "shell.execute_reply": "2021-07-06T01:02:41.389999Z",
     "shell.execute_reply.started": "2021-07-06T01:02:41.385951Z"
    },
    "tags": []
   },
   "outputs": [],
   "source": [
    "\n",
    "import nest_asyncio\n",
    "nest_asyncio.apply()\n"
   ]
  },
  {
   "cell_type": "markdown",
   "metadata": {},
   "source": [
    "I want to be able to programmatically scrape tweets from my account (and maybe others), push the URLs into a markdown cell, and let `fastpages` do the work of embedding the tweets in a blog page. I can use `twint` to get the tweets without using Twitter API. If replies are involved I might need more complicated data structures, but simple tweet-unrolling should be linear and straightforward.\n",
    "\n",
    "First, I'll fetch the info about a top-level tweet. Then get all tweets from that user, to that user, filtered for conversation_id. TThen print them in chronological order to a markdown display! (Can it be so easy??)\n",
    "\n",
    "The top level tweet is located at\n",
    "```\n",
    "https://twitter.com/deepfates/status/1412086693713358850?s=20\n",
    "```\n",
    "\n",
    "and should be displayed like\n",
    "\n",
    ">twitter: https://twitter.com/deepfates/status/1412086693713358850"
   ]
  },
  {
   "cell_type": "code",
   "execution_count": null,
   "metadata": {},
   "outputs": [],
   "source": [
    "# Get the tweet's location with free ARGH endpoint\n",
    "op = 'https://twitter.com/deepfates/status/1412086693713358850'\n",
    "op_id = op.split('/')[-1]\n",
    "import requests\n",
    "\n",
    "r = requests.get(f'https://argh.tweeter.workers.dev/tw/metadata?id={op}')"
   ]
  },
  {
   "cell_type": "code",
   "execution_count": 8,
   "metadata": {
    "execution": {
     "iopub.execute_input": "2021-07-06T01:02:42.595006Z",
     "iopub.status.busy": "2021-07-06T01:02:42.594852Z",
     "iopub.status.idle": "2021-07-06T01:02:42.602616Z",
     "shell.execute_reply": "2021-07-06T01:02:42.602183Z",
     "shell.execute_reply.started": "2021-07-06T01:02:42.594988Z"
    },
    "tags": []
   },
   "outputs": [
    {
     "data": {
      "text/plain": [
       "{'conversation_count': 16,\n",
       " 'created_at': '2021-07-05T16:31:17.000Z',\n",
       " 'display_text_range': [0, 71],\n",
       " 'entities': {'hashtags': [], 'symbols': [], 'urls': [], 'user_mentions': []},\n",
       " 'favorite_count': 42,\n",
       " 'id_str': '1412086693713358850',\n",
       " 'lang': 'en',\n",
       " 'news_action_type': 'conversation',\n",
       " 'text': \"I'm going to rebuild my personal website I think. what should look like\",\n",
       " 'user': {'id_str': '3315205122',\n",
       "  'name': 'icd ⭐⭐⭐⭐✨',\n",
       "  'profile_image_url_https': 'https://pbs.twimg.com/profile_images/1406647367546327046/jp7tf-eW_normal.jpg',\n",
       "  'screen_name': 'deepfates',\n",
       "  'verified': False}}"
      ]
     },
     "execution_count": 8,
     "metadata": {},
     "output_type": "execute_result"
    }
   ],
   "source": [
    "twt = r.json()\n",
    "twt"
   ]
  },
  {
   "cell_type": "code",
   "execution_count": 9,
   "metadata": {
    "execution": {
     "iopub.execute_input": "2021-07-06T01:02:43.093871Z",
     "iopub.status.busy": "2021-07-06T01:02:43.093204Z",
     "iopub.status.idle": "2021-07-06T01:02:43.459288Z",
     "shell.execute_reply": "2021-07-06T01:02:43.458842Z",
     "shell.execute_reply.started": "2021-07-06T01:02:43.093788Z"
    },
    "tags": []
   },
   "outputs": [],
   "source": [
    "import twint\n",
    "c = twint.Config()\n"
   ]
  },
  {
   "cell_type": "code",
   "execution_count": 10,
   "metadata": {
    "execution": {
     "iopub.execute_input": "2021-07-06T01:02:44.499499Z",
     "iopub.status.busy": "2021-07-06T01:02:44.499302Z",
     "iopub.status.idle": "2021-07-06T01:02:44.504495Z",
     "shell.execute_reply": "2021-07-06T01:02:44.503744Z",
     "shell.execute_reply.started": "2021-07-06T01:02:44.499476Z"
    },
    "tags": []
   },
   "outputs": [
    {
     "data": {
      "text/plain": [
       "('deepfates', '2021-07-05', '1412086693713358850')"
      ]
     },
     "execution_count": 10,
     "metadata": {},
     "output_type": "execute_result"
    }
   ],
   "source": [
    "op_uname = twt['user']['screen_name']\n",
    "op_date = twt['created_at'][:10]\n",
    "op_id = twt['id_str']\n",
    "tweets = []\n",
    "\n",
    "op_uname, op_date, op_id"
   ]
  },
  {
   "cell_type": "code",
   "execution_count": 11,
   "metadata": {
    "execution": {
     "iopub.execute_input": "2021-07-06T01:02:45.180103Z",
     "iopub.status.busy": "2021-07-06T01:02:45.179940Z",
     "iopub.status.idle": "2021-07-06T01:02:47.352218Z",
     "shell.execute_reply": "2021-07-06T01:02:47.350232Z",
     "shell.execute_reply.started": "2021-07-06T01:02:45.180086Z"
    },
    "tags": []
   },
   "outputs": [
    {
     "name": "stdout",
     "output_type": "stream",
     "text": [
      "1412213789274083331 2021-07-05 18:56:19 -0600 <chopstickfury01> @deepfates I assume this is a depreciation joke?\n",
      "1412211345399812115 2021-07-05 18:46:37 -0600 <maxisawesome538> @deepfates I'm playing tf2 in mine\n",
      "1412205612075831296 2021-07-05 18:23:50 -0600 <j0lms> @deepfates Beat you to it, to the personal website rebuilding that is! Probably whimsical Twitter embedding, or something with curated tweets is a must. Also if you're gonna make it technical make it silly technical, like waitbutwhy for AI enthusiasts (or enthusiastic AIs).\n",
      "1412201736010272777 2021-07-05 18:08:25 -0600 <ykgoon> @deepfates Yes that's totally fine if it's visitor counter.\n",
      "1412191763599552513 2021-07-05 17:28:48 -0600 <dannycolspector> @deepfates yes, and our potential is unbelievably massive!\n",
      "1412191205505568782 2021-07-05 17:26:35 -0600 <OliverCarefull> @deepfates @ctjlewis For me, I want to be able to navigate both worlds. I could make my own clothes and dress like a wizard, but I already have one leg so really all regular rules are suspended anyway.   https://t.co/LV1YNkNKEm\n",
      "1412186307275591688 2021-07-05 17:07:07 -0600 <sam_havens> @deepfates I like it, BUT that it is reasonable is an indictment. \"let's just package up not just the application, but its dependencies and the entire OS, so we actually have something that we can have confidence will work\"\n",
      "1412180851387863040 2021-07-05 16:45:26 -0600 <jejunestarfcker> @deepfates have you read this? great article about smarm  https://t.co/HmZPWQur7x\n",
      "1412176032623300612 2021-07-05 16:26:17 -0600 <acnebs> @deepfates I didn’t realize there were other types of shirt.\n",
      "1412175583186931713 2021-07-05 16:24:30 -0600 <pee_zombie> @deepfates it's kinda dumb but it's way less dumb than many other things\n",
      "1412175286414761987 2021-07-05 16:23:19 -0600 <ben_papillon> @deepfates bc I have no idea what I’m doing here lol\n",
      "1412166419425472512 2021-07-05 15:48:05 -0600 <erocdrahs> @deepfates Virtualisation is the devils business.\n",
      "1412161193356181518 2021-07-05 15:27:19 -0600 <JovanJester> @deepfates Sorry for doubting, I am certain it is totally legit now. Blue checks never lie.\n",
      "1412160320559206403 2021-07-05 15:23:51 -0600 <maxisawesome538> @deepfates docker system prune\n",
      "1412157737253818376 2021-07-05 15:13:35 -0600 <maxisawesome538> @deepfates it's not that bad\n",
      "1412156980920295428 2021-07-05 15:10:35 -0600 <JovanJester> @deepfates This star rating stuff looks kinda sus to me\n",
      "1412156164809408515 2021-07-05 15:07:20 -0600 <reconfigurthing> @deepfates congrats king\n",
      "1412155256117420032 2021-07-05 15:03:44 -0600 <_rajkhare> @deepfates Well it does help to protect your local env from going haywire. But yeah another level of indirection 😑\n",
      "1412154319508488198 2021-07-05 15:00:00 -0600 <blisstweeting> @deepfates lol no I've taken it in your profile 😂\n",
      "1412153341614956550 2021-07-05 14:56:07 -0600 <Al_D_Smith> @deepfates @sirsfurther looks like the natural log of your twitter follow count or something. damn it\n",
      "1412153165257056256 2021-07-05 14:55:25 -0600 <sirsfurther> @deepfates @Al_D_Smith I wonder how Gary bought his new car 🤔🤔🤔🤔\n",
      "1412153135619993601 2021-07-05 14:55:18 -0600 <skugern> @deepfates don't forget to pay the membership dues to retain the half star\n",
      "1412152922054529029 2021-07-05 14:54:27 -0600 <blisstweeting> @deepfates I'm starstruck 🤩  https://t.co/nWRSP7my61\n",
      "1412152765493628949 2021-07-05 14:53:50 -0600 <mayfer> @deepfates docker and webpack are the Juiceros of software\n",
      "1412152343609610244 2021-07-05 14:52:09 -0600 <erinbeess> @deepfates it is\n",
      "1412152271559925762 2021-07-05 14:51:52 -0600 <Kirsten3531> @deepfates I count 7 🤨\n",
      "1412152113367506948 2021-07-05 14:51:15 -0600 <epicidity> @deepfates not just you\n",
      "1412151770088886272 2021-07-05 14:49:53 -0600 <taalumot> @deepfates what’s next for you\n",
      "1412151768742613000 2021-07-05 14:49:52 -0600 <Al_D_Smith> @deepfates @sirsfurther watch out, he's trying to one-and-a-half-up you\n",
      "1412151618829795334 2021-07-05 14:49:17 -0600 <taalumot> @deepfates congrats\n",
      "1412151608868278274 2021-07-05 14:49:14 -0600 <deepfates> This was a typo that I'm keeping it\n",
      "1412151200401739778 2021-07-05 14:47:37 -0600 <vishyssoise> @deepfates yet u live in one, curious?  bottomtext\n",
      "1412150905303179266 2021-07-05 14:46:26 -0600 <nickcammarata> @deepfates at least make it so boring it’s really out there then\n",
      "1412146373324165129 2021-07-05 14:28:26 -0600 <nickcammarata> @deepfates whatever you choose make sure it’s really out there\n",
      "1412144906223570952 2021-07-05 14:22:36 -0600 <plesmasquerade> @deepfates I dont think the world where im an ancestor to many civilizations is a good one\n",
      "1412142733938937857 2021-07-05 14:13:58 -0600 <Cytosknee> @deepfates Alright alright... yes I'm full of shit, I want aliens to come to earth wielding big green mommy milkers for me to suck on while they cradle me and tell me the secrets of the universe\n",
      "1412140346432278534 2021-07-05 14:04:29 -0600 <nicholatian> @deepfates because i had this uniform tailor-made\n",
      "1412138578197417984 2021-07-05 13:57:27 -0600 <Cytosknee> @deepfates Maybe rejoice is not appropriate because I'm too indifferent to life outside of earth that I don't find delight in the idea of another world like ours existing. I just hope it's not as fucked as ours. It not existing at all is fine with me, if it does, ok, but god help them.\n",
      "1412138349553360896 2021-07-05 13:56:33 -0600 <asingleoat> @deepfates like this  https://t.co/GyTSJmhuZQ\n",
      "1412136448459874304 2021-07-05 13:49:00 -0600 <Cytosknee> @deepfates I hope the agonies of life in an advanced civilization is a localized event and the rest of the universe is spared from the experience. People fall into despair thinking about the fermi paradox,  I rejoice in it.\n",
      "1412135274721599488 2021-07-05 13:44:20 -0600 <pervexists69> @deepfates felt cute, might delete later\n",
      "1412135063601307649 2021-07-05 13:43:30 -0600 <KGoth999> @deepfates Not mixing hermeticism with dope, when.\n",
      "1412133741674188800 2021-07-05 13:38:14 -0600 <KGoth999> @deepfates who cares, run it thru the wash a couple times\n",
      "1412132474629640192 2021-07-05 13:33:12 -0600 <deepfates> I fucked it up but whatever\n",
      "1412131187343212545 2021-07-05 13:28:05 -0600 <chopstickfury01> @deepfates @selentelechia All I know is that everything needs to be shorter for me.  ESPECIALLY LIGHTING.\n",
      "1412131167067848711 2021-07-05 13:28:01 -0600 <aeranothaur> @deepfates I actually really like this paperback design you have now. it's one of the cleanest and clearest personal sites I've seen in ages\n",
      "1412130952067829771 2021-07-05 13:27:09 -0600 <chopstickfury01> @deepfates I... I actually remember this.\n",
      "1412128251158401032 2021-07-05 13:16:25 -0600 <hyperfekt> @deepfates no 👏 more 👏 witnessing 👏\n",
      "1412126291281821696 2021-07-05 13:08:38 -0600 <bantablack> @deepfates What watered-down Greek wine looks like  https://t.co/Z6dH8pej18\n",
      "1412121295471321114 2021-07-05 12:48:47 -0600 <Cytosknee> @deepfates When the kids all start fedposting\n",
      "1412120383172452366 2021-07-05 12:45:09 -0600 <caelanhuntress> @deepfates My shirt has no collar but I take your point\n",
      "1412119596610428930 2021-07-05 12:42:02 -0600 <mattdsegal> @deepfates Write down goals of website Map out user journey  Loosely related:  https://t.co/EDtTHn78TK\n",
      "1412114826529325062 2021-07-05 12:23:05 -0600 <_avichalp_> @deepfates everyone will be cancelled eventually\n",
      "1412113631274209282 2021-07-05 12:18:20 -0600 <pantinkins> @deepfates The things described here need tangible examples, maybe a page for each topic. What specifically have you done? What specifically do you think?  https://t.co/JtNqtuRxtL\n",
      "1412110584561156099 2021-07-05 12:06:13 -0600 <laundryandry> @deepfates @deepfates_notes what different representations come to mind ?\n",
      "1412110386493595650 2021-07-05 12:05:26 -0600 <pantinkins> @deepfates Gotta catch me first\n",
      "1412109337741303810 2021-07-05 12:01:16 -0600 <mankemens> @deepfates I thought I made that bit transparent 😶\n",
      "1412108706599346178 2021-07-05 11:58:46 -0600 <chriscooladini> @deepfates tempus fugit, memenTOS\n",
      "1412108684797300740 2021-07-05 11:58:40 -0600 <DaltonDEmery> @deepfates Inshallah\n",
      "1412108311462400002 2021-07-05 11:57:11 -0600 <laundryandry> @deepfates every account will be banned for 15 minutes\n",
      "1412108164053409793 2021-07-05 11:56:36 -0600 <judahwantssocks> @deepfates soon inshallah\n",
      "1412108158357606407 2021-07-05 11:56:35 -0600 <ELFonthebeatMG> @deepfates Jack be like:  https://t.co/jknHVaRC9q\n",
      "1412108097976406017 2021-07-05 11:56:20 -0600 <laundryandry> @deepfates @deepfates_notes yeah mastodon as a destination for replicated tweets is less interesting than you shaping it for your personal website. might be clumsy to figure out what you want the UX to be like but might be a fun challenge.\n",
      "1412108079332663305 2021-07-05 11:56:16 -0600 <skugern> @deepfates that's the goal\n",
      "1412107144992800773 2021-07-05 11:52:33 -0600 <laundryandry> @deepfates @deepfates_notes x_whatever_app being the interim connection between twitter and your static website?\n",
      "1412106390873718786 2021-07-05 11:49:33 -0600 <laundryandry> @deepfates tbh i prefer twitter as an interface, and it's just (whispers quietly) *where people are* but going _from_ twitter _to_ X decentralized whatever is an interesting idea. idk how replies and such would work but at least for your own content it would be a decent 80% solution\n",
      "1412104105930207236 2021-07-05 11:40:29 -0600 <gene_minkov> @deepfates \"My lady got two men\" by Atmosphere\n",
      "1412103137637371908 2021-07-05 11:36:38 -0600 <laundryandry> @deepfates ooo i wonder if you could set up a service essentially as a follower to your twitter activity that could re-post ActivityPub protocol compliant requests to a server your control, that your website then feeds from\n",
      "1412102826629615617 2021-07-05 11:35:24 -0600 <benbohmer> @deepfates Second BrainFriend\n",
      "1412099928340447238 2021-07-05 11:23:53 -0600 <ctjlewis> @deepfates yes, it's also trivial because embeds\n",
      "1412099615990554624 2021-07-05 11:22:38 -0600 <judahwantssocks> @deepfates you can download an archive of them all, if that's what you mean\n",
      "1412099497346297861 2021-07-05 11:22:10 -0600 <danehighwind> @deepfates Most personal websites are vanity projects. That's fine, just know it going into it.  If your goal is engagement, abandon the personal site and devote that time to Twitter, GitHub, etc. directly  (Of course there are exceptions, e.g. SlateStarCodex)\n",
      "1412099240252248064 2021-07-05 11:21:09 -0600 <KGoth999> @deepfates whatever\n",
      "1412099130776768513 2021-07-05 11:20:42 -0600 <deepfates> is it possible to just extract all of my tweets into a static site that I host myself?\n",
      "1412099083972534283 2021-07-05 11:20:31 -0600 <Mimi_Rose_01> @deepfates Depends what you're hoping to gain from having the site?  As a follower I'd click bc I want context for a tweet (like approx age or location or prof bg), or your tweets have me intrigued enough to click through for long-form more, or if you tweet a link to a book list or smthg\n",
      "1412098709068795907 2021-07-05 11:19:02 -0600 <judahwantssocks> @deepfates yeah. links to twitter accounts, sites, music, blog posts etc.   twitter is cool but i'd like better formatting + persistence.   also i wanna embed my small drawings someplace\n",
      "1412098394365984768 2021-07-05 11:17:47 -0600 <KGoth999> @deepfates *You tube team ranting*\n",
      "1412098191097352195 2021-07-05 11:16:58 -0600 <judahwantssocks> @deepfates ooh wait. check this out.   https://t.co/p59tooLnDJ\n",
      "1412097810648899584 2021-07-05 11:15:28 -0600 <judahwantssocks> @deepfates very tempting to just do one of these instead   https://t.co/ykzCE6m0oL\n",
      "1412097698602262529 2021-07-05 11:15:01 -0600 <judahwantssocks> @deepfates me two years ago.  confused teens, curious teens, soft teens.  also i would mainly end up doing curation i think\n",
      "1412097678759038982 2021-07-05 11:14:56 -0600 <deepfates> very wise question. hmm...  Meet people? yes. get job offers? eventually. Display my writing/hide my writing if it embarrasses me later. Get more points on Twitter and GitHub. Host weird tech experiments.   😐 is this a portfolio?   https://t.co/DctcK0QCLT\n",
      "1412097372428062720 2021-07-05 11:13:43 -0600 <Mimi_Rose_01> @deepfates Should have appended \"Wrong answers only.\" to your initial ask- guarantees more than half the replies will take you literally 😏\n",
      "1412096674525159429 2021-07-05 11:10:57 -0600 <VividVoid_> @deepfates  https://t.co/ShyyCESAbE  Was literally about to ask *you* this question\n",
      "1412096153550659585 2021-07-05 11:08:53 -0600 <danehighwind> @deepfates What's your desired outcome? Sell stuff? Meet people? Get job offers?\n",
      "1412095448437825552 2021-07-05 11:06:05 -0600 <skugern> @deepfates @sirsfurther @infra_naut @plesmasquerade i fully endorse this website. I personally pay a monthly patreon for the amazing content\n",
      "1412095434261102595 2021-07-05 11:06:01 -0600 <judahwantssocks> @deepfates i am honestly wracking my brains trying to come up with something completely bonkers for my own place but i come back to \"blog\" every single time.  damn\n",
      "1412094715009380353 2021-07-05 11:03:10 -0600 <afterlxss> @deepfates Like a canon bookshelf kinda UI idk, but make the source code hidden just for the added chaos\n",
      "1412094653780959232 2021-07-05 11:02:55 -0600 <deepfates> All right a real information architecture problem:  Right now, I have some front facing about page type stuff, and then a \"digital garden\" style notebook that I update too rarely.  what if it was more like a technical blog, with posts organized by category and time? Good or na\n",
      "1412093548581818373 2021-07-05 10:58:32 -0600 <deepfates> This is a very good and literal answer Can I have some more of those   https://t.co/rQ0SfNCRz1\n",
      "1412093512422670343 2021-07-05 10:58:23 -0600 <Historycourses> @deepfates Bayonets!!!!!\n",
      "1412093296411918337 2021-07-05 10:57:31 -0600 <Al_D_Smith> @deepfates Henley exemption\n",
      "1412093177234874368 2021-07-05 10:57:03 -0600 <Mimi_Rose_01> @deepfates Greatest hit Tweets, by personal selection and by most likes.  Link to GitHub account with an explanation of what you're working on.  Top 100 book list with short reviews and  humorous tagging.\n",
      "1412092605500903428 2021-07-05 10:54:47 -0600 <GENIC0N> @deepfates you should burn books out back of the store to release stress, or smash coffee mugs made with love or something\n",
      "1412092085885456389 2021-07-05 10:52:43 -0600 <GENIC0N> @deepfates just read Ogilvy on Advertising and create a content strategy and then create a content distribution strategy. I hope I'm opening pandora's box for you here, because you asked.\n",
      "1412091934760374273 2021-07-05 10:52:07 -0600 <sirsfurther> @deepfates Lots of gifs jumping about the screen\n",
      "1412091539908706311 2021-07-05 10:50:33 -0600 <deepfates> everybody wants to be funny but i need advice. how to present deepfates\n",
      "1412091507784523783 2021-07-05 10:50:25 -0600 <parafactual> @deepfates @kyzcralotSxaM LMAO\n",
      "1412091129898672133 2021-07-05 10:48:55 -0600 <blisstweeting> @deepfates actually this is a nice idea ☝️\n",
      "1412090975686701059 2021-07-05 10:48:18 -0600 <parafactual> @deepfates @kyzcralotSxaM hmmm...eventually i am gonna have to fill my about page. maybe then some legal page can take on the role?\n",
      "1412090312273633283 2021-07-05 10:45:40 -0600 <afterlxss> @deepfates Like a Canon style but make the source hidden\n",
      "1412089995825979392 2021-07-05 10:44:25 -0600 <parafactual> @deepfates @kyzcralotSxaM some are buttons that create dialog boxes instead\n",
      "1412089905736392726 2021-07-05 10:44:03 -0600 <ZetaRayZac> @deepfates don't tell anyone but i forgot to finish coloring the hair in my avatar\n",
      "1412089429443887108 2021-07-05 10:42:09 -0600 <sirsfurther> @deepfates Yes.\n",
      "1412089418157068290 2021-07-05 10:42:07 -0600 <blisstweeting> @deepfates btw I'm closing in on finally cloning the repo\n",
      "1412089176258797568 2021-07-05 10:41:09 -0600 <ykgoon> @deepfates For everybody's sake, lighten the load of the web.\n",
      "1412089080842698754 2021-07-05 10:40:46 -0600 <ELFonthebeatMG> @deepfates Check out how… professional i am\n",
      "1412088865670709249 2021-07-05 10:39:55 -0600 <sirsfurther> @deepfates It's Charles Fox\n",
      "1412088615379812353 2021-07-05 10:38:55 -0600 <blisstweeting> @deepfates memery\n",
      "1412088528486371331 2021-07-05 10:38:35 -0600 <zachcaceres> @deepfates really cool projects. also im so jelly that you and your fam are functional enough to run a book store together.\n",
      "1412088298714042370 2021-07-05 10:37:40 -0600 <deepfates> When I say 'look like\" I don't mean just the styling, although I'm accepting advice on that too. I mean, what do you want to see when you click through from this account to my website?   what am I supposed to put on there\n",
      "1412088201561317381 2021-07-05 10:37:17 -0600 <rplevy> @deepfates @zachcaceres Oh cool I like that it looks like a pocket paperback book\n",
      "1412088201154543621 2021-07-05 10:37:17 -0600 <sirsfurther> @deepfates Heyyyyy\n",
      "1412088161493258241 2021-07-05 10:37:07 -0600 <DaltonDEmery> @deepfates What’s a shirt\n",
      "1412088138403565570 2021-07-05 10:37:02 -0600 <deepfates> currently i have  https://t.co/UEM7H2vuZk styled like an old Pelican paperback but i don't really know how to present myself within that\n",
      "1412088089128980483 2021-07-05 10:36:50 -0600 <VectorOfBasis> @deepfates geocities\n",
      "1412088038730108929 2021-07-05 10:36:38 -0600 <blisstweeting> @deepfates The two genders  https://t.co/FUBpL6g3Cg\n",
      "1412087873898225670 2021-07-05 10:35:59 -0600 <kyzcralotSxaM> @deepfates minimalist\n",
      "1412087571803369477 2021-07-05 10:34:47 -0600 <uberstuber> @deepfates invisible\n",
      "1412087545752653834 2021-07-05 10:34:40 -0600 <OliverCarefull> @deepfates Couldn't be me\n",
      "1412087511069777921 2021-07-05 10:34:32 -0600 <ctjlewis> @deepfates max normie points\n",
      "1412087223151828993 2021-07-05 10:33:23 -0600 <zachcaceres> @deepfates whats your current one?\n",
      "1412087170672771085 2021-07-05 10:33:11 -0600 <ctjlewis> @deepfates immersive 3D shit, cc @SeanMombo\n",
      "1412087103618531334 2021-07-05 10:32:55 -0600 <loopholekid> @deepfates Flippantly: beautiful\n",
      "1412086945803431938 2021-07-05 10:32:17 -0600 <ykgoon> @deepfates Text only, no images\n",
      "1412081674721153031 2021-07-05 10:11:21 -0600 <beckness> @deepfates I suspect smarm is in the eye of the beholder.\n",
      "1412076456109391874 2021-07-05 09:50:36 -0600 <seeclarkrun> @deepfates Alright tell the beaver I’ll be nice. I’m over it\n",
      "1412074316452225040 2021-07-05 09:42:06 -0600 <seeclarkrun> @deepfates is this because I was mean to a wet rodent\n",
      "1412073565051043842 2021-07-05 09:39:07 -0600 <seeclarkrun> @deepfates less gooo\n",
      "1412071002029400072 2021-07-05 09:28:56 -0600 <seeclarkrun> @deepfates wrong take\n",
      "1411959980152877058 2021-07-05 02:07:46 -0600 <caelanhuntress> @deepfates @Tjdriii Did you know that the word ‘barbarian’ comes from how Greeks made fun of foreign speech  Those xenos be like ‘bar bar bar bar bar bar’\n",
      "[!] No more data! Scraping will stop now.\n",
      "found 0 deleted tweets in this search.\n"
     ]
    },
    {
     "data": {
      "text/plain": [
       "['https://twitter.com/deepfates/status/1412088138403565570',\n",
       " 'https://twitter.com/deepfates/status/1412088298714042370',\n",
       " 'https://twitter.com/deepfates/status/1412091539908706311',\n",
       " 'https://twitter.com/deepfates/status/1412093548581818373',\n",
       " 'https://twitter.com/deepfates/status/1412094653780959232',\n",
       " 'https://twitter.com/deepfates/status/1412097678759038982',\n",
       " 'https://twitter.com/deepfates/status/1412099130776768513']"
      ]
     },
     "execution_count": 11,
     "metadata": {},
     "output_type": "execute_result"
    }
   ],
   "source": [
    "#hide_output\n",
    "c.To = op_uname\n",
    "c.By = op_uname\n",
    "c.Since = op_date\n",
    "\n",
    "c.Store_object = True\n",
    "c.Store_object_tweets_list = tweets\n",
    "\n",
    "twint.run.Search(c)\n",
    "\n",
    "self_replies = [tweet for tweet in tweets if tweet.conversation_id == op_id and tweet.reply_to == []]\n",
    "\n",
    "self_replies.sort(key=lambda x: x.datetime)\n",
    "\n",
    "urls = [t.link for t in self_replies]\n",
    "urls"
   ]
  },
  {
   "cell_type": "code",
   "execution_count": null,
   "metadata": {},
   "outputs": [],
   "source": []
  },
  {
   "cell_type": "code",
   "execution_count": 59,
   "metadata": {
    "execution": {
     "iopub.execute_input": "2021-07-05T23:02:10.169438Z",
     "iopub.status.busy": "2021-07-05T23:02:10.169290Z",
     "iopub.status.idle": "2021-07-05T23:02:10.171845Z",
     "shell.execute_reply": "2021-07-05T23:02:10.171380Z",
     "shell.execute_reply.started": "2021-07-05T23:02:10.169418Z"
    },
    "tags": []
   },
   "outputs": [],
   "source": [
    "from IPython.display import Markdown as md\n"
   ]
  },
  {
   "cell_type": "code",
   "execution_count": 60,
   "metadata": {
    "execution": {
     "iopub.execute_input": "2021-07-05T23:02:10.172718Z",
     "iopub.status.busy": "2021-07-05T23:02:10.172536Z",
     "iopub.status.idle": "2021-07-05T23:02:10.175346Z",
     "shell.execute_reply": "2021-07-05T23:02:10.174850Z",
     "shell.execute_reply.started": "2021-07-05T23:02:10.172696Z"
    },
    "tags": []
   },
   "outputs": [],
   "source": [
    "templated_links = '>twitter: ' + '\\n\\n>twitter: '.join(urls)"
   ]
  },
  {
   "cell_type": "code",
   "execution_count": 61,
   "metadata": {
    "execution": {
     "iopub.execute_input": "2021-07-05T23:02:10.176482Z",
     "iopub.status.busy": "2021-07-05T23:02:10.176308Z",
     "iopub.status.idle": "2021-07-05T23:02:10.180020Z",
     "shell.execute_reply": "2021-07-05T23:02:10.179528Z",
     "shell.execute_reply.started": "2021-07-05T23:02:10.176459Z"
    },
    "tags": []
   },
   "outputs": [
    {
     "data": {
      "text/markdown": [
       "These should be the appropriate links: \n",
       "\n",
       ">twitter: \n",
       ">twitter: https://twitter.com/deepfates/status/1412088138403565570\n",
       "\n",
       ">twitter: https://twitter.com/deepfates/status/1412088298714042370\n",
       "\n",
       ">twitter: https://twitter.com/deepfates/status/1412091539908706311\n",
       "\n",
       ">twitter: https://twitter.com/deepfates/status/1412093548581818373\n",
       "\n",
       ">twitter: https://twitter.com/deepfates/status/1412094653780959232\n",
       "\n",
       ">twitter: https://twitter.com/deepfates/status/1412097678759038982\n",
       "\n",
       ">twitter: https://twitter.com/deepfates/status/1412099130776768513\n",
       "   "
      ],
      "text/plain": [
       "<IPython.core.display.Markdown object>"
      ]
     },
     "execution_count": 61,
     "metadata": {},
     "output_type": "execute_result"
    }
   ],
   "source": [
    "md(f'''These should be the appropriate links: \\n\\n>twitter: \n",
    "{templated_links}\n",
    "   ''')\n"
   ]
  },
  {
   "cell_type": "markdown",
   "metadata": {},
   "source": [
    "If I make a raw cell and copy the `% include` magic from the converted post, I can get it to show up:"
   ]
  },
  {
   "cell_type": "markdown",
   "metadata": {},
   "source": [
    "{% include twitter.html content='<a href=\"https://twitter.com/deepfates/status/1412097678759038982\">https://twitter.com/deepfates/status/1412097678759038982</a>' %}"
   ]
  },
  {
   "cell_type": "markdown",
   "metadata": {},
   "source": [
    "And I can make one programmatically, but I can't figure out how to insert that as the next cell."
   ]
  },
  {
   "cell_type": "code",
   "execution_count": 62,
   "metadata": {
    "execution": {
     "iopub.execute_input": "2021-07-05T23:02:13.710451Z",
     "iopub.status.busy": "2021-07-05T23:02:13.710231Z",
     "iopub.status.idle": "2021-07-05T23:02:13.713223Z",
     "shell.execute_reply": "2021-07-05T23:02:13.712580Z",
     "shell.execute_reply.started": "2021-07-05T23:02:13.710425Z"
    },
    "tags": []
   },
   "outputs": [],
   "source": [
    "include = '''{% include twitter.html content='<a href=\"https://twitter.com/deepfates/status/1412097678759038982\">https://twitter.com/deepfates/status/1412097678759038982</a>' %}'''"
   ]
  },
  {
   "cell_type": "code",
   "execution_count": 63,
   "metadata": {
    "execution": {
     "iopub.execute_input": "2021-07-05T23:02:13.890120Z",
     "iopub.status.busy": "2021-07-05T23:02:13.889925Z",
     "iopub.status.idle": "2021-07-05T23:02:13.893012Z",
     "shell.execute_reply": "2021-07-05T23:02:13.892238Z",
     "shell.execute_reply.started": "2021-07-05T23:02:13.890098Z"
    },
    "tags": []
   },
   "outputs": [],
   "source": [
    "import nbformat as nbf"
   ]
  },
  {
   "cell_type": "code",
   "execution_count": 64,
   "metadata": {
    "execution": {
     "iopub.execute_input": "2021-07-05T23:02:14.051049Z",
     "iopub.status.busy": "2021-07-05T23:02:14.050801Z",
     "iopub.status.idle": "2021-07-05T23:02:14.054045Z",
     "shell.execute_reply": "2021-07-05T23:02:14.053456Z",
     "shell.execute_reply.started": "2021-07-05T23:02:14.051020Z"
    },
    "tags": []
   },
   "outputs": [],
   "source": [
    "raw_cell = nbf.v4.new_raw_cell(include)"
   ]
  },
  {
   "cell_type": "code",
   "execution_count": 65,
   "metadata": {
    "execution": {
     "iopub.execute_input": "2021-07-05T23:02:14.210998Z",
     "iopub.status.busy": "2021-07-05T23:02:14.210768Z",
     "iopub.status.idle": "2021-07-05T23:02:14.214151Z",
     "shell.execute_reply": "2021-07-05T23:02:14.213412Z",
     "shell.execute_reply.started": "2021-07-05T23:02:14.210971Z"
    },
    "tags": []
   },
   "outputs": [],
   "source": [
    "from IPython import display"
   ]
  },
  {
   "cell_type": "code",
   "execution_count": 66,
   "metadata": {
    "execution": {
     "iopub.execute_input": "2021-07-05T23:02:14.352130Z",
     "iopub.status.busy": "2021-07-05T23:02:14.351943Z",
     "iopub.status.idle": "2021-07-05T23:02:14.355560Z",
     "shell.execute_reply": "2021-07-05T23:02:14.355100Z",
     "shell.execute_reply.started": "2021-07-05T23:02:14.352107Z"
    },
    "tags": []
   },
   "outputs": [
    {
     "data": {
      "text/plain": [
       "{'cell_type': 'raw',\n",
       " 'source': '{% include twitter.html content=\\'<a href=\"https://twitter.com/deepfates/status/1412097678759038982\">https://twitter.com/deepfates/status/1412097678759038982</a>\\' %}',\n",
       " 'metadata': {}}"
      ]
     },
     "metadata": {},
     "output_type": "display_data"
    }
   ],
   "source": [
    "display.display(raw_cell)"
   ]
  },
  {
   "cell_type": "code",
   "execution_count": 67,
   "metadata": {
    "execution": {
     "iopub.execute_input": "2021-07-05T23:02:14.531690Z",
     "iopub.status.busy": "2021-07-05T23:02:14.531194Z",
     "iopub.status.idle": "2021-07-05T23:02:14.538214Z",
     "shell.execute_reply": "2021-07-05T23:02:14.536351Z",
     "shell.execute_reply.started": "2021-07-05T23:02:14.531630Z"
    },
    "tags": []
   },
   "outputs": [],
   "source": [
    "from IPython.core.getipython import get_ipython\n",
    "shell = get_ipython()\n"
   ]
  },
  {
   "cell_type": "code",
   "execution_count": 88,
   "metadata": {
    "execution": {
     "iopub.execute_input": "2021-07-05T23:26:28.932734Z",
     "iopub.status.busy": "2021-07-05T23:26:28.932034Z",
     "iopub.status.idle": "2021-07-05T23:26:28.941607Z",
     "shell.execute_reply": "2021-07-05T23:26:28.938887Z",
     "shell.execute_reply.started": "2021-07-05T23:26:28.932650Z"
    },
    "tags": []
   },
   "outputs": [],
   "source": [
    "shell.set_next_input(templated_links)"
   ]
  },
  {
   "cell_type": "markdown",
   "metadata": {},
   "source": [
    ">twitter: https://twitter.com/deepfates/status/1412088138403565570\n",
    "\n",
    ">twitter: https://twitter.com/deepfates/status/1412088298714042370\n",
    "\n",
    ">twitter: https://twitter.com/deepfates/status/1412091539908706311\n",
    "\n",
    ">twitter: https://twitter.com/deepfates/status/1412093548581818373\n",
    "\n",
    ">twitter: https://twitter.com/deepfates/status/1412094653780959232\n",
    "\n",
    ">twitter: https://twitter.com/deepfates/status/1412097678759038982\n",
    "\n",
    ">twitter: https://twitter.com/deepfates/status/1412099130776768513"
   ]
  },
  {
   "cell_type": "markdown",
   "metadata": {},
   "source": [
    "Well, if i want I can send them into a new cell and manually make it into a markdown cell and run it. That's reasonable. Alternatively, I could insert them into a new notebook entirely, as raw includes.\n",
    "\n",
    "The other problem is that this Twitter embed includs the previous tweet, so the idea of posting abuch ofthem as a thread is kind of awkward. Might work better for a \"popular tweets\" post?\n",
    "\n",
    "Yes... In fact, it could even be a notebook I run every so often taht prints to a .md file in the `pages` folder. All it has to have is YAML frontmatter and a list of includes..."
   ]
  },
  {
   "cell_type": "code",
   "execution_count": null,
   "metadata": {},
   "outputs": [],
   "source": []
  }
 ],
 "metadata": {
  "kernelspec": {
   "display_name": "Python 3",
   "language": "python",
   "name": "python3"
  },
  "language_info": {
   "codemirror_mode": {
    "name": "ipython",
    "version": 3
   },
   "file_extension": ".py",
   "mimetype": "text/x-python",
   "name": "python",
   "nbconvert_exporter": "python",
   "pygments_lexer": "ipython3",
   "version": "3.7.7"
  },
  "widgets": {
   "application/vnd.jupyter.widget-state+json": {
    "state": {},
    "version_major": 2,
    "version_minor": 0
   }
  }
 },
 "nbformat": 4,
 "nbformat_minor": 4
}
