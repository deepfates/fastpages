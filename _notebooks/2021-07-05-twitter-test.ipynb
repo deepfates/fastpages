{
 "cells": [
  {
   "cell_type": "markdown",
   "metadata": {
    "tags": []
   },
   "source": [
    "# Can I extract tweets to this page\n",
    "\n",
    "- toc: true \n",
    "- badges: true\n",
    "- comments: true\n",
    "- categories: [hacking, twitter]\n"
   ]
  },
  {
   "cell_type": "code",
   "execution_count": 25,
   "metadata": {
    "execution": {
     "iopub.execute_input": "2021-07-05T18:42:23.375984Z",
     "iopub.status.busy": "2021-07-05T18:42:23.375696Z",
     "iopub.status.idle": "2021-07-05T18:42:23.380968Z",
     "shell.execute_reply": "2021-07-05T18:42:23.380015Z",
     "shell.execute_reply.started": "2021-07-05T18:42:23.375948Z"
    },
    "tags": []
   },
   "outputs": [],
   "source": [
    "\n",
    "import nest_asyncio\n",
    "nest_asyncio.apply()\n"
   ]
  },
  {
   "cell_type": "markdown",
   "metadata": {},
   "source": [
    "I want to be able to programmatically scrape tweets from my account (and maybe others), push the URLs into a markdown cell, and let `fastpages` do the work of embedding the tweets in a blog page. I can use `twint` to get the tweets without using Twitter API. If replies are involved I might need more complicated data structures, but simple tweet-unrolling should be linear and straightforward.\n",
    "\n",
    "First, I'll fetch the info about a top-level tweet. Then get all tweets from that user, to that user, filtered for conversation_id. TThen print them in chronological order to a markdown display! (Can it be so easy??)\n",
    "\n",
    "The top level tweet is located at\n",
    "```\n",
    "https://twitter.com/deepfates/status/1412086693713358850?s=20\n",
    "```\n",
    "\n",
    "and should be displayed like\n",
    "\n",
    "https://twitter.com/deepfates/status/1412086693713358850?s=20"
   ]
  },
  {
   "cell_type": "code",
   "execution_count": 6,
   "metadata": {
    "execution": {
     "iopub.execute_input": "2021-07-05T18:27:19.807098Z",
     "iopub.status.busy": "2021-07-05T18:27:19.806800Z",
     "iopub.status.idle": "2021-07-05T18:27:20.370098Z",
     "shell.execute_reply": "2021-07-05T18:27:20.367837Z",
     "shell.execute_reply.started": "2021-07-05T18:27:19.807061Z"
    }
   },
   "outputs": [],
   "source": [
    "# Get the tweet's location with free ARGH endpoint\n",
    "\n",
    "import requests\n",
    "\n",
    "r = requests.get('https://argh.tweeter.workers.dev/tw/metadata?id=1412086693713358850')"
   ]
  },
  {
   "cell_type": "code",
   "execution_count": 28,
   "metadata": {
    "execution": {
     "iopub.execute_input": "2021-07-05T18:42:46.949663Z",
     "iopub.status.busy": "2021-07-05T18:42:46.948987Z",
     "iopub.status.idle": "2021-07-05T18:42:46.955780Z",
     "shell.execute_reply": "2021-07-05T18:42:46.955273Z",
     "shell.execute_reply.started": "2021-07-05T18:42:46.949575Z"
    },
    "tags": []
   },
   "outputs": [
    {
     "data": {
      "text/plain": [
       "{'conversation_count': 12,\n",
       " 'created_at': '2021-07-05T16:31:17.000Z',\n",
       " 'display_text_range': [0, 71],\n",
       " 'entities': {'hashtags': [], 'symbols': [], 'urls': [], 'user_mentions': []},\n",
       " 'favorite_count': 30,\n",
       " 'id_str': '1412086693713358850',\n",
       " 'lang': 'en',\n",
       " 'news_action_type': 'profile',\n",
       " 'text': \"I'm going to rebuild my personal website I think. what should look like\",\n",
       " 'user': {'id_str': '3315205122',\n",
       "  'name': 'invisible college dropout',\n",
       "  'profile_image_url_https': 'https://pbs.twimg.com/profile_images/1406647367546327046/jp7tf-eW_normal.jpg',\n",
       "  'screen_name': 'deepfates',\n",
       "  'verified': False}}"
      ]
     },
     "execution_count": 28,
     "metadata": {},
     "output_type": "execute_result"
    }
   ],
   "source": [
    "twt = r.json()\n",
    "twt"
   ]
  },
  {
   "cell_type": "code",
   "execution_count": 86,
   "metadata": {
    "execution": {
     "iopub.execute_input": "2021-07-05T18:55:05.738925Z",
     "iopub.status.busy": "2021-07-05T18:55:05.738625Z",
     "iopub.status.idle": "2021-07-05T18:55:05.743033Z",
     "shell.execute_reply": "2021-07-05T18:55:05.741971Z",
     "shell.execute_reply.started": "2021-07-05T18:55:05.738887Z"
    },
    "tags": []
   },
   "outputs": [],
   "source": [
    "import twint\n",
    "c = twint.Config()\n"
   ]
  },
  {
   "cell_type": "code",
   "execution_count": 87,
   "metadata": {
    "execution": {
     "iopub.execute_input": "2021-07-05T18:55:05.873773Z",
     "iopub.status.busy": "2021-07-05T18:55:05.873522Z",
     "iopub.status.idle": "2021-07-05T18:55:05.879394Z",
     "shell.execute_reply": "2021-07-05T18:55:05.878699Z",
     "shell.execute_reply.started": "2021-07-05T18:55:05.873742Z"
    },
    "tags": []
   },
   "outputs": [
    {
     "data": {
      "text/plain": [
       "('deepfates', '2021-07-05', '1412086693713358850')"
      ]
     },
     "execution_count": 87,
     "metadata": {},
     "output_type": "execute_result"
    }
   ],
   "source": [
    "op_uname = twt['user']['screen_name']\n",
    "op_date = twt['created_at'][:10]\n",
    "op_id = twt['id_str']\n",
    "tweets = []\n",
    "\n",
    "op_uname, op_date, op_id"
   ]
  },
  {
   "cell_type": "code",
   "execution_count": 88,
   "metadata": {
    "execution": {
     "iopub.execute_input": "2021-07-05T18:55:06.352198Z",
     "iopub.status.busy": "2021-07-05T18:55:06.351388Z",
     "iopub.status.idle": "2021-07-05T18:55:07.917409Z",
     "shell.execute_reply": "2021-07-05T18:55:07.915229Z",
     "shell.execute_reply.started": "2021-07-05T18:55:06.352107Z"
    },
    "tags": []
   },
   "outputs": [
    {
     "name": "stdout",
     "output_type": "stream",
     "text": [
      "1412121295471321114 2021-07-05 12:48:47 -0600 <Cytosknee> @deepfates When the kids all start fedposting\n",
      "1412120383172452366 2021-07-05 12:45:09 -0600 <caelanhuntress> @deepfates My shirt has no collar but I take your point\n",
      "1412119596610428930 2021-07-05 12:42:02 -0600 <mattdsegal> @deepfates Write down goals of website Map out user journey  Loosely related:  https://t.co/EDtTHn78TK\n",
      "1412114826529325062 2021-07-05 12:23:05 -0600 <_avichalp_> @deepfates everyone will be cancelled eventually\n",
      "1412113631274209282 2021-07-05 12:18:20 -0600 <pantinkins> @deepfates The things described here need tangible examples, maybe a page for each topic. What specifically have you done? What specifically do you think?  https://t.co/JtNqtuRxtL\n",
      "1412110584561156099 2021-07-05 12:06:13 -0600 <laundryandry> @deepfates @deepfates_notes what different representations come to mind ?\n",
      "1412110386493595650 2021-07-05 12:05:26 -0600 <pantinkins> @deepfates Gotta catch me first\n",
      "1412109337741303810 2021-07-05 12:01:16 -0600 <mankemens> @deepfates I thought I made that bit transparent 😶\n",
      "1412108706599346178 2021-07-05 11:58:46 -0600 <chriscooladini> @deepfates tempus fugit, memenTOS\n",
      "1412108684797300740 2021-07-05 11:58:40 -0600 <DaltonDEmery> @deepfates Inshallah\n",
      "1412108311462400002 2021-07-05 11:57:11 -0600 <laundryandry> @deepfates every account will be banned for 15 minutes\n",
      "1412108164053409793 2021-07-05 11:56:36 -0600 <judahwantssocks> @deepfates soon inshallah\n",
      "1412108158357606407 2021-07-05 11:56:35 -0600 <ELFonthebeatMG> @deepfates Jack be like:  https://t.co/jknHVaRC9q\n",
      "1412108097976406017 2021-07-05 11:56:20 -0600 <laundryandry> @deepfates @deepfates_notes yeah mastodon as a destination for replicated tweets is less interesting than you shaping it for your personal website. might be clumsy to figure out what you want the UX to be like but might be a fun challenge.\n",
      "1412108079332663305 2021-07-05 11:56:16 -0600 <skugern> @deepfates that's the goal\n",
      "1412107144992800773 2021-07-05 11:52:33 -0600 <laundryandry> @deepfates @deepfates_notes x_whatever_app being the interim connection between twitter and your static website?\n",
      "1412106390873718786 2021-07-05 11:49:33 -0600 <laundryandry> @deepfates tbh i prefer twitter as an interface, and it's just (whispers quietly) *where people are* but going _from_ twitter _to_ X decentralized whatever is an interesting idea. idk how replies and such would work but at least for your own content it would be a decent 80% solution\n",
      "1412104105930207236 2021-07-05 11:40:29 -0600 <gene_minkov> @deepfates \"My lady got two men\" by Atmosphere\n",
      "1412103137637371908 2021-07-05 11:36:38 -0600 <laundryandry> @deepfates ooo i wonder if you could set up a service essentially as a follower to your twitter activity that could re-post ActivityPub protocol compliant requests to a server your control, that your website then feeds from\n",
      "1412102826629615617 2021-07-05 11:35:24 -0600 <benbohmer> @deepfates Second BrainFriend\n",
      "1412099928340447238 2021-07-05 11:23:53 -0600 <ctjlewis> @deepfates yes, it's also trivial because embeds\n",
      "1412099615990554624 2021-07-05 11:22:38 -0600 <judahwantssocks> @deepfates you can download an archive of them all, if that's what you mean\n",
      "1412099497346297861 2021-07-05 11:22:10 -0600 <danehighwind> @deepfates Most personal websites are vanity projects. That's fine, just know it going into it.  If your goal is engagement, abandon the personal site and devote that time to Twitter, GitHub, etc. directly  (Of course there are exceptions, e.g. SlateStarCodex)\n",
      "1412099240252248064 2021-07-05 11:21:09 -0600 <KGoth999> @deepfates whatever\n",
      "1412099130776768513 2021-07-05 11:20:42 -0600 <deepfates> is it possible to just extract all of my tweets into a static site that I host myself?\n",
      "1412099083972534283 2021-07-05 11:20:31 -0600 <Mimi_Rose_01> @deepfates Depends what you're hoping to gain from having the site?  As a follower I'd click bc I want context for a tweet (like approx age or location or prof bg), or your tweets have me intrigued enough to click through for long-form more, or if you tweet a link to a book list or smthg\n",
      "1412098709068795907 2021-07-05 11:19:02 -0600 <judahwantssocks> @deepfates yeah. links to twitter accounts, sites, music, blog posts etc.   twitter is cool but i'd like better formatting + persistence.   also i wanna embed my small drawings someplace\n",
      "1412098394365984768 2021-07-05 11:17:47 -0600 <KGoth999> @deepfates *You tube team ranting*\n",
      "1412098191097352195 2021-07-05 11:16:58 -0600 <judahwantssocks> @deepfates ooh wait. check this out.   https://t.co/p59tooLnDJ\n",
      "1412097810648899584 2021-07-05 11:15:28 -0600 <judahwantssocks> @deepfates very tempting to just do one of these instead   https://t.co/ykzCE6m0oL\n",
      "1412097698602262529 2021-07-05 11:15:01 -0600 <judahwantssocks> @deepfates me two years ago.  confused teens, curious teens, soft teens.  also i would mainly end up doing curation i think\n",
      "1412097678759038982 2021-07-05 11:14:56 -0600 <deepfates> very wise question. hmm...  Meet people? yes. get job offers? eventually. Display my writing/hide my writing if it embarrasses me later. Get more points on Twitter and GitHub. Host weird tech experiments.   😐 is this a portfolio?   https://t.co/DctcK0QCLT\n",
      "1412097372428062720 2021-07-05 11:13:43 -0600 <Mimi_Rose_01> @deepfates Should have appended \"Wrong answers only.\" to your initial ask- guarantees more than half the replies will take you literally 😏\n",
      "1412096674525159429 2021-07-05 11:10:57 -0600 <VividVoid_> @deepfates  https://t.co/ShyyCESAbE  Was literally about to ask *you* this question\n",
      "1412096153550659585 2021-07-05 11:08:53 -0600 <danehighwind> @deepfates What's your desired outcome? Sell stuff? Meet people? Get job offers?\n",
      "1412095448437825552 2021-07-05 11:06:05 -0600 <skugern> @deepfates @sirsfurther @infra_naut @plesmasquerade i fully endorse this website. I personally pay a monthly patreon for the amazing content\n",
      "1412095434261102595 2021-07-05 11:06:01 -0600 <judahwantssocks> @deepfates i am honestly wracking my brains trying to come up with something completely bonkers for my own place but i come back to \"blog\" every single time.  damn\n",
      "1412094715009380353 2021-07-05 11:03:10 -0600 <afterlxss> @deepfates Like a canon bookshelf kinda UI idk, but make the source code hidden just for the added chaos\n",
      "1412094653780959232 2021-07-05 11:02:55 -0600 <deepfates> All right a real information architecture problem:  Right now, I have some front facing about page type stuff, and then a \"digital garden\" style notebook that I update too rarely.  what if it was more like a technical blog, with posts organized by category and time? Good or na\n",
      "1412093548581818373 2021-07-05 10:58:32 -0600 <deepfates> This is a very good and literal answer Can I have some more of those   https://t.co/rQ0SfNCRz1\n",
      "1412093512422670343 2021-07-05 10:58:23 -0600 <Historycourses> @deepfates Bayonets!!!!!\n",
      "1412093296411918337 2021-07-05 10:57:31 -0600 <Al_D_Smith> @deepfates Henley exemption\n",
      "1412093177234874368 2021-07-05 10:57:03 -0600 <Mimi_Rose_01> @deepfates Greatest hit Tweets, by personal selection and by most likes.  Link to GitHub account with an explanation of what you're working on.  Top 100 book list with short reviews and  humorous tagging.\n",
      "1412092605500903428 2021-07-05 10:54:47 -0600 <GENIC0N> @deepfates you should burn books out back of the store to release stress, or smash coffee mugs made with love or something\n",
      "1412092085885456389 2021-07-05 10:52:43 -0600 <GENIC0N> @deepfates just read Ogilvy on Advertising and create a content strategy and then create a content distribution strategy. I hope I'm opening pandora's box for you here, because you asked.\n",
      "1412091934760374273 2021-07-05 10:52:07 -0600 <sirsfurther> @deepfates Lots of gifs jumping about the screen\n",
      "1412091539908706311 2021-07-05 10:50:33 -0600 <deepfates> everybody wants to be funny but i need advice. how to present deepfates\n",
      "1412091507784523783 2021-07-05 10:50:25 -0600 <parafactual> @deepfates @kyzcralotSxaM LMAO\n",
      "1412091129898672133 2021-07-05 10:48:55 -0600 <blisstweeting> @deepfates actually this is a nice idea ☝️\n",
      "1412090975686701059 2021-07-05 10:48:18 -0600 <parafactual> @deepfates @kyzcralotSxaM hmmm...eventually i am gonna have to fill my about page. maybe then some legal page can take on the role?\n",
      "1412090312273633283 2021-07-05 10:45:40 -0600 <afterlxss> @deepfates Like a Canon style but make the source hidden\n",
      "1412089995825979392 2021-07-05 10:44:25 -0600 <parafactual> @deepfates @kyzcralotSxaM some are buttons that create dialog boxes instead\n",
      "1412089905736392726 2021-07-05 10:44:03 -0600 <ZetaRayZac> @deepfates don't tell anyone but i forgot to finish coloring the hair in my avatar\n",
      "1412089429443887108 2021-07-05 10:42:09 -0600 <sirsfurther> @deepfates Yes.\n",
      "1412089418157068290 2021-07-05 10:42:07 -0600 <blisstweeting> @deepfates btw I'm closing in on finally cloning the repo\n",
      "1412089176258797568 2021-07-05 10:41:09 -0600 <ykgoon> @deepfates For everybody's sake, lighten the load of the web.\n",
      "1412089080842698754 2021-07-05 10:40:46 -0600 <ELFonthebeatMG> @deepfates Check out how… professional i am\n",
      "1412088865670709249 2021-07-05 10:39:55 -0600 <sirsfurther> @deepfates It's Charles Fox\n",
      "1412088615379812353 2021-07-05 10:38:55 -0600 <blisstweeting> @deepfates memery\n",
      "1412088528486371331 2021-07-05 10:38:35 -0600 <zachcaceres> @deepfates really cool projects. also im so jelly that you and your fam are functional enough to run a book store together.\n",
      "1412088298714042370 2021-07-05 10:37:40 -0600 <deepfates> When I say 'look like\" I don't mean just the styling, although I'm accepting advice on that too. I mean, what do you want to see when you click through from this account to my website?   what am I supposed to put on there\n",
      "1412088201561317381 2021-07-05 10:37:17 -0600 <rplevy> @deepfates @zachcaceres Oh cool I like that it looks like a pocket paperback book\n",
      "1412088201154543621 2021-07-05 10:37:17 -0600 <sirsfurther> @deepfates Heyyyyy\n",
      "1412088161493258241 2021-07-05 10:37:07 -0600 <DaltonDEmery> @deepfates What’s a shirt\n",
      "1412088138403565570 2021-07-05 10:37:02 -0600 <deepfates> currently i have  https://t.co/UEM7H2vuZk styled like an old Pelican paperback but i don't really know how to present myself within that\n",
      "1412088089128980483 2021-07-05 10:36:50 -0600 <VectorOfBasis> @deepfates geocities\n",
      "1412088038730108929 2021-07-05 10:36:38 -0600 <blisstweeting> @deepfates The two genders  https://t.co/FUBpL6g3Cg\n",
      "1412087873898225670 2021-07-05 10:35:59 -0600 <kyzcralotSxaM> @deepfates minimalist\n",
      "1412087571803369477 2021-07-05 10:34:47 -0600 <uberstuber> @deepfates invisible\n",
      "1412087545752653834 2021-07-05 10:34:40 -0600 <OliverCarefull> @deepfates Couldn't be me\n",
      "1412087511069777921 2021-07-05 10:34:32 -0600 <ctjlewis> @deepfates max normie points\n",
      "1412087223151828993 2021-07-05 10:33:23 -0600 <zachcaceres> @deepfates whats your current one?\n",
      "1412087170672771085 2021-07-05 10:33:11 -0600 <ctjlewis> @deepfates immersive 3D shit, cc @SeanMombo\n",
      "1412087103618531334 2021-07-05 10:32:55 -0600 <loopholekid> @deepfates Flippantly: beautiful\n",
      "1412086945803431938 2021-07-05 10:32:17 -0600 <ykgoon> @deepfates Text only, no images\n",
      "1412081674721153031 2021-07-05 10:11:21 -0600 <beckness> @deepfates I suspect smarm is in the eye of the beholder.\n",
      "1412076456109391874 2021-07-05 09:50:36 -0600 <seeclarkrun> @deepfates Alright tell the beaver I’ll be nice. I’m over it\n",
      "1412074316452225040 2021-07-05 09:42:06 -0600 <seeclarkrun> @deepfates is this because I was mean to a wet rodent\n",
      "1412073565051043842 2021-07-05 09:39:07 -0600 <seeclarkrun> @deepfates less gooo\n",
      "1412071002029400072 2021-07-05 09:28:56 -0600 <seeclarkrun> @deepfates wrong take\n",
      "1411959980152877058 2021-07-05 02:07:46 -0600 <caelanhuntress> @deepfates @Tjdriii Did you know that the word ‘barbarian’ comes from how Greeks made fun of foreign speech  Those xenos be like ‘bar bar bar bar bar bar’\n",
      "[!] No more data! Scraping will stop now.\n",
      "found 0 deleted tweets in this search.\n"
     ]
    }
   ],
   "source": [
    "c.To = op_uname\n",
    "c.By = op_uname\n",
    "c.Since = op_date\n",
    "\n",
    "c.Store_object = True\n",
    "c.Store_object_tweets_list = tweets\n",
    "\n",
    "twint.run.Search(c)"
   ]
  },
  {
   "cell_type": "code",
   "execution_count": 109,
   "metadata": {
    "execution": {
     "iopub.execute_input": "2021-07-05T18:59:31.469097Z",
     "iopub.status.busy": "2021-07-05T18:59:31.468381Z",
     "iopub.status.idle": "2021-07-05T18:59:31.474992Z",
     "shell.execute_reply": "2021-07-05T18:59:31.474432Z",
     "shell.execute_reply.started": "2021-07-05T18:59:31.469009Z"
    },
    "tags": []
   },
   "outputs": [
    {
     "data": {
      "text/plain": [
       "['2021-07-05 10:37:02 MDT',\n",
       " '2021-07-05 10:37:40 MDT',\n",
       " '2021-07-05 10:50:33 MDT',\n",
       " '2021-07-05 10:58:32 MDT',\n",
       " '2021-07-05 11:02:55 MDT',\n",
       " '2021-07-05 11:14:56 MDT',\n",
       " '2021-07-05 11:20:42 MDT']"
      ]
     },
     "execution_count": 109,
     "metadata": {},
     "output_type": "execute_result"
    }
   ],
   "source": [
    "self_replies = [tweet for tweet in tweets if tweet.conversation_id == op_id and tweet.reply_to == []]\n",
    "\n",
    "self_replies.sort(key=lambda x: x.datetime)\n",
    "[t.datetime for t in self_replies]"
   ]
  },
  {
   "cell_type": "code",
   "execution_count": 108,
   "metadata": {
    "execution": {
     "iopub.execute_input": "2021-07-05T18:59:08.862947Z",
     "iopub.status.busy": "2021-07-05T18:59:08.862805Z",
     "iopub.status.idle": "2021-07-05T18:59:08.866766Z",
     "shell.execute_reply": "2021-07-05T18:59:08.865933Z",
     "shell.execute_reply.started": "2021-07-05T18:59:08.862931Z"
    },
    "tags": []
   },
   "outputs": [
    {
     "data": {
      "text/plain": [
       "['https://twitter.com/deepfates/status/1412088138403565570',\n",
       " 'https://twitter.com/deepfates/status/1412088298714042370',\n",
       " 'https://twitter.com/deepfates/status/1412091539908706311',\n",
       " 'https://twitter.com/deepfates/status/1412093548581818373',\n",
       " 'https://twitter.com/deepfates/status/1412094653780959232',\n",
       " 'https://twitter.com/deepfates/status/1412097678759038982',\n",
       " 'https://twitter.com/deepfates/status/1412099130776768513']"
      ]
     },
     "execution_count": 108,
     "metadata": {},
     "output_type": "execute_result"
    }
   ],
   "source": [
    "urls = [t.link for t in self_replies]\n",
    "urls"
   ]
  },
  {
   "cell_type": "code",
   "execution_count": null,
   "metadata": {},
   "outputs": [],
   "source": []
  },
  {
   "cell_type": "code",
   "execution_count": 110,
   "metadata": {
    "execution": {
     "iopub.execute_input": "2021-07-05T18:59:48.930809Z",
     "iopub.status.busy": "2021-07-05T18:59:48.930613Z",
     "iopub.status.idle": "2021-07-05T18:59:48.933390Z",
     "shell.execute_reply": "2021-07-05T18:59:48.933030Z",
     "shell.execute_reply.started": "2021-07-05T18:59:48.930792Z"
    }
   },
   "outputs": [],
   "source": [
    "from IPython.display import Markdown as md\n"
   ]
  },
  {
   "cell_type": "code",
   "execution_count": 115,
   "metadata": {
    "execution": {
     "iopub.execute_input": "2021-07-05T19:02:30.711493Z",
     "iopub.status.busy": "2021-07-05T19:02:30.711196Z",
     "iopub.status.idle": "2021-07-05T19:02:30.715371Z",
     "shell.execute_reply": "2021-07-05T19:02:30.714347Z",
     "shell.execute_reply.started": "2021-07-05T19:02:30.711456Z"
    },
    "tags": []
   },
   "outputs": [],
   "source": [
    "templated_links = '\\n\\n'.join(urls)"
   ]
  },
  {
   "cell_type": "code",
   "execution_count": 117,
   "metadata": {
    "execution": {
     "iopub.execute_input": "2021-07-05T19:02:36.907998Z",
     "iopub.status.busy": "2021-07-05T19:02:36.907834Z",
     "iopub.status.idle": "2021-07-05T19:02:36.911267Z",
     "shell.execute_reply": "2021-07-05T19:02:36.910726Z",
     "shell.execute_reply.started": "2021-07-05T19:02:36.907978Z"
    },
    "tags": []
   },
   "outputs": [
    {
     "data": {
      "text/markdown": [
       "These should be the appropriate links: \n",
       "\n",
       "\n",
       "https://twitter.com/deepfates/status/1412088138403565570\n",
       "\n",
       "https://twitter.com/deepfates/status/1412088298714042370\n",
       "\n",
       "https://twitter.com/deepfates/status/1412091539908706311\n",
       "\n",
       "https://twitter.com/deepfates/status/1412093548581818373\n",
       "\n",
       "https://twitter.com/deepfates/status/1412094653780959232\n",
       "\n",
       "https://twitter.com/deepfates/status/1412097678759038982\n",
       "\n",
       "https://twitter.com/deepfates/status/1412099130776768513\n",
       "   "
      ],
      "text/plain": [
       "<IPython.core.display.Markdown object>"
      ]
     },
     "execution_count": 117,
     "metadata": {},
     "output_type": "execute_result"
    }
   ],
   "source": [
    "md(f'''These should be the appropriate links: \\n\\n\n",
    "{templated_links}\n",
    "   ''')\n"
   ]
  },
  {
   "cell_type": "code",
   "execution_count": null,
   "metadata": {},
   "outputs": [],
   "source": []
  }
 ],
 "metadata": {
  "kernelspec": {
   "display_name": "Python 3",
   "language": "python",
   "name": "python3"
  },
  "language_info": {
   "codemirror_mode": {
    "name": "ipython",
    "version": 3
   },
   "file_extension": ".py",
   "mimetype": "text/x-python",
   "name": "python",
   "nbconvert_exporter": "python",
   "pygments_lexer": "ipython3",
   "version": "3.7.7"
  }
 },
 "nbformat": 4,
 "nbformat_minor": 4
}
