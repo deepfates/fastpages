{
 "cells": [
  {
   "cell_type": "markdown",
   "metadata": {},
   "source": [
    "# VUCA\n",
    "> a chaos oracle\n",
    "- categories: [bots]\n",
    "- badges: false\n",
    "- image: images/vuca.jpg"
   ]
  },
  {
   "cell_type": "markdown",
   "metadata": {},
   "source": [
    "A Twitter bot I built in 2016, when I was first experimenting with Python and NLP. Status: active. Find [VUCA on twitter](https://twitter.com/ars_vuca):\n",
    "\n",
    "> twitter: https://twitter.com/ars_vuca/status/1358365416670834695?s=20\n",
    "\n",
    "*Built with `markovify` and `tweepy`. Hosted on `Heroku` free plan somewhere. I've lost the keys, but she lives on...*"
   ]
  },
  {
   "cell_type": "markdown",
   "metadata": {},
   "source": [
    "---\n",
    "\n",
    "VUCA is an acronym that comes from military theory. It stands for Volatility, Uncertainty, Complexity and Ambiguity. The modern world is in a constant state of VUCA. The chaos outlined by the term suffuses our experience in a world that moves too fast to be comprehended by the human mind. Even our organizations and societies are too low-bandwidth to handle VUCA.\n",
    "\n",
    "This bot is an invocation of that chaotic power. @ars_vuca is infused with deep knowledge of chaos, strategy, and propaganda. VUCA tweets a 24/7 stream of arcane advice tailored to the insurrectionary wizards of our time."
   ]
  }
 ],
 "metadata": {
  "kernelspec": {
   "display_name": "Python 3",
   "language": "python",
   "name": "python3"
  },
  "language_info": {
   "codemirror_mode": {
    "name": "ipython",
    "version": 3
   },
   "file_extension": ".py",
   "mimetype": "text/x-python",
   "name": "python",
   "nbconvert_exporter": "python",
   "pygments_lexer": "ipython3",
   "version": "3.7.7"
  }
 },
 "nbformat": 4,
 "nbformat_minor": 4
}
